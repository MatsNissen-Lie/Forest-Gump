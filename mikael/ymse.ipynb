{
 "cells": [
  {
   "cell_type": "code",
   "execution_count": 1,
   "metadata": {},
   "outputs": [],
   "source": [
    "import numpy as np\n",
    "import pandas as pd"
   ]
  },
  {
   "cell_type": "code",
   "execution_count": 8,
   "metadata": {},
   "outputs": [
    {
     "data": {
      "text/plain": [
       "256"
      ]
     },
     "execution_count": 8,
     "metadata": {},
     "output_type": "execute_result"
    }
   ],
   "source": [
    "# Example datetime64 string\n",
    "datetime64_string = '2022-09-14T14:30:00'\n",
    "datetime_obj = np.datetime64(datetime64_string).astype(pd.Timestamp)\n",
    "year = datetime_obj.year\n",
    "beginning_of_year = pd.Timestamp(year=year, month=1, day=1)\n",
    "days_gone_by = (datetime_obj - beginning_of_year).days\n",
    "\n",
    "days_gone_by"
   ]
  },
  {
   "cell_type": "code",
   "execution_count": 13,
   "metadata": {},
   "outputs": [
    {
     "data": {
      "text/plain": [
       "3600.0"
      ]
     },
     "execution_count": 13,
     "metadata": {},
     "output_type": "execute_result"
    }
   ],
   "source": [
    "# Time to seconds passed\n",
    "datetime64_string = '2023-09-15T01:00:00'\n",
    "\n",
    "# Parse the datetime64 string into a datetime object\n",
    "datetime_obj = np.datetime64(datetime64_string).astype(pd.Timestamp)\n",
    "\n",
    "# Extract the time from the datetime object\n",
    "time_of_day = datetime_obj.time()\n",
    "\n",
    "# Calculate the time difference from midnight\n",
    "time_difference = datetime_obj - datetime_obj.replace(hour=0, minute=0, second=0, microsecond=0)\n",
    "\n",
    "# Convert the time difference to seconds\n",
    "time_passed_seconds = time_difference.total_seconds()\n",
    "time_passed_seconds"
   ]
  },
  {
   "cell_type": "code",
   "execution_count": null,
   "metadata": {},
   "outputs": [],
   "source": []
  }
 ],
 "metadata": {
  "kernelspec": {
   "display_name": "TDT4173",
   "language": "python",
   "name": "python3"
  },
  "language_info": {
   "codemirror_mode": {
    "name": "ipython",
    "version": 3
   },
   "file_extension": ".py",
   "mimetype": "text/x-python",
   "name": "python",
   "nbconvert_exporter": "python",
   "pygments_lexer": "ipython3",
   "version": "3.11.4"
  },
  "orig_nbformat": 4
 },
 "nbformat": 4,
 "nbformat_minor": 2
}
