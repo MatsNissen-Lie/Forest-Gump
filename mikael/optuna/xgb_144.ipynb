{
 "cells": [
  {
   "cell_type": "markdown",
   "metadata": {},
   "source": [
    "<h3> prøver å gjenskape henning sin 143.</h3>\n",
    "<p><p>"
   ]
  },
  {
   "cell_type": "code",
   "execution_count": 1,
   "metadata": {},
   "outputs": [],
   "source": [
    "%load_ext autoreload"
   ]
  },
  {
   "cell_type": "code",
   "execution_count": 2,
   "metadata": {},
   "outputs": [
    {
     "name": "stderr",
     "output_type": "stream",
     "text": [
      "/Users/miksx/.pyenv/versions/3.11.4/envs/machinelearning/lib/python3.11/site-packages/tqdm/auto.py:21: TqdmWarning: IProgress not found. Please update jupyter and ipywidgets. See https://ipywidgets.readthedocs.io/en/stable/user_install.html\n",
      "  from .autonotebook import tqdm as notebook_tqdm\n"
     ]
    }
   ],
   "source": [
    "from sklearn.model_selection import KFold\n",
    "import optuna\n",
    "optuna.logging.set_verbosity(optuna.logging.INFO)\n",
    "\n",
    "from sklearn.metrics import mean_absolute_error\n",
    "from xgboost import XGBRegressor\n",
    "import pandas as pd\n",
    "import numpy as np"
   ]
  },
  {
   "cell_type": "code",
   "execution_count": 3,
   "metadata": {},
   "outputs": [
    {
     "name": "stdout",
     "output_type": "stream",
     "text": [
      "Current working directory: /Users/miksx/GitHub/Forest-Gump/mikael/optuna\n"
     ]
    }
   ],
   "source": [
    "%autoreload\n",
    "from pipeline import Pipeline\n",
    "pipin = Pipeline()"
   ]
  },
  {
   "cell_type": "code",
   "execution_count": 4,
   "metadata": {},
   "outputs": [],
   "source": [
    "df1_0 = pipin.get_data(\"A\")\n",
    "df2_0 = pipin.get_data(\"B\")\n",
    "df3_0 = pipin.get_data(\"C\")"
   ]
  },
  {
   "cell_type": "code",
   "execution_count": 5,
   "metadata": {},
   "outputs": [],
   "source": [
    "# remove_consecutive_measurments\n",
    "# 6/24\n",
    "# dette skal prøve å gjenskape henning sin\n",
    "df1_0 = pipin.remove_consecutive_measurments_new(df1_0, 4, 12)\n",
    "df2_0 = pipin.remove_consecutive_measurments_new(df2_0, 4, 12)\n",
    "df3_0 = pipin.remove_consecutive_measurments_new(df3_0, 4, 12)"
   ]
  },
  {
   "cell_type": "code",
   "execution_count": 6,
   "metadata": {},
   "outputs": [
    {
     "name": "stdout",
     "output_type": "stream",
     "text": [
      "(23231, 47) (15838, 47) (13238, 47)\n"
     ]
    }
   ],
   "source": [
    "df1_0 = pipin.drop_columns(df1_0)\n",
    "df2_0 = pipin.drop_columns(df2_0)\n",
    "df3_0 = pipin.drop_columns(df3_0)\n",
    "print(df1_0.shape, df2_0.shape, df3_0.shape)"
   ]
  },
  {
   "cell_type": "code",
   "execution_count": 7,
   "metadata": {},
   "outputs": [
    {
     "data": {
      "text/html": [
       "<div>\n",
       "<style scoped>\n",
       "    .dataframe tbody tr th:only-of-type {\n",
       "        vertical-align: middle;\n",
       "    }\n",
       "\n",
       "    .dataframe tbody tr th {\n",
       "        vertical-align: top;\n",
       "    }\n",
       "\n",
       "    .dataframe thead th {\n",
       "        text-align: right;\n",
       "    }\n",
       "</style>\n",
       "<table border=\"1\" class=\"dataframe\">\n",
       "  <thead>\n",
       "    <tr style=\"text-align: right;\">\n",
       "      <th></th>\n",
       "      <th>absolute_humidity_2m:gm3</th>\n",
       "      <th>air_density_2m:kgm3</th>\n",
       "      <th>ceiling_height_agl:m</th>\n",
       "      <th>clear_sky_energy_1h:J</th>\n",
       "      <th>clear_sky_rad:W</th>\n",
       "      <th>cloud_base_agl:m</th>\n",
       "      <th>dew_or_rime:idx</th>\n",
       "      <th>dew_point_2m:K</th>\n",
       "      <th>diffuse_rad:W</th>\n",
       "      <th>diffuse_rad_1h:J</th>\n",
       "      <th>...</th>\n",
       "      <th>super_cooled_liquid_water:kgm2</th>\n",
       "      <th>t_1000hPa:K</th>\n",
       "      <th>total_cloud_cover:p</th>\n",
       "      <th>visibility:m</th>\n",
       "      <th>wind_speed_10m:ms</th>\n",
       "      <th>estimated</th>\n",
       "      <th>observed</th>\n",
       "      <th>day_of_year</th>\n",
       "      <th>hour</th>\n",
       "      <th>pv_measurement</th>\n",
       "    </tr>\n",
       "  </thead>\n",
       "  <tbody>\n",
       "    <tr>\n",
       "      <th>0</th>\n",
       "      <td>7.700</td>\n",
       "      <td>1.22825</td>\n",
       "      <td>1728.949951</td>\n",
       "      <td>0.000000</td>\n",
       "      <td>0.00</td>\n",
       "      <td>1728.949951</td>\n",
       "      <td>0.0</td>\n",
       "      <td>280.299988</td>\n",
       "      <td>0.000</td>\n",
       "      <td>0.000000</td>\n",
       "      <td>...</td>\n",
       "      <td>0.0</td>\n",
       "      <td>286.225006</td>\n",
       "      <td>100.000000</td>\n",
       "      <td>40386.476562</td>\n",
       "      <td>3.600</td>\n",
       "      <td>0.0</td>\n",
       "      <td>1.0</td>\n",
       "      <td>153.0</td>\n",
       "      <td>22.0</td>\n",
       "      <td>0.00</td>\n",
       "    </tr>\n",
       "    <tr>\n",
       "      <th>1</th>\n",
       "      <td>7.700</td>\n",
       "      <td>1.22350</td>\n",
       "      <td>1689.824951</td>\n",
       "      <td>0.000000</td>\n",
       "      <td>0.00</td>\n",
       "      <td>1689.824951</td>\n",
       "      <td>0.0</td>\n",
       "      <td>280.299988</td>\n",
       "      <td>0.000</td>\n",
       "      <td>0.000000</td>\n",
       "      <td>...</td>\n",
       "      <td>0.0</td>\n",
       "      <td>286.899994</td>\n",
       "      <td>100.000000</td>\n",
       "      <td>33770.648438</td>\n",
       "      <td>3.350</td>\n",
       "      <td>0.0</td>\n",
       "      <td>1.0</td>\n",
       "      <td>153.0</td>\n",
       "      <td>23.0</td>\n",
       "      <td>0.00</td>\n",
       "    </tr>\n",
       "    <tr>\n",
       "      <th>2</th>\n",
       "      <td>7.875</td>\n",
       "      <td>1.21975</td>\n",
       "      <td>1563.224976</td>\n",
       "      <td>0.000000</td>\n",
       "      <td>0.00</td>\n",
       "      <td>1563.224976</td>\n",
       "      <td>0.0</td>\n",
       "      <td>280.649994</td>\n",
       "      <td>0.000</td>\n",
       "      <td>0.000000</td>\n",
       "      <td>...</td>\n",
       "      <td>0.0</td>\n",
       "      <td>286.950012</td>\n",
       "      <td>100.000000</td>\n",
       "      <td>13595.500000</td>\n",
       "      <td>3.050</td>\n",
       "      <td>0.0</td>\n",
       "      <td>1.0</td>\n",
       "      <td>154.0</td>\n",
       "      <td>0.0</td>\n",
       "      <td>0.00</td>\n",
       "    </tr>\n",
       "    <tr>\n",
       "      <th>3</th>\n",
       "      <td>8.425</td>\n",
       "      <td>1.21800</td>\n",
       "      <td>1283.425049</td>\n",
       "      <td>208.649994</td>\n",
       "      <td>0.75</td>\n",
       "      <td>1283.425049</td>\n",
       "      <td>0.0</td>\n",
       "      <td>281.674988</td>\n",
       "      <td>0.300</td>\n",
       "      <td>526.775024</td>\n",
       "      <td>...</td>\n",
       "      <td>0.0</td>\n",
       "      <td>286.750000</td>\n",
       "      <td>100.000000</td>\n",
       "      <td>2321.850098</td>\n",
       "      <td>2.725</td>\n",
       "      <td>0.0</td>\n",
       "      <td>1.0</td>\n",
       "      <td>154.0</td>\n",
       "      <td>1.0</td>\n",
       "      <td>0.00</td>\n",
       "    </tr>\n",
       "    <tr>\n",
       "      <th>4</th>\n",
       "      <td>8.950</td>\n",
       "      <td>1.21800</td>\n",
       "      <td>1003.500000</td>\n",
       "      <td>32468.150391</td>\n",
       "      <td>23.10</td>\n",
       "      <td>1003.500000</td>\n",
       "      <td>0.0</td>\n",
       "      <td>282.500000</td>\n",
       "      <td>11.975</td>\n",
       "      <td>22068.949219</td>\n",
       "      <td>...</td>\n",
       "      <td>0.0</td>\n",
       "      <td>286.450012</td>\n",
       "      <td>99.224998</td>\n",
       "      <td>11634.799805</td>\n",
       "      <td>2.550</td>\n",
       "      <td>0.0</td>\n",
       "      <td>1.0</td>\n",
       "      <td>154.0</td>\n",
       "      <td>2.0</td>\n",
       "      <td>19.36</td>\n",
       "    </tr>\n",
       "  </tbody>\n",
       "</table>\n",
       "<p>5 rows × 47 columns</p>\n",
       "</div>"
      ],
      "text/plain": [
       "   absolute_humidity_2m:gm3  air_density_2m:kgm3  ceiling_height_agl:m  \\\n",
       "0                     7.700              1.22825           1728.949951   \n",
       "1                     7.700              1.22350           1689.824951   \n",
       "2                     7.875              1.21975           1563.224976   \n",
       "3                     8.425              1.21800           1283.425049   \n",
       "4                     8.950              1.21800           1003.500000   \n",
       "\n",
       "   clear_sky_energy_1h:J  clear_sky_rad:W  cloud_base_agl:m  dew_or_rime:idx  \\\n",
       "0               0.000000             0.00       1728.949951              0.0   \n",
       "1               0.000000             0.00       1689.824951              0.0   \n",
       "2               0.000000             0.00       1563.224976              0.0   \n",
       "3             208.649994             0.75       1283.425049              0.0   \n",
       "4           32468.150391            23.10       1003.500000              0.0   \n",
       "\n",
       "   dew_point_2m:K  diffuse_rad:W  diffuse_rad_1h:J  ...  \\\n",
       "0      280.299988          0.000          0.000000  ...   \n",
       "1      280.299988          0.000          0.000000  ...   \n",
       "2      280.649994          0.000          0.000000  ...   \n",
       "3      281.674988          0.300        526.775024  ...   \n",
       "4      282.500000         11.975      22068.949219  ...   \n",
       "\n",
       "   super_cooled_liquid_water:kgm2  t_1000hPa:K  total_cloud_cover:p  \\\n",
       "0                             0.0   286.225006           100.000000   \n",
       "1                             0.0   286.899994           100.000000   \n",
       "2                             0.0   286.950012           100.000000   \n",
       "3                             0.0   286.750000           100.000000   \n",
       "4                             0.0   286.450012            99.224998   \n",
       "\n",
       "   visibility:m  wind_speed_10m:ms  estimated  observed  day_of_year  hour  \\\n",
       "0  40386.476562              3.600        0.0       1.0        153.0  22.0   \n",
       "1  33770.648438              3.350        0.0       1.0        153.0  23.0   \n",
       "2  13595.500000              3.050        0.0       1.0        154.0   0.0   \n",
       "3   2321.850098              2.725        0.0       1.0        154.0   1.0   \n",
       "4  11634.799805              2.550        0.0       1.0        154.0   2.0   \n",
       "\n",
       "   pv_measurement  \n",
       "0            0.00  \n",
       "1            0.00  \n",
       "2            0.00  \n",
       "3            0.00  \n",
       "4           19.36  \n",
       "\n",
       "[5 rows x 47 columns]"
      ]
     },
     "execution_count": 7,
     "metadata": {},
     "output_type": "execute_result"
    }
   ],
   "source": [
    "df1_0.head()"
   ]
  },
  {
   "cell_type": "code",
   "execution_count": 8,
   "metadata": {},
   "outputs": [],
   "source": [
    "def get_objective(X=None, y=None):\n",
    "    def objective(trial):\n",
    "        kf = KFold(n_splits=10, shuffle=True, random_state=42)\n",
    "        objective_list_reg = [\"reg:squarederror\", \"reg:squaredlogerror\"]\n",
    "        tree_method = [\"approx\", \"hist\"]\n",
    "\n",
    "        params = {\n",
    "            \"eval_metric\": \"mae\",\n",
    "            \"objective\": \"reg:absoluteerror\",\n",
    "            \"tree_method\": trial.suggest_categorical(\"tree_method\", tree_method),\n",
    "            \"max_depth\": trial.suggest_int(\"max_depth\", 3, 10),  # Adjust the range\n",
    "            \"learning_rate\": trial.suggest_float(\"learning_rate\", 0.01, 1.0),\n",
    "            \"n_estimators\": trial.suggest_int(\"n_estimators\", 50, 1000),\n",
    "            \"min_child_weight\": trial.suggest_int(\"min_child_weight\", 1, 10),  # Increase the range\n",
    "            \"gamma\": trial.suggest_float(\"gamma\", 0.1, 1.0),  # Increase the lower bound\n",
    "            \"subsample\": trial.suggest_discrete_uniform(\"subsample\", 0.6, 1.0, 0.05),  # Reduce the range\n",
    "            \"colsample_bytree\": trial.suggest_discrete_uniform(\"colsample_bytree\", 0.6, 1.0, 0.05),  # Reduce the range\n",
    "            \"reg_alpha\": trial.suggest_float(\"reg_alpha\", 0.01, 1.0),\n",
    "            \"reg_lambda\": trial.suggest_float(\"reg_lambda\", 0.01, 1.0),\n",
    "            \"random_state\": trial.suggest_int(\"random_state\", 1, 1000),\n",
    "        }\n",
    "        # Initialize a list to store the mean absolute errors for each fold\n",
    "        mae_list = []\n",
    "\n",
    "        for fold, (train_idx, val_idx) in enumerate(kf.split(X), 1):\n",
    "            X_fold_train, X_fold_val = X.iloc[train_idx], X.iloc[val_idx]\n",
    "            y_fold_train, y_fold_val = y.iloc[train_idx], y.iloc[val_idx]\n",
    "\n",
    "            print(f\"Training Fold {fold}...\")\n",
    "            model = XGBRegressor(**params)\n",
    "            model.fit(X_fold_train, y_fold_train)\n",
    "            predictions = model.predict(X_fold_val)\n",
    "            mae_fold = mean_absolute_error(y_fold_val, predictions)\n",
    "            mae_list.append(mae_fold)\n",
    "            print(f\"Fold {fold} MAE: {mae_fold}\")\n",
    "\n",
    "        # Calculate the mean of the mean absolute errors for all folds\n",
    "        mae = sum(mae_list) / len(mae_list)\n",
    "        print(f\"Mean MAE for all Folds: {mae}\")\n",
    "        return mae\n",
    "    return objective"
   ]
  },
  {
   "cell_type": "code",
   "execution_count": 9,
   "metadata": {},
   "outputs": [],
   "source": [
    "X_1, y_1 = df1_0[[c for c in df1_0.columns if \"pv_measurement\" != c]], df1_0[\"pv_measurement\"]"
   ]
  },
  {
   "cell_type": "code",
   "execution_count": 10,
   "metadata": {},
   "outputs": [
    {
     "name": "stderr",
     "output_type": "stream",
     "text": [
      "[I 2023-11-09 11:39:18,295] A new study created in memory with name: no-name-9495fb70-1f3f-405c-9b22-955b9cac2cf4\n"
     ]
    },
    {
     "name": "stdout",
     "output_type": "stream",
     "text": [
      "Optimizing hyperparameters...\n",
      "Training Fold 1...\n"
     ]
    },
    {
     "name": "stderr",
     "output_type": "stream",
     "text": [
      "/var/folders/y8/9glnt_6110xftbsjpdqd12280000gp/T/ipykernel_3270/1140765383.py:16: FutureWarning: suggest_discrete_uniform has been deprecated in v3.0.0. This feature will be removed in v6.0.0. See https://github.com/optuna/optuna/releases/tag/v3.0.0. Use suggest_float(..., step=...) instead.\n",
      "  \"subsample\": trial.suggest_discrete_uniform(\"subsample\", 0.6, 1.0, 0.05),  # Reduce the range\n",
      "/var/folders/y8/9glnt_6110xftbsjpdqd12280000gp/T/ipykernel_3270/1140765383.py:17: FutureWarning: suggest_discrete_uniform has been deprecated in v3.0.0. This feature will be removed in v6.0.0. See https://github.com/optuna/optuna/releases/tag/v3.0.0. Use suggest_float(..., step=...) instead.\n",
      "  \"colsample_bytree\": trial.suggest_discrete_uniform(\"colsample_bytree\", 0.6, 1.0, 0.05),  # Reduce the range\n"
     ]
    },
    {
     "name": "stdout",
     "output_type": "stream",
     "text": [
      "Fold 1 MAE: 315.2620259549906\n",
      "Training Fold 2...\n",
      "Fold 2 MAE: 321.0163103734126\n",
      "Training Fold 3...\n",
      "Fold 3 MAE: 320.90846119891\n",
      "Training Fold 4...\n",
      "Fold 4 MAE: 315.4512398263404\n",
      "Training Fold 5...\n",
      "Fold 5 MAE: 316.5879135496964\n",
      "Training Fold 6...\n",
      "Fold 6 MAE: 314.9845747085011\n",
      "Training Fold 7...\n",
      "Fold 7 MAE: 328.07706254338837\n",
      "Training Fold 8...\n",
      "Fold 8 MAE: 306.02335009781115\n",
      "Training Fold 9...\n",
      "Fold 9 MAE: 318.6807757530847\n",
      "Training Fold 10...\n"
     ]
    },
    {
     "name": "stderr",
     "output_type": "stream",
     "text": [
      "[I 2023-11-09 11:40:02,800] Trial 0 finished with value: 317.67355333438184 and parameters: {'tree_method': 'hist', 'max_depth': 7, 'learning_rate': 0.9751687172235494, 'n_estimators': 316, 'min_child_weight': 9, 'gamma': 0.3456179054224886, 'subsample': 0.9, 'colsample_bytree': 0.85, 'reg_alpha': 0.5175898760800687, 'reg_lambda': 0.40495170580753903, 'random_state': 597}. Best is trial 0 with value: 317.67355333438184.\n"
     ]
    },
    {
     "name": "stdout",
     "output_type": "stream",
     "text": [
      "Fold 10 MAE: 319.74381933768274\n",
      "Mean MAE for all Folds: 317.67355333438184\n",
      "Training Fold 1...\n"
     ]
    },
    {
     "name": "stderr",
     "output_type": "stream",
     "text": [
      "/var/folders/y8/9glnt_6110xftbsjpdqd12280000gp/T/ipykernel_3270/1140765383.py:16: FutureWarning: suggest_discrete_uniform has been deprecated in v3.0.0. This feature will be removed in v6.0.0. See https://github.com/optuna/optuna/releases/tag/v3.0.0. Use suggest_float(..., step=...) instead.\n",
      "  \"subsample\": trial.suggest_discrete_uniform(\"subsample\", 0.6, 1.0, 0.05),  # Reduce the range\n",
      "/var/folders/y8/9glnt_6110xftbsjpdqd12280000gp/T/ipykernel_3270/1140765383.py:17: FutureWarning: suggest_discrete_uniform has been deprecated in v3.0.0. This feature will be removed in v6.0.0. See https://github.com/optuna/optuna/releases/tag/v3.0.0. Use suggest_float(..., step=...) instead.\n",
      "  \"colsample_bytree\": trial.suggest_discrete_uniform(\"colsample_bytree\", 0.6, 1.0, 0.05),  # Reduce the range\n"
     ]
    },
    {
     "name": "stdout",
     "output_type": "stream",
     "text": [
      "Fold 1 MAE: 325.6297587328454\n",
      "Training Fold 2...\n",
      "Fold 2 MAE: 343.4362715221335\n",
      "Training Fold 3...\n",
      "Fold 3 MAE: 322.9471096596784\n",
      "Training Fold 4...\n",
      "Fold 4 MAE: 342.6122986544605\n",
      "Training Fold 5...\n",
      "Fold 5 MAE: 346.8309507171623\n",
      "Training Fold 6...\n",
      "Fold 6 MAE: 333.2517867683968\n",
      "Training Fold 7...\n",
      "Fold 7 MAE: 343.98903645085306\n",
      "Training Fold 8...\n",
      "Fold 8 MAE: 327.6074895267881\n",
      "Training Fold 9...\n",
      "Fold 9 MAE: 331.59679527892206\n",
      "Training Fold 10...\n"
     ]
    },
    {
     "name": "stderr",
     "output_type": "stream",
     "text": [
      "[I 2023-11-09 11:41:09,950] Trial 1 finished with value: 337.2080484181559 and parameters: {'tree_method': 'approx', 'max_depth': 8, 'learning_rate': 0.9010291535738182, 'n_estimators': 317, 'min_child_weight': 3, 'gamma': 0.14155288621519388, 'subsample': 0.8, 'colsample_bytree': 0.85, 'reg_alpha': 0.6604247328296589, 'reg_lambda': 0.6159125887257673, 'random_state': 939}. Best is trial 0 with value: 317.67355333438184.\n"
     ]
    },
    {
     "name": "stdout",
     "output_type": "stream",
     "text": [
      "Fold 10 MAE: 354.1789868703188\n",
      "Mean MAE for all Folds: 337.2080484181559\n",
      "Training Fold 1...\n"
     ]
    },
    {
     "name": "stderr",
     "output_type": "stream",
     "text": [
      "/var/folders/y8/9glnt_6110xftbsjpdqd12280000gp/T/ipykernel_3270/1140765383.py:16: FutureWarning: suggest_discrete_uniform has been deprecated in v3.0.0. This feature will be removed in v6.0.0. See https://github.com/optuna/optuna/releases/tag/v3.0.0. Use suggest_float(..., step=...) instead.\n",
      "  \"subsample\": trial.suggest_discrete_uniform(\"subsample\", 0.6, 1.0, 0.05),  # Reduce the range\n",
      "/var/folders/y8/9glnt_6110xftbsjpdqd12280000gp/T/ipykernel_3270/1140765383.py:17: FutureWarning: suggest_discrete_uniform has been deprecated in v3.0.0. This feature will be removed in v6.0.0. See https://github.com/optuna/optuna/releases/tag/v3.0.0. Use suggest_float(..., step=...) instead.\n",
      "  \"colsample_bytree\": trial.suggest_discrete_uniform(\"colsample_bytree\", 0.6, 1.0, 0.05),  # Reduce the range\n"
     ]
    },
    {
     "name": "stdout",
     "output_type": "stream",
     "text": [
      "Fold 1 MAE: 245.79302533811784\n",
      "Training Fold 2...\n",
      "Fold 2 MAE: 257.1178996152089\n",
      "Training Fold 3...\n",
      "Fold 3 MAE: 245.74750967067206\n",
      "Training Fold 4...\n",
      "Fold 4 MAE: 247.3352821210085\n",
      "Training Fold 5...\n",
      "Fold 5 MAE: 256.20318910913807\n",
      "Training Fold 6...\n",
      "Fold 6 MAE: 249.93666750811252\n",
      "Training Fold 7...\n",
      "Fold 7 MAE: 256.5628605495623\n",
      "Training Fold 8...\n",
      "Fold 8 MAE: 240.62255686033217\n",
      "Training Fold 9...\n",
      "Fold 9 MAE: 263.359450161918\n",
      "Training Fold 10...\n"
     ]
    },
    {
     "name": "stderr",
     "output_type": "stream",
     "text": [
      "[I 2023-11-09 11:41:51,860] Trial 2 finished with value: 251.30589504473005 and parameters: {'tree_method': 'hist', 'max_depth': 9, 'learning_rate': 0.1005093103808825, 'n_estimators': 224, 'min_child_weight': 6, 'gamma': 0.5796449809261535, 'subsample': 0.8, 'colsample_bytree': 0.9, 'reg_alpha': 0.3446445142016377, 'reg_lambda': 0.47083188041598173, 'random_state': 435}. Best is trial 2 with value: 251.30589504473005.\n"
     ]
    },
    {
     "name": "stdout",
     "output_type": "stream",
     "text": [
      "Fold 10 MAE: 250.38050951322958\n",
      "Mean MAE for all Folds: 251.30589504473005\n",
      "Training Fold 1...\n"
     ]
    },
    {
     "name": "stderr",
     "output_type": "stream",
     "text": [
      "/var/folders/y8/9glnt_6110xftbsjpdqd12280000gp/T/ipykernel_3270/1140765383.py:16: FutureWarning: suggest_discrete_uniform has been deprecated in v3.0.0. This feature will be removed in v6.0.0. See https://github.com/optuna/optuna/releases/tag/v3.0.0. Use suggest_float(..., step=...) instead.\n",
      "  \"subsample\": trial.suggest_discrete_uniform(\"subsample\", 0.6, 1.0, 0.05),  # Reduce the range\n",
      "/var/folders/y8/9glnt_6110xftbsjpdqd12280000gp/T/ipykernel_3270/1140765383.py:17: FutureWarning: suggest_discrete_uniform has been deprecated in v3.0.0. This feature will be removed in v6.0.0. See https://github.com/optuna/optuna/releases/tag/v3.0.0. Use suggest_float(..., step=...) instead.\n",
      "  \"colsample_bytree\": trial.suggest_discrete_uniform(\"colsample_bytree\", 0.6, 1.0, 0.05),  # Reduce the range\n"
     ]
    },
    {
     "name": "stdout",
     "output_type": "stream",
     "text": [
      "Fold 1 MAE: 255.08776402422782\n",
      "Training Fold 2...\n",
      "Fold 2 MAE: 256.2666795015112\n",
      "Training Fold 3...\n",
      "Fold 3 MAE: 250.214793646951\n",
      "Training Fold 4...\n",
      "Fold 4 MAE: 253.24262223706378\n",
      "Training Fold 5...\n",
      "Fold 5 MAE: 259.4364100871685\n",
      "Training Fold 6...\n",
      "Fold 6 MAE: 263.2666476433818\n",
      "Training Fold 7...\n",
      "Fold 7 MAE: 260.4734811671328\n",
      "Training Fold 8...\n",
      "Fold 8 MAE: 250.34573109746262\n",
      "Training Fold 9...\n",
      "Fold 9 MAE: 259.5462399847928\n",
      "Training Fold 10...\n"
     ]
    },
    {
     "name": "stderr",
     "output_type": "stream",
     "text": [
      "[I 2023-11-09 11:43:07,526] Trial 3 finished with value: 256.5717845071353 and parameters: {'tree_method': 'hist', 'max_depth': 9, 'learning_rate': 0.25889712941666765, 'n_estimators': 473, 'min_child_weight': 2, 'gamma': 0.5468333551846996, 'subsample': 1.0, 'colsample_bytree': 0.75, 'reg_alpha': 0.09674323329707656, 'reg_lambda': 0.4940533309528873, 'random_state': 66}. Best is trial 2 with value: 251.30589504473005.\n"
     ]
    },
    {
     "name": "stdout",
     "output_type": "stream",
     "text": [
      "Fold 10 MAE: 257.83747568166075\n",
      "Mean MAE for all Folds: 256.5717845071353\n",
      "Training Fold 1...\n"
     ]
    },
    {
     "name": "stderr",
     "output_type": "stream",
     "text": [
      "/var/folders/y8/9glnt_6110xftbsjpdqd12280000gp/T/ipykernel_3270/1140765383.py:16: FutureWarning: suggest_discrete_uniform has been deprecated in v3.0.0. This feature will be removed in v6.0.0. See https://github.com/optuna/optuna/releases/tag/v3.0.0. Use suggest_float(..., step=...) instead.\n",
      "  \"subsample\": trial.suggest_discrete_uniform(\"subsample\", 0.6, 1.0, 0.05),  # Reduce the range\n",
      "/var/folders/y8/9glnt_6110xftbsjpdqd12280000gp/T/ipykernel_3270/1140765383.py:17: FutureWarning: suggest_discrete_uniform has been deprecated in v3.0.0. This feature will be removed in v6.0.0. See https://github.com/optuna/optuna/releases/tag/v3.0.0. Use suggest_float(..., step=...) instead.\n",
      "  \"colsample_bytree\": trial.suggest_discrete_uniform(\"colsample_bytree\", 0.6, 1.0, 0.05),  # Reduce the range\n"
     ]
    },
    {
     "name": "stdout",
     "output_type": "stream",
     "text": [
      "Fold 1 MAE: 328.2230811108277\n",
      "Training Fold 2...\n",
      "Fold 2 MAE: 337.90029770307353\n",
      "Training Fold 3...\n",
      "Fold 3 MAE: 330.2962831566629\n",
      "Training Fold 4...\n",
      "Fold 4 MAE: 337.0947135682769\n",
      "Training Fold 5...\n",
      "Fold 5 MAE: 329.5927259542241\n",
      "Training Fold 6...\n",
      "Fold 6 MAE: 338.14623284746193\n",
      "Training Fold 7...\n",
      "Fold 7 MAE: 334.21591459979516\n",
      "Training Fold 8...\n",
      "Fold 8 MAE: 329.2918052007535\n",
      "Training Fold 9...\n",
      "Fold 9 MAE: 344.73833870980843\n",
      "Training Fold 10...\n"
     ]
    },
    {
     "name": "stderr",
     "output_type": "stream",
     "text": [
      "[I 2023-11-09 11:45:23,599] Trial 4 finished with value: 334.68271631838724 and parameters: {'tree_method': 'approx', 'max_depth': 8, 'learning_rate': 0.7640060124749581, 'n_estimators': 702, 'min_child_weight': 5, 'gamma': 0.7658779899189528, 'subsample': 0.65, 'colsample_bytree': 0.65, 'reg_alpha': 0.07796106187081937, 'reg_lambda': 0.7163745345642134, 'random_state': 819}. Best is trial 2 with value: 251.30589504473005.\n"
     ]
    },
    {
     "name": "stdout",
     "output_type": "stream",
     "text": [
      "Fold 10 MAE: 337.3277703329881\n",
      "Mean MAE for all Folds: 334.68271631838724\n",
      "Training Fold 1...\n"
     ]
    },
    {
     "name": "stderr",
     "output_type": "stream",
     "text": [
      "/var/folders/y8/9glnt_6110xftbsjpdqd12280000gp/T/ipykernel_3270/1140765383.py:16: FutureWarning: suggest_discrete_uniform has been deprecated in v3.0.0. This feature will be removed in v6.0.0. See https://github.com/optuna/optuna/releases/tag/v3.0.0. Use suggest_float(..., step=...) instead.\n",
      "  \"subsample\": trial.suggest_discrete_uniform(\"subsample\", 0.6, 1.0, 0.05),  # Reduce the range\n",
      "/var/folders/y8/9glnt_6110xftbsjpdqd12280000gp/T/ipykernel_3270/1140765383.py:17: FutureWarning: suggest_discrete_uniform has been deprecated in v3.0.0. This feature will be removed in v6.0.0. See https://github.com/optuna/optuna/releases/tag/v3.0.0. Use suggest_float(..., step=...) instead.\n",
      "  \"colsample_bytree\": trial.suggest_discrete_uniform(\"colsample_bytree\", 0.6, 1.0, 0.05),  # Reduce the range\n"
     ]
    },
    {
     "name": "stdout",
     "output_type": "stream",
     "text": [
      "Fold 1 MAE: 265.2527336279095\n",
      "Training Fold 2...\n",
      "Fold 2 MAE: 270.6102587944272\n",
      "Training Fold 3...\n",
      "Fold 3 MAE: 260.3855663086746\n",
      "Training Fold 4...\n",
      "Fold 4 MAE: 262.15288617534986\n",
      "Training Fold 5...\n",
      "Fold 5 MAE: 266.65027848446806\n",
      "Training Fold 6...\n",
      "Fold 6 MAE: 272.6718682665567\n",
      "Training Fold 7...\n",
      "Fold 7 MAE: 267.0137979388512\n",
      "Training Fold 8...\n",
      "Fold 8 MAE: 268.28433418681243\n",
      "Training Fold 9...\n",
      "Fold 9 MAE: 276.97678748730107\n",
      "Training Fold 10...\n"
     ]
    },
    {
     "name": "stderr",
     "output_type": "stream",
     "text": [
      "[I 2023-11-09 11:48:08,362] Trial 5 finished with value: 267.70874656096004 and parameters: {'tree_method': 'approx', 'max_depth': 9, 'learning_rate': 0.39997622837509744, 'n_estimators': 510, 'min_child_weight': 2, 'gamma': 0.1418181693291564, 'subsample': 0.9, 'colsample_bytree': 0.9, 'reg_alpha': 0.3723856372280871, 'reg_lambda': 0.396346838834836, 'random_state': 399}. Best is trial 2 with value: 251.30589504473005.\n"
     ]
    },
    {
     "name": "stdout",
     "output_type": "stream",
     "text": [
      "Fold 10 MAE: 267.0889543392501\n",
      "Mean MAE for all Folds: 267.70874656096004\n",
      "Training Fold 1...\n"
     ]
    },
    {
     "name": "stderr",
     "output_type": "stream",
     "text": [
      "/var/folders/y8/9glnt_6110xftbsjpdqd12280000gp/T/ipykernel_3270/1140765383.py:16: FutureWarning: suggest_discrete_uniform has been deprecated in v3.0.0. This feature will be removed in v6.0.0. See https://github.com/optuna/optuna/releases/tag/v3.0.0. Use suggest_float(..., step=...) instead.\n",
      "  \"subsample\": trial.suggest_discrete_uniform(\"subsample\", 0.6, 1.0, 0.05),  # Reduce the range\n",
      "/var/folders/y8/9glnt_6110xftbsjpdqd12280000gp/T/ipykernel_3270/1140765383.py:17: FutureWarning: suggest_discrete_uniform has been deprecated in v3.0.0. This feature will be removed in v6.0.0. See https://github.com/optuna/optuna/releases/tag/v3.0.0. Use suggest_float(..., step=...) instead.\n",
      "  \"colsample_bytree\": trial.suggest_discrete_uniform(\"colsample_bytree\", 0.6, 1.0, 0.05),  # Reduce the range\n"
     ]
    },
    {
     "name": "stdout",
     "output_type": "stream",
     "text": [
      "Fold 1 MAE: 280.20087252173016\n",
      "Training Fold 2...\n",
      "Fold 2 MAE: 286.29207285995557\n",
      "Training Fold 3...\n",
      "Fold 3 MAE: 277.43262412583346\n",
      "Training Fold 4...\n",
      "Fold 4 MAE: 278.0598081572966\n",
      "Training Fold 5...\n",
      "Fold 5 MAE: 291.8696033211641\n",
      "Training Fold 6...\n",
      "Fold 6 MAE: 280.1651212905784\n",
      "Training Fold 7...\n",
      "Fold 7 MAE: 285.64938373482215\n",
      "Training Fold 8...\n",
      "Fold 8 MAE: 276.882898995981\n",
      "Training Fold 9...\n",
      "Fold 9 MAE: 297.1618267861327\n",
      "Training Fold 10...\n"
     ]
    },
    {
     "name": "stderr",
     "output_type": "stream",
     "text": [
      "[I 2023-11-09 11:48:35,686] Trial 6 finished with value: 284.75162179226413 and parameters: {'tree_method': 'approx', 'max_depth': 3, 'learning_rate': 0.4718525559484858, 'n_estimators': 221, 'min_child_weight': 8, 'gamma': 0.5450681333010784, 'subsample': 0.8, 'colsample_bytree': 0.75, 'reg_alpha': 0.2445712195052756, 'reg_lambda': 0.3143288099637537, 'random_state': 149}. Best is trial 2 with value: 251.30589504473005.\n"
     ]
    },
    {
     "name": "stdout",
     "output_type": "stream",
     "text": [
      "Fold 10 MAE: 293.8020061291472\n",
      "Mean MAE for all Folds: 284.75162179226413\n",
      "Training Fold 1...\n"
     ]
    },
    {
     "name": "stderr",
     "output_type": "stream",
     "text": [
      "/var/folders/y8/9glnt_6110xftbsjpdqd12280000gp/T/ipykernel_3270/1140765383.py:16: FutureWarning: suggest_discrete_uniform has been deprecated in v3.0.0. This feature will be removed in v6.0.0. See https://github.com/optuna/optuna/releases/tag/v3.0.0. Use suggest_float(..., step=...) instead.\n",
      "  \"subsample\": trial.suggest_discrete_uniform(\"subsample\", 0.6, 1.0, 0.05),  # Reduce the range\n",
      "/var/folders/y8/9glnt_6110xftbsjpdqd12280000gp/T/ipykernel_3270/1140765383.py:17: FutureWarning: suggest_discrete_uniform has been deprecated in v3.0.0. This feature will be removed in v6.0.0. See https://github.com/optuna/optuna/releases/tag/v3.0.0. Use suggest_float(..., step=...) instead.\n",
      "  \"colsample_bytree\": trial.suggest_discrete_uniform(\"colsample_bytree\", 0.6, 1.0, 0.05),  # Reduce the range\n"
     ]
    },
    {
     "name": "stdout",
     "output_type": "stream",
     "text": [
      "Fold 1 MAE: 278.9187775310539\n",
      "Training Fold 2...\n",
      "Fold 2 MAE: 289.3176912868441\n",
      "Training Fold 3...\n",
      "Fold 3 MAE: 275.7955964865241\n",
      "Training Fold 4...\n",
      "Fold 4 MAE: 281.7471804750288\n",
      "Training Fold 5...\n",
      "Fold 5 MAE: 296.0424961075486\n",
      "Training Fold 6...\n",
      "Fold 6 MAE: 281.4556550368794\n",
      "Training Fold 7...\n",
      "Fold 7 MAE: 282.29589855146384\n",
      "Training Fold 8...\n",
      "Fold 8 MAE: 277.25394807891075\n",
      "Training Fold 9...\n",
      "Fold 9 MAE: 296.0534870317364\n",
      "Training Fold 10...\n"
     ]
    },
    {
     "name": "stderr",
     "output_type": "stream",
     "text": [
      "[I 2023-11-09 11:49:01,281] Trial 7 finished with value: 285.1464572053458 and parameters: {'tree_method': 'approx', 'max_depth': 3, 'learning_rate': 0.6821434212626112, 'n_estimators': 217, 'min_child_weight': 2, 'gamma': 0.8612595632872267, 'subsample': 0.8, 'colsample_bytree': 1.0, 'reg_alpha': 0.2039336653657138, 'reg_lambda': 0.8233030199814202, 'random_state': 55}. Best is trial 2 with value: 251.30589504473005.\n"
     ]
    },
    {
     "name": "stdout",
     "output_type": "stream",
     "text": [
      "Fold 10 MAE: 292.58384146746846\n",
      "Mean MAE for all Folds: 285.1464572053458\n",
      "Training Fold 1...\n"
     ]
    },
    {
     "name": "stderr",
     "output_type": "stream",
     "text": [
      "/var/folders/y8/9glnt_6110xftbsjpdqd12280000gp/T/ipykernel_3270/1140765383.py:16: FutureWarning: suggest_discrete_uniform has been deprecated in v3.0.0. This feature will be removed in v6.0.0. See https://github.com/optuna/optuna/releases/tag/v3.0.0. Use suggest_float(..., step=...) instead.\n",
      "  \"subsample\": trial.suggest_discrete_uniform(\"subsample\", 0.6, 1.0, 0.05),  # Reduce the range\n",
      "/var/folders/y8/9glnt_6110xftbsjpdqd12280000gp/T/ipykernel_3270/1140765383.py:17: FutureWarning: suggest_discrete_uniform has been deprecated in v3.0.0. This feature will be removed in v6.0.0. See https://github.com/optuna/optuna/releases/tag/v3.0.0. Use suggest_float(..., step=...) instead.\n",
      "  \"colsample_bytree\": trial.suggest_discrete_uniform(\"colsample_bytree\", 0.6, 1.0, 0.05),  # Reduce the range\n"
     ]
    },
    {
     "name": "stdout",
     "output_type": "stream",
     "text": [
      "Fold 1 MAE: 279.3994353896058\n",
      "Training Fold 2...\n",
      "Fold 2 MAE: 288.1275506871007\n",
      "Training Fold 3...\n",
      "Fold 3 MAE: 284.06965940594057\n",
      "Training Fold 4...\n",
      "Fold 4 MAE: 276.1741198244156\n",
      "Training Fold 5...\n",
      "Fold 5 MAE: 291.1061601674634\n",
      "Training Fold 6...\n",
      "Fold 6 MAE: 278.6572238914213\n",
      "Training Fold 7...\n",
      "Fold 7 MAE: 281.6249097445607\n",
      "Training Fold 8...\n",
      "Fold 8 MAE: 275.1751670809908\n",
      "Training Fold 9...\n",
      "Fold 9 MAE: 293.84516268574896\n",
      "Training Fold 10...\n"
     ]
    },
    {
     "name": "stderr",
     "output_type": "stream",
     "text": [
      "[I 2023-11-09 11:50:46,339] Trial 8 finished with value: 283.2788826722243 and parameters: {'tree_method': 'approx', 'max_depth': 5, 'learning_rate': 0.7079223396645389, 'n_estimators': 428, 'min_child_weight': 3, 'gamma': 0.9534760076990116, 'subsample': 0.85, 'colsample_bytree': 0.9, 'reg_alpha': 0.7523486869909835, 'reg_lambda': 0.8250324569062487, 'random_state': 371}. Best is trial 2 with value: 251.30589504473005.\n"
     ]
    },
    {
     "name": "stdout",
     "output_type": "stream",
     "text": [
      "Fold 10 MAE: 284.60943784499494\n",
      "Mean MAE for all Folds: 283.2788826722243\n",
      "Training Fold 1...\n"
     ]
    },
    {
     "name": "stderr",
     "output_type": "stream",
     "text": [
      "/var/folders/y8/9glnt_6110xftbsjpdqd12280000gp/T/ipykernel_3270/1140765383.py:16: FutureWarning: suggest_discrete_uniform has been deprecated in v3.0.0. This feature will be removed in v6.0.0. See https://github.com/optuna/optuna/releases/tag/v3.0.0. Use suggest_float(..., step=...) instead.\n",
      "  \"subsample\": trial.suggest_discrete_uniform(\"subsample\", 0.6, 1.0, 0.05),  # Reduce the range\n",
      "/var/folders/y8/9glnt_6110xftbsjpdqd12280000gp/T/ipykernel_3270/1140765383.py:17: FutureWarning: suggest_discrete_uniform has been deprecated in v3.0.0. This feature will be removed in v6.0.0. See https://github.com/optuna/optuna/releases/tag/v3.0.0. Use suggest_float(..., step=...) instead.\n",
      "  \"colsample_bytree\": trial.suggest_discrete_uniform(\"colsample_bytree\", 0.6, 1.0, 0.05),  # Reduce the range\n"
     ]
    },
    {
     "name": "stdout",
     "output_type": "stream",
     "text": [
      "Fold 1 MAE: 401.2016079340024\n",
      "Training Fold 2...\n",
      "Fold 2 MAE: 409.19118860859317\n",
      "Training Fold 3...\n",
      "Fold 3 MAE: 408.1941997892539\n",
      "Training Fold 4...\n",
      "Fold 4 MAE: 392.40219558039496\n",
      "Training Fold 5...\n",
      "Fold 5 MAE: 408.33885027164024\n",
      "Training Fold 6...\n",
      "Fold 6 MAE: 399.8698676355574\n",
      "Training Fold 7...\n",
      "Fold 7 MAE: 405.5498577169278\n",
      "Training Fold 8...\n",
      "Fold 8 MAE: 382.5561493963103\n",
      "Training Fold 9...\n",
      "Fold 9 MAE: 400.85473600319864\n",
      "Training Fold 10...\n"
     ]
    },
    {
     "name": "stderr",
     "output_type": "stream",
     "text": [
      "[I 2023-11-09 11:53:36,523] Trial 9 finished with value: 399.8824792931574 and parameters: {'tree_method': 'approx', 'max_depth': 9, 'learning_rate': 0.9070136107194114, 'n_estimators': 297, 'min_child_weight': 1, 'gamma': 0.4465803687753893, 'subsample': 0.65, 'colsample_bytree': 0.8, 'reg_alpha': 0.8780914340644131, 'reg_lambda': 0.37537280207740725, 'random_state': 105}. Best is trial 2 with value: 251.30589504473005.\n"
     ]
    },
    {
     "name": "stdout",
     "output_type": "stream",
     "text": [
      "Fold 10 MAE: 390.6661399956951\n",
      "Mean MAE for all Folds: 399.8824792931574\n",
      "Training Fold 1...\n"
     ]
    },
    {
     "name": "stderr",
     "output_type": "stream",
     "text": [
      "/var/folders/y8/9glnt_6110xftbsjpdqd12280000gp/T/ipykernel_3270/1140765383.py:16: FutureWarning: suggest_discrete_uniform has been deprecated in v3.0.0. This feature will be removed in v6.0.0. See https://github.com/optuna/optuna/releases/tag/v3.0.0. Use suggest_float(..., step=...) instead.\n",
      "  \"subsample\": trial.suggest_discrete_uniform(\"subsample\", 0.6, 1.0, 0.05),  # Reduce the range\n",
      "/var/folders/y8/9glnt_6110xftbsjpdqd12280000gp/T/ipykernel_3270/1140765383.py:17: FutureWarning: suggest_discrete_uniform has been deprecated in v3.0.0. This feature will be removed in v6.0.0. See https://github.com/optuna/optuna/releases/tag/v3.0.0. Use suggest_float(..., step=...) instead.\n",
      "  \"colsample_bytree\": trial.suggest_discrete_uniform(\"colsample_bytree\", 0.6, 1.0, 0.05),  # Reduce the range\n"
     ]
    },
    {
     "name": "stdout",
     "output_type": "stream",
     "text": [
      "Fold 1 MAE: 255.62914745786307\n",
      "Training Fold 2...\n",
      "Fold 2 MAE: 266.2701416849669\n",
      "Training Fold 3...\n",
      "Fold 3 MAE: 251.40562690710226\n",
      "Training Fold 4...\n",
      "Fold 4 MAE: 259.2320795189426\n",
      "Training Fold 5...\n",
      "Fold 5 MAE: 267.33247580455594\n",
      "Training Fold 6...\n",
      "Fold 6 MAE: 259.41912905653237\n",
      "Training Fold 7...\n",
      "Fold 7 MAE: 264.0226540051746\n",
      "Training Fold 8...\n",
      "Fold 8 MAE: 250.8830361260108\n",
      "Training Fold 9...\n",
      "Fold 9 MAE: 269.6016192250492\n",
      "Training Fold 10...\n"
     ]
    },
    {
     "name": "stderr",
     "output_type": "stream",
     "text": [
      "[I 2023-11-09 11:54:08,815] Trial 10 finished with value: 260.4976598859925 and parameters: {'tree_method': 'hist', 'max_depth': 10, 'learning_rate': 0.06236328312351491, 'n_estimators': 65, 'min_child_weight': 6, 'gamma': 0.7102225713683302, 'subsample': 0.7, 'colsample_bytree': 1.0, 'reg_alpha': 0.9902666467396432, 'reg_lambda': 0.04119928121886868, 'random_state': 634}. Best is trial 2 with value: 251.30589504473005.\n"
     ]
    },
    {
     "name": "stdout",
     "output_type": "stream",
     "text": [
      "Fold 10 MAE: 261.18068907372765\n",
      "Mean MAE for all Folds: 260.4976598859925\n",
      "Training Fold 1...\n"
     ]
    },
    {
     "name": "stderr",
     "output_type": "stream",
     "text": [
      "/var/folders/y8/9glnt_6110xftbsjpdqd12280000gp/T/ipykernel_3270/1140765383.py:16: FutureWarning: suggest_discrete_uniform has been deprecated in v3.0.0. This feature will be removed in v6.0.0. See https://github.com/optuna/optuna/releases/tag/v3.0.0. Use suggest_float(..., step=...) instead.\n",
      "  \"subsample\": trial.suggest_discrete_uniform(\"subsample\", 0.6, 1.0, 0.05),  # Reduce the range\n",
      "/var/folders/y8/9glnt_6110xftbsjpdqd12280000gp/T/ipykernel_3270/1140765383.py:17: FutureWarning: suggest_discrete_uniform has been deprecated in v3.0.0. This feature will be removed in v6.0.0. See https://github.com/optuna/optuna/releases/tag/v3.0.0. Use suggest_float(..., step=...) instead.\n",
      "  \"colsample_bytree\": trial.suggest_discrete_uniform(\"colsample_bytree\", 0.6, 1.0, 0.05),  # Reduce the range\n"
     ]
    },
    {
     "name": "stdout",
     "output_type": "stream",
     "text": [
      "Fold 1 MAE: 240.97270154530312\n",
      "Training Fold 2...\n",
      "Fold 2 MAE: 251.99182170323618\n",
      "Training Fold 3...\n",
      "Fold 3 MAE: 239.12854250734296\n",
      "Training Fold 4...\n",
      "Fold 4 MAE: 241.9203174996983\n",
      "Training Fold 5...\n",
      "Fold 5 MAE: 252.46305565442398\n",
      "Training Fold 6...\n",
      "Fold 6 MAE: 244.81765605424394\n",
      "Training Fold 7...\n",
      "Fold 7 MAE: 245.584782629706\n",
      "Training Fold 8...\n",
      "Fold 8 MAE: 237.94414670559752\n",
      "Training Fold 9...\n",
      "Fold 9 MAE: 253.01123656856302\n",
      "Training Fold 10...\n"
     ]
    },
    {
     "name": "stderr",
     "output_type": "stream",
     "text": [
      "[I 2023-11-09 12:08:26,882] Trial 11 finished with value: 245.57965943241038 and parameters: {'tree_method': 'hist', 'max_depth': 10, 'learning_rate': 0.1209981533416025, 'n_estimators': 995, 'min_child_weight': 5, 'gamma': 0.6503235706587323, 'subsample': 1.0, 'colsample_bytree': 0.7, 'reg_alpha': 0.025630572961614292, 'reg_lambda': 0.5752628885286701, 'random_state': 267}. Best is trial 11 with value: 245.57965943241038.\n"
     ]
    },
    {
     "name": "stdout",
     "output_type": "stream",
     "text": [
      "Fold 10 MAE: 247.9623334559887\n",
      "Mean MAE for all Folds: 245.57965943241038\n",
      "Training Fold 1...\n"
     ]
    },
    {
     "name": "stderr",
     "output_type": "stream",
     "text": [
      "/var/folders/y8/9glnt_6110xftbsjpdqd12280000gp/T/ipykernel_3270/1140765383.py:16: FutureWarning: suggest_discrete_uniform has been deprecated in v3.0.0. This feature will be removed in v6.0.0. See https://github.com/optuna/optuna/releases/tag/v3.0.0. Use suggest_float(..., step=...) instead.\n",
      "  \"subsample\": trial.suggest_discrete_uniform(\"subsample\", 0.6, 1.0, 0.05),  # Reduce the range\n",
      "/var/folders/y8/9glnt_6110xftbsjpdqd12280000gp/T/ipykernel_3270/1140765383.py:17: FutureWarning: suggest_discrete_uniform has been deprecated in v3.0.0. This feature will be removed in v6.0.0. See https://github.com/optuna/optuna/releases/tag/v3.0.0. Use suggest_float(..., step=...) instead.\n",
      "  \"colsample_bytree\": trial.suggest_discrete_uniform(\"colsample_bytree\", 0.6, 1.0, 0.05),  # Reduce the range\n"
     ]
    },
    {
     "name": "stdout",
     "output_type": "stream",
     "text": [
      "Fold 1 MAE: 244.2379672524619\n",
      "Training Fold 2...\n",
      "Fold 2 MAE: 255.24367893799652\n",
      "Training Fold 3...\n",
      "Fold 3 MAE: 240.6154930877999\n",
      "Training Fold 4...\n",
      "Fold 4 MAE: 244.71665668513057\n",
      "Training Fold 5...\n",
      "Fold 5 MAE: 254.63310035302337\n",
      "Training Fold 6...\n",
      "Fold 6 MAE: 248.3491406855851\n",
      "Training Fold 7...\n",
      "Fold 7 MAE: 251.89439386757292\n",
      "Training Fold 8...\n",
      "Fold 8 MAE: 237.63165116310105\n",
      "Training Fold 9...\n",
      "Fold 9 MAE: 262.28563458095454\n",
      "Training Fold 10...\n"
     ]
    },
    {
     "name": "stderr",
     "output_type": "stream",
     "text": [
      "[I 2023-11-09 12:11:34,088] Trial 12 finished with value: 249.02945203781684 and parameters: {'tree_method': 'hist', 'max_depth': 10, 'learning_rate': 0.011539594983643015, 'n_estimators': 955, 'min_child_weight': 6, 'gamma': 0.6813845234067318, 'subsample': 1.0, 'colsample_bytree': 0.6, 'reg_alpha': 0.018361941006712845, 'reg_lambda': 0.967279934639788, 'random_state': 299}. Best is trial 11 with value: 245.57965943241038.\n"
     ]
    },
    {
     "name": "stdout",
     "output_type": "stream",
     "text": [
      "Fold 10 MAE: 250.68680376454262\n",
      "Mean MAE for all Folds: 249.02945203781684\n",
      "Training Fold 1...\n"
     ]
    },
    {
     "name": "stderr",
     "output_type": "stream",
     "text": [
      "/var/folders/y8/9glnt_6110xftbsjpdqd12280000gp/T/ipykernel_3270/1140765383.py:16: FutureWarning: suggest_discrete_uniform has been deprecated in v3.0.0. This feature will be removed in v6.0.0. See https://github.com/optuna/optuna/releases/tag/v3.0.0. Use suggest_float(..., step=...) instead.\n",
      "  \"subsample\": trial.suggest_discrete_uniform(\"subsample\", 0.6, 1.0, 0.05),  # Reduce the range\n",
      "/var/folders/y8/9glnt_6110xftbsjpdqd12280000gp/T/ipykernel_3270/1140765383.py:17: FutureWarning: suggest_discrete_uniform has been deprecated in v3.0.0. This feature will be removed in v6.0.0. See https://github.com/optuna/optuna/releases/tag/v3.0.0. Use suggest_float(..., step=...) instead.\n",
      "  \"colsample_bytree\": trial.suggest_discrete_uniform(\"colsample_bytree\", 0.6, 1.0, 0.05),  # Reduce the range\n"
     ]
    },
    {
     "name": "stdout",
     "output_type": "stream",
     "text": [
      "Fold 1 MAE: 244.4883273733485\n",
      "Training Fold 2...\n",
      "Fold 2 MAE: 256.62486529861\n",
      "Training Fold 3...\n",
      "Fold 3 MAE: 240.3163861854225\n",
      "Training Fold 4...\n",
      "Fold 4 MAE: 247.42926335556152\n",
      "Training Fold 5...\n",
      "Fold 5 MAE: 254.11893345720887\n",
      "Training Fold 6...\n",
      "Fold 6 MAE: 248.0091754995145\n",
      "Training Fold 7...\n",
      "Fold 7 MAE: 252.64931184080584\n",
      "Training Fold 8...\n",
      "Fold 8 MAE: 237.8336716673794\n",
      "Training Fold 9...\n",
      "Fold 9 MAE: 262.42933061041026\n",
      "Training Fold 10...\n"
     ]
    },
    {
     "name": "stderr",
     "output_type": "stream",
     "text": [
      "[I 2023-11-09 12:14:35,198] Trial 13 finished with value: 249.26097784333487 and parameters: {'tree_method': 'hist', 'max_depth': 10, 'learning_rate': 0.013676678308288892, 'n_estimators': 986, 'min_child_weight': 5, 'gamma': 0.7287273305132194, 'subsample': 1.0, 'colsample_bytree': 0.6, 'reg_alpha': 0.06324522166789485, 'reg_lambda': 0.973811660554343, 'random_state': 253}. Best is trial 11 with value: 245.57965943241038.\n"
     ]
    },
    {
     "name": "stdout",
     "output_type": "stream",
     "text": [
      "Fold 10 MAE: 248.71051314508713\n",
      "Mean MAE for all Folds: 249.26097784333487\n",
      "Training Fold 1...\n"
     ]
    },
    {
     "name": "stderr",
     "output_type": "stream",
     "text": [
      "/var/folders/y8/9glnt_6110xftbsjpdqd12280000gp/T/ipykernel_3270/1140765383.py:16: FutureWarning: suggest_discrete_uniform has been deprecated in v3.0.0. This feature will be removed in v6.0.0. See https://github.com/optuna/optuna/releases/tag/v3.0.0. Use suggest_float(..., step=...) instead.\n",
      "  \"subsample\": trial.suggest_discrete_uniform(\"subsample\", 0.6, 1.0, 0.05),  # Reduce the range\n",
      "/var/folders/y8/9glnt_6110xftbsjpdqd12280000gp/T/ipykernel_3270/1140765383.py:17: FutureWarning: suggest_discrete_uniform has been deprecated in v3.0.0. This feature will be removed in v6.0.0. See https://github.com/optuna/optuna/releases/tag/v3.0.0. Use suggest_float(..., step=...) instead.\n",
      "  \"colsample_bytree\": trial.suggest_discrete_uniform(\"colsample_bytree\", 0.6, 1.0, 0.05),  # Reduce the range\n"
     ]
    },
    {
     "name": "stdout",
     "output_type": "stream",
     "text": [
      "Fold 1 MAE: 251.0959371420844\n",
      "Training Fold 2...\n",
      "Fold 2 MAE: 259.0681049632778\n",
      "Training Fold 3...\n",
      "Fold 3 MAE: 247.90478953467544\n",
      "Training Fold 4...\n",
      "Fold 4 MAE: 254.0322042311741\n",
      "Training Fold 5...\n",
      "Fold 5 MAE: 263.41627839294785\n",
      "Training Fold 6...\n",
      "Fold 6 MAE: 257.3868205454897\n",
      "Training Fold 7...\n",
      "Fold 7 MAE: 256.48691463397336\n",
      "Training Fold 8...\n",
      "Fold 8 MAE: 247.2889277115604\n",
      "Training Fold 9...\n",
      "Fold 9 MAE: 266.66652978502947\n",
      "Training Fold 10...\n"
     ]
    },
    {
     "name": "stderr",
     "output_type": "stream",
     "text": [
      "[I 2023-11-09 12:16:19,589] Trial 14 finished with value: 256.00580970572446 and parameters: {'tree_method': 'hist', 'max_depth': 6, 'learning_rate': 0.21226069377495393, 'n_estimators': 981, 'min_child_weight': 7, 'gamma': 0.9866730674107257, 'subsample': 0.95, 'colsample_bytree': 0.65, 'reg_alpha': 0.05774724681888189, 'reg_lambda': 0.9772322908872566, 'random_state': 293}. Best is trial 11 with value: 245.57965943241038.\n"
     ]
    },
    {
     "name": "stdout",
     "output_type": "stream",
     "text": [
      "Fold 10 MAE: 256.7115901170322\n",
      "Mean MAE for all Folds: 256.00580970572446\n",
      "Training Fold 1...\n"
     ]
    },
    {
     "name": "stderr",
     "output_type": "stream",
     "text": [
      "/var/folders/y8/9glnt_6110xftbsjpdqd12280000gp/T/ipykernel_3270/1140765383.py:16: FutureWarning: suggest_discrete_uniform has been deprecated in v3.0.0. This feature will be removed in v6.0.0. See https://github.com/optuna/optuna/releases/tag/v3.0.0. Use suggest_float(..., step=...) instead.\n",
      "  \"subsample\": trial.suggest_discrete_uniform(\"subsample\", 0.6, 1.0, 0.05),  # Reduce the range\n",
      "/var/folders/y8/9glnt_6110xftbsjpdqd12280000gp/T/ipykernel_3270/1140765383.py:17: FutureWarning: suggest_discrete_uniform has been deprecated in v3.0.0. This feature will be removed in v6.0.0. See https://github.com/optuna/optuna/releases/tag/v3.0.0. Use suggest_float(..., step=...) instead.\n",
      "  \"colsample_bytree\": trial.suggest_discrete_uniform(\"colsample_bytree\", 0.6, 1.0, 0.05),  # Reduce the range\n"
     ]
    },
    {
     "name": "stdout",
     "output_type": "stream",
     "text": [
      "Fold 1 MAE: 243.53161393689487\n",
      "Training Fold 2...\n",
      "Fold 2 MAE: 256.5765561451404\n",
      "Training Fold 3...\n",
      "Fold 3 MAE: 243.94783433250944\n",
      "Training Fold 4...\n",
      "Fold 4 MAE: 248.51603451212782\n",
      "Training Fold 5...\n",
      "Fold 5 MAE: 253.09440611022515\n",
      "Training Fold 6...\n",
      "Fold 6 MAE: 253.18601705666208\n",
      "Training Fold 7...\n",
      "Fold 7 MAE: 258.266212962803\n",
      "Training Fold 8...\n",
      "Fold 8 MAE: 245.83125219627618\n",
      "Training Fold 9...\n",
      "Fold 9 MAE: 261.6042161809448\n",
      "Training Fold 10...\n"
     ]
    },
    {
     "name": "stderr",
     "output_type": "stream",
     "text": [
      "[I 2023-11-09 12:18:39,374] Trial 15 finished with value: 251.59458833984996 and parameters: {'tree_method': 'hist', 'max_depth': 10, 'learning_rate': 0.23511439227116215, 'n_estimators': 804, 'min_child_weight': 10, 'gamma': 0.6656769538749402, 'subsample': 1.0, 'colsample_bytree': 0.6, 'reg_alpha': 0.2032828366323864, 'reg_lambda': 0.6583428009863921, 'random_state': 575}. Best is trial 11 with value: 245.57965943241038.\n"
     ]
    },
    {
     "name": "stdout",
     "output_type": "stream",
     "text": [
      "Fold 10 MAE: 251.3917399649159\n",
      "Mean MAE for all Folds: 251.59458833984996\n",
      "Training Fold 1...\n"
     ]
    },
    {
     "name": "stderr",
     "output_type": "stream",
     "text": [
      "/var/folders/y8/9glnt_6110xftbsjpdqd12280000gp/T/ipykernel_3270/1140765383.py:16: FutureWarning: suggest_discrete_uniform has been deprecated in v3.0.0. This feature will be removed in v6.0.0. See https://github.com/optuna/optuna/releases/tag/v3.0.0. Use suggest_float(..., step=...) instead.\n",
      "  \"subsample\": trial.suggest_discrete_uniform(\"subsample\", 0.6, 1.0, 0.05),  # Reduce the range\n",
      "/var/folders/y8/9glnt_6110xftbsjpdqd12280000gp/T/ipykernel_3270/1140765383.py:17: FutureWarning: suggest_discrete_uniform has been deprecated in v3.0.0. This feature will be removed in v6.0.0. See https://github.com/optuna/optuna/releases/tag/v3.0.0. Use suggest_float(..., step=...) instead.\n",
      "  \"colsample_bytree\": trial.suggest_discrete_uniform(\"colsample_bytree\", 0.6, 1.0, 0.05),  # Reduce the range\n"
     ]
    },
    {
     "name": "stdout",
     "output_type": "stream",
     "text": [
      "Fold 1 MAE: 258.7440547425773\n",
      "Training Fold 2...\n",
      "Fold 2 MAE: 267.9100202963441\n",
      "Training Fold 3...\n",
      "Fold 3 MAE: 255.1424395520151\n",
      "Training Fold 4...\n",
      "Fold 4 MAE: 257.30554507889303\n",
      "Training Fold 5...\n",
      "Fold 5 MAE: 266.03206057184155\n",
      "Training Fold 6...\n",
      "Fold 6 MAE: 262.52263878777944\n",
      "Training Fold 7...\n",
      "Fold 7 MAE: 264.7837072064572\n",
      "Training Fold 8...\n",
      "Fold 8 MAE: 255.95885338967892\n",
      "Training Fold 9...\n",
      "Fold 9 MAE: 274.69603061089236\n",
      "Training Fold 10...\n"
     ]
    },
    {
     "name": "stderr",
     "output_type": "stream",
     "text": [
      "[I 2023-11-09 12:20:00,726] Trial 16 finished with value: 262.713162764402 and parameters: {'tree_method': 'hist', 'max_depth': 5, 'learning_rate': 0.12829393973375647, 'n_estimators': 776, 'min_child_weight': 4, 'gamma': 0.8070573370735388, 'subsample': 0.9, 'colsample_bytree': 0.7, 'reg_alpha': 0.01372945912559513, 'reg_lambda': 0.8702631885589807, 'random_state': 274}. Best is trial 11 with value: 245.57965943241038.\n"
     ]
    },
    {
     "name": "stdout",
     "output_type": "stream",
     "text": [
      "Fold 10 MAE: 264.03627740754166\n",
      "Mean MAE for all Folds: 262.713162764402\n",
      "Training Fold 1...\n"
     ]
    },
    {
     "name": "stderr",
     "output_type": "stream",
     "text": [
      "/var/folders/y8/9glnt_6110xftbsjpdqd12280000gp/T/ipykernel_3270/1140765383.py:16: FutureWarning: suggest_discrete_uniform has been deprecated in v3.0.0. This feature will be removed in v6.0.0. See https://github.com/optuna/optuna/releases/tag/v3.0.0. Use suggest_float(..., step=...) instead.\n",
      "  \"subsample\": trial.suggest_discrete_uniform(\"subsample\", 0.6, 1.0, 0.05),  # Reduce the range\n",
      "/var/folders/y8/9glnt_6110xftbsjpdqd12280000gp/T/ipykernel_3270/1140765383.py:17: FutureWarning: suggest_discrete_uniform has been deprecated in v3.0.0. This feature will be removed in v6.0.0. See https://github.com/optuna/optuna/releases/tag/v3.0.0. Use suggest_float(..., step=...) instead.\n",
      "  \"colsample_bytree\": trial.suggest_discrete_uniform(\"colsample_bytree\", 0.6, 1.0, 0.05),  # Reduce the range\n"
     ]
    },
    {
     "name": "stdout",
     "output_type": "stream",
     "text": [
      "Fold 1 MAE: 256.8182930788994\n",
      "Training Fold 2...\n",
      "Fold 2 MAE: 262.8653534902246\n",
      "Training Fold 3...\n",
      "Fold 3 MAE: 256.1072392858332\n",
      "Training Fold 4...\n",
      "Fold 4 MAE: 261.544742313854\n",
      "Training Fold 5...\n",
      "Fold 5 MAE: 269.77573587595566\n",
      "Training Fold 6...\n",
      "Fold 6 MAE: 266.563614031501\n",
      "Training Fold 7...\n",
      "Fold 7 MAE: 257.2016664816149\n",
      "Training Fold 8...\n",
      "Fold 8 MAE: 252.4566945295555\n",
      "Training Fold 9...\n",
      "Fold 9 MAE: 271.44159007316824\n",
      "Training Fold 10...\n"
     ]
    },
    {
     "name": "stderr",
     "output_type": "stream",
     "text": [
      "[I 2023-11-09 12:21:51,957] Trial 17 finished with value: 261.9463718960695 and parameters: {'tree_method': 'hist', 'max_depth': 7, 'learning_rate': 0.36352142022795964, 'n_estimators': 873, 'min_child_weight': 7, 'gamma': 0.6536424668219568, 'subsample': 0.95, 'colsample_bytree': 0.7, 'reg_alpha': 0.16370482864270605, 'reg_lambda': 0.6129366947233479, 'random_state': 177}. Best is trial 11 with value: 245.57965943241038.\n"
     ]
    },
    {
     "name": "stdout",
     "output_type": "stream",
     "text": [
      "Fold 10 MAE: 264.688789800088\n",
      "Mean MAE for all Folds: 261.9463718960695\n",
      "Training Fold 1...\n"
     ]
    },
    {
     "name": "stderr",
     "output_type": "stream",
     "text": [
      "/var/folders/y8/9glnt_6110xftbsjpdqd12280000gp/T/ipykernel_3270/1140765383.py:16: FutureWarning: suggest_discrete_uniform has been deprecated in v3.0.0. This feature will be removed in v6.0.0. See https://github.com/optuna/optuna/releases/tag/v3.0.0. Use suggest_float(..., step=...) instead.\n",
      "  \"subsample\": trial.suggest_discrete_uniform(\"subsample\", 0.6, 1.0, 0.05),  # Reduce the range\n",
      "/var/folders/y8/9glnt_6110xftbsjpdqd12280000gp/T/ipykernel_3270/1140765383.py:17: FutureWarning: suggest_discrete_uniform has been deprecated in v3.0.0. This feature will be removed in v6.0.0. See https://github.com/optuna/optuna/releases/tag/v3.0.0. Use suggest_float(..., step=...) instead.\n",
      "  \"colsample_bytree\": trial.suggest_discrete_uniform(\"colsample_bytree\", 0.6, 1.0, 0.05),  # Reduce the range\n"
     ]
    },
    {
     "name": "stdout",
     "output_type": "stream",
     "text": [
      "Fold 1 MAE: 249.9882018423794\n",
      "Training Fold 2...\n",
      "Fold 2 MAE: 262.40801486658614\n",
      "Training Fold 3...\n",
      "Fold 3 MAE: 247.66745135883457\n",
      "Training Fold 4...\n",
      "Fold 4 MAE: 249.49663274198548\n",
      "Training Fold 5...\n",
      "Fold 5 MAE: 258.32429711464454\n",
      "Training Fold 6...\n",
      "Fold 6 MAE: 253.21648157502324\n",
      "Training Fold 7...\n",
      "Fold 7 MAE: 256.18626698842496\n",
      "Training Fold 8...\n",
      "Fold 8 MAE: 244.78658727813198\n",
      "Training Fold 9...\n",
      "Fold 9 MAE: 266.64671981025106\n",
      "Training Fold 10...\n"
     ]
    },
    {
     "name": "stderr",
     "output_type": "stream",
     "text": [
      "[I 2023-11-09 12:24:36,098] Trial 18 finished with value: 254.56604513129545 and parameters: {'tree_method': 'hist', 'max_depth': 8, 'learning_rate': 0.025132775274623785, 'n_estimators': 628, 'min_child_weight': 4, 'gamma': 0.8610307538054884, 'subsample': 0.95, 'colsample_bytree': 0.65, 'reg_alpha': 0.3125879951756097, 'reg_lambda': 0.738949081620047, 'random_state': 508}. Best is trial 11 with value: 245.57965943241038.\n"
     ]
    },
    {
     "name": "stdout",
     "output_type": "stream",
     "text": [
      "Fold 10 MAE: 256.9397977366936\n",
      "Mean MAE for all Folds: 254.56604513129545\n",
      "Training Fold 1...\n"
     ]
    },
    {
     "name": "stderr",
     "output_type": "stream",
     "text": [
      "/var/folders/y8/9glnt_6110xftbsjpdqd12280000gp/T/ipykernel_3270/1140765383.py:16: FutureWarning: suggest_discrete_uniform has been deprecated in v3.0.0. This feature will be removed in v6.0.0. See https://github.com/optuna/optuna/releases/tag/v3.0.0. Use suggest_float(..., step=...) instead.\n",
      "  \"subsample\": trial.suggest_discrete_uniform(\"subsample\", 0.6, 1.0, 0.05),  # Reduce the range\n",
      "/var/folders/y8/9glnt_6110xftbsjpdqd12280000gp/T/ipykernel_3270/1140765383.py:17: FutureWarning: suggest_discrete_uniform has been deprecated in v3.0.0. This feature will be removed in v6.0.0. See https://github.com/optuna/optuna/releases/tag/v3.0.0. Use suggest_float(..., step=...) instead.\n",
      "  \"colsample_bytree\": trial.suggest_discrete_uniform(\"colsample_bytree\", 0.6, 1.0, 0.05),  # Reduce the range\n"
     ]
    },
    {
     "name": "stdout",
     "output_type": "stream",
     "text": [
      "Fold 1 MAE: 239.02279939457975\n",
      "Training Fold 2...\n",
      "Fold 2 MAE: 253.52396162073393\n",
      "Training Fold 3...\n",
      "Fold 3 MAE: 239.7158607206691\n",
      "Training Fold 4...\n",
      "Fold 4 MAE: 243.28706233477055\n",
      "Training Fold 5...\n",
      "Fold 5 MAE: 248.65377469535497\n",
      "Training Fold 6...\n",
      "Fold 6 MAE: 248.4438572232205\n",
      "Training Fold 7...\n",
      "Fold 7 MAE: 250.2866359122087\n",
      "Training Fold 8...\n",
      "Fold 8 MAE: 243.55379474833478\n",
      "Training Fold 9...\n",
      "Fold 9 MAE: 257.4994931341899\n",
      "Training Fold 10...\n"
     ]
    },
    {
     "name": "stderr",
     "output_type": "stream",
     "text": [
      "[I 2023-11-09 12:28:14,943] Trial 19 finished with value: 247.52713435500596 and parameters: {'tree_method': 'hist', 'max_depth': 10, 'learning_rate': 0.15296888414487528, 'n_estimators': 916, 'min_child_weight': 7, 'gamma': 0.4306009293622261, 'subsample': 0.7, 'colsample_bytree': 0.6, 'reg_alpha': 0.013599790204384177, 'reg_lambda': 0.9344993865361403, 'random_state': 9}. Best is trial 11 with value: 245.57965943241038.\n"
     ]
    },
    {
     "name": "stdout",
     "output_type": "stream",
     "text": [
      "Fold 10 MAE: 251.28410376599726\n",
      "Mean MAE for all Folds: 247.52713435500596\n",
      "Training Fold 1...\n"
     ]
    },
    {
     "name": "stderr",
     "output_type": "stream",
     "text": [
      "/var/folders/y8/9glnt_6110xftbsjpdqd12280000gp/T/ipykernel_3270/1140765383.py:16: FutureWarning: suggest_discrete_uniform has been deprecated in v3.0.0. This feature will be removed in v6.0.0. See https://github.com/optuna/optuna/releases/tag/v3.0.0. Use suggest_float(..., step=...) instead.\n",
      "  \"subsample\": trial.suggest_discrete_uniform(\"subsample\", 0.6, 1.0, 0.05),  # Reduce the range\n",
      "/var/folders/y8/9glnt_6110xftbsjpdqd12280000gp/T/ipykernel_3270/1140765383.py:17: FutureWarning: suggest_discrete_uniform has been deprecated in v3.0.0. This feature will be removed in v6.0.0. See https://github.com/optuna/optuna/releases/tag/v3.0.0. Use suggest_float(..., step=...) instead.\n",
      "  \"colsample_bytree\": trial.suggest_discrete_uniform(\"colsample_bytree\", 0.6, 1.0, 0.05),  # Reduce the range\n"
     ]
    },
    {
     "name": "stdout",
     "output_type": "stream",
     "text": [
      "Fold 1 MAE: 250.14256729383118\n",
      "Training Fold 2...\n",
      "Fold 2 MAE: 261.45817559268653\n",
      "Training Fold 3...\n",
      "Fold 3 MAE: 247.81575298299052\n",
      "Training Fold 4...\n",
      "Fold 4 MAE: 250.44503607884954\n",
      "Training Fold 5...\n",
      "Fold 5 MAE: 260.3220774654841\n",
      "Training Fold 6...\n",
      "Fold 6 MAE: 252.83658906846662\n",
      "Training Fold 7...\n",
      "Fold 7 MAE: 257.0901221169386\n",
      "Training Fold 8...\n",
      "Fold 8 MAE: 247.25983453698933\n",
      "Training Fold 9...\n",
      "Fold 9 MAE: 266.4730629078963\n",
      "Training Fold 10...\n"
     ]
    },
    {
     "name": "stderr",
     "output_type": "stream",
     "text": [
      "[I 2023-11-09 12:29:48,669] Trial 20 finished with value: 254.9191910190119 and parameters: {'tree_method': 'hist', 'max_depth': 6, 'learning_rate': 0.16262274464023413, 'n_estimators': 653, 'min_child_weight': 8, 'gamma': 0.40282946151583604, 'subsample': 0.7, 'colsample_bytree': 0.7, 'reg_alpha': 0.43474514522880386, 'reg_lambda': 0.5763762976854758, 'random_state': 10}. Best is trial 11 with value: 245.57965943241038.\n"
     ]
    },
    {
     "name": "stdout",
     "output_type": "stream",
     "text": [
      "Fold 10 MAE: 255.34869214598672\n",
      "Mean MAE for all Folds: 254.9191910190119\n",
      "Training Fold 1...\n"
     ]
    },
    {
     "name": "stderr",
     "output_type": "stream",
     "text": [
      "/var/folders/y8/9glnt_6110xftbsjpdqd12280000gp/T/ipykernel_3270/1140765383.py:16: FutureWarning: suggest_discrete_uniform has been deprecated in v3.0.0. This feature will be removed in v6.0.0. See https://github.com/optuna/optuna/releases/tag/v3.0.0. Use suggest_float(..., step=...) instead.\n",
      "  \"subsample\": trial.suggest_discrete_uniform(\"subsample\", 0.6, 1.0, 0.05),  # Reduce the range\n",
      "/var/folders/y8/9glnt_6110xftbsjpdqd12280000gp/T/ipykernel_3270/1140765383.py:17: FutureWarning: suggest_discrete_uniform has been deprecated in v3.0.0. This feature will be removed in v6.0.0. See https://github.com/optuna/optuna/releases/tag/v3.0.0. Use suggest_float(..., step=...) instead.\n",
      "  \"colsample_bytree\": trial.suggest_discrete_uniform(\"colsample_bytree\", 0.6, 1.0, 0.05),  # Reduce the range\n"
     ]
    },
    {
     "name": "stdout",
     "output_type": "stream",
     "text": [
      "Fold 1 MAE: 241.50951489775488\n",
      "Training Fold 2...\n",
      "Fold 2 MAE: 248.8818290201134\n",
      "Training Fold 3...\n",
      "Fold 3 MAE: 239.0638356215687\n",
      "Training Fold 4...\n",
      "Fold 4 MAE: 243.3247023421111\n",
      "Training Fold 5...\n",
      "Fold 5 MAE: 249.98580822893948\n",
      "Training Fold 6...\n",
      "Fold 6 MAE: 245.5423874341034\n",
      "Training Fold 7...\n",
      "Fold 7 MAE: 247.14691636934307\n",
      "Training Fold 8...\n",
      "Fold 8 MAE: 239.79652609377067\n",
      "Training Fold 9...\n",
      "Fold 9 MAE: 256.6270608010607\n",
      "Training Fold 10...\n"
     ]
    },
    {
     "name": "stderr",
     "output_type": "stream",
     "text": [
      "[I 2023-11-09 12:33:09,264] Trial 21 finished with value: 246.1064300906524 and parameters: {'tree_method': 'hist', 'max_depth': 10, 'learning_rate': 0.13326490535226676, 'n_estimators': 894, 'min_child_weight': 7, 'gamma': 0.6114249192473655, 'subsample': 0.7, 'colsample_bytree': 0.6, 'reg_alpha': 0.1394314114588743, 'reg_lambda': 0.9224113744783383, 'random_state': 203}. Best is trial 11 with value: 245.57965943241038.\n"
     ]
    },
    {
     "name": "stdout",
     "output_type": "stream",
     "text": [
      "Fold 10 MAE: 249.1857200977588\n",
      "Mean MAE for all Folds: 246.1064300906524\n",
      "Training Fold 1...\n"
     ]
    },
    {
     "name": "stderr",
     "output_type": "stream",
     "text": [
      "/var/folders/y8/9glnt_6110xftbsjpdqd12280000gp/T/ipykernel_3270/1140765383.py:16: FutureWarning: suggest_discrete_uniform has been deprecated in v3.0.0. This feature will be removed in v6.0.0. See https://github.com/optuna/optuna/releases/tag/v3.0.0. Use suggest_float(..., step=...) instead.\n",
      "  \"subsample\": trial.suggest_discrete_uniform(\"subsample\", 0.6, 1.0, 0.05),  # Reduce the range\n",
      "/var/folders/y8/9glnt_6110xftbsjpdqd12280000gp/T/ipykernel_3270/1140765383.py:17: FutureWarning: suggest_discrete_uniform has been deprecated in v3.0.0. This feature will be removed in v6.0.0. See https://github.com/optuna/optuna/releases/tag/v3.0.0. Use suggest_float(..., step=...) instead.\n",
      "  \"colsample_bytree\": trial.suggest_discrete_uniform(\"colsample_bytree\", 0.6, 1.0, 0.05),  # Reduce the range\n"
     ]
    },
    {
     "name": "stdout",
     "output_type": "stream",
     "text": [
      "Fold 1 MAE: 260.05321332887917\n",
      "Training Fold 2...\n",
      "Fold 2 MAE: 276.21289859404504\n",
      "Training Fold 3...\n",
      "Fold 3 MAE: 265.56994615697073\n",
      "Training Fold 4...\n",
      "Fold 4 MAE: 264.2399167544287\n",
      "Training Fold 5...\n",
      "Fold 5 MAE: 266.6959016891433\n",
      "Training Fold 6...\n",
      "Fold 6 MAE: 272.25963835735854\n",
      "Training Fold 7...\n",
      "Fold 7 MAE: 272.5000627270533\n",
      "Training Fold 8...\n",
      "Fold 8 MAE: 261.93357584959017\n",
      "Training Fold 9...\n",
      "Fold 9 MAE: 276.9229836228681\n",
      "Training Fold 10...\n"
     ]
    },
    {
     "name": "stderr",
     "output_type": "stream",
     "text": [
      "[I 2023-11-09 12:36:02,829] Trial 22 finished with value: 269.1475021841645 and parameters: {'tree_method': 'hist', 'max_depth': 10, 'learning_rate': 0.31410285604611465, 'n_estimators': 856, 'min_child_weight': 7, 'gamma': 0.608575038086382, 'subsample': 0.6, 'colsample_bytree': 0.65, 'reg_alpha': 0.1369579738973082, 'reg_lambda': 0.8814420871641095, 'random_state': 181}. Best is trial 11 with value: 245.57965943241038.\n"
     ]
    },
    {
     "name": "stdout",
     "output_type": "stream",
     "text": [
      "Fold 10 MAE: 275.0868847613082\n",
      "Mean MAE for all Folds: 269.1475021841645\n",
      "Training Fold 1...\n"
     ]
    },
    {
     "name": "stderr",
     "output_type": "stream",
     "text": [
      "/var/folders/y8/9glnt_6110xftbsjpdqd12280000gp/T/ipykernel_3270/1140765383.py:16: FutureWarning: suggest_discrete_uniform has been deprecated in v3.0.0. This feature will be removed in v6.0.0. See https://github.com/optuna/optuna/releases/tag/v3.0.0. Use suggest_float(..., step=...) instead.\n",
      "  \"subsample\": trial.suggest_discrete_uniform(\"subsample\", 0.6, 1.0, 0.05),  # Reduce the range\n",
      "/var/folders/y8/9glnt_6110xftbsjpdqd12280000gp/T/ipykernel_3270/1140765383.py:17: FutureWarning: suggest_discrete_uniform has been deprecated in v3.0.0. This feature will be removed in v6.0.0. See https://github.com/optuna/optuna/releases/tag/v3.0.0. Use suggest_float(..., step=...) instead.\n",
      "  \"colsample_bytree\": trial.suggest_discrete_uniform(\"colsample_bytree\", 0.6, 1.0, 0.05),  # Reduce the range\n"
     ]
    },
    {
     "name": "stdout",
     "output_type": "stream",
     "text": [
      "Fold 1 MAE: 242.18604170392618\n",
      "Training Fold 2...\n",
      "Fold 2 MAE: 246.08874051133583\n",
      "Training Fold 3...\n",
      "Fold 3 MAE: 237.97672533625098\n",
      "Training Fold 4...\n",
      "Fold 4 MAE: 242.13559476736017\n",
      "Training Fold 5...\n",
      "Fold 5 MAE: 248.03192331071043\n",
      "Training Fold 6...\n",
      "Fold 6 MAE: 246.86406395399132\n",
      "Training Fold 7...\n",
      "Fold 7 MAE: 247.41865386150917\n",
      "Training Fold 8...\n",
      "Fold 8 MAE: 240.41362688853957\n",
      "Training Fold 9...\n",
      "Fold 9 MAE: 256.7504171944293\n",
      "Training Fold 10...\n"
     ]
    },
    {
     "name": "stderr",
     "output_type": "stream",
     "text": [
      "[I 2023-11-09 12:37:48,932] Trial 23 finished with value: 245.49391084430485 and parameters: {'tree_method': 'hist', 'max_depth': 9, 'learning_rate': 0.13790647087467567, 'n_estimators': 898, 'min_child_weight': 8, 'gamma': 0.48410924133307776, 'subsample': 0.75, 'colsample_bytree': 0.6, 'reg_alpha': 0.14856561988416986, 'reg_lambda': 0.7481345835134895, 'random_state': 4}. Best is trial 23 with value: 245.49391084430485.\n"
     ]
    },
    {
     "name": "stdout",
     "output_type": "stream",
     "text": [
      "Fold 10 MAE: 247.0733209149956\n",
      "Mean MAE for all Folds: 245.49391084430485\n",
      "Training Fold 1...\n"
     ]
    },
    {
     "name": "stderr",
     "output_type": "stream",
     "text": [
      "/var/folders/y8/9glnt_6110xftbsjpdqd12280000gp/T/ipykernel_3270/1140765383.py:16: FutureWarning: suggest_discrete_uniform has been deprecated in v3.0.0. This feature will be removed in v6.0.0. See https://github.com/optuna/optuna/releases/tag/v3.0.0. Use suggest_float(..., step=...) instead.\n",
      "  \"subsample\": trial.suggest_discrete_uniform(\"subsample\", 0.6, 1.0, 0.05),  # Reduce the range\n",
      "/var/folders/y8/9glnt_6110xftbsjpdqd12280000gp/T/ipykernel_3270/1140765383.py:17: FutureWarning: suggest_discrete_uniform has been deprecated in v3.0.0. This feature will be removed in v6.0.0. See https://github.com/optuna/optuna/releases/tag/v3.0.0. Use suggest_float(..., step=...) instead.\n",
      "  \"colsample_bytree\": trial.suggest_discrete_uniform(\"colsample_bytree\", 0.6, 1.0, 0.05),  # Reduce the range\n"
     ]
    },
    {
     "name": "stdout",
     "output_type": "stream",
     "text": [
      "Fold 1 MAE: 257.24961862898454\n",
      "Training Fold 2...\n",
      "Fold 2 MAE: 263.5272742888698\n",
      "Training Fold 3...\n",
      "Fold 3 MAE: 254.46275914610567\n",
      "Training Fold 4...\n",
      "Fold 4 MAE: 252.36260116532986\n",
      "Training Fold 5...\n",
      "Fold 5 MAE: 258.15380404701176\n",
      "Training Fold 6...\n",
      "Fold 6 MAE: 258.50437492401966\n",
      "Training Fold 7...\n",
      "Fold 7 MAE: 251.968901749107\n",
      "Training Fold 8...\n",
      "Fold 8 MAE: 252.61212942987987\n",
      "Training Fold 9...\n",
      "Fold 9 MAE: 268.8873109734545\n",
      "Training Fold 10...\n"
     ]
    },
    {
     "name": "stderr",
     "output_type": "stream",
     "text": [
      "[I 2023-11-09 12:38:51,655] Trial 24 finished with value: 257.29908529535146 and parameters: {'tree_method': 'hist', 'max_depth': 9, 'learning_rate': 0.2792509982966602, 'n_estimators': 746, 'min_child_weight': 9, 'gamma': 0.5117794834470943, 'subsample': 0.75, 'colsample_bytree': 0.75, 'reg_alpha': 0.26601379097233313, 'reg_lambda': 0.7449523026283611, 'random_state': 209}. Best is trial 23 with value: 245.49391084430485.\n"
     ]
    },
    {
     "name": "stdout",
     "output_type": "stream",
     "text": [
      "Fold 10 MAE: 255.26207860075132\n",
      "Mean MAE for all Folds: 257.29908529535146\n",
      "Training Fold 1...\n"
     ]
    },
    {
     "name": "stderr",
     "output_type": "stream",
     "text": [
      "/var/folders/y8/9glnt_6110xftbsjpdqd12280000gp/T/ipykernel_3270/1140765383.py:16: FutureWarning: suggest_discrete_uniform has been deprecated in v3.0.0. This feature will be removed in v6.0.0. See https://github.com/optuna/optuna/releases/tag/v3.0.0. Use suggest_float(..., step=...) instead.\n",
      "  \"subsample\": trial.suggest_discrete_uniform(\"subsample\", 0.6, 1.0, 0.05),  # Reduce the range\n",
      "/var/folders/y8/9glnt_6110xftbsjpdqd12280000gp/T/ipykernel_3270/1140765383.py:17: FutureWarning: suggest_discrete_uniform has been deprecated in v3.0.0. This feature will be removed in v6.0.0. See https://github.com/optuna/optuna/releases/tag/v3.0.0. Use suggest_float(..., step=...) instead.\n",
      "  \"colsample_bytree\": trial.suggest_discrete_uniform(\"colsample_bytree\", 0.6, 1.0, 0.05),  # Reduce the range\n"
     ]
    },
    {
     "name": "stdout",
     "output_type": "stream",
     "text": [
      "Fold 1 MAE: 246.18936407082663\n",
      "Training Fold 2...\n",
      "Fold 2 MAE: 257.3594263330731\n",
      "Training Fold 3...\n",
      "Fold 3 MAE: 243.8030311612602\n",
      "Training Fold 4...\n",
      "Fold 4 MAE: 248.88970823836644\n",
      "Training Fold 5...\n",
      "Fold 5 MAE: 249.6632556267176\n",
      "Training Fold 6...\n",
      "Fold 6 MAE: 257.3848117768733\n",
      "Training Fold 7...\n",
      "Fold 7 MAE: 246.68189422406917\n",
      "Training Fold 8...\n",
      "Fold 8 MAE: 242.04914382704138\n",
      "Training Fold 9...\n",
      "Fold 9 MAE: 259.3518522180635\n",
      "Training Fold 10...\n"
     ]
    },
    {
     "name": "stderr",
     "output_type": "stream",
     "text": [
      "[I 2023-11-09 12:39:55,124] Trial 25 finished with value: 250.47859712777864 and parameters: {'tree_method': 'hist', 'max_depth': 8, 'learning_rate': 0.18670962586014683, 'n_estimators': 873, 'min_child_weight': 8, 'gamma': 0.6081965537262115, 'subsample': 0.75, 'colsample_bytree': 0.7, 'reg_alpha': 0.1460060433193852, 'reg_lambda': 0.8121980646035969, 'random_state': 111}. Best is trial 23 with value: 245.49391084430485.\n"
     ]
    },
    {
     "name": "stdout",
     "output_type": "stream",
     "text": [
      "Fold 10 MAE: 253.4134838014951\n",
      "Mean MAE for all Folds: 250.47859712777864\n",
      "Training Fold 1...\n"
     ]
    },
    {
     "name": "stderr",
     "output_type": "stream",
     "text": [
      "/var/folders/y8/9glnt_6110xftbsjpdqd12280000gp/T/ipykernel_3270/1140765383.py:16: FutureWarning: suggest_discrete_uniform has been deprecated in v3.0.0. This feature will be removed in v6.0.0. See https://github.com/optuna/optuna/releases/tag/v3.0.0. Use suggest_float(..., step=...) instead.\n",
      "  \"subsample\": trial.suggest_discrete_uniform(\"subsample\", 0.6, 1.0, 0.05),  # Reduce the range\n",
      "/var/folders/y8/9glnt_6110xftbsjpdqd12280000gp/T/ipykernel_3270/1140765383.py:17: FutureWarning: suggest_discrete_uniform has been deprecated in v3.0.0. This feature will be removed in v6.0.0. See https://github.com/optuna/optuna/releases/tag/v3.0.0. Use suggest_float(..., step=...) instead.\n",
      "  \"colsample_bytree\": trial.suggest_discrete_uniform(\"colsample_bytree\", 0.6, 1.0, 0.05),  # Reduce the range\n"
     ]
    },
    {
     "name": "stdout",
     "output_type": "stream",
     "text": [
      "Fold 1 MAE: 239.28013634945003\n",
      "Training Fold 2...\n",
      "Fold 2 MAE: 250.71594468601282\n",
      "Training Fold 3...\n",
      "Fold 3 MAE: 242.1340373502486\n",
      "Training Fold 4...\n",
      "Fold 4 MAE: 241.67117808635206\n",
      "Training Fold 5...\n",
      "Fold 5 MAE: 252.1717869510414\n",
      "Training Fold 6...\n",
      "Fold 6 MAE: 245.45420446708235\n",
      "Training Fold 7...\n",
      "Fold 7 MAE: 249.31182902441265\n",
      "Training Fold 8...\n",
      "Fold 8 MAE: 238.2972652342488\n",
      "Training Fold 9...\n",
      "Fold 9 MAE: 258.9372710112947\n",
      "Training Fold 10...\n"
     ]
    },
    {
     "name": "stderr",
     "output_type": "stream",
     "text": [
      "[I 2023-11-09 12:40:55,538] Trial 26 finished with value: 246.34344898209514 and parameters: {'tree_method': 'hist', 'max_depth': 9, 'learning_rate': 0.11266673484618879, 'n_estimators': 613, 'min_child_weight': 10, 'gamma': 0.4774427281040826, 'subsample': 0.75, 'colsample_bytree': 0.65, 'reg_alpha': 0.2469900729393379, 'reg_lambda': 0.6996703215175253, 'random_state': 350}. Best is trial 23 with value: 245.49391084430485.\n"
     ]
    },
    {
     "name": "stdout",
     "output_type": "stream",
     "text": [
      "Fold 10 MAE: 245.4608366608083\n",
      "Mean MAE for all Folds: 246.34344898209514\n",
      "Training Fold 1...\n"
     ]
    },
    {
     "name": "stderr",
     "output_type": "stream",
     "text": [
      "/var/folders/y8/9glnt_6110xftbsjpdqd12280000gp/T/ipykernel_3270/1140765383.py:16: FutureWarning: suggest_discrete_uniform has been deprecated in v3.0.0. This feature will be removed in v6.0.0. See https://github.com/optuna/optuna/releases/tag/v3.0.0. Use suggest_float(..., step=...) instead.\n",
      "  \"subsample\": trial.suggest_discrete_uniform(\"subsample\", 0.6, 1.0, 0.05),  # Reduce the range\n",
      "/var/folders/y8/9glnt_6110xftbsjpdqd12280000gp/T/ipykernel_3270/1140765383.py:17: FutureWarning: suggest_discrete_uniform has been deprecated in v3.0.0. This feature will be removed in v6.0.0. See https://github.com/optuna/optuna/releases/tag/v3.0.0. Use suggest_float(..., step=...) instead.\n",
      "  \"colsample_bytree\": trial.suggest_discrete_uniform(\"colsample_bytree\", 0.6, 1.0, 0.05),  # Reduce the range\n"
     ]
    },
    {
     "name": "stdout",
     "output_type": "stream",
     "text": [
      "Fold 1 MAE: 245.52754609357447\n",
      "Training Fold 2...\n",
      "Fold 2 MAE: 249.3997651448078\n",
      "Training Fold 3...\n",
      "Fold 3 MAE: 242.41241613276455\n",
      "Training Fold 4...\n",
      "Fold 4 MAE: 249.54877573045383\n",
      "Training Fold 5...\n",
      "Fold 5 MAE: 251.84799086317685\n",
      "Training Fold 6...\n",
      "Fold 6 MAE: 249.79128855391141\n",
      "Training Fold 7...\n",
      "Fold 7 MAE: 252.90151907785406\n",
      "Training Fold 8...\n",
      "Fold 8 MAE: 246.3136402938751\n",
      "Training Fold 9...\n",
      "Fold 9 MAE: 254.90363822625875\n",
      "Training Fold 10...\n"
     ]
    },
    {
     "name": "stderr",
     "output_type": "stream",
     "text": [
      "[I 2023-11-09 12:42:12,323] Trial 27 finished with value: 249.34657587928615 and parameters: {'tree_method': 'hist', 'max_depth': 10, 'learning_rate': 0.2040176024943059, 'n_estimators': 809, 'min_child_weight': 9, 'gamma': 0.6322455744011888, 'subsample': 0.85, 'colsample_bytree': 0.6, 'reg_alpha': 0.12616088739139206, 'reg_lambda': 0.7824862385258294, 'random_state': 706}. Best is trial 23 with value: 245.49391084430485.\n"
     ]
    },
    {
     "name": "stdout",
     "output_type": "stream",
     "text": [
      "Fold 10 MAE: 250.81917867618438\n",
      "Mean MAE for all Folds: 249.34657587928615\n",
      "Training Fold 1...\n"
     ]
    },
    {
     "name": "stderr",
     "output_type": "stream",
     "text": [
      "/var/folders/y8/9glnt_6110xftbsjpdqd12280000gp/T/ipykernel_3270/1140765383.py:16: FutureWarning: suggest_discrete_uniform has been deprecated in v3.0.0. This feature will be removed in v6.0.0. See https://github.com/optuna/optuna/releases/tag/v3.0.0. Use suggest_float(..., step=...) instead.\n",
      "  \"subsample\": trial.suggest_discrete_uniform(\"subsample\", 0.6, 1.0, 0.05),  # Reduce the range\n",
      "/var/folders/y8/9glnt_6110xftbsjpdqd12280000gp/T/ipykernel_3270/1140765383.py:17: FutureWarning: suggest_discrete_uniform has been deprecated in v3.0.0. This feature will be removed in v6.0.0. See https://github.com/optuna/optuna/releases/tag/v3.0.0. Use suggest_float(..., step=...) instead.\n",
      "  \"colsample_bytree\": trial.suggest_discrete_uniform(\"colsample_bytree\", 0.6, 1.0, 0.05),  # Reduce the range\n"
     ]
    },
    {
     "name": "stdout",
     "output_type": "stream",
     "text": [
      "Fold 1 MAE: 240.1697793156141\n",
      "Training Fold 2...\n",
      "Fold 2 MAE: 250.54805976531148\n",
      "Training Fold 3...\n",
      "Fold 3 MAE: 245.39560639872244\n",
      "Training Fold 4...\n",
      "Fold 4 MAE: 245.44480776331932\n",
      "Training Fold 5...\n",
      "Fold 5 MAE: 252.8819291593643\n",
      "Training Fold 6...\n",
      "Fold 6 MAE: 245.6009184736545\n",
      "Training Fold 7...\n",
      "Fold 7 MAE: 246.9686287847994\n",
      "Training Fold 8...\n",
      "Fold 8 MAE: 235.40645444157\n",
      "Training Fold 9...\n",
      "Fold 9 MAE: 257.1278930738101\n",
      "Training Fold 10...\n"
     ]
    },
    {
     "name": "stderr",
     "output_type": "stream",
     "text": [
      "[I 2023-11-09 12:43:33,550] Trial 28 finished with value: 246.55063017224583 and parameters: {'tree_method': 'hist', 'max_depth': 8, 'learning_rate': 0.09091680782861955, 'n_estimators': 923, 'min_child_weight': 5, 'gamma': 0.521824023071935, 'subsample': 0.65, 'colsample_bytree': 0.65, 'reg_alpha': 0.18282027770097897, 'reg_lambda': 0.8937840478833201, 'random_state': 478}. Best is trial 23 with value: 245.49391084430485.\n"
     ]
    },
    {
     "name": "stdout",
     "output_type": "stream",
     "text": [
      "Fold 10 MAE: 245.96222454629253\n",
      "Mean MAE for all Folds: 246.55063017224583\n",
      "Training Fold 1...\n"
     ]
    },
    {
     "name": "stderr",
     "output_type": "stream",
     "text": [
      "/var/folders/y8/9glnt_6110xftbsjpdqd12280000gp/T/ipykernel_3270/1140765383.py:16: FutureWarning: suggest_discrete_uniform has been deprecated in v3.0.0. This feature will be removed in v6.0.0. See https://github.com/optuna/optuna/releases/tag/v3.0.0. Use suggest_float(..., step=...) instead.\n",
      "  \"subsample\": trial.suggest_discrete_uniform(\"subsample\", 0.6, 1.0, 0.05),  # Reduce the range\n",
      "/var/folders/y8/9glnt_6110xftbsjpdqd12280000gp/T/ipykernel_3270/1140765383.py:17: FutureWarning: suggest_discrete_uniform has been deprecated in v3.0.0. This feature will be removed in v6.0.0. See https://github.com/optuna/optuna/releases/tag/v3.0.0. Use suggest_float(..., step=...) instead.\n",
      "  \"colsample_bytree\": trial.suggest_discrete_uniform(\"colsample_bytree\", 0.6, 1.0, 0.05),  # Reduce the range\n"
     ]
    },
    {
     "name": "stdout",
     "output_type": "stream",
     "text": [
      "Fold 1 MAE: 256.08711456578305\n",
      "Training Fold 2...\n",
      "Fold 2 MAE: 266.44881651745385\n",
      "Training Fold 3...\n",
      "Fold 3 MAE: 251.5267766706845\n",
      "Training Fold 4...\n",
      "Fold 4 MAE: 257.13107070523796\n",
      "Training Fold 5...\n",
      "Fold 5 MAE: 267.42026345699213\n",
      "Training Fold 6...\n",
      "Fold 6 MAE: 263.84761283029286\n",
      "Training Fold 7...\n",
      "Fold 7 MAE: 261.13894897582804\n",
      "Training Fold 8...\n",
      "Fold 8 MAE: 252.72501011409332\n",
      "Training Fold 9...\n",
      "Fold 9 MAE: 275.06149525665353\n",
      "Training Fold 10...\n"
     ]
    },
    {
     "name": "stderr",
     "output_type": "stream",
     "text": [
      "[I 2023-11-09 12:44:31,267] Trial 29 finished with value: 261.40118542122525 and parameters: {'tree_method': 'hist', 'max_depth': 7, 'learning_rate': 0.31551951108383686, 'n_estimators': 717, 'min_child_weight': 4, 'gamma': 0.352538290137301, 'subsample': 0.85, 'colsample_bytree': 0.8, 'reg_alpha': 0.47756105180371716, 'reg_lambda': 0.674078845191346, 'random_state': 231}. Best is trial 23 with value: 245.49391084430485.\n"
     ]
    },
    {
     "name": "stdout",
     "output_type": "stream",
     "text": [
      "Fold 10 MAE: 262.6247451192333\n",
      "Mean MAE for all Folds: 261.40118542122525\n",
      "Optimization complete!\n"
     ]
    }
   ],
   "source": [
    "study1 = optuna.create_study(direction=\"minimize\")\n",
    "\n",
    "# Optimize the objective function\n",
    "print(\"Optimizing hyperparameters...\")\n",
    "study1.optimize(get_objective(X=X_1,y=y_1 ), n_trials=30)\n",
    "print(\"Optimization complete!\")\n",
    "\n",
    "predictor1 = XGBRegressor(**study1.best_params).fit(X_1, y_1)\n"
   ]
  },
  {
   "cell_type": "code",
   "execution_count": 11,
   "metadata": {},
   "outputs": [],
   "source": [
    "X_2, y_2 = df2_0[[c for c in df2_0.columns if \"pv_measurement\" != c]], df2_0[\"pv_measurement\"]"
   ]
  },
  {
   "cell_type": "code",
   "execution_count": 12,
   "metadata": {},
   "outputs": [
    {
     "name": "stderr",
     "output_type": "stream",
     "text": [
      "[I 2023-11-09 12:44:37,336] A new study created in memory with name: no-name-6d9c5b7b-d3c2-4567-893e-729293c85982\n",
      "/var/folders/y8/9glnt_6110xftbsjpdqd12280000gp/T/ipykernel_3270/1140765383.py:16: FutureWarning: suggest_discrete_uniform has been deprecated in v3.0.0. This feature will be removed in v6.0.0. See https://github.com/optuna/optuna/releases/tag/v3.0.0. Use suggest_float(..., step=...) instead.\n",
      "  \"subsample\": trial.suggest_discrete_uniform(\"subsample\", 0.6, 1.0, 0.05),  # Reduce the range\n",
      "/var/folders/y8/9glnt_6110xftbsjpdqd12280000gp/T/ipykernel_3270/1140765383.py:17: FutureWarning: suggest_discrete_uniform has been deprecated in v3.0.0. This feature will be removed in v6.0.0. See https://github.com/optuna/optuna/releases/tag/v3.0.0. Use suggest_float(..., step=...) instead.\n",
      "  \"colsample_bytree\": trial.suggest_discrete_uniform(\"colsample_bytree\", 0.6, 1.0, 0.05),  # Reduce the range\n"
     ]
    },
    {
     "name": "stdout",
     "output_type": "stream",
     "text": [
      "Optimizing hyperparameters...\n",
      "Training Fold 1...\n",
      "Fold 1 MAE: 47.818905619852615\n",
      "Training Fold 2...\n",
      "Fold 2 MAE: 40.99605185371725\n",
      "Training Fold 3...\n",
      "Fold 3 MAE: 40.83230637785472\n",
      "Training Fold 4...\n",
      "Fold 4 MAE: 44.117366828501076\n",
      "Training Fold 5...\n",
      "Fold 5 MAE: 44.746223185309645\n",
      "Training Fold 6...\n",
      "Fold 6 MAE: 44.73780386376908\n",
      "Training Fold 7...\n",
      "Fold 7 MAE: 44.900588346857\n",
      "Training Fold 8...\n",
      "Fold 8 MAE: 43.52663494904538\n",
      "Training Fold 9...\n",
      "Fold 9 MAE: 45.02981395459154\n",
      "Training Fold 10...\n"
     ]
    },
    {
     "name": "stderr",
     "output_type": "stream",
     "text": [
      "[I 2023-11-09 12:44:48,524] Trial 0 finished with value: 44.15456502281014 and parameters: {'tree_method': 'hist', 'max_depth': 5, 'learning_rate': 0.2633383644116773, 'n_estimators': 243, 'min_child_weight': 8, 'gamma': 0.46292481405748465, 'subsample': 0.8, 'colsample_bytree': 0.6, 'reg_alpha': 0.41652034361955287, 'reg_lambda': 0.8954073610978595, 'random_state': 588}. Best is trial 0 with value: 44.15456502281014.\n"
     ]
    },
    {
     "name": "stdout",
     "output_type": "stream",
     "text": [
      "Fold 10 MAE: 44.83995524860315\n",
      "Mean MAE for all Folds: 44.15456502281014\n",
      "Training Fold 1...\n"
     ]
    },
    {
     "name": "stderr",
     "output_type": "stream",
     "text": [
      "/var/folders/y8/9glnt_6110xftbsjpdqd12280000gp/T/ipykernel_3270/1140765383.py:16: FutureWarning: suggest_discrete_uniform has been deprecated in v3.0.0. This feature will be removed in v6.0.0. See https://github.com/optuna/optuna/releases/tag/v3.0.0. Use suggest_float(..., step=...) instead.\n",
      "  \"subsample\": trial.suggest_discrete_uniform(\"subsample\", 0.6, 1.0, 0.05),  # Reduce the range\n",
      "/var/folders/y8/9glnt_6110xftbsjpdqd12280000gp/T/ipykernel_3270/1140765383.py:17: FutureWarning: suggest_discrete_uniform has been deprecated in v3.0.0. This feature will be removed in v6.0.0. See https://github.com/optuna/optuna/releases/tag/v3.0.0. Use suggest_float(..., step=...) instead.\n",
      "  \"colsample_bytree\": trial.suggest_discrete_uniform(\"colsample_bytree\", 0.6, 1.0, 0.05),  # Reduce the range\n"
     ]
    },
    {
     "name": "stdout",
     "output_type": "stream",
     "text": [
      "Fold 1 MAE: 58.634366139457505\n",
      "Training Fold 2...\n",
      "Fold 2 MAE: 49.09882255987423\n",
      "Training Fold 3...\n",
      "Fold 3 MAE: 50.22110048671177\n",
      "Training Fold 4...\n",
      "Fold 4 MAE: 52.971445010907296\n",
      "Training Fold 5...\n",
      "Fold 5 MAE: 55.57232045779225\n",
      "Training Fold 6...\n",
      "Fold 6 MAE: 54.28634967079751\n",
      "Training Fold 7...\n",
      "Fold 7 MAE: 53.51246905170886\n",
      "Training Fold 8...\n",
      "Fold 8 MAE: 50.846157666687226\n",
      "Training Fold 9...\n",
      "Fold 9 MAE: 54.68904525924368\n",
      "Training Fold 10...\n"
     ]
    },
    {
     "name": "stderr",
     "output_type": "stream",
     "text": [
      "[I 2023-11-09 12:45:54,552] Trial 1 finished with value: 53.42073133608092 and parameters: {'tree_method': 'approx', 'max_depth': 6, 'learning_rate': 0.9133583616541661, 'n_estimators': 752, 'min_child_weight': 1, 'gamma': 0.4344953232104498, 'subsample': 0.95, 'colsample_bytree': 0.6, 'reg_alpha': 0.9687119371515344, 'reg_lambda': 0.4666382714275223, 'random_state': 337}. Best is trial 0 with value: 44.15456502281014.\n"
     ]
    },
    {
     "name": "stdout",
     "output_type": "stream",
     "text": [
      "Fold 10 MAE: 54.37523705762875\n",
      "Mean MAE for all Folds: 53.42073133608092\n",
      "Training Fold 1...\n"
     ]
    },
    {
     "name": "stderr",
     "output_type": "stream",
     "text": [
      "/var/folders/y8/9glnt_6110xftbsjpdqd12280000gp/T/ipykernel_3270/1140765383.py:16: FutureWarning: suggest_discrete_uniform has been deprecated in v3.0.0. This feature will be removed in v6.0.0. See https://github.com/optuna/optuna/releases/tag/v3.0.0. Use suggest_float(..., step=...) instead.\n",
      "  \"subsample\": trial.suggest_discrete_uniform(\"subsample\", 0.6, 1.0, 0.05),  # Reduce the range\n",
      "/var/folders/y8/9glnt_6110xftbsjpdqd12280000gp/T/ipykernel_3270/1140765383.py:17: FutureWarning: suggest_discrete_uniform has been deprecated in v3.0.0. This feature will be removed in v6.0.0. See https://github.com/optuna/optuna/releases/tag/v3.0.0. Use suggest_float(..., step=...) instead.\n",
      "  \"colsample_bytree\": trial.suggest_discrete_uniform(\"colsample_bytree\", 0.6, 1.0, 0.05),  # Reduce the range\n"
     ]
    },
    {
     "name": "stdout",
     "output_type": "stream",
     "text": [
      "Fold 1 MAE: 43.71198064101141\n",
      "Training Fold 2...\n",
      "Fold 2 MAE: 37.784745709095745\n",
      "Training Fold 3...\n",
      "Fold 3 MAE: 37.8508734414563\n",
      "Training Fold 4...\n",
      "Fold 4 MAE: 41.122523210591595\n",
      "Training Fold 5...\n",
      "Fold 5 MAE: 40.70056419177743\n",
      "Training Fold 6...\n",
      "Fold 6 MAE: 40.34928060972087\n",
      "Training Fold 7...\n",
      "Fold 7 MAE: 40.93908433852082\n",
      "Training Fold 8...\n",
      "Fold 8 MAE: 39.79766230012074\n",
      "Training Fold 9...\n",
      "Fold 9 MAE: 41.76057390220602\n",
      "Training Fold 10...\n"
     ]
    },
    {
     "name": "stderr",
     "output_type": "stream",
     "text": [
      "[I 2023-11-09 12:47:35,284] Trial 2 finished with value: 40.5729379484549 and parameters: {'tree_method': 'hist', 'max_depth': 10, 'learning_rate': 0.19430315986328572, 'n_estimators': 796, 'min_child_weight': 4, 'gamma': 0.44312583709611175, 'subsample': 0.85, 'colsample_bytree': 0.8, 'reg_alpha': 0.22239904640091782, 'reg_lambda': 0.41954419932713594, 'random_state': 405}. Best is trial 2 with value: 40.5729379484549.\n"
     ]
    },
    {
     "name": "stdout",
     "output_type": "stream",
     "text": [
      "Fold 10 MAE: 41.71209114004801\n",
      "Mean MAE for all Folds: 40.5729379484549\n",
      "Training Fold 1...\n"
     ]
    },
    {
     "name": "stderr",
     "output_type": "stream",
     "text": [
      "/var/folders/y8/9glnt_6110xftbsjpdqd12280000gp/T/ipykernel_3270/1140765383.py:16: FutureWarning: suggest_discrete_uniform has been deprecated in v3.0.0. This feature will be removed in v6.0.0. See https://github.com/optuna/optuna/releases/tag/v3.0.0. Use suggest_float(..., step=...) instead.\n",
      "  \"subsample\": trial.suggest_discrete_uniform(\"subsample\", 0.6, 1.0, 0.05),  # Reduce the range\n",
      "/var/folders/y8/9glnt_6110xftbsjpdqd12280000gp/T/ipykernel_3270/1140765383.py:17: FutureWarning: suggest_discrete_uniform has been deprecated in v3.0.0. This feature will be removed in v6.0.0. See https://github.com/optuna/optuna/releases/tag/v3.0.0. Use suggest_float(..., step=...) instead.\n",
      "  \"colsample_bytree\": trial.suggest_discrete_uniform(\"colsample_bytree\", 0.6, 1.0, 0.05),  # Reduce the range\n"
     ]
    },
    {
     "name": "stdout",
     "output_type": "stream",
     "text": [
      "Fold 1 MAE: 48.0346664140898\n",
      "Training Fold 2...\n",
      "Fold 2 MAE: 41.10299403096786\n",
      "Training Fold 3...\n",
      "Fold 3 MAE: 42.73612818872586\n",
      "Training Fold 4...\n",
      "Fold 4 MAE: 44.44118129889243\n",
      "Training Fold 5...\n",
      "Fold 5 MAE: 45.11257626309541\n",
      "Training Fold 6...\n",
      "Fold 6 MAE: 44.63342711022555\n",
      "Training Fold 7...\n",
      "Fold 7 MAE: 44.43948220356271\n",
      "Training Fold 8...\n",
      "Fold 8 MAE: 43.28479805560778\n",
      "Training Fold 9...\n",
      "Fold 9 MAE: 45.66371253685759\n",
      "Training Fold 10...\n"
     ]
    },
    {
     "name": "stderr",
     "output_type": "stream",
     "text": [
      "[I 2023-11-09 12:58:24,130] Trial 3 finished with value: 44.47155199608565 and parameters: {'tree_method': 'hist', 'max_depth': 5, 'learning_rate': 0.01037978156965631, 'n_estimators': 817, 'min_child_weight': 1, 'gamma': 0.7702334205373254, 'subsample': 0.7, 'colsample_bytree': 0.9, 'reg_alpha': 0.32042026042402433, 'reg_lambda': 0.2961458257807926, 'random_state': 614}. Best is trial 2 with value: 40.5729379484549.\n"
     ]
    },
    {
     "name": "stdout",
     "output_type": "stream",
     "text": [
      "Fold 10 MAE: 45.26655385883149\n",
      "Mean MAE for all Folds: 44.47155199608565\n",
      "Training Fold 1...\n"
     ]
    },
    {
     "name": "stderr",
     "output_type": "stream",
     "text": [
      "/var/folders/y8/9glnt_6110xftbsjpdqd12280000gp/T/ipykernel_3270/1140765383.py:16: FutureWarning: suggest_discrete_uniform has been deprecated in v3.0.0. This feature will be removed in v6.0.0. See https://github.com/optuna/optuna/releases/tag/v3.0.0. Use suggest_float(..., step=...) instead.\n",
      "  \"subsample\": trial.suggest_discrete_uniform(\"subsample\", 0.6, 1.0, 0.05),  # Reduce the range\n",
      "/var/folders/y8/9glnt_6110xftbsjpdqd12280000gp/T/ipykernel_3270/1140765383.py:17: FutureWarning: suggest_discrete_uniform has been deprecated in v3.0.0. This feature will be removed in v6.0.0. See https://github.com/optuna/optuna/releases/tag/v3.0.0. Use suggest_float(..., step=...) instead.\n",
      "  \"colsample_bytree\": trial.suggest_discrete_uniform(\"colsample_bytree\", 0.6, 1.0, 0.05),  # Reduce the range\n"
     ]
    },
    {
     "name": "stdout",
     "output_type": "stream",
     "text": [
      "Fold 1 MAE: 44.69225052311677\n",
      "Training Fold 2...\n",
      "Fold 2 MAE: 38.84395485230499\n",
      "Training Fold 3...\n",
      "Fold 3 MAE: 39.35292744814915\n",
      "Training Fold 4...\n",
      "Fold 4 MAE: 41.62500923995326\n",
      "Training Fold 5...\n",
      "Fold 5 MAE: 41.892354367364625\n",
      "Training Fold 6...\n",
      "Fold 6 MAE: 42.01973797373728\n",
      "Training Fold 7...\n",
      "Fold 7 MAE: 41.68105331459667\n",
      "Training Fold 8...\n",
      "Fold 8 MAE: 41.567839792883234\n",
      "Training Fold 9...\n",
      "Fold 9 MAE: 44.33623681760494\n",
      "Training Fold 10...\n"
     ]
    },
    {
     "name": "stderr",
     "output_type": "stream",
     "text": [
      "[I 2023-11-09 12:59:12,047] Trial 4 finished with value: 41.88957190809963 and parameters: {'tree_method': 'hist', 'max_depth': 6, 'learning_rate': 0.17291743176135507, 'n_estimators': 661, 'min_child_weight': 6, 'gamma': 0.32620964612887937, 'subsample': 0.9, 'colsample_bytree': 0.9, 'reg_alpha': 0.6686649142688408, 'reg_lambda': 0.8235253015785712, 'random_state': 454}. Best is trial 2 with value: 40.5729379484549.\n"
     ]
    },
    {
     "name": "stdout",
     "output_type": "stream",
     "text": [
      "Fold 10 MAE: 42.88435475128544\n",
      "Mean MAE for all Folds: 41.88957190809963\n",
      "Training Fold 1...\n"
     ]
    },
    {
     "name": "stderr",
     "output_type": "stream",
     "text": [
      "/var/folders/y8/9glnt_6110xftbsjpdqd12280000gp/T/ipykernel_3270/1140765383.py:16: FutureWarning: suggest_discrete_uniform has been deprecated in v3.0.0. This feature will be removed in v6.0.0. See https://github.com/optuna/optuna/releases/tag/v3.0.0. Use suggest_float(..., step=...) instead.\n",
      "  \"subsample\": trial.suggest_discrete_uniform(\"subsample\", 0.6, 1.0, 0.05),  # Reduce the range\n",
      "/var/folders/y8/9glnt_6110xftbsjpdqd12280000gp/T/ipykernel_3270/1140765383.py:17: FutureWarning: suggest_discrete_uniform has been deprecated in v3.0.0. This feature will be removed in v6.0.0. See https://github.com/optuna/optuna/releases/tag/v3.0.0. Use suggest_float(..., step=...) instead.\n",
      "  \"colsample_bytree\": trial.suggest_discrete_uniform(\"colsample_bytree\", 0.6, 1.0, 0.05),  # Reduce the range\n"
     ]
    },
    {
     "name": "stdout",
     "output_type": "stream",
     "text": [
      "Fold 1 MAE: 43.25405942904603\n",
      "Training Fold 2...\n",
      "Fold 2 MAE: 37.33912619017395\n",
      "Training Fold 3...\n",
      "Fold 3 MAE: 39.072422287458416\n",
      "Training Fold 4...\n",
      "Fold 4 MAE: 40.626091168874154\n",
      "Training Fold 5...\n",
      "Fold 5 MAE: 40.41349366377035\n",
      "Training Fold 6...\n",
      "Fold 6 MAE: 40.281230772276004\n",
      "Training Fold 7...\n",
      "Fold 7 MAE: 40.271779507882606\n",
      "Training Fold 8...\n",
      "Fold 8 MAE: 39.27529806816533\n",
      "Training Fold 9...\n",
      "Fold 9 MAE: 41.72951763237931\n",
      "Training Fold 10...\n"
     ]
    },
    {
     "name": "stderr",
     "output_type": "stream",
     "text": [
      "[I 2023-11-09 12:59:47,527] Trial 5 finished with value: 40.402372351660965 and parameters: {'tree_method': 'hist', 'max_depth': 10, 'learning_rate': 0.03742261473013328, 'n_estimators': 267, 'min_child_weight': 2, 'gamma': 0.4887796457250334, 'subsample': 0.9, 'colsample_bytree': 0.85, 'reg_alpha': 0.39245359884610465, 'reg_lambda': 0.5222621664583069, 'random_state': 743}. Best is trial 5 with value: 40.402372351660965.\n"
     ]
    },
    {
     "name": "stdout",
     "output_type": "stream",
     "text": [
      "Fold 10 MAE: 41.76070479658349\n",
      "Mean MAE for all Folds: 40.402372351660965\n",
      "Training Fold 1...\n"
     ]
    },
    {
     "name": "stderr",
     "output_type": "stream",
     "text": [
      "/var/folders/y8/9glnt_6110xftbsjpdqd12280000gp/T/ipykernel_3270/1140765383.py:16: FutureWarning: suggest_discrete_uniform has been deprecated in v3.0.0. This feature will be removed in v6.0.0. See https://github.com/optuna/optuna/releases/tag/v3.0.0. Use suggest_float(..., step=...) instead.\n",
      "  \"subsample\": trial.suggest_discrete_uniform(\"subsample\", 0.6, 1.0, 0.05),  # Reduce the range\n",
      "/var/folders/y8/9glnt_6110xftbsjpdqd12280000gp/T/ipykernel_3270/1140765383.py:17: FutureWarning: suggest_discrete_uniform has been deprecated in v3.0.0. This feature will be removed in v6.0.0. See https://github.com/optuna/optuna/releases/tag/v3.0.0. Use suggest_float(..., step=...) instead.\n",
      "  \"colsample_bytree\": trial.suggest_discrete_uniform(\"colsample_bytree\", 0.6, 1.0, 0.05),  # Reduce the range\n"
     ]
    },
    {
     "name": "stdout",
     "output_type": "stream",
     "text": [
      "Fold 1 MAE: 56.42492052737593\n",
      "Training Fold 2...\n",
      "Fold 2 MAE: 51.9104188146375\n",
      "Training Fold 3...\n",
      "Fold 3 MAE: 52.36583271446027\n",
      "Training Fold 4...\n",
      "Fold 4 MAE: 54.18000308212495\n",
      "Training Fold 5...\n",
      "Fold 5 MAE: 53.216005243909855\n",
      "Training Fold 6...\n",
      "Fold 6 MAE: 53.14713259393292\n",
      "Training Fold 7...\n",
      "Fold 7 MAE: 53.04742720140087\n",
      "Training Fold 8...\n",
      "Fold 8 MAE: 53.705922882335024\n",
      "Training Fold 9...\n",
      "Fold 9 MAE: 55.888360216269675\n",
      "Training Fold 10...\n"
     ]
    },
    {
     "name": "stderr",
     "output_type": "stream",
     "text": [
      "[I 2023-11-09 13:00:19,877] Trial 6 finished with value: 53.97803739489816 and parameters: {'tree_method': 'approx', 'max_depth': 5, 'learning_rate': 0.9720596559904624, 'n_estimators': 460, 'min_child_weight': 5, 'gamma': 0.8455792225546029, 'subsample': 0.8, 'colsample_bytree': 0.8, 'reg_alpha': 0.4941024087906871, 'reg_lambda': 0.9831435772713772, 'random_state': 219}. Best is trial 5 with value: 40.402372351660965.\n"
     ]
    },
    {
     "name": "stdout",
     "output_type": "stream",
     "text": [
      "Fold 10 MAE: 55.89435067253464\n",
      "Mean MAE for all Folds: 53.97803739489816\n",
      "Training Fold 1...\n"
     ]
    },
    {
     "name": "stderr",
     "output_type": "stream",
     "text": [
      "/var/folders/y8/9glnt_6110xftbsjpdqd12280000gp/T/ipykernel_3270/1140765383.py:16: FutureWarning: suggest_discrete_uniform has been deprecated in v3.0.0. This feature will be removed in v6.0.0. See https://github.com/optuna/optuna/releases/tag/v3.0.0. Use suggest_float(..., step=...) instead.\n",
      "  \"subsample\": trial.suggest_discrete_uniform(\"subsample\", 0.6, 1.0, 0.05),  # Reduce the range\n",
      "/var/folders/y8/9glnt_6110xftbsjpdqd12280000gp/T/ipykernel_3270/1140765383.py:17: FutureWarning: suggest_discrete_uniform has been deprecated in v3.0.0. This feature will be removed in v6.0.0. See https://github.com/optuna/optuna/releases/tag/v3.0.0. Use suggest_float(..., step=...) instead.\n",
      "  \"colsample_bytree\": trial.suggest_discrete_uniform(\"colsample_bytree\", 0.6, 1.0, 0.05),  # Reduce the range\n"
     ]
    },
    {
     "name": "stdout",
     "output_type": "stream",
     "text": [
      "Fold 1 MAE: 42.17369724254695\n",
      "Training Fold 2...\n",
      "Fold 2 MAE: 36.03544069853262\n",
      "Training Fold 3...\n",
      "Fold 3 MAE: 36.40439160225688\n",
      "Training Fold 4...\n",
      "Fold 4 MAE: 38.68154569712418\n",
      "Training Fold 5...\n",
      "Fold 5 MAE: 39.91131007080897\n",
      "Training Fold 6...\n",
      "Fold 6 MAE: 39.07534126109373\n",
      "Training Fold 7...\n",
      "Fold 7 MAE: 40.14396917462455\n",
      "Training Fold 8...\n",
      "Fold 8 MAE: 37.8071119675174\n",
      "Training Fold 9...\n",
      "Fold 9 MAE: 40.721048831264554\n",
      "Training Fold 10...\n"
     ]
    },
    {
     "name": "stderr",
     "output_type": "stream",
     "text": [
      "[I 2023-11-09 13:01:59,594] Trial 7 finished with value: 39.1855482651186 and parameters: {'tree_method': 'approx', 'max_depth': 9, 'learning_rate': 0.08313804957308857, 'n_estimators': 731, 'min_child_weight': 6, 'gamma': 0.41520106332252327, 'subsample': 0.8, 'colsample_bytree': 0.8, 'reg_alpha': 0.3458368931221576, 'reg_lambda': 0.663846461439977, 'random_state': 911}. Best is trial 7 with value: 39.1855482651186.\n"
     ]
    },
    {
     "name": "stdout",
     "output_type": "stream",
     "text": [
      "Fold 10 MAE: 40.90162610541611\n",
      "Mean MAE for all Folds: 39.1855482651186\n",
      "Training Fold 1...\n"
     ]
    },
    {
     "name": "stderr",
     "output_type": "stream",
     "text": [
      "/var/folders/y8/9glnt_6110xftbsjpdqd12280000gp/T/ipykernel_3270/1140765383.py:16: FutureWarning: suggest_discrete_uniform has been deprecated in v3.0.0. This feature will be removed in v6.0.0. See https://github.com/optuna/optuna/releases/tag/v3.0.0. Use suggest_float(..., step=...) instead.\n",
      "  \"subsample\": trial.suggest_discrete_uniform(\"subsample\", 0.6, 1.0, 0.05),  # Reduce the range\n",
      "/var/folders/y8/9glnt_6110xftbsjpdqd12280000gp/T/ipykernel_3270/1140765383.py:17: FutureWarning: suggest_discrete_uniform has been deprecated in v3.0.0. This feature will be removed in v6.0.0. See https://github.com/optuna/optuna/releases/tag/v3.0.0. Use suggest_float(..., step=...) instead.\n",
      "  \"colsample_bytree\": trial.suggest_discrete_uniform(\"colsample_bytree\", 0.6, 1.0, 0.05),  # Reduce the range\n"
     ]
    },
    {
     "name": "stdout",
     "output_type": "stream",
     "text": [
      "Fold 1 MAE: 49.35779128396985\n",
      "Training Fold 2...\n",
      "Fold 2 MAE: 43.699996200956186\n",
      "Training Fold 3...\n",
      "Fold 3 MAE: 44.36214620452851\n",
      "Training Fold 4...\n",
      "Fold 4 MAE: 45.80723886417153\n",
      "Training Fold 5...\n",
      "Fold 5 MAE: 48.21772448549777\n",
      "Training Fold 6...\n",
      "Fold 6 MAE: 46.49152109045997\n",
      "Training Fold 7...\n",
      "Fold 7 MAE: 45.605025202130356\n",
      "Training Fold 8...\n",
      "Fold 8 MAE: 45.850851467944615\n",
      "Training Fold 9...\n",
      "Fold 9 MAE: 48.35320521825505\n",
      "Training Fold 10...\n"
     ]
    },
    {
     "name": "stderr",
     "output_type": "stream",
     "text": [
      "[I 2023-11-09 13:02:25,639] Trial 8 finished with value: 46.51106340841231 and parameters: {'tree_method': 'approx', 'max_depth': 3, 'learning_rate': 0.5840350605492818, 'n_estimators': 566, 'min_child_weight': 1, 'gamma': 0.8610158857206197, 'subsample': 0.95, 'colsample_bytree': 0.75, 'reg_alpha': 0.6588898515100426, 'reg_lambda': 0.3688640354343837, 'random_state': 622}. Best is trial 7 with value: 39.1855482651186.\n"
     ]
    },
    {
     "name": "stdout",
     "output_type": "stream",
     "text": [
      "Fold 10 MAE: 47.36513406620927\n",
      "Mean MAE for all Folds: 46.51106340841231\n",
      "Training Fold 1...\n"
     ]
    },
    {
     "name": "stderr",
     "output_type": "stream",
     "text": [
      "/var/folders/y8/9glnt_6110xftbsjpdqd12280000gp/T/ipykernel_3270/1140765383.py:16: FutureWarning: suggest_discrete_uniform has been deprecated in v3.0.0. This feature will be removed in v6.0.0. See https://github.com/optuna/optuna/releases/tag/v3.0.0. Use suggest_float(..., step=...) instead.\n",
      "  \"subsample\": trial.suggest_discrete_uniform(\"subsample\", 0.6, 1.0, 0.05),  # Reduce the range\n",
      "/var/folders/y8/9glnt_6110xftbsjpdqd12280000gp/T/ipykernel_3270/1140765383.py:17: FutureWarning: suggest_discrete_uniform has been deprecated in v3.0.0. This feature will be removed in v6.0.0. See https://github.com/optuna/optuna/releases/tag/v3.0.0. Use suggest_float(..., step=...) instead.\n",
      "  \"colsample_bytree\": trial.suggest_discrete_uniform(\"colsample_bytree\", 0.6, 1.0, 0.05),  # Reduce the range\n"
     ]
    },
    {
     "name": "stdout",
     "output_type": "stream",
     "text": [
      "Fold 1 MAE: 50.562451128918745\n",
      "Training Fold 2...\n",
      "Fold 2 MAE: 43.30471073841525\n",
      "Training Fold 3...\n",
      "Fold 3 MAE: 44.11120071537237\n",
      "Training Fold 4...\n",
      "Fold 4 MAE: 46.09940536636212\n",
      "Training Fold 5...\n",
      "Fold 5 MAE: 47.80686752982242\n",
      "Training Fold 6...\n",
      "Fold 6 MAE: 47.60015688388357\n",
      "Training Fold 7...\n",
      "Fold 7 MAE: 46.533830787288586\n",
      "Training Fold 8...\n",
      "Fold 8 MAE: 46.13552126686201\n",
      "Training Fold 9...\n",
      "Fold 9 MAE: 48.25118418870114\n",
      "Training Fold 10...\n"
     ]
    },
    {
     "name": "stderr",
     "output_type": "stream",
     "text": [
      "[I 2023-11-09 13:07:23,249] Trial 9 finished with value: 46.81442728796037 and parameters: {'tree_method': 'approx', 'max_depth': 3, 'learning_rate': 0.06698004395172467, 'n_estimators': 811, 'min_child_weight': 7, 'gamma': 0.4256243741421871, 'subsample': 0.8, 'colsample_bytree': 0.65, 'reg_alpha': 0.4974052485156081, 'reg_lambda': 0.7750537378782615, 'random_state': 895}. Best is trial 7 with value: 39.1855482651186.\n"
     ]
    },
    {
     "name": "stdout",
     "output_type": "stream",
     "text": [
      "Fold 10 MAE: 47.73894427397748\n",
      "Mean MAE for all Folds: 46.81442728796037\n",
      "Training Fold 1...\n"
     ]
    },
    {
     "name": "stderr",
     "output_type": "stream",
     "text": [
      "/var/folders/y8/9glnt_6110xftbsjpdqd12280000gp/T/ipykernel_3270/1140765383.py:16: FutureWarning: suggest_discrete_uniform has been deprecated in v3.0.0. This feature will be removed in v6.0.0. See https://github.com/optuna/optuna/releases/tag/v3.0.0. Use suggest_float(..., step=...) instead.\n",
      "  \"subsample\": trial.suggest_discrete_uniform(\"subsample\", 0.6, 1.0, 0.05),  # Reduce the range\n",
      "/var/folders/y8/9glnt_6110xftbsjpdqd12280000gp/T/ipykernel_3270/1140765383.py:17: FutureWarning: suggest_discrete_uniform has been deprecated in v3.0.0. This feature will be removed in v6.0.0. See https://github.com/optuna/optuna/releases/tag/v3.0.0. Use suggest_float(..., step=...) instead.\n",
      "  \"colsample_bytree\": trial.suggest_discrete_uniform(\"colsample_bytree\", 0.6, 1.0, 0.05),  # Reduce the range\n"
     ]
    },
    {
     "name": "stdout",
     "output_type": "stream",
     "text": [
      "Fold 1 MAE: 48.54887882471755\n",
      "Training Fold 2...\n",
      "Fold 2 MAE: 41.42215033428025\n",
      "Training Fold 3...\n",
      "Fold 3 MAE: 42.39100556557015\n",
      "Training Fold 4...\n",
      "Fold 4 MAE: 45.12092853206603\n",
      "Training Fold 5...\n",
      "Fold 5 MAE: 46.23203128804246\n",
      "Training Fold 6...\n",
      "Fold 6 MAE: 46.2167318869943\n",
      "Training Fold 7...\n",
      "Fold 7 MAE: 44.321666770301846\n",
      "Training Fold 8...\n",
      "Fold 8 MAE: 44.22404767427906\n",
      "Training Fold 9...\n",
      "Fold 9 MAE: 46.78875652269134\n",
      "Training Fold 10...\n"
     ]
    },
    {
     "name": "stderr",
     "output_type": "stream",
     "text": [
      "[I 2023-11-09 13:13:14,315] Trial 10 finished with value: 45.031868647917996 and parameters: {'tree_method': 'approx', 'max_depth': 8, 'learning_rate': 0.39913616449657835, 'n_estimators': 994, 'min_child_weight': 10, 'gamma': 0.12316527283327916, 'subsample': 0.6, 'colsample_bytree': 0.7, 'reg_alpha': 0.041183192218757714, 'reg_lambda': 0.1026801833321388, 'random_state': 995}. Best is trial 7 with value: 39.1855482651186.\n"
     ]
    },
    {
     "name": "stdout",
     "output_type": "stream",
     "text": [
      "Fold 10 MAE: 45.05248908023695\n",
      "Mean MAE for all Folds: 45.031868647917996\n",
      "Training Fold 1...\n"
     ]
    },
    {
     "name": "stderr",
     "output_type": "stream",
     "text": [
      "/var/folders/y8/9glnt_6110xftbsjpdqd12280000gp/T/ipykernel_3270/1140765383.py:16: FutureWarning: suggest_discrete_uniform has been deprecated in v3.0.0. This feature will be removed in v6.0.0. See https://github.com/optuna/optuna/releases/tag/v3.0.0. Use suggest_float(..., step=...) instead.\n",
      "  \"subsample\": trial.suggest_discrete_uniform(\"subsample\", 0.6, 1.0, 0.05),  # Reduce the range\n",
      "/var/folders/y8/9glnt_6110xftbsjpdqd12280000gp/T/ipykernel_3270/1140765383.py:17: FutureWarning: suggest_discrete_uniform has been deprecated in v3.0.0. This feature will be removed in v6.0.0. See https://github.com/optuna/optuna/releases/tag/v3.0.0. Use suggest_float(..., step=...) instead.\n",
      "  \"colsample_bytree\": trial.suggest_discrete_uniform(\"colsample_bytree\", 0.6, 1.0, 0.05),  # Reduce the range\n"
     ]
    },
    {
     "name": "stdout",
     "output_type": "stream",
     "text": [
      "Fold 1 MAE: 44.96593059121454\n",
      "Training Fold 2...\n",
      "Fold 2 MAE: 39.21879061664013\n",
      "Training Fold 3...\n",
      "Fold 3 MAE: 40.44737117151545\n",
      "Training Fold 4...\n",
      "Fold 4 MAE: 41.635779160330706\n",
      "Training Fold 5...\n",
      "Fold 5 MAE: 40.91619045625841\n",
      "Training Fold 6...\n",
      "Fold 6 MAE: 41.285991734745906\n",
      "Training Fold 7...\n",
      "Fold 7 MAE: 42.16003247096703\n",
      "Training Fold 8...\n",
      "Fold 8 MAE: 40.9293144510756\n",
      "Training Fold 9...\n",
      "Fold 9 MAE: 43.087701162644684\n",
      "Training Fold 10...\n"
     ]
    },
    {
     "name": "stderr",
     "output_type": "stream",
     "text": [
      "[I 2023-11-09 13:16:56,464] Trial 11 finished with value: 41.731561962729835 and parameters: {'tree_method': 'hist', 'max_depth': 10, 'learning_rate': 0.030618679533995857, 'n_estimators': 142, 'min_child_weight': 3, 'gamma': 0.6723707625033825, 'subsample': 1.0, 'colsample_bytree': 1.0, 'reg_alpha': 0.21835457835636754, 'reg_lambda': 0.6399590052285672, 'random_state': 829}. Best is trial 7 with value: 39.1855482651186.\n"
     ]
    },
    {
     "name": "stdout",
     "output_type": "stream",
     "text": [
      "Fold 10 MAE: 42.66851781190584\n",
      "Mean MAE for all Folds: 41.731561962729835\n",
      "Training Fold 1...\n"
     ]
    },
    {
     "name": "stderr",
     "output_type": "stream",
     "text": [
      "/var/folders/y8/9glnt_6110xftbsjpdqd12280000gp/T/ipykernel_3270/1140765383.py:16: FutureWarning: suggest_discrete_uniform has been deprecated in v3.0.0. This feature will be removed in v6.0.0. See https://github.com/optuna/optuna/releases/tag/v3.0.0. Use suggest_float(..., step=...) instead.\n",
      "  \"subsample\": trial.suggest_discrete_uniform(\"subsample\", 0.6, 1.0, 0.05),  # Reduce the range\n",
      "/var/folders/y8/9glnt_6110xftbsjpdqd12280000gp/T/ipykernel_3270/1140765383.py:17: FutureWarning: suggest_discrete_uniform has been deprecated in v3.0.0. This feature will be removed in v6.0.0. See https://github.com/optuna/optuna/releases/tag/v3.0.0. Use suggest_float(..., step=...) instead.\n",
      "  \"colsample_bytree\": trial.suggest_discrete_uniform(\"colsample_bytree\", 0.6, 1.0, 0.05),  # Reduce the range\n"
     ]
    },
    {
     "name": "stdout",
     "output_type": "stream",
     "text": [
      "Fold 1 MAE: 44.663862435943265\n",
      "Training Fold 2...\n",
      "Fold 2 MAE: 39.83073088290464\n",
      "Training Fold 3...\n",
      "Fold 3 MAE: 41.53890670871916\n",
      "Training Fold 4...\n",
      "Fold 4 MAE: 43.50667738337797\n",
      "Training Fold 5...\n",
      "Fold 5 MAE: 42.939183456124574\n",
      "Training Fold 6...\n",
      "Fold 6 MAE: 41.08722112593207\n",
      "Training Fold 7...\n",
      "Fold 7 MAE: 44.36762663015374\n",
      "Training Fold 8...\n",
      "Fold 8 MAE: 41.68518222348653\n",
      "Training Fold 9...\n",
      "Fold 9 MAE: 43.90075597287637\n",
      "Training Fold 10...\n"
     ]
    },
    {
     "name": "stderr",
     "output_type": "stream",
     "text": [
      "[I 2023-11-09 13:22:08,667] Trial 12 finished with value: 42.6067617785921 and parameters: {'tree_method': 'approx', 'max_depth': 8, 'learning_rate': 0.32276864336407984, 'n_estimators': 349, 'min_child_weight': 3, 'gamma': 0.6524416804638202, 'subsample': 0.7, 'colsample_bytree': 0.9, 'reg_alpha': 0.3377378712683189, 'reg_lambda': 0.6192571756827552, 'random_state': 773}. Best is trial 7 with value: 39.1855482651186.\n"
     ]
    },
    {
     "name": "stdout",
     "output_type": "stream",
     "text": [
      "Fold 10 MAE: 42.54747096640268\n",
      "Mean MAE for all Folds: 42.6067617785921\n",
      "Training Fold 1...\n"
     ]
    },
    {
     "name": "stderr",
     "output_type": "stream",
     "text": [
      "/var/folders/y8/9glnt_6110xftbsjpdqd12280000gp/T/ipykernel_3270/1140765383.py:16: FutureWarning: suggest_discrete_uniform has been deprecated in v3.0.0. This feature will be removed in v6.0.0. See https://github.com/optuna/optuna/releases/tag/v3.0.0. Use suggest_float(..., step=...) instead.\n",
      "  \"subsample\": trial.suggest_discrete_uniform(\"subsample\", 0.6, 1.0, 0.05),  # Reduce the range\n",
      "/var/folders/y8/9glnt_6110xftbsjpdqd12280000gp/T/ipykernel_3270/1140765383.py:17: FutureWarning: suggest_discrete_uniform has been deprecated in v3.0.0. This feature will be removed in v6.0.0. See https://github.com/optuna/optuna/releases/tag/v3.0.0. Use suggest_float(..., step=...) instead.\n",
      "  \"colsample_bytree\": trial.suggest_discrete_uniform(\"colsample_bytree\", 0.6, 1.0, 0.05),  # Reduce the range\n"
     ]
    },
    {
     "name": "stdout",
     "output_type": "stream",
     "text": [
      "Fold 1 MAE: 44.86902146928858\n",
      "Training Fold 2...\n",
      "Fold 2 MAE: 39.28611100618\n",
      "Training Fold 3...\n",
      "Fold 3 MAE: 40.26076192653418\n",
      "Training Fold 4...\n",
      "Fold 4 MAE: 42.34083211166439\n",
      "Training Fold 5...\n",
      "Fold 5 MAE: 42.348068548923095\n",
      "Training Fold 6...\n",
      "Fold 6 MAE: 42.08039543664278\n",
      "Training Fold 7...\n",
      "Fold 7 MAE: 42.61862784754944\n",
      "Training Fold 8...\n",
      "Fold 8 MAE: 41.14615534282392\n",
      "Training Fold 9...\n",
      "Fold 9 MAE: 43.807609795255836\n",
      "Training Fold 10...\n"
     ]
    },
    {
     "name": "stderr",
     "output_type": "stream",
     "text": [
      "[I 2023-11-09 13:22:48,752] Trial 13 finished with value: 42.1979416845655 and parameters: {'tree_method': 'hist', 'max_depth': 9, 'learning_rate': 0.1660549252082011, 'n_estimators': 96, 'min_child_weight': 8, 'gamma': 0.9897192913151809, 'subsample': 0.7, 'colsample_bytree': 0.85, 'reg_alpha': 0.02085669289467862, 'reg_lambda': 0.6516697678244436, 'random_state': 743}. Best is trial 7 with value: 39.1855482651186.\n"
     ]
    },
    {
     "name": "stdout",
     "output_type": "stream",
     "text": [
      "Fold 10 MAE: 43.221833360792814\n",
      "Mean MAE for all Folds: 42.1979416845655\n",
      "Training Fold 1...\n"
     ]
    },
    {
     "name": "stderr",
     "output_type": "stream",
     "text": [
      "/var/folders/y8/9glnt_6110xftbsjpdqd12280000gp/T/ipykernel_3270/1140765383.py:16: FutureWarning: suggest_discrete_uniform has been deprecated in v3.0.0. This feature will be removed in v6.0.0. See https://github.com/optuna/optuna/releases/tag/v3.0.0. Use suggest_float(..., step=...) instead.\n",
      "  \"subsample\": trial.suggest_discrete_uniform(\"subsample\", 0.6, 1.0, 0.05),  # Reduce the range\n",
      "/var/folders/y8/9glnt_6110xftbsjpdqd12280000gp/T/ipykernel_3270/1140765383.py:17: FutureWarning: suggest_discrete_uniform has been deprecated in v3.0.0. This feature will be removed in v6.0.0. See https://github.com/optuna/optuna/releases/tag/v3.0.0. Use suggest_float(..., step=...) instead.\n",
      "  \"colsample_bytree\": trial.suggest_discrete_uniform(\"colsample_bytree\", 0.6, 1.0, 0.05),  # Reduce the range\n"
     ]
    },
    {
     "name": "stdout",
     "output_type": "stream",
     "text": [
      "Fold 1 MAE: 49.03842152013086\n",
      "Training Fold 2...\n",
      "Fold 2 MAE: 40.70970529630479\n",
      "Training Fold 3...\n",
      "Fold 3 MAE: 40.611478258788814\n",
      "Training Fold 4...\n",
      "Fold 4 MAE: 44.83079478060838\n",
      "Training Fold 5...\n",
      "Fold 5 MAE: 45.42582757768394\n",
      "Training Fold 6...\n",
      "Fold 6 MAE: 44.20773350464189\n",
      "Training Fold 7...\n",
      "Fold 7 MAE: 45.19244482613313\n",
      "Training Fold 8...\n",
      "Fold 8 MAE: 43.345146995928694\n",
      "Training Fold 9...\n",
      "Fold 9 MAE: 45.55009704234797\n",
      "Training Fold 10...\n"
     ]
    },
    {
     "name": "stderr",
     "output_type": "stream",
     "text": [
      "[I 2023-11-09 13:27:43,559] Trial 14 finished with value: 44.35969169442698 and parameters: {'tree_method': 'approx', 'max_depth': 8, 'learning_rate': 0.4452856670958059, 'n_estimators': 400, 'min_child_weight': 5, 'gamma': 0.5580460071640179, 'subsample': 0.85, 'colsample_bytree': 1.0, 'reg_alpha': 0.6164271382797087, 'reg_lambda': 0.5480115261558698, 'random_state': 949}. Best is trial 7 with value: 39.1855482651186.\n"
     ]
    },
    {
     "name": "stdout",
     "output_type": "stream",
     "text": [
      "Fold 10 MAE: 44.685267141701274\n",
      "Mean MAE for all Folds: 44.35969169442698\n",
      "Training Fold 1...\n"
     ]
    },
    {
     "name": "stderr",
     "output_type": "stream",
     "text": [
      "/var/folders/y8/9glnt_6110xftbsjpdqd12280000gp/T/ipykernel_3270/1140765383.py:16: FutureWarning: suggest_discrete_uniform has been deprecated in v3.0.0. This feature will be removed in v6.0.0. See https://github.com/optuna/optuna/releases/tag/v3.0.0. Use suggest_float(..., step=...) instead.\n",
      "  \"subsample\": trial.suggest_discrete_uniform(\"subsample\", 0.6, 1.0, 0.05),  # Reduce the range\n",
      "/var/folders/y8/9glnt_6110xftbsjpdqd12280000gp/T/ipykernel_3270/1140765383.py:17: FutureWarning: suggest_discrete_uniform has been deprecated in v3.0.0. This feature will be removed in v6.0.0. See https://github.com/optuna/optuna/releases/tag/v3.0.0. Use suggest_float(..., step=...) instead.\n",
      "  \"colsample_bytree\": trial.suggest_discrete_uniform(\"colsample_bytree\", 0.6, 1.0, 0.05),  # Reduce the range\n"
     ]
    },
    {
     "name": "stdout",
     "output_type": "stream",
     "text": [
      "Fold 1 MAE: 43.280640778231145\n",
      "Training Fold 2...\n",
      "Fold 2 MAE: 37.52581319348901\n",
      "Training Fold 3...\n",
      "Fold 3 MAE: 38.29776546957161\n",
      "Training Fold 4...\n",
      "Fold 4 MAE: 40.3802705918882\n",
      "Training Fold 5...\n",
      "Fold 5 MAE: 40.75372974087505\n",
      "Training Fold 6...\n",
      "Fold 6 MAE: 40.0403361335938\n",
      "Training Fold 7...\n",
      "Fold 7 MAE: 40.9459031852248\n",
      "Training Fold 8...\n",
      "Fold 8 MAE: 39.11626615945655\n",
      "Training Fold 9...\n",
      "Fold 9 MAE: 42.11575352447017\n",
      "Training Fold 10...\n"
     ]
    },
    {
     "name": "stderr",
     "output_type": "stream",
     "text": [
      "[I 2023-11-09 13:32:01,586] Trial 15 finished with value: 40.38796979863751 and parameters: {'tree_method': 'hist', 'max_depth': 9, 'learning_rate': 0.1378327316273521, 'n_estimators': 574, 'min_child_weight': 3, 'gamma': 0.2875367319239013, 'subsample': 0.9, 'colsample_bytree': 0.75, 'reg_alpha': 0.18748189059270987, 'reg_lambda': 0.7067732053898949, 'random_state': 717}. Best is trial 7 with value: 39.1855482651186.\n"
     ]
    },
    {
     "name": "stdout",
     "output_type": "stream",
     "text": [
      "Fold 10 MAE: 41.42321920957491\n",
      "Mean MAE for all Folds: 40.38796979863751\n",
      "Training Fold 1...\n"
     ]
    },
    {
     "name": "stderr",
     "output_type": "stream",
     "text": [
      "/var/folders/y8/9glnt_6110xftbsjpdqd12280000gp/T/ipykernel_3270/1140765383.py:16: FutureWarning: suggest_discrete_uniform has been deprecated in v3.0.0. This feature will be removed in v6.0.0. See https://github.com/optuna/optuna/releases/tag/v3.0.0. Use suggest_float(..., step=...) instead.\n",
      "  \"subsample\": trial.suggest_discrete_uniform(\"subsample\", 0.6, 1.0, 0.05),  # Reduce the range\n",
      "/var/folders/y8/9glnt_6110xftbsjpdqd12280000gp/T/ipykernel_3270/1140765383.py:17: FutureWarning: suggest_discrete_uniform has been deprecated in v3.0.0. This feature will be removed in v6.0.0. See https://github.com/optuna/optuna/releases/tag/v3.0.0. Use suggest_float(..., step=...) instead.\n",
      "  \"colsample_bytree\": trial.suggest_discrete_uniform(\"colsample_bytree\", 0.6, 1.0, 0.05),  # Reduce the range\n"
     ]
    },
    {
     "name": "stdout",
     "output_type": "stream",
     "text": [
      "Fold 1 MAE: 46.01335247589023\n",
      "Training Fold 2...\n",
      "Fold 2 MAE: 39.88571414372827\n",
      "Training Fold 3...\n",
      "Fold 3 MAE: 41.36440412563244\n",
      "Training Fold 4...\n",
      "Fold 4 MAE: 42.55829840467075\n",
      "Training Fold 5...\n",
      "Fold 5 MAE: 43.98254904966252\n",
      "Training Fold 6...\n",
      "Fold 6 MAE: 42.814861354565664\n",
      "Training Fold 7...\n",
      "Fold 7 MAE: 41.81410829936315\n",
      "Training Fold 8...\n",
      "Fold 8 MAE: 42.48696395768629\n",
      "Training Fold 9...\n",
      "Fold 9 MAE: 43.914173471836776\n",
      "Training Fold 10...\n"
     ]
    },
    {
     "name": "stderr",
     "output_type": "stream",
     "text": [
      "[I 2023-11-09 13:33:13,147] Trial 16 finished with value: 42.79112729013039 and parameters: {'tree_method': 'approx', 'max_depth': 9, 'learning_rate': 0.2957340049042293, 'n_estimators': 569, 'min_child_weight': 4, 'gamma': 0.25704414099105194, 'subsample': 0.75, 'colsample_bytree': 0.7, 'reg_alpha': 0.1576216901976245, 'reg_lambda': 0.7376362135426872, 'random_state': 48}. Best is trial 7 with value: 39.1855482651186.\n"
     ]
    },
    {
     "name": "stdout",
     "output_type": "stream",
     "text": [
      "Fold 10 MAE: 43.076847618267855\n",
      "Mean MAE for all Folds: 42.79112729013039\n",
      "Training Fold 1...\n"
     ]
    },
    {
     "name": "stderr",
     "output_type": "stream",
     "text": [
      "/var/folders/y8/9glnt_6110xftbsjpdqd12280000gp/T/ipykernel_3270/1140765383.py:16: FutureWarning: suggest_discrete_uniform has been deprecated in v3.0.0. This feature will be removed in v6.0.0. See https://github.com/optuna/optuna/releases/tag/v3.0.0. Use suggest_float(..., step=...) instead.\n",
      "  \"subsample\": trial.suggest_discrete_uniform(\"subsample\", 0.6, 1.0, 0.05),  # Reduce the range\n",
      "/var/folders/y8/9glnt_6110xftbsjpdqd12280000gp/T/ipykernel_3270/1140765383.py:17: FutureWarning: suggest_discrete_uniform has been deprecated in v3.0.0. This feature will be removed in v6.0.0. See https://github.com/optuna/optuna/releases/tag/v3.0.0. Use suggest_float(..., step=...) instead.\n",
      "  \"colsample_bytree\": trial.suggest_discrete_uniform(\"colsample_bytree\", 0.6, 1.0, 0.05),  # Reduce the range\n"
     ]
    },
    {
     "name": "stdout",
     "output_type": "stream",
     "text": [
      "Fold 1 MAE: 50.958505885923245\n",
      "Training Fold 2...\n",
      "Fold 2 MAE: 47.863982348965436\n",
      "Training Fold 3...\n",
      "Fold 3 MAE: 47.35240755888016\n",
      "Training Fold 4...\n",
      "Fold 4 MAE: 50.662349662850055\n",
      "Training Fold 5...\n",
      "Fold 5 MAE: 53.46589012573671\n",
      "Training Fold 6...\n",
      "Fold 6 MAE: 50.364712078573945\n",
      "Training Fold 7...\n",
      "Fold 7 MAE: 49.299699137449956\n",
      "Training Fold 8...\n",
      "Fold 8 MAE: 51.965996977778964\n",
      "Training Fold 9...\n",
      "Fold 9 MAE: 50.675722085215725\n",
      "Training Fold 10...\n"
     ]
    },
    {
     "name": "stderr",
     "output_type": "stream",
     "text": [
      "[I 2023-11-09 13:34:29,600] Trial 17 finished with value: 50.215893339911325 and parameters: {'tree_method': 'hist', 'max_depth': 9, 'learning_rate': 0.5572398740033642, 'n_estimators': 977, 'min_child_weight': 6, 'gamma': 0.2965650152377752, 'subsample': 0.6, 'colsample_bytree': 0.75, 'reg_alpha': 0.17681187104559606, 'reg_lambda': 0.7249607982160302, 'random_state': 863}. Best is trial 7 with value: 39.1855482651186.\n"
     ]
    },
    {
     "name": "stdout",
     "output_type": "stream",
     "text": [
      "Fold 10 MAE: 49.54966753773911\n",
      "Mean MAE for all Folds: 50.215893339911325\n",
      "Training Fold 1...\n"
     ]
    },
    {
     "name": "stderr",
     "output_type": "stream",
     "text": [
      "/var/folders/y8/9glnt_6110xftbsjpdqd12280000gp/T/ipykernel_3270/1140765383.py:16: FutureWarning: suggest_discrete_uniform has been deprecated in v3.0.0. This feature will be removed in v6.0.0. See https://github.com/optuna/optuna/releases/tag/v3.0.0. Use suggest_float(..., step=...) instead.\n",
      "  \"subsample\": trial.suggest_discrete_uniform(\"subsample\", 0.6, 1.0, 0.05),  # Reduce the range\n",
      "/var/folders/y8/9glnt_6110xftbsjpdqd12280000gp/T/ipykernel_3270/1140765383.py:17: FutureWarning: suggest_discrete_uniform has been deprecated in v3.0.0. This feature will be removed in v6.0.0. See https://github.com/optuna/optuna/releases/tag/v3.0.0. Use suggest_float(..., step=...) instead.\n",
      "  \"colsample_bytree\": trial.suggest_discrete_uniform(\"colsample_bytree\", 0.6, 1.0, 0.05),  # Reduce the range\n"
     ]
    },
    {
     "name": "stdout",
     "output_type": "stream",
     "text": [
      "Fold 1 MAE: 45.42321437148918\n",
      "Training Fold 2...\n",
      "Fold 2 MAE: 38.7804772678538\n",
      "Training Fold 3...\n",
      "Fold 3 MAE: 40.087423766565536\n",
      "Training Fold 4...\n",
      "Fold 4 MAE: 42.13049570090371\n",
      "Training Fold 5...\n",
      "Fold 5 MAE: 41.72765639059824\n",
      "Training Fold 6...\n",
      "Fold 6 MAE: 41.69946040502002\n",
      "Training Fold 7...\n",
      "Fold 7 MAE: 41.55205277183863\n",
      "Training Fold 8...\n",
      "Fold 8 MAE: 40.27438804930487\n",
      "Training Fold 9...\n",
      "Fold 9 MAE: 43.105939279078235\n",
      "Training Fold 10...\n"
     ]
    },
    {
     "name": "stderr",
     "output_type": "stream",
     "text": [
      "[I 2023-11-09 13:35:32,265] Trial 18 finished with value: 41.7430507675016 and parameters: {'tree_method': 'approx', 'max_depth': 7, 'learning_rate': 0.1253806548556276, 'n_estimators': 698, 'min_child_weight': 3, 'gamma': 0.15641730489098496, 'subsample': 1.0, 'colsample_bytree': 0.75, 'reg_alpha': 0.2727093842175692, 'reg_lambda': 0.8633929345257043, 'random_state': 691}. Best is trial 7 with value: 39.1855482651186.\n"
     ]
    },
    {
     "name": "stdout",
     "output_type": "stream",
     "text": [
      "Fold 10 MAE: 42.64939967236376\n",
      "Mean MAE for all Folds: 41.7430507675016\n",
      "Training Fold 1...\n"
     ]
    },
    {
     "name": "stderr",
     "output_type": "stream",
     "text": [
      "/var/folders/y8/9glnt_6110xftbsjpdqd12280000gp/T/ipykernel_3270/1140765383.py:16: FutureWarning: suggest_discrete_uniform has been deprecated in v3.0.0. This feature will be removed in v6.0.0. See https://github.com/optuna/optuna/releases/tag/v3.0.0. Use suggest_float(..., step=...) instead.\n",
      "  \"subsample\": trial.suggest_discrete_uniform(\"subsample\", 0.6, 1.0, 0.05),  # Reduce the range\n",
      "/var/folders/y8/9glnt_6110xftbsjpdqd12280000gp/T/ipykernel_3270/1140765383.py:17: FutureWarning: suggest_discrete_uniform has been deprecated in v3.0.0. This feature will be removed in v6.0.0. See https://github.com/optuna/optuna/releases/tag/v3.0.0. Use suggest_float(..., step=...) instead.\n",
      "  \"colsample_bytree\": trial.suggest_discrete_uniform(\"colsample_bytree\", 0.6, 1.0, 0.05),  # Reduce the range\n"
     ]
    },
    {
     "name": "stdout",
     "output_type": "stream",
     "text": [
      "Fold 1 MAE: 43.50384723938752\n",
      "Training Fold 2...\n",
      "Fold 2 MAE: 38.43077088217614\n",
      "Training Fold 3...\n",
      "Fold 3 MAE: 39.21950189661753\n",
      "Training Fold 4...\n",
      "Fold 4 MAE: 42.15625989993021\n",
      "Training Fold 5...\n",
      "Fold 5 MAE: 41.61993369559008\n",
      "Training Fold 6...\n",
      "Fold 6 MAE: 42.39174455965092\n",
      "Training Fold 7...\n",
      "Fold 7 MAE: 42.205376605486364\n",
      "Training Fold 8...\n",
      "Fold 8 MAE: 40.01990797737998\n",
      "Training Fold 9...\n",
      "Fold 9 MAE: 43.693256875217756\n",
      "Training Fold 10...\n"
     ]
    },
    {
     "name": "stderr",
     "output_type": "stream",
     "text": [
      "[I 2023-11-09 13:36:12,580] Trial 19 finished with value: 41.60234767529708 and parameters: {'tree_method': 'hist', 'max_depth': 7, 'learning_rate': 0.2297772603193322, 'n_estimators': 625, 'min_child_weight': 10, 'gamma': 0.22921153138770672, 'subsample': 0.85, 'colsample_bytree': 0.7, 'reg_alpha': 0.12492732481793535, 'reg_lambda': 0.9720935835370006, 'random_state': 521}. Best is trial 7 with value: 39.1855482651186.\n"
     ]
    },
    {
     "name": "stdout",
     "output_type": "stream",
     "text": [
      "Fold 10 MAE: 42.78287712153432\n",
      "Mean MAE for all Folds: 41.60234767529708\n",
      "Training Fold 1...\n"
     ]
    },
    {
     "name": "stderr",
     "output_type": "stream",
     "text": [
      "/var/folders/y8/9glnt_6110xftbsjpdqd12280000gp/T/ipykernel_3270/1140765383.py:16: FutureWarning: suggest_discrete_uniform has been deprecated in v3.0.0. This feature will be removed in v6.0.0. See https://github.com/optuna/optuna/releases/tag/v3.0.0. Use suggest_float(..., step=...) instead.\n",
      "  \"subsample\": trial.suggest_discrete_uniform(\"subsample\", 0.6, 1.0, 0.05),  # Reduce the range\n",
      "/var/folders/y8/9glnt_6110xftbsjpdqd12280000gp/T/ipykernel_3270/1140765383.py:17: FutureWarning: suggest_discrete_uniform has been deprecated in v3.0.0. This feature will be removed in v6.0.0. See https://github.com/optuna/optuna/releases/tag/v3.0.0. Use suggest_float(..., step=...) instead.\n",
      "  \"colsample_bytree\": trial.suggest_discrete_uniform(\"colsample_bytree\", 0.6, 1.0, 0.05),  # Reduce the range\n"
     ]
    },
    {
     "name": "stdout",
     "output_type": "stream",
     "text": [
      "Fold 1 MAE: 43.55991876746464\n",
      "Training Fold 2...\n",
      "Fold 2 MAE: 37.389184821155546\n",
      "Training Fold 3...\n",
      "Fold 3 MAE: 37.15495361000289\n",
      "Training Fold 4...\n",
      "Fold 4 MAE: 39.39228635182496\n",
      "Training Fold 5...\n",
      "Fold 5 MAE: 39.67708325277644\n",
      "Training Fold 6...\n",
      "Fold 6 MAE: 39.39135319476794\n",
      "Training Fold 7...\n",
      "Fold 7 MAE: 39.91735359021281\n",
      "Training Fold 8...\n",
      "Fold 8 MAE: 39.20490906416238\n",
      "Training Fold 9...\n",
      "Fold 9 MAE: 41.83391526178097\n",
      "Training Fold 10...\n"
     ]
    },
    {
     "name": "stderr",
     "output_type": "stream",
     "text": [
      "[I 2023-11-09 13:37:15,058] Trial 20 finished with value: 39.84369898924076 and parameters: {'tree_method': 'approx', 'max_depth': 9, 'learning_rate': 0.11724819147779811, 'n_estimators': 475, 'min_child_weight': 8, 'gamma': 0.3489128932728461, 'subsample': 0.75, 'colsample_bytree': 0.85, 'reg_alpha': 0.08865175755681602, 'reg_lambda': 0.7091339699710001, 'random_state': 847}. Best is trial 7 with value: 39.1855482651186.\n"
     ]
    },
    {
     "name": "stdout",
     "output_type": "stream",
     "text": [
      "Fold 10 MAE: 40.91603197825897\n",
      "Mean MAE for all Folds: 39.84369898924076\n",
      "Training Fold 1...\n"
     ]
    },
    {
     "name": "stderr",
     "output_type": "stream",
     "text": [
      "/var/folders/y8/9glnt_6110xftbsjpdqd12280000gp/T/ipykernel_3270/1140765383.py:16: FutureWarning: suggest_discrete_uniform has been deprecated in v3.0.0. This feature will be removed in v6.0.0. See https://github.com/optuna/optuna/releases/tag/v3.0.0. Use suggest_float(..., step=...) instead.\n",
      "  \"subsample\": trial.suggest_discrete_uniform(\"subsample\", 0.6, 1.0, 0.05),  # Reduce the range\n",
      "/var/folders/y8/9glnt_6110xftbsjpdqd12280000gp/T/ipykernel_3270/1140765383.py:17: FutureWarning: suggest_discrete_uniform has been deprecated in v3.0.0. This feature will be removed in v6.0.0. See https://github.com/optuna/optuna/releases/tag/v3.0.0. Use suggest_float(..., step=...) instead.\n",
      "  \"colsample_bytree\": trial.suggest_discrete_uniform(\"colsample_bytree\", 0.6, 1.0, 0.05),  # Reduce the range\n"
     ]
    },
    {
     "name": "stdout",
     "output_type": "stream",
     "text": [
      "Fold 1 MAE: 42.82018690687004\n",
      "Training Fold 2...\n",
      "Fold 2 MAE: 37.2865405240601\n",
      "Training Fold 3...\n",
      "Fold 3 MAE: 37.89448051822456\n",
      "Training Fold 4...\n",
      "Fold 4 MAE: 40.00986193216238\n",
      "Training Fold 5...\n",
      "Fold 5 MAE: 40.60613631761287\n",
      "Training Fold 6...\n",
      "Fold 6 MAE: 39.07643902429213\n",
      "Training Fold 7...\n",
      "Fold 7 MAE: 40.159535186099134\n",
      "Training Fold 8...\n",
      "Fold 8 MAE: 38.02899460766055\n",
      "Training Fold 9...\n",
      "Fold 9 MAE: 42.53861501248431\n",
      "Training Fold 10...\n"
     ]
    },
    {
     "name": "stderr",
     "output_type": "stream",
     "text": [
      "[I 2023-11-09 13:38:23,190] Trial 21 finished with value: 39.99976251112902 and parameters: {'tree_method': 'approx', 'max_depth': 9, 'learning_rate': 0.11446423593709287, 'n_estimators': 510, 'min_child_weight': 8, 'gamma': 0.34250047372857195, 'subsample': 0.75, 'colsample_bytree': 0.85, 'reg_alpha': 0.0990967812998163, 'reg_lambda': 0.6905808027297669, 'random_state': 859}. Best is trial 7 with value: 39.1855482651186.\n"
     ]
    },
    {
     "name": "stdout",
     "output_type": "stream",
     "text": [
      "Fold 10 MAE: 41.57683508182413\n",
      "Mean MAE for all Folds: 39.99976251112902\n",
      "Training Fold 1...\n"
     ]
    },
    {
     "name": "stderr",
     "output_type": "stream",
     "text": [
      "/var/folders/y8/9glnt_6110xftbsjpdqd12280000gp/T/ipykernel_3270/1140765383.py:16: FutureWarning: suggest_discrete_uniform has been deprecated in v3.0.0. This feature will be removed in v6.0.0. See https://github.com/optuna/optuna/releases/tag/v3.0.0. Use suggest_float(..., step=...) instead.\n",
      "  \"subsample\": trial.suggest_discrete_uniform(\"subsample\", 0.6, 1.0, 0.05),  # Reduce the range\n",
      "/var/folders/y8/9glnt_6110xftbsjpdqd12280000gp/T/ipykernel_3270/1140765383.py:17: FutureWarning: suggest_discrete_uniform has been deprecated in v3.0.0. This feature will be removed in v6.0.0. See https://github.com/optuna/optuna/releases/tag/v3.0.0. Use suggest_float(..., step=...) instead.\n",
      "  \"colsample_bytree\": trial.suggest_discrete_uniform(\"colsample_bytree\", 0.6, 1.0, 0.05),  # Reduce the range\n"
     ]
    },
    {
     "name": "stdout",
     "output_type": "stream",
     "text": [
      "Fold 1 MAE: 43.49974302118016\n",
      "Training Fold 2...\n",
      "Fold 2 MAE: 38.517705542123494\n",
      "Training Fold 3...\n",
      "Fold 3 MAE: 37.63790035567678\n",
      "Training Fold 4...\n",
      "Fold 4 MAE: 40.58638099852027\n",
      "Training Fold 5...\n",
      "Fold 5 MAE: 41.50406828897845\n",
      "Training Fold 6...\n",
      "Fold 6 MAE: 40.134637475774824\n",
      "Training Fold 7...\n",
      "Fold 7 MAE: 40.20743403175141\n",
      "Training Fold 8...\n",
      "Fold 8 MAE: 40.17764373616682\n",
      "Training Fold 9...\n",
      "Fold 9 MAE: 42.78021317768728\n",
      "Training Fold 10...\n"
     ]
    },
    {
     "name": "stderr",
     "output_type": "stream",
     "text": [
      "[I 2023-11-09 13:39:20,676] Trial 22 finished with value: 40.64908702978185 and parameters: {'tree_method': 'approx', 'max_depth': 8, 'learning_rate': 0.12251651019230175, 'n_estimators': 481, 'min_child_weight': 8, 'gamma': 0.33865241476088154, 'subsample': 0.75, 'colsample_bytree': 0.85, 'reg_alpha': 0.07667436870262719, 'reg_lambda': 0.5851706187802752, 'random_state': 932}. Best is trial 7 with value: 39.1855482651186.\n"
     ]
    },
    {
     "name": "stdout",
     "output_type": "stream",
     "text": [
      "Fold 10 MAE: 41.44514366995908\n",
      "Mean MAE for all Folds: 40.64908702978185\n",
      "Training Fold 1...\n"
     ]
    },
    {
     "name": "stderr",
     "output_type": "stream",
     "text": [
      "/var/folders/y8/9glnt_6110xftbsjpdqd12280000gp/T/ipykernel_3270/1140765383.py:16: FutureWarning: suggest_discrete_uniform has been deprecated in v3.0.0. This feature will be removed in v6.0.0. See https://github.com/optuna/optuna/releases/tag/v3.0.0. Use suggest_float(..., step=...) instead.\n",
      "  \"subsample\": trial.suggest_discrete_uniform(\"subsample\", 0.6, 1.0, 0.05),  # Reduce the range\n",
      "/var/folders/y8/9glnt_6110xftbsjpdqd12280000gp/T/ipykernel_3270/1140765383.py:17: FutureWarning: suggest_discrete_uniform has been deprecated in v3.0.0. This feature will be removed in v6.0.0. See https://github.com/optuna/optuna/releases/tag/v3.0.0. Use suggest_float(..., step=...) instead.\n",
      "  \"colsample_bytree\": trial.suggest_discrete_uniform(\"colsample_bytree\", 0.6, 1.0, 0.05),  # Reduce the range\n"
     ]
    },
    {
     "name": "stdout",
     "output_type": "stream",
     "text": [
      "Fold 1 MAE: 42.18635897266756\n",
      "Training Fold 2...\n",
      "Fold 2 MAE: 37.3417572642357\n",
      "Training Fold 3...\n",
      "Fold 3 MAE: 36.64593656345287\n",
      "Training Fold 4...\n",
      "Fold 4 MAE: 39.5843296235489\n",
      "Training Fold 5...\n",
      "Fold 5 MAE: 39.7382019125315\n",
      "Training Fold 6...\n",
      "Fold 6 MAE: 39.73226826484551\n",
      "Training Fold 7...\n",
      "Fold 7 MAE: 40.374956426915396\n",
      "Training Fold 8...\n",
      "Fold 8 MAE: 38.834938052132365\n",
      "Training Fold 9...\n",
      "Fold 9 MAE: 41.272451704376664\n",
      "Training Fold 10...\n"
     ]
    },
    {
     "name": "stderr",
     "output_type": "stream",
     "text": [
      "[I 2023-11-09 13:40:19,807] Trial 23 finished with value: 39.63480653254162 and parameters: {'tree_method': 'approx', 'max_depth': 10, 'learning_rate': 0.0854470471903779, 'n_estimators': 389, 'min_child_weight': 9, 'gamma': 0.3634362553189734, 'subsample': 0.65, 'colsample_bytree': 0.95, 'reg_alpha': 0.10282575842710548, 'reg_lambda': 0.7774064831262827, 'random_state': 822}. Best is trial 7 with value: 39.1855482651186.\n"
     ]
    },
    {
     "name": "stdout",
     "output_type": "stream",
     "text": [
      "Fold 10 MAE: 40.63686654070963\n",
      "Mean MAE for all Folds: 39.63480653254162\n",
      "Training Fold 1...\n"
     ]
    },
    {
     "name": "stderr",
     "output_type": "stream",
     "text": [
      "/var/folders/y8/9glnt_6110xftbsjpdqd12280000gp/T/ipykernel_3270/1140765383.py:16: FutureWarning: suggest_discrete_uniform has been deprecated in v3.0.0. This feature will be removed in v6.0.0. See https://github.com/optuna/optuna/releases/tag/v3.0.0. Use suggest_float(..., step=...) instead.\n",
      "  \"subsample\": trial.suggest_discrete_uniform(\"subsample\", 0.6, 1.0, 0.05),  # Reduce the range\n",
      "/var/folders/y8/9glnt_6110xftbsjpdqd12280000gp/T/ipykernel_3270/1140765383.py:17: FutureWarning: suggest_discrete_uniform has been deprecated in v3.0.0. This feature will be removed in v6.0.0. See https://github.com/optuna/optuna/releases/tag/v3.0.0. Use suggest_float(..., step=...) instead.\n",
      "  \"colsample_bytree\": trial.suggest_discrete_uniform(\"colsample_bytree\", 0.6, 1.0, 0.05),  # Reduce the range\n"
     ]
    },
    {
     "name": "stdout",
     "output_type": "stream",
     "text": [
      "Fold 1 MAE: 44.0363230313106\n",
      "Training Fold 2...\n",
      "Fold 2 MAE: 39.494502392891754\n",
      "Training Fold 3...\n",
      "Fold 3 MAE: 39.891554315951375\n",
      "Training Fold 4...\n",
      "Fold 4 MAE: 42.468440384631094\n",
      "Training Fold 5...\n",
      "Fold 5 MAE: 42.154814241914266\n",
      "Training Fold 6...\n",
      "Fold 6 MAE: 41.56799457303963\n",
      "Training Fold 7...\n",
      "Fold 7 MAE: 40.660317071346284\n",
      "Training Fold 8...\n",
      "Fold 8 MAE: 39.618784939692766\n",
      "Training Fold 9...\n",
      "Fold 9 MAE: 42.984270553021936\n",
      "Training Fold 10...\n"
     ]
    },
    {
     "name": "stderr",
     "output_type": "stream",
     "text": [
      "[I 2023-11-09 13:41:15,880] Trial 24 finished with value: 41.44739241578392 and parameters: {'tree_method': 'approx', 'max_depth': 10, 'learning_rate': 0.2294061941971311, 'n_estimators': 352, 'min_child_weight': 9, 'gamma': 0.39742597451616674, 'subsample': 0.65, 'colsample_bytree': 0.95, 'reg_alpha': 0.10830542159023407, 'reg_lambda': 0.797888948942206, 'random_state': 807}. Best is trial 7 with value: 39.1855482651186.\n"
     ]
    },
    {
     "name": "stdout",
     "output_type": "stream",
     "text": [
      "Fold 10 MAE: 41.59692265403952\n",
      "Mean MAE for all Folds: 41.44739241578392\n",
      "Training Fold 1...\n"
     ]
    },
    {
     "name": "stderr",
     "output_type": "stream",
     "text": [
      "/var/folders/y8/9glnt_6110xftbsjpdqd12280000gp/T/ipykernel_3270/1140765383.py:16: FutureWarning: suggest_discrete_uniform has been deprecated in v3.0.0. This feature will be removed in v6.0.0. See https://github.com/optuna/optuna/releases/tag/v3.0.0. Use suggest_float(..., step=...) instead.\n",
      "  \"subsample\": trial.suggest_discrete_uniform(\"subsample\", 0.6, 1.0, 0.05),  # Reduce the range\n",
      "/var/folders/y8/9glnt_6110xftbsjpdqd12280000gp/T/ipykernel_3270/1140765383.py:17: FutureWarning: suggest_discrete_uniform has been deprecated in v3.0.0. This feature will be removed in v6.0.0. See https://github.com/optuna/optuna/releases/tag/v3.0.0. Use suggest_float(..., step=...) instead.\n",
      "  \"colsample_bytree\": trial.suggest_discrete_uniform(\"colsample_bytree\", 0.6, 1.0, 0.05),  # Reduce the range\n"
     ]
    },
    {
     "name": "stdout",
     "output_type": "stream",
     "text": [
      "Fold 1 MAE: 43.34079975048077\n",
      "Training Fold 2...\n",
      "Fold 2 MAE: 37.978701805539465\n",
      "Training Fold 3...\n",
      "Fold 3 MAE: 37.57000689076325\n",
      "Training Fold 4...\n",
      "Fold 4 MAE: 39.897835464197335\n",
      "Training Fold 5...\n",
      "Fold 5 MAE: 40.16517791799624\n",
      "Training Fold 6...\n",
      "Fold 6 MAE: 39.12941622862942\n",
      "Training Fold 7...\n",
      "Fold 7 MAE: 39.874244310427926\n",
      "Training Fold 8...\n",
      "Fold 8 MAE: 38.84445011297423\n",
      "Training Fold 9...\n",
      "Fold 9 MAE: 41.65256828353794\n",
      "Training Fold 10...\n"
     ]
    },
    {
     "name": "stderr",
     "output_type": "stream",
     "text": [
      "[I 2023-11-09 13:41:53,552] Trial 25 finished with value: 39.971041658565724 and parameters: {'tree_method': 'approx', 'max_depth': 10, 'learning_rate': 0.0616840214468211, 'n_estimators': 223, 'min_child_weight': 7, 'gamma': 0.20065844974579475, 'subsample': 0.65, 'colsample_bytree': 0.95, 'reg_alpha': 0.03129652330333243, 'reg_lambda': 0.8539890616077097, 'random_state': 961}. Best is trial 7 with value: 39.1855482651186.\n"
     ]
    },
    {
     "name": "stdout",
     "output_type": "stream",
     "text": [
      "Fold 10 MAE: 41.25721582111059\n",
      "Mean MAE for all Folds: 39.971041658565724\n",
      "Training Fold 1...\n"
     ]
    },
    {
     "name": "stderr",
     "output_type": "stream",
     "text": [
      "/var/folders/y8/9glnt_6110xftbsjpdqd12280000gp/T/ipykernel_3270/1140765383.py:16: FutureWarning: suggest_discrete_uniform has been deprecated in v3.0.0. This feature will be removed in v6.0.0. See https://github.com/optuna/optuna/releases/tag/v3.0.0. Use suggest_float(..., step=...) instead.\n",
      "  \"subsample\": trial.suggest_discrete_uniform(\"subsample\", 0.6, 1.0, 0.05),  # Reduce the range\n",
      "/var/folders/y8/9glnt_6110xftbsjpdqd12280000gp/T/ipykernel_3270/1140765383.py:17: FutureWarning: suggest_discrete_uniform has been deprecated in v3.0.0. This feature will be removed in v6.0.0. See https://github.com/optuna/optuna/releases/tag/v3.0.0. Use suggest_float(..., step=...) instead.\n",
      "  \"colsample_bytree\": trial.suggest_discrete_uniform(\"colsample_bytree\", 0.6, 1.0, 0.05),  # Reduce the range\n"
     ]
    },
    {
     "name": "stdout",
     "output_type": "stream",
     "text": [
      "Fold 1 MAE: 46.02102392673149\n",
      "Training Fold 2...\n",
      "Fold 2 MAE: 40.240027981508064\n",
      "Training Fold 3...\n",
      "Fold 3 MAE: 39.68170470099459\n",
      "Training Fold 4...\n",
      "Fold 4 MAE: 42.905646802939124\n",
      "Training Fold 5...\n",
      "Fold 5 MAE: 41.90947272269395\n",
      "Training Fold 6...\n",
      "Fold 6 MAE: 41.20475859586644\n",
      "Training Fold 7...\n",
      "Fold 7 MAE: 42.7085669078028\n",
      "Training Fold 8...\n",
      "Fold 8 MAE: 41.21686862805303\n",
      "Training Fold 9...\n",
      "Fold 9 MAE: 42.94404029113887\n",
      "Training Fold 10...\n"
     ]
    },
    {
     "name": "stderr",
     "output_type": "stream",
     "text": [
      "[I 2023-11-09 13:44:13,063] Trial 26 finished with value: 42.227833871916026 and parameters: {'tree_method': 'approx', 'max_depth': 9, 'learning_rate': 0.2931500612673441, 'n_estimators': 879, 'min_child_weight': 9, 'gamma': 0.5174979826127218, 'subsample': 0.65, 'colsample_bytree': 0.95, 'reg_alpha': 0.2590584292259054, 'reg_lambda': 0.7567280733347342, 'random_state': 998}. Best is trial 7 with value: 39.1855482651186.\n"
     ]
    },
    {
     "name": "stdout",
     "output_type": "stream",
     "text": [
      "Fold 10 MAE: 43.44622816143192\n",
      "Mean MAE for all Folds: 42.227833871916026\n",
      "Training Fold 1...\n"
     ]
    },
    {
     "name": "stderr",
     "output_type": "stream",
     "text": [
      "/var/folders/y8/9glnt_6110xftbsjpdqd12280000gp/T/ipykernel_3270/1140765383.py:16: FutureWarning: suggest_discrete_uniform has been deprecated in v3.0.0. This feature will be removed in v6.0.0. See https://github.com/optuna/optuna/releases/tag/v3.0.0. Use suggest_float(..., step=...) instead.\n",
      "  \"subsample\": trial.suggest_discrete_uniform(\"subsample\", 0.6, 1.0, 0.05),  # Reduce the range\n",
      "/var/folders/y8/9glnt_6110xftbsjpdqd12280000gp/T/ipykernel_3270/1140765383.py:17: FutureWarning: suggest_discrete_uniform has been deprecated in v3.0.0. This feature will be removed in v6.0.0. See https://github.com/optuna/optuna/releases/tag/v3.0.0. Use suggest_float(..., step=...) instead.\n",
      "  \"colsample_bytree\": trial.suggest_discrete_uniform(\"colsample_bytree\", 0.6, 1.0, 0.05),  # Reduce the range\n"
     ]
    },
    {
     "name": "stdout",
     "output_type": "stream",
     "text": [
      "Fold 1 MAE: 45.7207883147714\n",
      "Training Fold 2...\n",
      "Fold 2 MAE: 39.85060903741172\n",
      "Training Fold 3...\n",
      "Fold 3 MAE: 41.094397975836266\n",
      "Training Fold 4...\n",
      "Fold 4 MAE: 42.436054835596934\n",
      "Training Fold 5...\n",
      "Fold 5 MAE: 42.78724379860802\n",
      "Training Fold 6...\n",
      "Fold 6 MAE: 42.4600744875775\n",
      "Training Fold 7...\n",
      "Fold 7 MAE: 42.88770339743119\n",
      "Training Fold 8...\n",
      "Fold 8 MAE: 41.88125562807316\n",
      "Training Fold 9...\n",
      "Fold 9 MAE: 44.06778395385348\n",
      "Training Fold 10...\n"
     ]
    },
    {
     "name": "stderr",
     "output_type": "stream",
     "text": [
      "[I 2023-11-09 13:44:43,876] Trial 27 finished with value: 42.689257687451494 and parameters: {'tree_method': 'approx', 'max_depth': 7, 'learning_rate': 0.015231279871846803, 'n_estimators': 392, 'min_child_weight': 7, 'gamma': 0.3622647069002108, 'subsample': 0.75, 'colsample_bytree': 0.8, 'reg_alpha': 0.15290050987043272, 'reg_lambda': 0.5858888123154211, 'random_state': 657}. Best is trial 7 with value: 39.1855482651186.\n"
     ]
    },
    {
     "name": "stdout",
     "output_type": "stream",
     "text": [
      "Fold 10 MAE: 43.706665445355284\n",
      "Mean MAE for all Folds: 42.689257687451494\n",
      "Training Fold 1...\n"
     ]
    },
    {
     "name": "stderr",
     "output_type": "stream",
     "text": [
      "/var/folders/y8/9glnt_6110xftbsjpdqd12280000gp/T/ipykernel_3270/1140765383.py:16: FutureWarning: suggest_discrete_uniform has been deprecated in v3.0.0. This feature will be removed in v6.0.0. See https://github.com/optuna/optuna/releases/tag/v3.0.0. Use suggest_float(..., step=...) instead.\n",
      "  \"subsample\": trial.suggest_discrete_uniform(\"subsample\", 0.6, 1.0, 0.05),  # Reduce the range\n",
      "/var/folders/y8/9glnt_6110xftbsjpdqd12280000gp/T/ipykernel_3270/1140765383.py:17: FutureWarning: suggest_discrete_uniform has been deprecated in v3.0.0. This feature will be removed in v6.0.0. See https://github.com/optuna/optuna/releases/tag/v3.0.0. Use suggest_float(..., step=...) instead.\n",
      "  \"colsample_bytree\": trial.suggest_discrete_uniform(\"colsample_bytree\", 0.6, 1.0, 0.05),  # Reduce the range\n"
     ]
    },
    {
     "name": "stdout",
     "output_type": "stream",
     "text": [
      "Fold 1 MAE: 43.94607325380849\n",
      "Training Fold 2...\n",
      "Fold 2 MAE: 38.46705621160784\n",
      "Training Fold 3...\n",
      "Fold 3 MAE: 38.431215860390516\n",
      "Training Fold 4...\n",
      "Fold 4 MAE: 39.88268773482806\n",
      "Training Fold 5...\n",
      "Fold 5 MAE: 40.682508942160794\n",
      "Training Fold 6...\n",
      "Fold 6 MAE: 40.814576626481355\n",
      "Training Fold 7...\n",
      "Fold 7 MAE: 40.49280299350493\n",
      "Training Fold 8...\n",
      "Fold 8 MAE: 38.90432871213257\n",
      "Training Fold 9...\n",
      "Fold 9 MAE: 42.57051726727729\n",
      "Training Fold 10...\n"
     ]
    },
    {
     "name": "stderr",
     "output_type": "stream",
     "text": [
      "[I 2023-11-09 13:45:15,643] Trial 28 finished with value: 40.53854346835023 and parameters: {'tree_method': 'approx', 'max_depth': 8, 'learning_rate': 0.1063551244110558, 'n_estimators': 439, 'min_child_weight': 9, 'gamma': 0.1811095347827837, 'subsample': 0.7, 'colsample_bytree': 0.9, 'reg_alpha': 0.2787789240667849, 'reg_lambda': 0.9224831633033337, 'random_state': 535}. Best is trial 7 with value: 39.1855482651186.\n"
     ]
    },
    {
     "name": "stdout",
     "output_type": "stream",
     "text": [
      "Fold 10 MAE: 41.1936670813104\n",
      "Mean MAE for all Folds: 40.53854346835023\n",
      "Training Fold 1...\n"
     ]
    },
    {
     "name": "stderr",
     "output_type": "stream",
     "text": [
      "/var/folders/y8/9glnt_6110xftbsjpdqd12280000gp/T/ipykernel_3270/1140765383.py:16: FutureWarning: suggest_discrete_uniform has been deprecated in v3.0.0. This feature will be removed in v6.0.0. See https://github.com/optuna/optuna/releases/tag/v3.0.0. Use suggest_float(..., step=...) instead.\n",
      "  \"subsample\": trial.suggest_discrete_uniform(\"subsample\", 0.6, 1.0, 0.05),  # Reduce the range\n",
      "/var/folders/y8/9glnt_6110xftbsjpdqd12280000gp/T/ipykernel_3270/1140765383.py:17: FutureWarning: suggest_discrete_uniform has been deprecated in v3.0.0. This feature will be removed in v6.0.0. See https://github.com/optuna/optuna/releases/tag/v3.0.0. Use suggest_float(..., step=...) instead.\n",
      "  \"colsample_bytree\": trial.suggest_discrete_uniform(\"colsample_bytree\", 0.6, 1.0, 0.05),  # Reduce the range\n"
     ]
    },
    {
     "name": "stdout",
     "output_type": "stream",
     "text": [
      "Fold 1 MAE: 49.83942385762127\n",
      "Training Fold 2...\n",
      "Fold 2 MAE: 42.072135661659686\n",
      "Training Fold 3...\n",
      "Fold 3 MAE: 42.53062241820694\n",
      "Training Fold 4...\n",
      "Fold 4 MAE: 45.08120576281028\n",
      "Training Fold 5...\n",
      "Fold 5 MAE: 45.85079370750816\n",
      "Training Fold 6...\n",
      "Fold 6 MAE: 45.70737973205824\n",
      "Training Fold 7...\n",
      "Fold 7 MAE: 44.80473873398167\n",
      "Training Fold 8...\n",
      "Fold 8 MAE: 43.569585776032184\n",
      "Training Fold 9...\n",
      "Fold 9 MAE: 46.084278354649165\n",
      "Training Fold 10...\n"
     ]
    },
    {
     "name": "stderr",
     "output_type": "stream",
     "text": [
      "[I 2023-11-09 13:45:23,245] Trial 29 finished with value: 45.23629356582783 and parameters: {'tree_method': 'approx', 'max_depth': 4, 'learning_rate': 0.25132261351546015, 'n_estimators': 243, 'min_child_weight': 7, 'gamma': 0.25484567370710365, 'subsample': 0.8, 'colsample_bytree': 0.8, 'reg_alpha': 0.09720382195734925, 'reg_lambda': 0.90773229771827, 'random_state': 809}. Best is trial 7 with value: 39.1855482651186.\n"
     ]
    },
    {
     "name": "stdout",
     "output_type": "stream",
     "text": [
      "Fold 10 MAE: 46.822771653750735\n",
      "Mean MAE for all Folds: 45.23629356582783\n",
      "Optimization complete!\n"
     ]
    }
   ],
   "source": [
    "study2 = optuna.create_study(direction=\"minimize\")\n",
    "\n",
    "# Optimize the objective function\n",
    "print(\"Optimizing hyperparameters...\")\n",
    "study2.optimize(get_objective(X=X_2,y=y_2 ), n_trials=30)\n",
    "print(\"Optimization complete!\")\n",
    "predictor2 = XGBRegressor(**study2.best_params).fit(X_2, y_2)\n"
   ]
  },
  {
   "cell_type": "code",
   "execution_count": 13,
   "metadata": {},
   "outputs": [],
   "source": [
    "X_3, y_3 = df3_0[[c for c in df3_0.columns if \"pv_measurement\" != c]], df3_0[\"pv_measurement\"]"
   ]
  },
  {
   "cell_type": "code",
   "execution_count": 14,
   "metadata": {},
   "outputs": [
    {
     "name": "stderr",
     "output_type": "stream",
     "text": [
      "[I 2023-11-09 13:45:29,569] A new study created in memory with name: no-name-723d3e9e-0f2f-42b7-9829-09846eda1b59\n",
      "/var/folders/y8/9glnt_6110xftbsjpdqd12280000gp/T/ipykernel_3270/1140765383.py:16: FutureWarning: suggest_discrete_uniform has been deprecated in v3.0.0. This feature will be removed in v6.0.0. See https://github.com/optuna/optuna/releases/tag/v3.0.0. Use suggest_float(..., step=...) instead.\n",
      "  \"subsample\": trial.suggest_discrete_uniform(\"subsample\", 0.6, 1.0, 0.05),  # Reduce the range\n",
      "/var/folders/y8/9glnt_6110xftbsjpdqd12280000gp/T/ipykernel_3270/1140765383.py:17: FutureWarning: suggest_discrete_uniform has been deprecated in v3.0.0. This feature will be removed in v6.0.0. See https://github.com/optuna/optuna/releases/tag/v3.0.0. Use suggest_float(..., step=...) instead.\n",
      "  \"colsample_bytree\": trial.suggest_discrete_uniform(\"colsample_bytree\", 0.6, 1.0, 0.05),  # Reduce the range\n"
     ]
    },
    {
     "name": "stdout",
     "output_type": "stream",
     "text": [
      "Optimizing hyperparameters...\n",
      "Training Fold 1...\n",
      "Fold 1 MAE: 41.44862986373071\n",
      "Training Fold 2...\n",
      "Fold 2 MAE: 37.13013677029474\n",
      "Training Fold 3...\n",
      "Fold 3 MAE: 40.7428083964109\n",
      "Training Fold 4...\n",
      "Fold 4 MAE: 36.555767248915984\n",
      "Training Fold 5...\n",
      "Fold 5 MAE: 39.97109747376991\n",
      "Training Fold 6...\n",
      "Fold 6 MAE: 41.348061816736376\n",
      "Training Fold 7...\n",
      "Fold 7 MAE: 39.559984123585416\n",
      "Training Fold 8...\n",
      "Fold 8 MAE: 38.97804534146955\n",
      "Training Fold 9...\n",
      "Fold 9 MAE: 40.27301714775857\n",
      "Training Fold 10...\n"
     ]
    },
    {
     "name": "stderr",
     "output_type": "stream",
     "text": [
      "[I 2023-11-09 13:45:41,821] Trial 0 finished with value: 39.51513925696973 and parameters: {'tree_method': 'hist', 'max_depth': 3, 'learning_rate': 0.14953915054133893, 'n_estimators': 561, 'min_child_weight': 1, 'gamma': 0.6931954324404516, 'subsample': 0.8, 'colsample_bytree': 0.95, 'reg_alpha': 0.1535995730318329, 'reg_lambda': 0.27124951923885465, 'random_state': 659}. Best is trial 0 with value: 39.51513925696973.\n"
     ]
    },
    {
     "name": "stdout",
     "output_type": "stream",
     "text": [
      "Fold 10 MAE: 39.14384438702517\n",
      "Mean MAE for all Folds: 39.51513925696973\n",
      "Training Fold 1...\n"
     ]
    },
    {
     "name": "stderr",
     "output_type": "stream",
     "text": [
      "/var/folders/y8/9glnt_6110xftbsjpdqd12280000gp/T/ipykernel_3270/1140765383.py:16: FutureWarning: suggest_discrete_uniform has been deprecated in v3.0.0. This feature will be removed in v6.0.0. See https://github.com/optuna/optuna/releases/tag/v3.0.0. Use suggest_float(..., step=...) instead.\n",
      "  \"subsample\": trial.suggest_discrete_uniform(\"subsample\", 0.6, 1.0, 0.05),  # Reduce the range\n",
      "/var/folders/y8/9glnt_6110xftbsjpdqd12280000gp/T/ipykernel_3270/1140765383.py:17: FutureWarning: suggest_discrete_uniform has been deprecated in v3.0.0. This feature will be removed in v6.0.0. See https://github.com/optuna/optuna/releases/tag/v3.0.0. Use suggest_float(..., step=...) instead.\n",
      "  \"colsample_bytree\": trial.suggest_discrete_uniform(\"colsample_bytree\", 0.6, 1.0, 0.05),  # Reduce the range\n"
     ]
    },
    {
     "name": "stdout",
     "output_type": "stream",
     "text": [
      "Fold 1 MAE: 35.26018470550405\n",
      "Training Fold 2...\n",
      "Fold 2 MAE: 33.31671798022503\n",
      "Training Fold 3...\n",
      "Fold 3 MAE: 34.804888462464156\n",
      "Training Fold 4...\n",
      "Fold 4 MAE: 32.36426235315842\n",
      "Training Fold 5...\n",
      "Fold 5 MAE: 34.57826459605378\n",
      "Training Fold 6...\n",
      "Fold 6 MAE: 36.649504654919696\n",
      "Training Fold 7...\n",
      "Fold 7 MAE: 35.49881937637595\n",
      "Training Fold 8...\n",
      "Fold 8 MAE: 33.751666244394514\n",
      "Training Fold 9...\n",
      "Fold 9 MAE: 34.57411287321647\n",
      "Training Fold 10...\n"
     ]
    },
    {
     "name": "stderr",
     "output_type": "stream",
     "text": [
      "[I 2023-11-09 13:46:20,971] Trial 1 finished with value: 34.56439088862412 and parameters: {'tree_method': 'hist', 'max_depth': 8, 'learning_rate': 0.1421414903981786, 'n_estimators': 967, 'min_child_weight': 4, 'gamma': 0.9000105682248283, 'subsample': 0.9, 'colsample_bytree': 0.65, 'reg_alpha': 0.17159002530787448, 'reg_lambda': 0.1332208987907645, 'random_state': 850}. Best is trial 1 with value: 34.56439088862412.\n"
     ]
    },
    {
     "name": "stdout",
     "output_type": "stream",
     "text": [
      "Fold 10 MAE: 34.845487639929175\n",
      "Mean MAE for all Folds: 34.56439088862412\n",
      "Training Fold 1...\n"
     ]
    },
    {
     "name": "stderr",
     "output_type": "stream",
     "text": [
      "/var/folders/y8/9glnt_6110xftbsjpdqd12280000gp/T/ipykernel_3270/1140765383.py:16: FutureWarning: suggest_discrete_uniform has been deprecated in v3.0.0. This feature will be removed in v6.0.0. See https://github.com/optuna/optuna/releases/tag/v3.0.0. Use suggest_float(..., step=...) instead.\n",
      "  \"subsample\": trial.suggest_discrete_uniform(\"subsample\", 0.6, 1.0, 0.05),  # Reduce the range\n",
      "/var/folders/y8/9glnt_6110xftbsjpdqd12280000gp/T/ipykernel_3270/1140765383.py:17: FutureWarning: suggest_discrete_uniform has been deprecated in v3.0.0. This feature will be removed in v6.0.0. See https://github.com/optuna/optuna/releases/tag/v3.0.0. Use suggest_float(..., step=...) instead.\n",
      "  \"colsample_bytree\": trial.suggest_discrete_uniform(\"colsample_bytree\", 0.6, 1.0, 0.05),  # Reduce the range\n"
     ]
    },
    {
     "name": "stdout",
     "output_type": "stream",
     "text": [
      "Fold 1 MAE: 40.14559617304834\n",
      "Training Fold 2...\n",
      "Fold 2 MAE: 37.41586951060697\n",
      "Training Fold 3...\n",
      "Fold 3 MAE: 41.168856802929454\n",
      "Training Fold 4...\n",
      "Fold 4 MAE: 38.271022932773334\n",
      "Training Fold 5...\n",
      "Fold 5 MAE: 40.78843578212413\n",
      "Training Fold 6...\n",
      "Fold 6 MAE: 42.604355853684694\n",
      "Training Fold 7...\n",
      "Fold 7 MAE: 39.871636951993985\n",
      "Training Fold 8...\n",
      "Fold 8 MAE: 39.5871825888743\n",
      "Training Fold 9...\n",
      "Fold 9 MAE: 39.070830330118675\n",
      "Training Fold 10...\n"
     ]
    },
    {
     "name": "stderr",
     "output_type": "stream",
     "text": [
      "[I 2023-11-09 13:46:32,265] Trial 2 finished with value: 39.81861439700941 and parameters: {'tree_method': 'hist', 'max_depth': 5, 'learning_rate': 0.5098420189259515, 'n_estimators': 405, 'min_child_weight': 3, 'gamma': 0.364457021729085, 'subsample': 0.7, 'colsample_bytree': 0.65, 'reg_alpha': 0.4768786212883694, 'reg_lambda': 0.5071349261045284, 'random_state': 288}. Best is trial 1 with value: 34.56439088862412.\n"
     ]
    },
    {
     "name": "stdout",
     "output_type": "stream",
     "text": [
      "Fold 10 MAE: 39.26235704394021\n",
      "Mean MAE for all Folds: 39.81861439700941\n",
      "Training Fold 1...\n"
     ]
    },
    {
     "name": "stderr",
     "output_type": "stream",
     "text": [
      "/var/folders/y8/9glnt_6110xftbsjpdqd12280000gp/T/ipykernel_3270/1140765383.py:16: FutureWarning: suggest_discrete_uniform has been deprecated in v3.0.0. This feature will be removed in v6.0.0. See https://github.com/optuna/optuna/releases/tag/v3.0.0. Use suggest_float(..., step=...) instead.\n",
      "  \"subsample\": trial.suggest_discrete_uniform(\"subsample\", 0.6, 1.0, 0.05),  # Reduce the range\n",
      "/var/folders/y8/9glnt_6110xftbsjpdqd12280000gp/T/ipykernel_3270/1140765383.py:17: FutureWarning: suggest_discrete_uniform has been deprecated in v3.0.0. This feature will be removed in v6.0.0. See https://github.com/optuna/optuna/releases/tag/v3.0.0. Use suggest_float(..., step=...) instead.\n",
      "  \"colsample_bytree\": trial.suggest_discrete_uniform(\"colsample_bytree\", 0.6, 1.0, 0.05),  # Reduce the range\n"
     ]
    },
    {
     "name": "stdout",
     "output_type": "stream",
     "text": [
      "Fold 1 MAE: 46.75669850611277\n",
      "Training Fold 2...\n",
      "Fold 2 MAE: 41.524828123877064\n",
      "Training Fold 3...\n",
      "Fold 3 MAE: 45.56063399773638\n",
      "Training Fold 4...\n",
      "Fold 4 MAE: 41.71344915299164\n",
      "Training Fold 5...\n",
      "Fold 5 MAE: 41.68393403156507\n",
      "Training Fold 6...\n",
      "Fold 6 MAE: 44.691876199887226\n",
      "Training Fold 7...\n",
      "Fold 7 MAE: 43.40551396784508\n",
      "Training Fold 8...\n",
      "Fold 8 MAE: 42.24300840843559\n",
      "Training Fold 9...\n",
      "Fold 9 MAE: 44.71924323432621\n",
      "Training Fold 10...\n"
     ]
    },
    {
     "name": "stderr",
     "output_type": "stream",
     "text": [
      "[I 2023-11-09 13:48:18,769] Trial 3 finished with value: 43.81974371091904 and parameters: {'tree_method': 'approx', 'max_depth': 10, 'learning_rate': 0.5875933004909467, 'n_estimators': 833, 'min_child_weight': 2, 'gamma': 0.42996043473220313, 'subsample': 0.75, 'colsample_bytree': 0.85, 'reg_alpha': 0.7215035678267913, 'reg_lambda': 0.986757037803958, 'random_state': 416}. Best is trial 1 with value: 34.56439088862412.\n"
     ]
    },
    {
     "name": "stdout",
     "output_type": "stream",
     "text": [
      "Fold 10 MAE: 45.89825148641344\n",
      "Mean MAE for all Folds: 43.81974371091904\n",
      "Training Fold 1...\n"
     ]
    },
    {
     "name": "stderr",
     "output_type": "stream",
     "text": [
      "/var/folders/y8/9glnt_6110xftbsjpdqd12280000gp/T/ipykernel_3270/1140765383.py:16: FutureWarning: suggest_discrete_uniform has been deprecated in v3.0.0. This feature will be removed in v6.0.0. See https://github.com/optuna/optuna/releases/tag/v3.0.0. Use suggest_float(..., step=...) instead.\n",
      "  \"subsample\": trial.suggest_discrete_uniform(\"subsample\", 0.6, 1.0, 0.05),  # Reduce the range\n",
      "/var/folders/y8/9glnt_6110xftbsjpdqd12280000gp/T/ipykernel_3270/1140765383.py:17: FutureWarning: suggest_discrete_uniform has been deprecated in v3.0.0. This feature will be removed in v6.0.0. See https://github.com/optuna/optuna/releases/tag/v3.0.0. Use suggest_float(..., step=...) instead.\n",
      "  \"colsample_bytree\": trial.suggest_discrete_uniform(\"colsample_bytree\", 0.6, 1.0, 0.05),  # Reduce the range\n"
     ]
    },
    {
     "name": "stdout",
     "output_type": "stream",
     "text": [
      "Fold 1 MAE: 46.505474588137254\n",
      "Training Fold 2...\n",
      "Fold 2 MAE: 45.36902176781823\n",
      "Training Fold 3...\n",
      "Fold 3 MAE: 46.973060667866214\n",
      "Training Fold 4...\n",
      "Fold 4 MAE: 43.26697337267385\n",
      "Training Fold 5...\n",
      "Fold 5 MAE: 47.16736532759383\n",
      "Training Fold 6...\n",
      "Fold 6 MAE: 47.552330561910516\n",
      "Training Fold 7...\n",
      "Fold 7 MAE: 46.82426183213311\n",
      "Training Fold 8...\n",
      "Fold 8 MAE: 48.05492759962876\n",
      "Training Fold 9...\n",
      "Fold 9 MAE: 48.35662241841706\n",
      "Training Fold 10...\n"
     ]
    },
    {
     "name": "stderr",
     "output_type": "stream",
     "text": [
      "[I 2023-11-09 13:48:46,690] Trial 4 finished with value: 46.55884037134317 and parameters: {'tree_method': 'hist', 'max_depth': 8, 'learning_rate': 0.9743672552641305, 'n_estimators': 691, 'min_child_weight': 7, 'gamma': 0.454213622118924, 'subsample': 1.0, 'colsample_bytree': 0.7, 'reg_alpha': 0.8509130741613286, 'reg_lambda': 0.32001284058996987, 'random_state': 850}. Best is trial 1 with value: 34.56439088862412.\n"
     ]
    },
    {
     "name": "stdout",
     "output_type": "stream",
     "text": [
      "Fold 10 MAE: 45.5183655772529\n",
      "Mean MAE for all Folds: 46.55884037134317\n",
      "Training Fold 1...\n"
     ]
    },
    {
     "name": "stderr",
     "output_type": "stream",
     "text": [
      "/var/folders/y8/9glnt_6110xftbsjpdqd12280000gp/T/ipykernel_3270/1140765383.py:16: FutureWarning: suggest_discrete_uniform has been deprecated in v3.0.0. This feature will be removed in v6.0.0. See https://github.com/optuna/optuna/releases/tag/v3.0.0. Use suggest_float(..., step=...) instead.\n",
      "  \"subsample\": trial.suggest_discrete_uniform(\"subsample\", 0.6, 1.0, 0.05),  # Reduce the range\n",
      "/var/folders/y8/9glnt_6110xftbsjpdqd12280000gp/T/ipykernel_3270/1140765383.py:17: FutureWarning: suggest_discrete_uniform has been deprecated in v3.0.0. This feature will be removed in v6.0.0. See https://github.com/optuna/optuna/releases/tag/v3.0.0. Use suggest_float(..., step=...) instead.\n",
      "  \"colsample_bytree\": trial.suggest_discrete_uniform(\"colsample_bytree\", 0.6, 1.0, 0.05),  # Reduce the range\n"
     ]
    },
    {
     "name": "stdout",
     "output_type": "stream",
     "text": [
      "Fold 1 MAE: 41.17711409285451\n",
      "Training Fold 2...\n",
      "Fold 2 MAE: 41.849549098115055\n",
      "Training Fold 3...\n",
      "Fold 3 MAE: 43.542337232497516\n",
      "Training Fold 4...\n",
      "Fold 4 MAE: 42.12340388327981\n",
      "Training Fold 5...\n",
      "Fold 5 MAE: 45.33935364986554\n",
      "Training Fold 6...\n",
      "Fold 6 MAE: 45.957129053421085\n",
      "Training Fold 7...\n",
      "Fold 7 MAE: 43.90363084582899\n",
      "Training Fold 8...\n",
      "Fold 8 MAE: 43.588045437961895\n",
      "Training Fold 9...\n",
      "Fold 9 MAE: 45.033176529030555\n",
      "Training Fold 10...\n"
     ]
    },
    {
     "name": "stderr",
     "output_type": "stream",
     "text": [
      "[I 2023-11-09 13:49:30,188] Trial 5 finished with value: 43.77817196995763 and parameters: {'tree_method': 'approx', 'max_depth': 7, 'learning_rate': 0.6518721269588932, 'n_estimators': 755, 'min_child_weight': 5, 'gamma': 0.6392897143780284, 'subsample': 0.65, 'colsample_bytree': 0.95, 'reg_alpha': 0.8263261824664675, 'reg_lambda': 0.8758079134139664, 'random_state': 226}. Best is trial 1 with value: 34.56439088862412.\n"
     ]
    },
    {
     "name": "stdout",
     "output_type": "stream",
     "text": [
      "Fold 10 MAE: 45.267979876721355\n",
      "Mean MAE for all Folds: 43.77817196995763\n",
      "Training Fold 1...\n"
     ]
    },
    {
     "name": "stderr",
     "output_type": "stream",
     "text": [
      "/var/folders/y8/9glnt_6110xftbsjpdqd12280000gp/T/ipykernel_3270/1140765383.py:16: FutureWarning: suggest_discrete_uniform has been deprecated in v3.0.0. This feature will be removed in v6.0.0. See https://github.com/optuna/optuna/releases/tag/v3.0.0. Use suggest_float(..., step=...) instead.\n",
      "  \"subsample\": trial.suggest_discrete_uniform(\"subsample\", 0.6, 1.0, 0.05),  # Reduce the range\n",
      "/var/folders/y8/9glnt_6110xftbsjpdqd12280000gp/T/ipykernel_3270/1140765383.py:17: FutureWarning: suggest_discrete_uniform has been deprecated in v3.0.0. This feature will be removed in v6.0.0. See https://github.com/optuna/optuna/releases/tag/v3.0.0. Use suggest_float(..., step=...) instead.\n",
      "  \"colsample_bytree\": trial.suggest_discrete_uniform(\"colsample_bytree\", 0.6, 1.0, 0.05),  # Reduce the range\n"
     ]
    },
    {
     "name": "stdout",
     "output_type": "stream",
     "text": [
      "Fold 1 MAE: 38.12595732144962\n",
      "Training Fold 2...\n",
      "Fold 2 MAE: 35.95719824869405\n",
      "Training Fold 3...\n",
      "Fold 3 MAE: 38.064655810175935\n",
      "Training Fold 4...\n",
      "Fold 4 MAE: 34.07285856846532\n",
      "Training Fold 5...\n",
      "Fold 5 MAE: 37.74873211925224\n",
      "Training Fold 6...\n",
      "Fold 6 MAE: 39.20731879859298\n",
      "Training Fold 7...\n",
      "Fold 7 MAE: 38.60756062123346\n",
      "Training Fold 8...\n",
      "Fold 8 MAE: 37.51865344299289\n",
      "Training Fold 9...\n",
      "Fold 9 MAE: 38.883518256237245\n",
      "Training Fold 10...\n"
     ]
    },
    {
     "name": "stderr",
     "output_type": "stream",
     "text": [
      "[I 2023-11-09 13:49:34,812] Trial 6 finished with value: 37.61612851567468 and parameters: {'tree_method': 'approx', 'max_depth': 9, 'learning_rate': 0.23257929215834475, 'n_estimators': 64, 'min_child_weight': 10, 'gamma': 0.7322337844239857, 'subsample': 0.6, 'colsample_bytree': 0.7, 'reg_alpha': 0.5954739782994063, 'reg_lambda': 0.5899241058251662, 'random_state': 825}. Best is trial 1 with value: 34.56439088862412.\n"
     ]
    },
    {
     "name": "stdout",
     "output_type": "stream",
     "text": [
      "Fold 10 MAE: 37.974831969653046\n",
      "Mean MAE for all Folds: 37.61612851567468\n",
      "Training Fold 1...\n"
     ]
    },
    {
     "name": "stderr",
     "output_type": "stream",
     "text": [
      "/var/folders/y8/9glnt_6110xftbsjpdqd12280000gp/T/ipykernel_3270/1140765383.py:16: FutureWarning: suggest_discrete_uniform has been deprecated in v3.0.0. This feature will be removed in v6.0.0. See https://github.com/optuna/optuna/releases/tag/v3.0.0. Use suggest_float(..., step=...) instead.\n",
      "  \"subsample\": trial.suggest_discrete_uniform(\"subsample\", 0.6, 1.0, 0.05),  # Reduce the range\n",
      "/var/folders/y8/9glnt_6110xftbsjpdqd12280000gp/T/ipykernel_3270/1140765383.py:17: FutureWarning: suggest_discrete_uniform has been deprecated in v3.0.0. This feature will be removed in v6.0.0. See https://github.com/optuna/optuna/releases/tag/v3.0.0. Use suggest_float(..., step=...) instead.\n",
      "  \"colsample_bytree\": trial.suggest_discrete_uniform(\"colsample_bytree\", 0.6, 1.0, 0.05),  # Reduce the range\n"
     ]
    },
    {
     "name": "stdout",
     "output_type": "stream",
     "text": [
      "Fold 1 MAE: 39.47247313375826\n",
      "Training Fold 2...\n",
      "Fold 2 MAE: 35.4290580634071\n",
      "Training Fold 3...\n",
      "Fold 3 MAE: 37.918113419640946\n",
      "Training Fold 4...\n",
      "Fold 4 MAE: 35.422700777590826\n",
      "Training Fold 5...\n",
      "Fold 5 MAE: 37.88463372913199\n",
      "Training Fold 6...\n",
      "Fold 6 MAE: 40.20189618740404\n",
      "Training Fold 7...\n",
      "Fold 7 MAE: 38.192331738332264\n",
      "Training Fold 8...\n",
      "Fold 8 MAE: 38.29789927176732\n",
      "Training Fold 9...\n",
      "Fold 9 MAE: 36.959205769182574\n",
      "Training Fold 10...\n"
     ]
    },
    {
     "name": "stderr",
     "output_type": "stream",
     "text": [
      "[I 2023-11-09 13:50:04,283] Trial 7 finished with value: 37.7821954006805 and parameters: {'tree_method': 'approx', 'max_depth': 4, 'learning_rate': 0.21485873967495797, 'n_estimators': 903, 'min_child_weight': 1, 'gamma': 0.7824467707705556, 'subsample': 0.85, 'colsample_bytree': 0.85, 'reg_alpha': 0.8901308625335913, 'reg_lambda': 0.4798824930507007, 'random_state': 944}. Best is trial 1 with value: 34.56439088862412.\n"
     ]
    },
    {
     "name": "stdout",
     "output_type": "stream",
     "text": [
      "Fold 10 MAE: 38.043641916589685\n",
      "Mean MAE for all Folds: 37.7821954006805\n",
      "Training Fold 1...\n"
     ]
    },
    {
     "name": "stderr",
     "output_type": "stream",
     "text": [
      "/var/folders/y8/9glnt_6110xftbsjpdqd12280000gp/T/ipykernel_3270/1140765383.py:16: FutureWarning: suggest_discrete_uniform has been deprecated in v3.0.0. This feature will be removed in v6.0.0. See https://github.com/optuna/optuna/releases/tag/v3.0.0. Use suggest_float(..., step=...) instead.\n",
      "  \"subsample\": trial.suggest_discrete_uniform(\"subsample\", 0.6, 1.0, 0.05),  # Reduce the range\n",
      "/var/folders/y8/9glnt_6110xftbsjpdqd12280000gp/T/ipykernel_3270/1140765383.py:17: FutureWarning: suggest_discrete_uniform has been deprecated in v3.0.0. This feature will be removed in v6.0.0. See https://github.com/optuna/optuna/releases/tag/v3.0.0. Use suggest_float(..., step=...) instead.\n",
      "  \"colsample_bytree\": trial.suggest_discrete_uniform(\"colsample_bytree\", 0.6, 1.0, 0.05),  # Reduce the range\n"
     ]
    },
    {
     "name": "stdout",
     "output_type": "stream",
     "text": [
      "Fold 1 MAE: 46.47500749291296\n",
      "Training Fold 2...\n",
      "Fold 2 MAE: 43.50427572970079\n",
      "Training Fold 3...\n",
      "Fold 3 MAE: 47.2981189214586\n",
      "Training Fold 4...\n",
      "Fold 4 MAE: 41.08260055778542\n",
      "Training Fold 5...\n",
      "Fold 5 MAE: 45.73100321102359\n",
      "Training Fold 6...\n",
      "Fold 6 MAE: 48.13590559398592\n",
      "Training Fold 7...\n",
      "Fold 7 MAE: 43.72644972982791\n",
      "Training Fold 8...\n",
      "Fold 8 MAE: 46.62889757303426\n",
      "Training Fold 9...\n",
      "Fold 9 MAE: 47.63464094843871\n",
      "Training Fold 10...\n"
     ]
    },
    {
     "name": "stderr",
     "output_type": "stream",
     "text": [
      "[I 2023-11-09 13:50:13,257] Trial 8 finished with value: 45.65533210078649 and parameters: {'tree_method': 'hist', 'max_depth': 6, 'learning_rate': 0.730160113850254, 'n_estimators': 329, 'min_child_weight': 10, 'gamma': 0.5632120089543967, 'subsample': 0.6, 'colsample_bytree': 0.8, 'reg_alpha': 0.4486705854022741, 'reg_lambda': 0.5803820301375209, 'random_state': 428}. Best is trial 1 with value: 34.56439088862412.\n"
     ]
    },
    {
     "name": "stdout",
     "output_type": "stream",
     "text": [
      "Fold 10 MAE: 46.336421249696805\n",
      "Mean MAE for all Folds: 45.65533210078649\n",
      "Training Fold 1...\n"
     ]
    },
    {
     "name": "stderr",
     "output_type": "stream",
     "text": [
      "/var/folders/y8/9glnt_6110xftbsjpdqd12280000gp/T/ipykernel_3270/1140765383.py:16: FutureWarning: suggest_discrete_uniform has been deprecated in v3.0.0. This feature will be removed in v6.0.0. See https://github.com/optuna/optuna/releases/tag/v3.0.0. Use suggest_float(..., step=...) instead.\n",
      "  \"subsample\": trial.suggest_discrete_uniform(\"subsample\", 0.6, 1.0, 0.05),  # Reduce the range\n",
      "/var/folders/y8/9glnt_6110xftbsjpdqd12280000gp/T/ipykernel_3270/1140765383.py:17: FutureWarning: suggest_discrete_uniform has been deprecated in v3.0.0. This feature will be removed in v6.0.0. See https://github.com/optuna/optuna/releases/tag/v3.0.0. Use suggest_float(..., step=...) instead.\n",
      "  \"colsample_bytree\": trial.suggest_discrete_uniform(\"colsample_bytree\", 0.6, 1.0, 0.05),  # Reduce the range\n"
     ]
    },
    {
     "name": "stdout",
     "output_type": "stream",
     "text": [
      "Fold 1 MAE: 41.426178020518215\n",
      "Training Fold 2...\n",
      "Fold 2 MAE: 38.08654128123435\n",
      "Training Fold 3...\n",
      "Fold 3 MAE: 41.41261588230213\n",
      "Training Fold 4...\n",
      "Fold 4 MAE: 36.746784701215546\n",
      "Training Fold 5...\n",
      "Fold 5 MAE: 40.22161896438548\n",
      "Training Fold 6...\n",
      "Fold 6 MAE: 41.74850653141463\n",
      "Training Fold 7...\n",
      "Fold 7 MAE: 40.52317647075779\n",
      "Training Fold 8...\n",
      "Fold 8 MAE: 39.731445229219666\n",
      "Training Fold 9...\n",
      "Fold 9 MAE: 41.59716466865794\n",
      "Training Fold 10...\n"
     ]
    },
    {
     "name": "stderr",
     "output_type": "stream",
     "text": [
      "[I 2023-11-09 13:50:15,955] Trial 9 finished with value: 40.157940374430424 and parameters: {'tree_method': 'hist', 'max_depth': 4, 'learning_rate': 0.10071888584224459, 'n_estimators': 106, 'min_child_weight': 8, 'gamma': 0.3983500385794847, 'subsample': 1.0, 'colsample_bytree': 1.0, 'reg_alpha': 0.8296817954546244, 'reg_lambda': 0.8211015712660565, 'random_state': 485}. Best is trial 1 with value: 34.56439088862412.\n"
     ]
    },
    {
     "name": "stdout",
     "output_type": "stream",
     "text": [
      "Fold 10 MAE: 40.08537199459846\n",
      "Mean MAE for all Folds: 40.157940374430424\n",
      "Training Fold 1...\n"
     ]
    },
    {
     "name": "stderr",
     "output_type": "stream",
     "text": [
      "/var/folders/y8/9glnt_6110xftbsjpdqd12280000gp/T/ipykernel_3270/1140765383.py:16: FutureWarning: suggest_discrete_uniform has been deprecated in v3.0.0. This feature will be removed in v6.0.0. See https://github.com/optuna/optuna/releases/tag/v3.0.0. Use suggest_float(..., step=...) instead.\n",
      "  \"subsample\": trial.suggest_discrete_uniform(\"subsample\", 0.6, 1.0, 0.05),  # Reduce the range\n",
      "/var/folders/y8/9glnt_6110xftbsjpdqd12280000gp/T/ipykernel_3270/1140765383.py:17: FutureWarning: suggest_discrete_uniform has been deprecated in v3.0.0. This feature will be removed in v6.0.0. See https://github.com/optuna/optuna/releases/tag/v3.0.0. Use suggest_float(..., step=...) instead.\n",
      "  \"colsample_bytree\": trial.suggest_discrete_uniform(\"colsample_bytree\", 0.6, 1.0, 0.05),  # Reduce the range\n"
     ]
    },
    {
     "name": "stdout",
     "output_type": "stream",
     "text": [
      "Fold 1 MAE: 36.230045444691726\n",
      "Training Fold 2...\n",
      "Fold 2 MAE: 34.28520508253928\n",
      "Training Fold 3...\n",
      "Fold 3 MAE: 36.53182399583786\n",
      "Training Fold 4...\n",
      "Fold 4 MAE: 34.14175999986343\n",
      "Training Fold 5...\n",
      "Fold 5 MAE: 35.92694620710385\n",
      "Training Fold 6...\n",
      "Fold 6 MAE: 37.65457781264963\n",
      "Training Fold 7...\n",
      "Fold 7 MAE: 36.657171236030884\n",
      "Training Fold 8...\n",
      "Fold 8 MAE: 35.52344347391814\n",
      "Training Fold 9...\n",
      "Fold 9 MAE: 36.496710570784295\n",
      "Training Fold 10...\n"
     ]
    },
    {
     "name": "stderr",
     "output_type": "stream",
     "text": [
      "[I 2023-11-09 13:50:51,959] Trial 10 finished with value: 35.95172567398835 and parameters: {'tree_method': 'hist', 'max_depth': 8, 'learning_rate': 0.010554348015788695, 'n_estimators': 975, 'min_child_weight': 4, 'gamma': 0.9751611880573152, 'subsample': 0.9, 'colsample_bytree': 0.6, 'reg_alpha': 0.04041915221727316, 'reg_lambda': 0.026513629660658858, 'random_state': 28}. Best is trial 1 with value: 34.56439088862412.\n"
     ]
    },
    {
     "name": "stdout",
     "output_type": "stream",
     "text": [
      "Fold 10 MAE: 36.069572916464445\n",
      "Mean MAE for all Folds: 35.95172567398835\n",
      "Training Fold 1...\n"
     ]
    },
    {
     "name": "stderr",
     "output_type": "stream",
     "text": [
      "/var/folders/y8/9glnt_6110xftbsjpdqd12280000gp/T/ipykernel_3270/1140765383.py:16: FutureWarning: suggest_discrete_uniform has been deprecated in v3.0.0. This feature will be removed in v6.0.0. See https://github.com/optuna/optuna/releases/tag/v3.0.0. Use suggest_float(..., step=...) instead.\n",
      "  \"subsample\": trial.suggest_discrete_uniform(\"subsample\", 0.6, 1.0, 0.05),  # Reduce the range\n",
      "/var/folders/y8/9glnt_6110xftbsjpdqd12280000gp/T/ipykernel_3270/1140765383.py:17: FutureWarning: suggest_discrete_uniform has been deprecated in v3.0.0. This feature will be removed in v6.0.0. See https://github.com/optuna/optuna/releases/tag/v3.0.0. Use suggest_float(..., step=...) instead.\n",
      "  \"colsample_bytree\": trial.suggest_discrete_uniform(\"colsample_bytree\", 0.6, 1.0, 0.05),  # Reduce the range\n"
     ]
    },
    {
     "name": "stdout",
     "output_type": "stream",
     "text": [
      "Fold 1 MAE: 35.201313907796475\n",
      "Training Fold 2...\n",
      "Fold 2 MAE: 33.09188610481262\n",
      "Training Fold 3...\n",
      "Fold 3 MAE: 34.640316658493326\n",
      "Training Fold 4...\n",
      "Fold 4 MAE: 32.823579819089964\n",
      "Training Fold 5...\n",
      "Fold 5 MAE: 34.40374405408678\n",
      "Training Fold 6...\n",
      "Fold 6 MAE: 35.62372976095929\n",
      "Training Fold 7...\n",
      "Fold 7 MAE: 34.669069698488336\n",
      "Training Fold 8...\n",
      "Fold 8 MAE: 34.18786191645245\n",
      "Training Fold 9...\n",
      "Fold 9 MAE: 34.25573582293881\n",
      "Training Fold 10...\n"
     ]
    },
    {
     "name": "stderr",
     "output_type": "stream",
     "text": [
      "[I 2023-11-09 13:51:27,293] Trial 11 finished with value: 34.398467840885935 and parameters: {'tree_method': 'hist', 'max_depth': 8, 'learning_rate': 0.06303146514593941, 'n_estimators': 995, 'min_child_weight': 4, 'gamma': 0.965813975476787, 'subsample': 0.9, 'colsample_bytree': 0.6, 'reg_alpha': 0.03588683669071144, 'reg_lambda': 0.04642983076359475, 'random_state': 36}. Best is trial 11 with value: 34.398467840885935.\n"
     ]
    },
    {
     "name": "stdout",
     "output_type": "stream",
     "text": [
      "Fold 10 MAE: 35.08744066574125\n",
      "Mean MAE for all Folds: 34.398467840885935\n",
      "Training Fold 1...\n"
     ]
    },
    {
     "name": "stderr",
     "output_type": "stream",
     "text": [
      "/var/folders/y8/9glnt_6110xftbsjpdqd12280000gp/T/ipykernel_3270/1140765383.py:16: FutureWarning: suggest_discrete_uniform has been deprecated in v3.0.0. This feature will be removed in v6.0.0. See https://github.com/optuna/optuna/releases/tag/v3.0.0. Use suggest_float(..., step=...) instead.\n",
      "  \"subsample\": trial.suggest_discrete_uniform(\"subsample\", 0.6, 1.0, 0.05),  # Reduce the range\n",
      "/var/folders/y8/9glnt_6110xftbsjpdqd12280000gp/T/ipykernel_3270/1140765383.py:17: FutureWarning: suggest_discrete_uniform has been deprecated in v3.0.0. This feature will be removed in v6.0.0. See https://github.com/optuna/optuna/releases/tag/v3.0.0. Use suggest_float(..., step=...) instead.\n",
      "  \"colsample_bytree\": trial.suggest_discrete_uniform(\"colsample_bytree\", 0.6, 1.0, 0.05),  # Reduce the range\n"
     ]
    },
    {
     "name": "stdout",
     "output_type": "stream",
     "text": [
      "Fold 1 MAE: 36.23641511422928\n",
      "Training Fold 2...\n",
      "Fold 2 MAE: 34.40899121140654\n",
      "Training Fold 3...\n",
      "Fold 3 MAE: 36.12982811580214\n",
      "Training Fold 4...\n",
      "Fold 4 MAE: 34.3268406995876\n",
      "Training Fold 5...\n",
      "Fold 5 MAE: 36.84608751778817\n",
      "Training Fold 6...\n",
      "Fold 6 MAE: 38.41940207214822\n",
      "Training Fold 7...\n",
      "Fold 7 MAE: 36.402913199030706\n",
      "Training Fold 8...\n",
      "Fold 8 MAE: 37.32023935552239\n",
      "Training Fold 9...\n",
      "Fold 9 MAE: 36.00033918742652\n",
      "Training Fold 10...\n"
     ]
    },
    {
     "name": "stderr",
     "output_type": "stream",
     "text": [
      "[I 2023-11-09 13:51:58,367] Trial 12 finished with value: 36.321958798830124 and parameters: {'tree_method': 'hist', 'max_depth': 7, 'learning_rate': 0.287660219393016, 'n_estimators': 992, 'min_child_weight': 6, 'gamma': 0.9937364245000273, 'subsample': 0.9, 'colsample_bytree': 0.6, 'reg_alpha': 0.2481657137096111, 'reg_lambda': 0.0370377178413836, 'random_state': 695}. Best is trial 11 with value: 34.398467840885935.\n"
     ]
    },
    {
     "name": "stdout",
     "output_type": "stream",
     "text": [
      "Fold 10 MAE: 37.12853151535973\n",
      "Mean MAE for all Folds: 36.321958798830124\n",
      "Training Fold 1...\n"
     ]
    },
    {
     "name": "stderr",
     "output_type": "stream",
     "text": [
      "/var/folders/y8/9glnt_6110xftbsjpdqd12280000gp/T/ipykernel_3270/1140765383.py:16: FutureWarning: suggest_discrete_uniform has been deprecated in v3.0.0. This feature will be removed in v6.0.0. See https://github.com/optuna/optuna/releases/tag/v3.0.0. Use suggest_float(..., step=...) instead.\n",
      "  \"subsample\": trial.suggest_discrete_uniform(\"subsample\", 0.6, 1.0, 0.05),  # Reduce the range\n",
      "/var/folders/y8/9glnt_6110xftbsjpdqd12280000gp/T/ipykernel_3270/1140765383.py:17: FutureWarning: suggest_discrete_uniform has been deprecated in v3.0.0. This feature will be removed in v6.0.0. See https://github.com/optuna/optuna/releases/tag/v3.0.0. Use suggest_float(..., step=...) instead.\n",
      "  \"colsample_bytree\": trial.suggest_discrete_uniform(\"colsample_bytree\", 0.6, 1.0, 0.05),  # Reduce the range\n"
     ]
    },
    {
     "name": "stdout",
     "output_type": "stream",
     "text": [
      "Fold 1 MAE: 36.901495012124506\n",
      "Training Fold 2...\n",
      "Fold 2 MAE: 36.06448426251799\n",
      "Training Fold 3...\n",
      "Fold 3 MAE: 37.679835972868105\n",
      "Training Fold 4...\n",
      "Fold 4 MAE: 36.263434525895356\n",
      "Training Fold 5...\n",
      "Fold 5 MAE: 35.22360887007789\n",
      "Training Fold 6...\n",
      "Fold 6 MAE: 39.003667587295226\n",
      "Training Fold 7...\n",
      "Fold 7 MAE: 36.406652835331634\n",
      "Training Fold 8...\n",
      "Fold 8 MAE: 36.48945301295925\n",
      "Training Fold 9...\n",
      "Fold 9 MAE: 37.1099657372926\n",
      "Training Fold 10...\n"
     ]
    },
    {
     "name": "stderr",
     "output_type": "stream",
     "text": [
      "[I 2023-11-09 13:52:25,850] Trial 13 finished with value: 36.80077602793899 and parameters: {'tree_method': 'hist', 'max_depth': 10, 'learning_rate': 0.32061704921051926, 'n_estimators': 582, 'min_child_weight': 4, 'gamma': 0.15335255957963312, 'subsample': 0.9, 'colsample_bytree': 0.7, 'reg_alpha': 0.264277532579439, 'reg_lambda': 0.17288448149348587, 'random_state': 67}. Best is trial 11 with value: 34.398467840885935.\n"
     ]
    },
    {
     "name": "stdout",
     "output_type": "stream",
     "text": [
      "Fold 10 MAE: 36.865162463027254\n",
      "Mean MAE for all Folds: 36.80077602793899\n",
      "Training Fold 1...\n"
     ]
    },
    {
     "name": "stderr",
     "output_type": "stream",
     "text": [
      "/var/folders/y8/9glnt_6110xftbsjpdqd12280000gp/T/ipykernel_3270/1140765383.py:16: FutureWarning: suggest_discrete_uniform has been deprecated in v3.0.0. This feature will be removed in v6.0.0. See https://github.com/optuna/optuna/releases/tag/v3.0.0. Use suggest_float(..., step=...) instead.\n",
      "  \"subsample\": trial.suggest_discrete_uniform(\"subsample\", 0.6, 1.0, 0.05),  # Reduce the range\n",
      "/var/folders/y8/9glnt_6110xftbsjpdqd12280000gp/T/ipykernel_3270/1140765383.py:17: FutureWarning: suggest_discrete_uniform has been deprecated in v3.0.0. This feature will be removed in v6.0.0. See https://github.com/optuna/optuna/releases/tag/v3.0.0. Use suggest_float(..., step=...) instead.\n",
      "  \"colsample_bytree\": trial.suggest_discrete_uniform(\"colsample_bytree\", 0.6, 1.0, 0.05),  # Reduce the range\n"
     ]
    },
    {
     "name": "stdout",
     "output_type": "stream",
     "text": [
      "Fold 1 MAE: 35.6763814540713\n",
      "Training Fold 2...\n",
      "Fold 2 MAE: 33.34149471771157\n",
      "Training Fold 3...\n",
      "Fold 3 MAE: 35.6983569914886\n",
      "Training Fold 4...\n",
      "Fold 4 MAE: 33.24170717426288\n",
      "Training Fold 5...\n",
      "Fold 5 MAE: 35.57941269926289\n",
      "Training Fold 6...\n",
      "Fold 6 MAE: 36.47725427659356\n",
      "Training Fold 7...\n",
      "Fold 7 MAE: 36.013653939800534\n",
      "Training Fold 8...\n",
      "Fold 8 MAE: 34.932521615145156\n",
      "Training Fold 9...\n",
      "Fold 9 MAE: 35.622768122440334\n",
      "Training Fold 10...\n"
     ]
    },
    {
     "name": "stderr",
     "output_type": "stream",
     "text": [
      "[I 2023-11-09 13:52:56,230] Trial 14 finished with value: 35.14738030726224 and parameters: {'tree_method': 'hist', 'max_depth': 8, 'learning_rate': 0.04630504211260156, 'n_estimators': 803, 'min_child_weight': 3, 'gamma': 0.848851743574653, 'subsample': 0.95, 'colsample_bytree': 0.75, 'reg_alpha': 0.01451570174249553, 'reg_lambda': 0.16053242056681347, 'random_state': 680}. Best is trial 11 with value: 34.398467840885935.\n"
     ]
    },
    {
     "name": "stdout",
     "output_type": "stream",
     "text": [
      "Fold 10 MAE: 34.890252081845595\n",
      "Mean MAE for all Folds: 35.14738030726224\n",
      "Training Fold 1...\n"
     ]
    },
    {
     "name": "stderr",
     "output_type": "stream",
     "text": [
      "/var/folders/y8/9glnt_6110xftbsjpdqd12280000gp/T/ipykernel_3270/1140765383.py:16: FutureWarning: suggest_discrete_uniform has been deprecated in v3.0.0. This feature will be removed in v6.0.0. See https://github.com/optuna/optuna/releases/tag/v3.0.0. Use suggest_float(..., step=...) instead.\n",
      "  \"subsample\": trial.suggest_discrete_uniform(\"subsample\", 0.6, 1.0, 0.05),  # Reduce the range\n",
      "/var/folders/y8/9glnt_6110xftbsjpdqd12280000gp/T/ipykernel_3270/1140765383.py:17: FutureWarning: suggest_discrete_uniform has been deprecated in v3.0.0. This feature will be removed in v6.0.0. See https://github.com/optuna/optuna/releases/tag/v3.0.0. Use suggest_float(..., step=...) instead.\n",
      "  \"colsample_bytree\": trial.suggest_discrete_uniform(\"colsample_bytree\", 0.6, 1.0, 0.05),  # Reduce the range\n"
     ]
    },
    {
     "name": "stdout",
     "output_type": "stream",
     "text": [
      "Fold 1 MAE: 38.04233117807684\n",
      "Training Fold 2...\n",
      "Fold 2 MAE: 36.92571552461825\n",
      "Training Fold 3...\n",
      "Fold 3 MAE: 38.485419205169784\n",
      "Training Fold 4...\n",
      "Fold 4 MAE: 36.10685248410383\n",
      "Training Fold 5...\n",
      "Fold 5 MAE: 38.29750818058491\n",
      "Training Fold 6...\n",
      "Fold 6 MAE: 39.261292244464535\n",
      "Training Fold 7...\n",
      "Fold 7 MAE: 38.56820822148745\n",
      "Training Fold 8...\n",
      "Fold 8 MAE: 38.41511303352246\n",
      "Training Fold 9...\n",
      "Fold 9 MAE: 37.99192447488048\n",
      "Training Fold 10...\n"
     ]
    },
    {
     "name": "stderr",
     "output_type": "stream",
     "text": [
      "[I 2023-11-09 13:53:22,676] Trial 15 finished with value: 38.263633288118065 and parameters: {'tree_method': 'hist', 'max_depth': 9, 'learning_rate': 0.38039446784007314, 'n_estimators': 685, 'min_child_weight': 5, 'gamma': 0.875369294593748, 'subsample': 0.8, 'colsample_bytree': 0.6, 'reg_alpha': 0.14024898584668455, 'reg_lambda': 0.036197674180620545, 'random_state': 167}. Best is trial 11 with value: 34.398467840885935.\n"
     ]
    },
    {
     "name": "stdout",
     "output_type": "stream",
     "text": [
      "Fold 10 MAE: 40.54196833427211\n",
      "Mean MAE for all Folds: 38.263633288118065\n",
      "Training Fold 1...\n"
     ]
    },
    {
     "name": "stderr",
     "output_type": "stream",
     "text": [
      "/var/folders/y8/9glnt_6110xftbsjpdqd12280000gp/T/ipykernel_3270/1140765383.py:16: FutureWarning: suggest_discrete_uniform has been deprecated in v3.0.0. This feature will be removed in v6.0.0. See https://github.com/optuna/optuna/releases/tag/v3.0.0. Use suggest_float(..., step=...) instead.\n",
      "  \"subsample\": trial.suggest_discrete_uniform(\"subsample\", 0.6, 1.0, 0.05),  # Reduce the range\n",
      "/var/folders/y8/9glnt_6110xftbsjpdqd12280000gp/T/ipykernel_3270/1140765383.py:17: FutureWarning: suggest_discrete_uniform has been deprecated in v3.0.0. This feature will be removed in v6.0.0. See https://github.com/optuna/optuna/releases/tag/v3.0.0. Use suggest_float(..., step=...) instead.\n",
      "  \"colsample_bytree\": trial.suggest_discrete_uniform(\"colsample_bytree\", 0.6, 1.0, 0.05),  # Reduce the range\n"
     ]
    },
    {
     "name": "stdout",
     "output_type": "stream",
     "text": [
      "Fold 1 MAE: 35.9403923494716\n",
      "Training Fold 2...\n",
      "Fold 2 MAE: 33.78559203366212\n",
      "Training Fold 3...\n",
      "Fold 3 MAE: 35.61869310319276\n",
      "Training Fold 4...\n",
      "Fold 4 MAE: 33.33169297650348\n",
      "Training Fold 5...\n",
      "Fold 5 MAE: 35.42141442459969\n",
      "Training Fold 6...\n",
      "Fold 6 MAE: 37.0810562835839\n",
      "Training Fold 7...\n",
      "Fold 7 MAE: 36.00037475945479\n",
      "Training Fold 8...\n",
      "Fold 8 MAE: 35.230812107893875\n",
      "Training Fold 9...\n",
      "Fold 9 MAE: 35.2241764531843\n",
      "Training Fold 10...\n"
     ]
    },
    {
     "name": "stderr",
     "output_type": "stream",
     "text": [
      "[I 2023-11-09 13:53:45,278] Trial 16 finished with value: 35.30380338827562 and parameters: {'tree_method': 'hist', 'max_depth': 6, 'learning_rate': 0.13096009833720781, 'n_estimators': 854, 'min_child_weight': 7, 'gamma': 0.885367701666735, 'subsample': 0.85, 'colsample_bytree': 0.65, 'reg_alpha': 0.36383352134518665, 'reg_lambda': 0.16349766085180323, 'random_state': 993}. Best is trial 11 with value: 34.398467840885935.\n"
     ]
    },
    {
     "name": "stdout",
     "output_type": "stream",
     "text": [
      "Fold 10 MAE: 35.40382939120967\n",
      "Mean MAE for all Folds: 35.30380338827562\n",
      "Training Fold 1...\n"
     ]
    },
    {
     "name": "stderr",
     "output_type": "stream",
     "text": [
      "/var/folders/y8/9glnt_6110xftbsjpdqd12280000gp/T/ipykernel_3270/1140765383.py:16: FutureWarning: suggest_discrete_uniform has been deprecated in v3.0.0. This feature will be removed in v6.0.0. See https://github.com/optuna/optuna/releases/tag/v3.0.0. Use suggest_float(..., step=...) instead.\n",
      "  \"subsample\": trial.suggest_discrete_uniform(\"subsample\", 0.6, 1.0, 0.05),  # Reduce the range\n",
      "/var/folders/y8/9glnt_6110xftbsjpdqd12280000gp/T/ipykernel_3270/1140765383.py:17: FutureWarning: suggest_discrete_uniform has been deprecated in v3.0.0. This feature will be removed in v6.0.0. See https://github.com/optuna/optuna/releases/tag/v3.0.0. Use suggest_float(..., step=...) instead.\n",
      "  \"colsample_bytree\": trial.suggest_discrete_uniform(\"colsample_bytree\", 0.6, 1.0, 0.05),  # Reduce the range\n"
     ]
    },
    {
     "name": "stdout",
     "output_type": "stream",
     "text": [
      "Fold 1 MAE: 37.9864568068256\n",
      "Training Fold 2...\n",
      "Fold 2 MAE: 36.03867913617219\n",
      "Training Fold 3...\n",
      "Fold 3 MAE: 36.85953322564126\n",
      "Training Fold 4...\n",
      "Fold 4 MAE: 35.86816282464291\n",
      "Training Fold 5...\n",
      "Fold 5 MAE: 36.81251627964195\n",
      "Training Fold 6...\n",
      "Fold 6 MAE: 40.274684928984954\n",
      "Training Fold 7...\n",
      "Fold 7 MAE: 38.63783030003281\n",
      "Training Fold 8...\n",
      "Fold 8 MAE: 37.592140154045225\n",
      "Training Fold 9...\n",
      "Fold 9 MAE: 37.76536284261308\n",
      "Training Fold 10...\n"
     ]
    },
    {
     "name": "stderr",
     "output_type": "stream",
     "text": [
      "[I 2023-11-09 13:54:01,426] Trial 17 finished with value: 37.57898698160809 and parameters: {'tree_method': 'hist', 'max_depth': 7, 'learning_rate': 0.40651679079983427, 'n_estimators': 447, 'min_child_weight': 3, 'gamma': 0.9859154160660668, 'subsample': 0.95, 'colsample_bytree': 0.65, 'reg_alpha': 0.10911504296655954, 'reg_lambda': 0.3439412707721436, 'random_state': 572}. Best is trial 11 with value: 34.398467840885935.\n"
     ]
    },
    {
     "name": "stdout",
     "output_type": "stream",
     "text": [
      "Fold 10 MAE: 37.954503317480956\n",
      "Mean MAE for all Folds: 37.57898698160809\n",
      "Training Fold 1...\n"
     ]
    },
    {
     "name": "stderr",
     "output_type": "stream",
     "text": [
      "/var/folders/y8/9glnt_6110xftbsjpdqd12280000gp/T/ipykernel_3270/1140765383.py:16: FutureWarning: suggest_discrete_uniform has been deprecated in v3.0.0. This feature will be removed in v6.0.0. See https://github.com/optuna/optuna/releases/tag/v3.0.0. Use suggest_float(..., step=...) instead.\n",
      "  \"subsample\": trial.suggest_discrete_uniform(\"subsample\", 0.6, 1.0, 0.05),  # Reduce the range\n",
      "/var/folders/y8/9glnt_6110xftbsjpdqd12280000gp/T/ipykernel_3270/1140765383.py:17: FutureWarning: suggest_discrete_uniform has been deprecated in v3.0.0. This feature will be removed in v6.0.0. See https://github.com/optuna/optuna/releases/tag/v3.0.0. Use suggest_float(..., step=...) instead.\n",
      "  \"colsample_bytree\": trial.suggest_discrete_uniform(\"colsample_bytree\", 0.6, 1.0, 0.05),  # Reduce the range\n"
     ]
    },
    {
     "name": "stdout",
     "output_type": "stream",
     "text": [
      "Fold 1 MAE: 41.60304729682081\n",
      "Training Fold 2...\n",
      "Fold 2 MAE: 40.43229057690889\n",
      "Training Fold 3...\n",
      "Fold 3 MAE: 43.490125006428904\n",
      "Training Fold 4...\n",
      "Fold 4 MAE: 39.31146462372784\n",
      "Training Fold 5...\n",
      "Fold 5 MAE: 42.89180601053728\n",
      "Training Fold 6...\n",
      "Fold 6 MAE: 44.324083374735096\n",
      "Training Fold 7...\n",
      "Fold 7 MAE: 43.05146857531049\n",
      "Training Fold 8...\n",
      "Fold 8 MAE: 41.88087082139676\n",
      "Training Fold 9...\n",
      "Fold 9 MAE: 44.979001254473154\n",
      "Training Fold 10...\n"
     ]
    },
    {
     "name": "stderr",
     "output_type": "stream",
     "text": [
      "[I 2023-11-09 13:54:25,050] Trial 18 finished with value: 42.50567939792053 and parameters: {'tree_method': 'approx', 'max_depth': 9, 'learning_rate': 0.010506349594327731, 'n_estimators': 224, 'min_child_weight': 4, 'gamma': 0.8235931508984283, 'subsample': 0.85, 'colsample_bytree': 0.75, 'reg_alpha': 0.294066364575035, 'reg_lambda': 0.1282572933299062, 'random_state': 298}. Best is trial 11 with value: 34.398467840885935.\n"
     ]
    },
    {
     "name": "stdout",
     "output_type": "stream",
     "text": [
      "Fold 10 MAE: 43.09263643886617\n",
      "Mean MAE for all Folds: 42.50567939792053\n",
      "Training Fold 1...\n"
     ]
    },
    {
     "name": "stderr",
     "output_type": "stream",
     "text": [
      "/var/folders/y8/9glnt_6110xftbsjpdqd12280000gp/T/ipykernel_3270/1140765383.py:16: FutureWarning: suggest_discrete_uniform has been deprecated in v3.0.0. This feature will be removed in v6.0.0. See https://github.com/optuna/optuna/releases/tag/v3.0.0. Use suggest_float(..., step=...) instead.\n",
      "  \"subsample\": trial.suggest_discrete_uniform(\"subsample\", 0.6, 1.0, 0.05),  # Reduce the range\n",
      "/var/folders/y8/9glnt_6110xftbsjpdqd12280000gp/T/ipykernel_3270/1140765383.py:17: FutureWarning: suggest_discrete_uniform has been deprecated in v3.0.0. This feature will be removed in v6.0.0. See https://github.com/optuna/optuna/releases/tag/v3.0.0. Use suggest_float(..., step=...) instead.\n",
      "  \"colsample_bytree\": trial.suggest_discrete_uniform(\"colsample_bytree\", 0.6, 1.0, 0.05),  # Reduce the range\n"
     ]
    },
    {
     "name": "stdout",
     "output_type": "stream",
     "text": [
      "Fold 1 MAE: 36.22921551783029\n",
      "Training Fold 2...\n",
      "Fold 2 MAE: 33.65273933302472\n",
      "Training Fold 3...\n",
      "Fold 3 MAE: 35.067780369097726\n",
      "Training Fold 4...\n",
      "Fold 4 MAE: 33.3411219723219\n",
      "Training Fold 5...\n",
      "Fold 5 MAE: 36.365682354547275\n",
      "Training Fold 6...\n",
      "Fold 6 MAE: 36.72951914029973\n",
      "Training Fold 7...\n",
      "Fold 7 MAE: 35.58404787985717\n",
      "Training Fold 8...\n",
      "Fold 8 MAE: 35.287001138712206\n",
      "Training Fold 9...\n",
      "Fold 9 MAE: 35.0946152050463\n",
      "Training Fold 10...\n"
     ]
    },
    {
     "name": "stderr",
     "output_type": "stream",
     "text": [
      "[I 2023-11-09 13:54:59,595] Trial 19 finished with value: 35.22217103926098 and parameters: {'tree_method': 'hist', 'max_depth': 8, 'learning_rate': 0.1946624309535103, 'n_estimators': 930, 'min_child_weight': 2, 'gamma': 0.9015960288775782, 'subsample': 0.95, 'colsample_bytree': 0.6, 'reg_alpha': 0.19560828496803812, 'reg_lambda': 0.2509547578066989, 'random_state': 797}. Best is trial 11 with value: 34.398467840885935.\n"
     ]
    },
    {
     "name": "stdout",
     "output_type": "stream",
     "text": [
      "Fold 10 MAE: 34.86998748187247\n",
      "Mean MAE for all Folds: 35.22217103926098\n",
      "Training Fold 1...\n"
     ]
    },
    {
     "name": "stderr",
     "output_type": "stream",
     "text": [
      "/var/folders/y8/9glnt_6110xftbsjpdqd12280000gp/T/ipykernel_3270/1140765383.py:16: FutureWarning: suggest_discrete_uniform has been deprecated in v3.0.0. This feature will be removed in v6.0.0. See https://github.com/optuna/optuna/releases/tag/v3.0.0. Use suggest_float(..., step=...) instead.\n",
      "  \"subsample\": trial.suggest_discrete_uniform(\"subsample\", 0.6, 1.0, 0.05),  # Reduce the range\n",
      "/var/folders/y8/9glnt_6110xftbsjpdqd12280000gp/T/ipykernel_3270/1140765383.py:17: FutureWarning: suggest_discrete_uniform has been deprecated in v3.0.0. This feature will be removed in v6.0.0. See https://github.com/optuna/optuna/releases/tag/v3.0.0. Use suggest_float(..., step=...) instead.\n",
      "  \"colsample_bytree\": trial.suggest_discrete_uniform(\"colsample_bytree\", 0.6, 1.0, 0.05),  # Reduce the range\n"
     ]
    },
    {
     "name": "stdout",
     "output_type": "stream",
     "text": [
      "Fold 1 MAE: 36.49365121973802\n",
      "Training Fold 2...\n",
      "Fold 2 MAE: 33.91664031067029\n",
      "Training Fold 3...\n",
      "Fold 3 MAE: 35.891625530408994\n",
      "Training Fold 4...\n",
      "Fold 4 MAE: 33.8493240481915\n",
      "Training Fold 5...\n",
      "Fold 5 MAE: 35.397339305754855\n",
      "Training Fold 6...\n",
      "Fold 6 MAE: 38.477068475338655\n",
      "Training Fold 7...\n",
      "Fold 7 MAE: 36.21342595171626\n",
      "Training Fold 8...\n",
      "Fold 8 MAE: 35.73365091319673\n",
      "Training Fold 9...\n",
      "Fold 9 MAE: 36.14084377438838\n",
      "Training Fold 10...\n"
     ]
    },
    {
     "name": "stderr",
     "output_type": "stream",
     "text": [
      "[I 2023-11-09 13:55:19,268] Trial 20 finished with value: 35.82729008923825 and parameters: {'tree_method': 'hist', 'max_depth': 6, 'learning_rate': 0.11889987753702794, 'n_estimators': 662, 'min_child_weight': 7, 'gamma': 0.7757691537506824, 'subsample': 0.75, 'colsample_bytree': 0.8, 'reg_alpha': 0.022391858836537687, 'reg_lambda': 0.09139103771878454, 'random_state': 119}. Best is trial 11 with value: 34.398467840885935.\n"
     ]
    },
    {
     "name": "stdout",
     "output_type": "stream",
     "text": [
      "Fold 10 MAE: 36.159331362978754\n",
      "Mean MAE for all Folds: 35.82729008923825\n",
      "Training Fold 1...\n"
     ]
    },
    {
     "name": "stderr",
     "output_type": "stream",
     "text": [
      "/var/folders/y8/9glnt_6110xftbsjpdqd12280000gp/T/ipykernel_3270/1140765383.py:16: FutureWarning: suggest_discrete_uniform has been deprecated in v3.0.0. This feature will be removed in v6.0.0. See https://github.com/optuna/optuna/releases/tag/v3.0.0. Use suggest_float(..., step=...) instead.\n",
      "  \"subsample\": trial.suggest_discrete_uniform(\"subsample\", 0.6, 1.0, 0.05),  # Reduce the range\n",
      "/var/folders/y8/9glnt_6110xftbsjpdqd12280000gp/T/ipykernel_3270/1140765383.py:17: FutureWarning: suggest_discrete_uniform has been deprecated in v3.0.0. This feature will be removed in v6.0.0. See https://github.com/optuna/optuna/releases/tag/v3.0.0. Use suggest_float(..., step=...) instead.\n",
      "  \"colsample_bytree\": trial.suggest_discrete_uniform(\"colsample_bytree\", 0.6, 1.0, 0.05),  # Reduce the range\n"
     ]
    },
    {
     "name": "stdout",
     "output_type": "stream",
     "text": [
      "Fold 1 MAE: 36.04958017822578\n",
      "Training Fold 2...\n",
      "Fold 2 MAE: 34.09675220584154\n",
      "Training Fold 3...\n",
      "Fold 3 MAE: 36.97843508602901\n",
      "Training Fold 4...\n",
      "Fold 4 MAE: 33.99868966290404\n",
      "Training Fold 5...\n",
      "Fold 5 MAE: 35.86261194029858\n",
      "Training Fold 6...\n",
      "Fold 6 MAE: 37.64834395647328\n",
      "Training Fold 7...\n",
      "Fold 7 MAE: 36.62793763457981\n",
      "Training Fold 8...\n",
      "Fold 8 MAE: 35.37038655739557\n",
      "Training Fold 9...\n",
      "Fold 9 MAE: 36.9184350891714\n",
      "Training Fold 10...\n"
     ]
    },
    {
     "name": "stderr",
     "output_type": "stream",
     "text": [
      "[I 2023-11-09 13:55:52,093] Trial 21 finished with value: 36.00607795878071 and parameters: {'tree_method': 'hist', 'max_depth': 8, 'learning_rate': 0.013260722304988405, 'n_estimators': 794, 'min_child_weight': 3, 'gamma': 0.8786378915217246, 'subsample': 0.95, 'colsample_bytree': 0.75, 'reg_alpha': 0.022483165828243418, 'reg_lambda': 0.18098612821624765, 'random_state': 707}. Best is trial 11 with value: 34.398467840885935.\n"
     ]
    },
    {
     "name": "stdout",
     "output_type": "stream",
     "text": [
      "Fold 10 MAE: 36.50960727688806\n",
      "Mean MAE for all Folds: 36.00607795878071\n",
      "Training Fold 1...\n"
     ]
    },
    {
     "name": "stderr",
     "output_type": "stream",
     "text": [
      "/var/folders/y8/9glnt_6110xftbsjpdqd12280000gp/T/ipykernel_3270/1140765383.py:16: FutureWarning: suggest_discrete_uniform has been deprecated in v3.0.0. This feature will be removed in v6.0.0. See https://github.com/optuna/optuna/releases/tag/v3.0.0. Use suggest_float(..., step=...) instead.\n",
      "  \"subsample\": trial.suggest_discrete_uniform(\"subsample\", 0.6, 1.0, 0.05),  # Reduce the range\n",
      "/var/folders/y8/9glnt_6110xftbsjpdqd12280000gp/T/ipykernel_3270/1140765383.py:17: FutureWarning: suggest_discrete_uniform has been deprecated in v3.0.0. This feature will be removed in v6.0.0. See https://github.com/optuna/optuna/releases/tag/v3.0.0. Use suggest_float(..., step=...) instead.\n",
      "  \"colsample_bytree\": trial.suggest_discrete_uniform(\"colsample_bytree\", 0.6, 1.0, 0.05),  # Reduce the range\n"
     ]
    },
    {
     "name": "stdout",
     "output_type": "stream",
     "text": [
      "Fold 1 MAE: 34.053582220123964\n",
      "Training Fold 2...\n",
      "Fold 2 MAE: 32.240184264002046\n",
      "Training Fold 3...\n",
      "Fold 3 MAE: 33.64893986112613\n",
      "Training Fold 4...\n",
      "Fold 4 MAE: 32.757055834476404\n",
      "Training Fold 5...\n",
      "Fold 5 MAE: 34.87208677629325\n",
      "Training Fold 6...\n",
      "Fold 6 MAE: 35.554858020852656\n",
      "Training Fold 7...\n",
      "Fold 7 MAE: 34.50955383917613\n",
      "Training Fold 8...\n",
      "Fold 8 MAE: 33.52936318585731\n",
      "Training Fold 9...\n",
      "Fold 9 MAE: 34.22320345854752\n",
      "Training Fold 10...\n"
     ]
    },
    {
     "name": "stderr",
     "output_type": "stream",
     "text": [
      "[I 2023-11-09 13:56:32,477] Trial 22 finished with value: 33.95453864168369 and parameters: {'tree_method': 'hist', 'max_depth': 9, 'learning_rate': 0.09038270643978667, 'n_estimators': 888, 'min_child_weight': 5, 'gamma': 0.8071495517114979, 'subsample': 0.95, 'colsample_bytree': 0.65, 'reg_alpha': 0.0932396775171308, 'reg_lambda': 0.10992499048856053, 'random_state': 590}. Best is trial 22 with value: 33.95453864168369.\n"
     ]
    },
    {
     "name": "stdout",
     "output_type": "stream",
     "text": [
      "Fold 10 MAE: 34.15655895638152\n",
      "Mean MAE for all Folds: 33.95453864168369\n",
      "Training Fold 1...\n"
     ]
    },
    {
     "name": "stderr",
     "output_type": "stream",
     "text": [
      "/var/folders/y8/9glnt_6110xftbsjpdqd12280000gp/T/ipykernel_3270/1140765383.py:16: FutureWarning: suggest_discrete_uniform has been deprecated in v3.0.0. This feature will be removed in v6.0.0. See https://github.com/optuna/optuna/releases/tag/v3.0.0. Use suggest_float(..., step=...) instead.\n",
      "  \"subsample\": trial.suggest_discrete_uniform(\"subsample\", 0.6, 1.0, 0.05),  # Reduce the range\n",
      "/var/folders/y8/9glnt_6110xftbsjpdqd12280000gp/T/ipykernel_3270/1140765383.py:17: FutureWarning: suggest_discrete_uniform has been deprecated in v3.0.0. This feature will be removed in v6.0.0. See https://github.com/optuna/optuna/releases/tag/v3.0.0. Use suggest_float(..., step=...) instead.\n",
      "  \"colsample_bytree\": trial.suggest_discrete_uniform(\"colsample_bytree\", 0.6, 1.0, 0.05),  # Reduce the range\n"
     ]
    },
    {
     "name": "stdout",
     "output_type": "stream",
     "text": [
      "Fold 1 MAE: 35.27307212660773\n",
      "Training Fold 2...\n",
      "Fold 2 MAE: 32.01750665923456\n",
      "Training Fold 3...\n",
      "Fold 3 MAE: 33.947922085908274\n",
      "Training Fold 4...\n",
      "Fold 4 MAE: 32.78066944249118\n",
      "Training Fold 5...\n",
      "Fold 5 MAE: 34.451455036485335\n",
      "Training Fold 6...\n",
      "Fold 6 MAE: 36.18734390616815\n",
      "Training Fold 7...\n",
      "Fold 7 MAE: 34.23539259086408\n",
      "Training Fold 8...\n",
      "Fold 8 MAE: 33.90680244182111\n",
      "Training Fold 9...\n",
      "Fold 9 MAE: 33.74385606563731\n",
      "Training Fold 10...\n"
     ]
    },
    {
     "name": "stderr",
     "output_type": "stream",
     "text": [
      "[I 2023-11-09 13:57:15,733] Trial 23 finished with value: 34.057016610078314 and parameters: {'tree_method': 'hist', 'max_depth': 9, 'learning_rate': 0.10673659643489428, 'n_estimators': 996, 'min_child_weight': 6, 'gamma': 0.9295841693835445, 'subsample': 0.9, 'colsample_bytree': 0.65, 'reg_alpha': 0.1130598918958158, 'reg_lambda': 0.010071112019873929, 'random_state': 585}. Best is trial 22 with value: 33.95453864168369.\n"
     ]
    },
    {
     "name": "stdout",
     "output_type": "stream",
     "text": [
      "Fold 10 MAE: 34.026145745565366\n",
      "Mean MAE for all Folds: 34.057016610078314\n",
      "Training Fold 1...\n"
     ]
    },
    {
     "name": "stderr",
     "output_type": "stream",
     "text": [
      "/var/folders/y8/9glnt_6110xftbsjpdqd12280000gp/T/ipykernel_3270/1140765383.py:16: FutureWarning: suggest_discrete_uniform has been deprecated in v3.0.0. This feature will be removed in v6.0.0. See https://github.com/optuna/optuna/releases/tag/v3.0.0. Use suggest_float(..., step=...) instead.\n",
      "  \"subsample\": trial.suggest_discrete_uniform(\"subsample\", 0.6, 1.0, 0.05),  # Reduce the range\n",
      "/var/folders/y8/9glnt_6110xftbsjpdqd12280000gp/T/ipykernel_3270/1140765383.py:17: FutureWarning: suggest_discrete_uniform has been deprecated in v3.0.0. This feature will be removed in v6.0.0. See https://github.com/optuna/optuna/releases/tag/v3.0.0. Use suggest_float(..., step=...) instead.\n",
      "  \"colsample_bytree\": trial.suggest_discrete_uniform(\"colsample_bytree\", 0.6, 1.0, 0.05),  # Reduce the range\n"
     ]
    },
    {
     "name": "stdout",
     "output_type": "stream",
     "text": [
      "Fold 1 MAE: 37.00077862822676\n",
      "Training Fold 2...\n",
      "Fold 2 MAE: 34.093704299034485\n",
      "Training Fold 3...\n",
      "Fold 3 MAE: 35.679972177785984\n",
      "Training Fold 4...\n",
      "Fold 4 MAE: 33.72154815560285\n",
      "Training Fold 5...\n",
      "Fold 5 MAE: 35.673387302742334\n",
      "Training Fold 6...\n",
      "Fold 6 MAE: 37.484088514264535\n",
      "Training Fold 7...\n",
      "Fold 7 MAE: 35.493888255337794\n",
      "Training Fold 8...\n",
      "Fold 8 MAE: 35.792132580295565\n",
      "Training Fold 9...\n",
      "Fold 9 MAE: 34.705021830150976\n",
      "Training Fold 10...\n"
     ]
    },
    {
     "name": "stderr",
     "output_type": "stream",
     "text": [
      "[I 2023-11-09 13:57:56,957] Trial 24 finished with value: 35.475072370349565 and parameters: {'tree_method': 'hist', 'max_depth': 10, 'learning_rate': 0.23985104180151182, 'n_estimators': 888, 'min_child_weight': 6, 'gamma': 0.943492916320948, 'subsample': 1.0, 'colsample_bytree': 0.65, 'reg_alpha': 0.0948009019213566, 'reg_lambda': 0.04901548137091361, 'random_state': 547}. Best is trial 22 with value: 33.95453864168369.\n"
     ]
    },
    {
     "name": "stdout",
     "output_type": "stream",
     "text": [
      "Fold 10 MAE: 35.10620196005441\n",
      "Mean MAE for all Folds: 35.475072370349565\n",
      "Training Fold 1...\n"
     ]
    },
    {
     "name": "stderr",
     "output_type": "stream",
     "text": [
      "/var/folders/y8/9glnt_6110xftbsjpdqd12280000gp/T/ipykernel_3270/1140765383.py:16: FutureWarning: suggest_discrete_uniform has been deprecated in v3.0.0. This feature will be removed in v6.0.0. See https://github.com/optuna/optuna/releases/tag/v3.0.0. Use suggest_float(..., step=...) instead.\n",
      "  \"subsample\": trial.suggest_discrete_uniform(\"subsample\", 0.6, 1.0, 0.05),  # Reduce the range\n",
      "/var/folders/y8/9glnt_6110xftbsjpdqd12280000gp/T/ipykernel_3270/1140765383.py:17: FutureWarning: suggest_discrete_uniform has been deprecated in v3.0.0. This feature will be removed in v6.0.0. See https://github.com/optuna/optuna/releases/tag/v3.0.0. Use suggest_float(..., step=...) instead.\n",
      "  \"colsample_bytree\": trial.suggest_discrete_uniform(\"colsample_bytree\", 0.6, 1.0, 0.05),  # Reduce the range\n"
     ]
    },
    {
     "name": "stdout",
     "output_type": "stream",
     "text": [
      "Fold 1 MAE: 34.352853918398544\n",
      "Training Fold 2...\n",
      "Fold 2 MAE: 32.790312267382156\n",
      "Training Fold 3...\n",
      "Fold 3 MAE: 34.21160210993045\n",
      "Training Fold 4...\n",
      "Fold 4 MAE: 31.800250080723202\n",
      "Training Fold 5...\n",
      "Fold 5 MAE: 34.21923060851806\n",
      "Training Fold 6...\n",
      "Fold 6 MAE: 35.96304490033938\n",
      "Training Fold 7...\n",
      "Fold 7 MAE: 34.73055739727525\n",
      "Training Fold 8...\n",
      "Fold 8 MAE: 32.89701414115745\n",
      "Training Fold 9...\n",
      "Fold 9 MAE: 34.350024986160534\n",
      "Training Fold 10...\n"
     ]
    },
    {
     "name": "stderr",
     "output_type": "stream",
     "text": [
      "[I 2023-11-09 13:58:34,280] Trial 25 finished with value: 33.96619668203619 and parameters: {'tree_method': 'hist', 'max_depth': 9, 'learning_rate': 0.08958351285525644, 'n_estimators': 912, 'min_child_weight': 8, 'gamma': 0.8083582732419579, 'subsample': 0.85, 'colsample_bytree': 0.7, 'reg_alpha': 0.09626879946355696, 'reg_lambda': 0.014024996334836833, 'random_state': 389}. Best is trial 22 with value: 33.95453864168369.\n"
     ]
    },
    {
     "name": "stdout",
     "output_type": "stream",
     "text": [
      "Fold 10 MAE: 34.347076410476845\n",
      "Mean MAE for all Folds: 33.96619668203619\n",
      "Training Fold 1...\n"
     ]
    },
    {
     "name": "stderr",
     "output_type": "stream",
     "text": [
      "/var/folders/y8/9glnt_6110xftbsjpdqd12280000gp/T/ipykernel_3270/1140765383.py:16: FutureWarning: suggest_discrete_uniform has been deprecated in v3.0.0. This feature will be removed in v6.0.0. See https://github.com/optuna/optuna/releases/tag/v3.0.0. Use suggest_float(..., step=...) instead.\n",
      "  \"subsample\": trial.suggest_discrete_uniform(\"subsample\", 0.6, 1.0, 0.05),  # Reduce the range\n",
      "/var/folders/y8/9glnt_6110xftbsjpdqd12280000gp/T/ipykernel_3270/1140765383.py:17: FutureWarning: suggest_discrete_uniform has been deprecated in v3.0.0. This feature will be removed in v6.0.0. See https://github.com/optuna/optuna/releases/tag/v3.0.0. Use suggest_float(..., step=...) instead.\n",
      "  \"colsample_bytree\": trial.suggest_discrete_uniform(\"colsample_bytree\", 0.6, 1.0, 0.05),  # Reduce the range\n"
     ]
    },
    {
     "name": "stdout",
     "output_type": "stream",
     "text": [
      "Fold 1 MAE: 34.793827036934694\n",
      "Training Fold 2...\n",
      "Fold 2 MAE: 32.94915305000531\n",
      "Training Fold 3...\n",
      "Fold 3 MAE: 35.55822745700525\n",
      "Training Fold 4...\n",
      "Fold 4 MAE: 31.694020721793812\n",
      "Training Fold 5...\n",
      "Fold 5 MAE: 34.46395091106169\n",
      "Training Fold 6...\n",
      "Fold 6 MAE: 36.52442129197715\n",
      "Training Fold 7...\n",
      "Fold 7 MAE: 34.920320926068726\n",
      "Training Fold 8...\n",
      "Fold 8 MAE: 34.36845943700218\n",
      "Training Fold 9...\n",
      "Fold 9 MAE: 34.60743496104043\n",
      "Training Fold 10...\n"
     ]
    },
    {
     "name": "stderr",
     "output_type": "stream",
     "text": [
      "[I 2023-11-09 13:59:29,296] Trial 26 finished with value: 34.421945042589144 and parameters: {'tree_method': 'approx', 'max_depth': 9, 'learning_rate': 0.1581372381855409, 'n_estimators': 743, 'min_child_weight': 9, 'gamma': 0.7872331665608311, 'subsample': 0.85, 'colsample_bytree': 0.7, 'reg_alpha': 0.34359212645526005, 'reg_lambda': 0.01853859774190606, 'random_state': 366}. Best is trial 22 with value: 33.95453864168369.\n"
     ]
    },
    {
     "name": "stdout",
     "output_type": "stream",
     "text": [
      "Fold 10 MAE: 34.339634633002134\n",
      "Mean MAE for all Folds: 34.421945042589144\n",
      "Training Fold 1...\n"
     ]
    },
    {
     "name": "stderr",
     "output_type": "stream",
     "text": [
      "/var/folders/y8/9glnt_6110xftbsjpdqd12280000gp/T/ipykernel_3270/1140765383.py:16: FutureWarning: suggest_discrete_uniform has been deprecated in v3.0.0. This feature will be removed in v6.0.0. See https://github.com/optuna/optuna/releases/tag/v3.0.0. Use suggest_float(..., step=...) instead.\n",
      "  \"subsample\": trial.suggest_discrete_uniform(\"subsample\", 0.6, 1.0, 0.05),  # Reduce the range\n",
      "/var/folders/y8/9glnt_6110xftbsjpdqd12280000gp/T/ipykernel_3270/1140765383.py:17: FutureWarning: suggest_discrete_uniform has been deprecated in v3.0.0. This feature will be removed in v6.0.0. See https://github.com/optuna/optuna/releases/tag/v3.0.0. Use suggest_float(..., step=...) instead.\n",
      "  \"colsample_bytree\": trial.suggest_discrete_uniform(\"colsample_bytree\", 0.6, 1.0, 0.05),  # Reduce the range\n"
     ]
    },
    {
     "name": "stdout",
     "output_type": "stream",
     "text": [
      "Fold 1 MAE: 33.47920640642074\n",
      "Training Fold 2...\n",
      "Fold 2 MAE: 31.604814364578917\n",
      "Training Fold 3...\n",
      "Fold 3 MAE: 32.771197314793234\n",
      "Training Fold 4...\n",
      "Fold 4 MAE: 31.595876872540337\n",
      "Training Fold 5...\n",
      "Fold 5 MAE: 33.3025450454912\n",
      "Training Fold 6...\n",
      "Fold 6 MAE: 35.09288945350026\n",
      "Training Fold 7...\n",
      "Fold 7 MAE: 33.90288726455779\n",
      "Training Fold 8...\n",
      "Fold 8 MAE: 32.78670880748797\n",
      "Training Fold 9...\n",
      "Fold 9 MAE: 33.545767920359445\n",
      "Training Fold 10...\n"
     ]
    },
    {
     "name": "stderr",
     "output_type": "stream",
     "text": [
      "[I 2023-11-09 14:00:13,597] Trial 27 finished with value: 33.24976193865119 and parameters: {'tree_method': 'hist', 'max_depth': 10, 'learning_rate': 0.07624502359475183, 'n_estimators': 896, 'min_child_weight': 8, 'gamma': 0.6771617670309898, 'subsample': 0.75, 'colsample_bytree': 0.7, 'reg_alpha': 0.2159395727350103, 'reg_lambda': 0.09455821923800146, 'random_state': 583}. Best is trial 27 with value: 33.24976193865119.\n"
     ]
    },
    {
     "name": "stdout",
     "output_type": "stream",
     "text": [
      "Fold 10 MAE: 34.41572593678198\n",
      "Mean MAE for all Folds: 33.24976193865119\n",
      "Training Fold 1...\n"
     ]
    },
    {
     "name": "stderr",
     "output_type": "stream",
     "text": [
      "/var/folders/y8/9glnt_6110xftbsjpdqd12280000gp/T/ipykernel_3270/1140765383.py:16: FutureWarning: suggest_discrete_uniform has been deprecated in v3.0.0. This feature will be removed in v6.0.0. See https://github.com/optuna/optuna/releases/tag/v3.0.0. Use suggest_float(..., step=...) instead.\n",
      "  \"subsample\": trial.suggest_discrete_uniform(\"subsample\", 0.6, 1.0, 0.05),  # Reduce the range\n",
      "/var/folders/y8/9glnt_6110xftbsjpdqd12280000gp/T/ipykernel_3270/1140765383.py:17: FutureWarning: suggest_discrete_uniform has been deprecated in v3.0.0. This feature will be removed in v6.0.0. See https://github.com/optuna/optuna/releases/tag/v3.0.0. Use suggest_float(..., step=...) instead.\n",
      "  \"colsample_bytree\": trial.suggest_discrete_uniform(\"colsample_bytree\", 0.6, 1.0, 0.05),  # Reduce the range\n"
     ]
    },
    {
     "name": "stdout",
     "output_type": "stream",
     "text": [
      "Fold 1 MAE: 35.547170408148986\n",
      "Training Fold 2...\n",
      "Fold 2 MAE: 35.01689365827973\n",
      "Training Fold 3...\n",
      "Fold 3 MAE: 34.82052806752939\n",
      "Training Fold 4...\n",
      "Fold 4 MAE: 33.8739813374177\n",
      "Training Fold 5...\n",
      "Fold 5 MAE: 36.13456291253561\n",
      "Training Fold 6...\n",
      "Fold 6 MAE: 37.18646220653541\n",
      "Training Fold 7...\n",
      "Fold 7 MAE: 36.7102536356717\n",
      "Training Fold 8...\n",
      "Fold 8 MAE: 36.07220226701646\n",
      "Training Fold 9...\n",
      "Fold 9 MAE: 36.569771850445704\n",
      "Training Fold 10...\n"
     ]
    },
    {
     "name": "stderr",
     "output_type": "stream",
     "text": [
      "[I 2023-11-09 14:00:56,017] Trial 28 finished with value: 35.92698755019459 and parameters: {'tree_method': 'hist', 'max_depth': 10, 'learning_rate': 0.28117548132127634, 'n_estimators': 866, 'min_child_weight': 8, 'gamma': 0.6817496385105604, 'subsample': 0.75, 'colsample_bytree': 0.8, 'reg_alpha': 0.24348029471432125, 'reg_lambda': 0.2228595880070759, 'random_state': 505}. Best is trial 27 with value: 33.24976193865119.\n"
     ]
    },
    {
     "name": "stdout",
     "output_type": "stream",
     "text": [
      "Fold 10 MAE: 37.33804915836515\n",
      "Mean MAE for all Folds: 35.92698755019459\n",
      "Training Fold 1...\n"
     ]
    },
    {
     "name": "stderr",
     "output_type": "stream",
     "text": [
      "/var/folders/y8/9glnt_6110xftbsjpdqd12280000gp/T/ipykernel_3270/1140765383.py:16: FutureWarning: suggest_discrete_uniform has been deprecated in v3.0.0. This feature will be removed in v6.0.0. See https://github.com/optuna/optuna/releases/tag/v3.0.0. Use suggest_float(..., step=...) instead.\n",
      "  \"subsample\": trial.suggest_discrete_uniform(\"subsample\", 0.6, 1.0, 0.05),  # Reduce the range\n",
      "/var/folders/y8/9glnt_6110xftbsjpdqd12280000gp/T/ipykernel_3270/1140765383.py:17: FutureWarning: suggest_discrete_uniform has been deprecated in v3.0.0. This feature will be removed in v6.0.0. See https://github.com/optuna/optuna/releases/tag/v3.0.0. Use suggest_float(..., step=...) instead.\n",
      "  \"colsample_bytree\": trial.suggest_discrete_uniform(\"colsample_bytree\", 0.6, 1.0, 0.05),  # Reduce the range\n"
     ]
    },
    {
     "name": "stdout",
     "output_type": "stream",
     "text": [
      "Fold 1 MAE: 34.994183639842355\n",
      "Training Fold 2...\n",
      "Fold 2 MAE: 32.86541396773946\n",
      "Training Fold 3...\n",
      "Fold 3 MAE: 33.24690727861646\n",
      "Training Fold 4...\n",
      "Fold 4 MAE: 32.56099351892569\n",
      "Training Fold 5...\n",
      "Fold 5 MAE: 34.72467900352534\n",
      "Training Fold 6...\n",
      "Fold 6 MAE: 35.53915248419287\n",
      "Training Fold 7...\n",
      "Fold 7 MAE: 35.108060115809245\n",
      "Training Fold 8...\n",
      "Fold 8 MAE: 33.799266610586336\n",
      "Training Fold 9...\n",
      "Fold 9 MAE: 33.70400237232585\n",
      "Training Fold 10...\n"
     ]
    },
    {
     "name": "stderr",
     "output_type": "stream",
     "text": [
      "[I 2023-11-09 14:01:22,052] Trial 29 finished with value: 34.061015356231266 and parameters: {'tree_method': 'hist', 'max_depth': 10, 'learning_rate': 0.09214226913891382, 'n_estimators': 559, 'min_child_weight': 9, 'gamma': 0.7108314281983517, 'subsample': 0.7, 'colsample_bytree': 0.75, 'reg_alpha': 0.1911678842656434, 'reg_lambda': 0.26606957916976376, 'random_state': 648}. Best is trial 27 with value: 33.24976193865119.\n"
     ]
    },
    {
     "name": "stdout",
     "output_type": "stream",
     "text": [
      "Fold 10 MAE: 34.06749457074909\n",
      "Mean MAE for all Folds: 34.061015356231266\n",
      "Optimization complete!\n"
     ]
    }
   ],
   "source": [
    "study3 = optuna.create_study(direction=\"minimize\")\n",
    "\n",
    "# Optimize the objective function\n",
    "print(\"Optimizing hyperparameters...\")\n",
    "study3.optimize(get_objective(X=X_3,y=y_3 ), n_trials=30)\n",
    "print(\"Optimization complete!\")\n",
    "predictor3 = XGBRegressor(**study3.best_params).fit(X_3, y_3)\n"
   ]
  },
  {
   "cell_type": "code",
   "execution_count": 15,
   "metadata": {},
   "outputs": [],
   "source": [
    "test1 = pipin.get_test_data(\"A\")\n",
    "test2 = pipin.get_test_data(\"B\")\n",
    "test3 = pipin.get_test_data(\"C\")\n",
    "\n",
    "test1 = pipin.drop_columns(test1)\n",
    "test2 = pipin.drop_columns(test2)\n",
    "test3 = pipin.drop_columns(test3)"
   ]
  },
  {
   "cell_type": "code",
   "execution_count": 16,
   "metadata": {},
   "outputs": [
    {
     "data": {
      "text/plain": [
       "(220, 1)"
      ]
     },
     "execution_count": 16,
     "metadata": {},
     "output_type": "execute_result"
    }
   ],
   "source": [
    "pred1 = pd.DataFrame(predictor1.predict(test1), columns=[\"pv_measurement\"])\n",
    "pred2 = pd.DataFrame(predictor2.predict(test2), columns=[\"pv_measurement\"])\n",
    "pred3 = pd.DataFrame(predictor3.predict(test3), columns=[\"pv_measurement\"])\n",
    "negatives_pred1 = pred1[pred1[\"pv_measurement\"] < 0]\n",
    "negatives_pred2 = pred2[pred2[\"pv_measurement\"] < 0]\n",
    "negatives_pred3 = pred3[pred3[\"pv_measurement\"] < 0]\n",
    "neg = pd.concat([negatives_pred1, negatives_pred2, negatives_pred3])\n",
    "neg.shape"
   ]
  },
  {
   "cell_type": "code",
   "execution_count": 17,
   "metadata": {},
   "outputs": [],
   "source": [
    "pred = pd.concat([pred1, pred2, pred3])\n",
    "final_prediction = pipin.post_processing(pred, prediction_column=\"pv_measurement\")\n",
    "final_prediction.to_csv('submissions/XGB_143_pipeline.csv')"
   ]
  },
  {
   "cell_type": "code",
   "execution_count": 18,
   "metadata": {},
   "outputs": [
    {
     "data": {
      "text/plain": [
       "61.68391307432472"
      ]
     },
     "execution_count": 18,
     "metadata": {},
     "output_type": "execute_result"
    }
   ],
   "source": [
    "diff = pipin.compare_mae(final_prediction)\n",
    "diff"
   ]
  },
  {
   "cell_type": "code",
   "execution_count": 19,
   "metadata": {},
   "outputs": [],
   "source": [
    "# predictor.evaluate(df1, silent=True)"
   ]
  }
 ],
 "metadata": {
  "kernelspec": {
   "display_name": "gluon",
   "language": "python",
   "name": "python3"
  },
  "language_info": {
   "codemirror_mode": {
    "name": "ipython",
    "version": 3
   },
   "file_extension": ".py",
   "mimetype": "text/x-python",
   "name": "python",
   "nbconvert_exporter": "python",
   "pygments_lexer": "ipython3",
   "version": "3.11.4"
  }
 },
 "nbformat": 4,
 "nbformat_minor": 2
}
