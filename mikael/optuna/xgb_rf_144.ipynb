{
 "cells": [
  {
   "cell_type": "markdown",
   "metadata": {},
   "source": [
    "<h3> prøver å gjenskape henning sin 143.</h3>\n",
    "<p><p>"
   ]
  },
  {
   "cell_type": "code",
   "execution_count": 1,
   "metadata": {},
   "outputs": [],
   "source": [
    "%load_ext autoreload"
   ]
  },
  {
   "cell_type": "code",
   "execution_count": 2,
   "metadata": {},
   "outputs": [
    {
     "name": "stderr",
     "output_type": "stream",
     "text": [
      "/Users/miksx/.pyenv/versions/3.11.4/envs/machinelearning/lib/python3.11/site-packages/tqdm/auto.py:21: TqdmWarning: IProgress not found. Please update jupyter and ipywidgets. See https://ipywidgets.readthedocs.io/en/stable/user_install.html\n",
      "  from .autonotebook import tqdm as notebook_tqdm\n"
     ]
    }
   ],
   "source": [
    "from sklearn.model_selection import KFold\n",
    "import optuna\n",
    "optuna.logging.set_verbosity(optuna.logging.INFO)\n",
    "\n",
    "from sklearn.metrics import mean_absolute_error\n",
    "from xgboost import XGBRFRegressor\n",
    "import pandas as pd\n",
    "import numpy as np"
   ]
  },
  {
   "cell_type": "code",
   "execution_count": 3,
   "metadata": {},
   "outputs": [
    {
     "name": "stdout",
     "output_type": "stream",
     "text": [
      "Current working directory: /Users/miksx/GitHub/Forest-Gump/mikael/optuna\n"
     ]
    }
   ],
   "source": [
    "%autoreload\n",
    "from pipeline import Pipeline\n",
    "pipin = Pipeline()"
   ]
  },
  {
   "cell_type": "code",
   "execution_count": 4,
   "metadata": {},
   "outputs": [],
   "source": [
    "df1_0 = pipin.get_data(\"A\")\n",
    "df2_0 = pipin.get_data(\"B\")\n",
    "df3_0 = pipin.get_data(\"C\")"
   ]
  },
  {
   "cell_type": "code",
   "execution_count": 5,
   "metadata": {},
   "outputs": [],
   "source": [
    "# remove_consecutive_measurments\n",
    "# 6/24\n",
    "# dette skal prøve å gjenskape henning sin\n",
    "df1_0 = pipin.remove_consecutive_measurments_new(df1_0, 4, 12)\n",
    "df2_0 = pipin.remove_consecutive_measurments_new(df2_0, 4, 12)\n",
    "df3_0 = pipin.remove_consecutive_measurments_new(df3_0, 4, 12)"
   ]
  },
  {
   "cell_type": "code",
   "execution_count": 6,
   "metadata": {},
   "outputs": [
    {
     "name": "stdout",
     "output_type": "stream",
     "text": [
      "(23231, 47) (15838, 47) (13238, 47)\n"
     ]
    }
   ],
   "source": [
    "df1_0 = pipin.drop_columns(df1_0)\n",
    "df2_0 = pipin.drop_columns(df2_0)\n",
    "df3_0 = pipin.drop_columns(df3_0)\n",
    "print(df1_0.shape, df2_0.shape, df3_0.shape)"
   ]
  },
  {
   "cell_type": "code",
   "execution_count": 7,
   "metadata": {},
   "outputs": [
    {
     "data": {
      "text/html": [
       "<div>\n",
       "<style scoped>\n",
       "    .dataframe tbody tr th:only-of-type {\n",
       "        vertical-align: middle;\n",
       "    }\n",
       "\n",
       "    .dataframe tbody tr th {\n",
       "        vertical-align: top;\n",
       "    }\n",
       "\n",
       "    .dataframe thead th {\n",
       "        text-align: right;\n",
       "    }\n",
       "</style>\n",
       "<table border=\"1\" class=\"dataframe\">\n",
       "  <thead>\n",
       "    <tr style=\"text-align: right;\">\n",
       "      <th></th>\n",
       "      <th>absolute_humidity_2m:gm3</th>\n",
       "      <th>air_density_2m:kgm3</th>\n",
       "      <th>ceiling_height_agl:m</th>\n",
       "      <th>clear_sky_energy_1h:J</th>\n",
       "      <th>clear_sky_rad:W</th>\n",
       "      <th>cloud_base_agl:m</th>\n",
       "      <th>dew_or_rime:idx</th>\n",
       "      <th>dew_point_2m:K</th>\n",
       "      <th>diffuse_rad:W</th>\n",
       "      <th>diffuse_rad_1h:J</th>\n",
       "      <th>...</th>\n",
       "      <th>super_cooled_liquid_water:kgm2</th>\n",
       "      <th>t_1000hPa:K</th>\n",
       "      <th>total_cloud_cover:p</th>\n",
       "      <th>visibility:m</th>\n",
       "      <th>wind_speed_10m:ms</th>\n",
       "      <th>estimated</th>\n",
       "      <th>observed</th>\n",
       "      <th>day_of_year</th>\n",
       "      <th>hour</th>\n",
       "      <th>pv_measurement</th>\n",
       "    </tr>\n",
       "  </thead>\n",
       "  <tbody>\n",
       "    <tr>\n",
       "      <th>0</th>\n",
       "      <td>7.700</td>\n",
       "      <td>1.22825</td>\n",
       "      <td>1728.949951</td>\n",
       "      <td>0.000000</td>\n",
       "      <td>0.00</td>\n",
       "      <td>1728.949951</td>\n",
       "      <td>0.0</td>\n",
       "      <td>280.299988</td>\n",
       "      <td>0.000</td>\n",
       "      <td>0.000000</td>\n",
       "      <td>...</td>\n",
       "      <td>0.0</td>\n",
       "      <td>286.225006</td>\n",
       "      <td>100.000000</td>\n",
       "      <td>40386.476562</td>\n",
       "      <td>3.600</td>\n",
       "      <td>0.0</td>\n",
       "      <td>1.0</td>\n",
       "      <td>153.0</td>\n",
       "      <td>22.0</td>\n",
       "      <td>0.00</td>\n",
       "    </tr>\n",
       "    <tr>\n",
       "      <th>1</th>\n",
       "      <td>7.700</td>\n",
       "      <td>1.22350</td>\n",
       "      <td>1689.824951</td>\n",
       "      <td>0.000000</td>\n",
       "      <td>0.00</td>\n",
       "      <td>1689.824951</td>\n",
       "      <td>0.0</td>\n",
       "      <td>280.299988</td>\n",
       "      <td>0.000</td>\n",
       "      <td>0.000000</td>\n",
       "      <td>...</td>\n",
       "      <td>0.0</td>\n",
       "      <td>286.899994</td>\n",
       "      <td>100.000000</td>\n",
       "      <td>33770.648438</td>\n",
       "      <td>3.350</td>\n",
       "      <td>0.0</td>\n",
       "      <td>1.0</td>\n",
       "      <td>153.0</td>\n",
       "      <td>23.0</td>\n",
       "      <td>0.00</td>\n",
       "    </tr>\n",
       "    <tr>\n",
       "      <th>2</th>\n",
       "      <td>7.875</td>\n",
       "      <td>1.21975</td>\n",
       "      <td>1563.224976</td>\n",
       "      <td>0.000000</td>\n",
       "      <td>0.00</td>\n",
       "      <td>1563.224976</td>\n",
       "      <td>0.0</td>\n",
       "      <td>280.649994</td>\n",
       "      <td>0.000</td>\n",
       "      <td>0.000000</td>\n",
       "      <td>...</td>\n",
       "      <td>0.0</td>\n",
       "      <td>286.950012</td>\n",
       "      <td>100.000000</td>\n",
       "      <td>13595.500000</td>\n",
       "      <td>3.050</td>\n",
       "      <td>0.0</td>\n",
       "      <td>1.0</td>\n",
       "      <td>154.0</td>\n",
       "      <td>0.0</td>\n",
       "      <td>0.00</td>\n",
       "    </tr>\n",
       "    <tr>\n",
       "      <th>3</th>\n",
       "      <td>8.425</td>\n",
       "      <td>1.21800</td>\n",
       "      <td>1283.425049</td>\n",
       "      <td>208.649994</td>\n",
       "      <td>0.75</td>\n",
       "      <td>1283.425049</td>\n",
       "      <td>0.0</td>\n",
       "      <td>281.674988</td>\n",
       "      <td>0.300</td>\n",
       "      <td>526.775024</td>\n",
       "      <td>...</td>\n",
       "      <td>0.0</td>\n",
       "      <td>286.750000</td>\n",
       "      <td>100.000000</td>\n",
       "      <td>2321.850098</td>\n",
       "      <td>2.725</td>\n",
       "      <td>0.0</td>\n",
       "      <td>1.0</td>\n",
       "      <td>154.0</td>\n",
       "      <td>1.0</td>\n",
       "      <td>0.00</td>\n",
       "    </tr>\n",
       "    <tr>\n",
       "      <th>4</th>\n",
       "      <td>8.950</td>\n",
       "      <td>1.21800</td>\n",
       "      <td>1003.500000</td>\n",
       "      <td>32468.150391</td>\n",
       "      <td>23.10</td>\n",
       "      <td>1003.500000</td>\n",
       "      <td>0.0</td>\n",
       "      <td>282.500000</td>\n",
       "      <td>11.975</td>\n",
       "      <td>22068.949219</td>\n",
       "      <td>...</td>\n",
       "      <td>0.0</td>\n",
       "      <td>286.450012</td>\n",
       "      <td>99.224998</td>\n",
       "      <td>11634.799805</td>\n",
       "      <td>2.550</td>\n",
       "      <td>0.0</td>\n",
       "      <td>1.0</td>\n",
       "      <td>154.0</td>\n",
       "      <td>2.0</td>\n",
       "      <td>19.36</td>\n",
       "    </tr>\n",
       "  </tbody>\n",
       "</table>\n",
       "<p>5 rows × 47 columns</p>\n",
       "</div>"
      ],
      "text/plain": [
       "   absolute_humidity_2m:gm3  air_density_2m:kgm3  ceiling_height_agl:m  \\\n",
       "0                     7.700              1.22825           1728.949951   \n",
       "1                     7.700              1.22350           1689.824951   \n",
       "2                     7.875              1.21975           1563.224976   \n",
       "3                     8.425              1.21800           1283.425049   \n",
       "4                     8.950              1.21800           1003.500000   \n",
       "\n",
       "   clear_sky_energy_1h:J  clear_sky_rad:W  cloud_base_agl:m  dew_or_rime:idx  \\\n",
       "0               0.000000             0.00       1728.949951              0.0   \n",
       "1               0.000000             0.00       1689.824951              0.0   \n",
       "2               0.000000             0.00       1563.224976              0.0   \n",
       "3             208.649994             0.75       1283.425049              0.0   \n",
       "4           32468.150391            23.10       1003.500000              0.0   \n",
       "\n",
       "   dew_point_2m:K  diffuse_rad:W  diffuse_rad_1h:J  ...  \\\n",
       "0      280.299988          0.000          0.000000  ...   \n",
       "1      280.299988          0.000          0.000000  ...   \n",
       "2      280.649994          0.000          0.000000  ...   \n",
       "3      281.674988          0.300        526.775024  ...   \n",
       "4      282.500000         11.975      22068.949219  ...   \n",
       "\n",
       "   super_cooled_liquid_water:kgm2  t_1000hPa:K  total_cloud_cover:p  \\\n",
       "0                             0.0   286.225006           100.000000   \n",
       "1                             0.0   286.899994           100.000000   \n",
       "2                             0.0   286.950012           100.000000   \n",
       "3                             0.0   286.750000           100.000000   \n",
       "4                             0.0   286.450012            99.224998   \n",
       "\n",
       "   visibility:m  wind_speed_10m:ms  estimated  observed  day_of_year  hour  \\\n",
       "0  40386.476562              3.600        0.0       1.0        153.0  22.0   \n",
       "1  33770.648438              3.350        0.0       1.0        153.0  23.0   \n",
       "2  13595.500000              3.050        0.0       1.0        154.0   0.0   \n",
       "3   2321.850098              2.725        0.0       1.0        154.0   1.0   \n",
       "4  11634.799805              2.550        0.0       1.0        154.0   2.0   \n",
       "\n",
       "   pv_measurement  \n",
       "0            0.00  \n",
       "1            0.00  \n",
       "2            0.00  \n",
       "3            0.00  \n",
       "4           19.36  \n",
       "\n",
       "[5 rows x 47 columns]"
      ]
     },
     "execution_count": 7,
     "metadata": {},
     "output_type": "execute_result"
    }
   ],
   "source": [
    "df1_0.head()"
   ]
  },
  {
   "cell_type": "code",
   "execution_count": 8,
   "metadata": {},
   "outputs": [],
   "source": [
    "def get_objective(X=None, y=None):\n",
    "    def objective(trial):\n",
    "        kf = KFold(n_splits=10, shuffle=True, random_state=42)\n",
    "        objective_list_reg = [\"reg:squarederror\", \"reg:squaredlogerror\"]\n",
    "        tree_method = [\"approx\", \"hist\"]\n",
    "\n",
    "        params = {\n",
    "            \"eval_metric\": \"mae\",\n",
    "            \"objective\": trial.suggest_categorical(\"objective\", objective_list_reg),\n",
    "            \"tree_method\": trial.suggest_categorical(\"tree_method\", tree_method),\n",
    "            \"max_depth\": trial.suggest_int(\"max_depth\", 3, 10),  # Adjust the range\n",
    "            \"learning_rate\": trial.suggest_float(\"learning_rate\", 0.01, 1.0),\n",
    "            \"n_estimators\": trial.suggest_int(\"n_estimators\", 50, 1000),\n",
    "            \"min_child_weight\": trial.suggest_int(\"min_child_weight\", 1, 10),  # Increase the range\n",
    "            \"gamma\": trial.suggest_float(\"gamma\", 0.1, 1.0),  # Increase the lower bound\n",
    "            \"subsample\": trial.suggest_discrete_uniform(\"subsample\", 0.6, 1.0, 0.05),  # Reduce the range\n",
    "            \"colsample_bytree\": trial.suggest_discrete_uniform(\"colsample_bytree\", 0.6, 1.0, 0.05),  # Reduce the range\n",
    "            \"reg_alpha\": trial.suggest_float(\"reg_alpha\", 0.01, 1.0),\n",
    "            \"reg_lambda\": trial.suggest_float(\"reg_lambda\", 0.01, 1.0),\n",
    "            \"random_state\": trial.suggest_int(\"random_state\", 1, 1000),\n",
    "        }\n",
    "        # Initialize a list to store the mean absolute errors for each fold\n",
    "        mae_list = []\n",
    "\n",
    "        for fold, (train_idx, val_idx) in enumerate(kf.split(X), 1):\n",
    "            X_fold_train, X_fold_val = X.iloc[train_idx], X.iloc[val_idx]\n",
    "            y_fold_train, y_fold_val = y.iloc[train_idx], y.iloc[val_idx]\n",
    "\n",
    "            print(f\"Training Fold {fold}...\")\n",
    "            model = XGBRFRegressor(**params)\n",
    "            model.fit(X_fold_train, y_fold_train)\n",
    "            predictions = model.predict(X_fold_val)\n",
    "            mae_fold = mean_absolute_error(y_fold_val, predictions)\n",
    "            mae_list.append(mae_fold)\n",
    "            print(f\"Fold {fold} MAE: {mae_fold}\")\n",
    "\n",
    "        # Calculate the mean of the mean absolute errors for all folds\n",
    "        mae = sum(mae_list) / len(mae_list)\n",
    "        print(f\"Mean MAE for all Folds: {mae}\")\n",
    "        return mae\n",
    "    return objective"
   ]
  },
  {
   "cell_type": "code",
   "execution_count": 9,
   "metadata": {},
   "outputs": [],
   "source": [
    "X_1, y_1 = df1_0[[c for c in df1_0.columns if \"pv_measurement\" != c]], df1_0[\"pv_measurement\"]"
   ]
  },
  {
   "cell_type": "code",
   "execution_count": 10,
   "metadata": {},
   "outputs": [
    {
     "name": "stderr",
     "output_type": "stream",
     "text": [
      "[I 2023-11-09 11:39:04,000] A new study created in memory with name: no-name-0bc9a4f6-1d4c-4365-8832-6e8a2adabc69\n"
     ]
    },
    {
     "name": "stdout",
     "output_type": "stream",
     "text": [
      "Optimizing hyperparameters...\n",
      "Training Fold 1...\n"
     ]
    },
    {
     "name": "stderr",
     "output_type": "stream",
     "text": [
      "/var/folders/y8/9glnt_6110xftbsjpdqd12280000gp/T/ipykernel_3241/2078315071.py:16: FutureWarning: suggest_discrete_uniform has been deprecated in v3.0.0. This feature will be removed in v6.0.0. See https://github.com/optuna/optuna/releases/tag/v3.0.0. Use suggest_float(..., step=...) instead.\n",
      "  \"subsample\": trial.suggest_discrete_uniform(\"subsample\", 0.6, 1.0, 0.05),  # Reduce the range\n",
      "/var/folders/y8/9glnt_6110xftbsjpdqd12280000gp/T/ipykernel_3241/2078315071.py:17: FutureWarning: suggest_discrete_uniform has been deprecated in v3.0.0. This feature will be removed in v6.0.0. See https://github.com/optuna/optuna/releases/tag/v3.0.0. Use suggest_float(..., step=...) instead.\n",
      "  \"colsample_bytree\": trial.suggest_discrete_uniform(\"colsample_bytree\", 0.6, 1.0, 0.05),  # Reduce the range\n"
     ]
    },
    {
     "name": "stdout",
     "output_type": "stream",
     "text": [
      "Fold 1 MAE: 542.3241210538304\n",
      "Training Fold 2...\n",
      "Fold 2 MAE: 527.6004768792628\n",
      "Training Fold 3...\n",
      "Fold 3 MAE: 526.5079243049506\n",
      "Training Fold 4...\n",
      "Fold 4 MAE: 536.6648573422115\n",
      "Training Fold 5...\n",
      "Fold 5 MAE: 544.4209694216757\n",
      "Training Fold 6...\n",
      "Fold 6 MAE: 527.5621305137105\n",
      "Training Fold 7...\n",
      "Fold 7 MAE: 528.6335555960648\n",
      "Training Fold 8...\n",
      "Fold 8 MAE: 521.1113837718265\n",
      "Training Fold 9...\n",
      "Fold 9 MAE: 554.9767970405279\n",
      "Training Fold 10...\n"
     ]
    },
    {
     "name": "stderr",
     "output_type": "stream",
     "text": [
      "[I 2023-11-09 11:40:47,078] Trial 0 finished with value: 535.0172522711507 and parameters: {'objective': 'reg:squarederror', 'tree_method': 'approx', 'max_depth': 7, 'learning_rate': 0.6030342590056562, 'n_estimators': 871, 'min_child_weight': 2, 'gamma': 0.20627886260773487, 'subsample': 0.85, 'colsample_bytree': 0.95, 'reg_alpha': 0.39411905269249875, 'reg_lambda': 0.6577473704463818, 'random_state': 739}. Best is trial 0 with value: 535.0172522711507.\n"
     ]
    },
    {
     "name": "stdout",
     "output_type": "stream",
     "text": [
      "Fold 10 MAE: 540.3703067874457\n",
      "Mean MAE for all Folds: 535.0172522711507\n",
      "Training Fold 1...\n"
     ]
    },
    {
     "name": "stderr",
     "output_type": "stream",
     "text": [
      "/var/folders/y8/9glnt_6110xftbsjpdqd12280000gp/T/ipykernel_3241/2078315071.py:16: FutureWarning: suggest_discrete_uniform has been deprecated in v3.0.0. This feature will be removed in v6.0.0. See https://github.com/optuna/optuna/releases/tag/v3.0.0. Use suggest_float(..., step=...) instead.\n",
      "  \"subsample\": trial.suggest_discrete_uniform(\"subsample\", 0.6, 1.0, 0.05),  # Reduce the range\n",
      "/var/folders/y8/9glnt_6110xftbsjpdqd12280000gp/T/ipykernel_3241/2078315071.py:17: FutureWarning: suggest_discrete_uniform has been deprecated in v3.0.0. This feature will be removed in v6.0.0. See https://github.com/optuna/optuna/releases/tag/v3.0.0. Use suggest_float(..., step=...) instead.\n",
      "  \"colsample_bytree\": trial.suggest_discrete_uniform(\"colsample_bytree\", 0.6, 1.0, 0.05),  # Reduce the range\n"
     ]
    },
    {
     "name": "stdout",
     "output_type": "stream",
     "text": [
      "Fold 1 MAE: 343.1048355357946\n",
      "Training Fold 2...\n",
      "Fold 2 MAE: 351.5348396523944\n",
      "Training Fold 3...\n",
      "Fold 3 MAE: 336.45590560400746\n",
      "Training Fold 4...\n",
      "Fold 4 MAE: 343.7081870729247\n",
      "Training Fold 5...\n",
      "Fold 5 MAE: 354.18518004694533\n",
      "Training Fold 6...\n",
      "Fold 6 MAE: 340.5609056053868\n",
      "Training Fold 7...\n",
      "Fold 7 MAE: 346.7952756739668\n",
      "Training Fold 8...\n",
      "Fold 8 MAE: 338.2143835698168\n",
      "Training Fold 9...\n",
      "Fold 9 MAE: 353.54582940510926\n",
      "Training Fold 10...\n"
     ]
    },
    {
     "name": "stderr",
     "output_type": "stream",
     "text": [
      "[I 2023-11-09 11:41:49,814] Trial 1 finished with value: 345.490611294795 and parameters: {'objective': 'reg:squarederror', 'tree_method': 'hist', 'max_depth': 4, 'learning_rate': 0.9611493422381515, 'n_estimators': 993, 'min_child_weight': 8, 'gamma': 0.19845743073577576, 'subsample': 0.7, 'colsample_bytree': 0.9, 'reg_alpha': 0.985699831526532, 'reg_lambda': 0.49182190163387396, 'random_state': 81}. Best is trial 1 with value: 345.490611294795.\n"
     ]
    },
    {
     "name": "stdout",
     "output_type": "stream",
     "text": [
      "Fold 10 MAE: 346.8007707816036\n",
      "Mean MAE for all Folds: 345.490611294795\n",
      "Training Fold 1...\n"
     ]
    },
    {
     "name": "stderr",
     "output_type": "stream",
     "text": [
      "/var/folders/y8/9glnt_6110xftbsjpdqd12280000gp/T/ipykernel_3241/2078315071.py:16: FutureWarning: suggest_discrete_uniform has been deprecated in v3.0.0. This feature will be removed in v6.0.0. See https://github.com/optuna/optuna/releases/tag/v3.0.0. Use suggest_float(..., step=...) instead.\n",
      "  \"subsample\": trial.suggest_discrete_uniform(\"subsample\", 0.6, 1.0, 0.05),  # Reduce the range\n",
      "/var/folders/y8/9glnt_6110xftbsjpdqd12280000gp/T/ipykernel_3241/2078315071.py:17: FutureWarning: suggest_discrete_uniform has been deprecated in v3.0.0. This feature will be removed in v6.0.0. See https://github.com/optuna/optuna/releases/tag/v3.0.0. Use suggest_float(..., step=...) instead.\n",
      "  \"colsample_bytree\": trial.suggest_discrete_uniform(\"colsample_bytree\", 0.6, 1.0, 0.05),  # Reduce the range\n"
     ]
    },
    {
     "name": "stdout",
     "output_type": "stream",
     "text": [
      "Fold 1 MAE: 940.8304129190224\n",
      "Training Fold 2...\n",
      "Fold 2 MAE: 890.6710441549268\n",
      "Training Fold 3...\n",
      "Fold 3 MAE: 930.5189941624706\n",
      "Training Fold 4...\n",
      "Fold 4 MAE: 917.1232221479182\n",
      "Training Fold 5...\n",
      "Fold 5 MAE: 913.5560982310864\n",
      "Training Fold 6...\n",
      "Fold 6 MAE: 904.3037976390032\n",
      "Training Fold 7...\n",
      "Fold 7 MAE: 937.9794676352835\n",
      "Training Fold 8...\n",
      "Fold 8 MAE: 916.2184586359302\n",
      "Training Fold 9...\n",
      "Fold 9 MAE: 958.5425054638675\n",
      "Training Fold 10...\n"
     ]
    },
    {
     "name": "stderr",
     "output_type": "stream",
     "text": [
      "[I 2023-11-09 11:43:08,556] Trial 2 finished with value: 924.2459162496212 and parameters: {'objective': 'reg:squaredlogerror', 'tree_method': 'hist', 'max_depth': 7, 'learning_rate': 0.3322580084065744, 'n_estimators': 836, 'min_child_weight': 9, 'gamma': 0.7441390409269234, 'subsample': 0.95, 'colsample_bytree': 1.0, 'reg_alpha': 0.6071778839930658, 'reg_lambda': 0.309498728212591, 'random_state': 899}. Best is trial 1 with value: 345.490611294795.\n"
     ]
    },
    {
     "name": "stdout",
     "output_type": "stream",
     "text": [
      "Fold 10 MAE: 932.7151615067028\n",
      "Mean MAE for all Folds: 924.2459162496212\n",
      "Training Fold 1...\n"
     ]
    },
    {
     "name": "stderr",
     "output_type": "stream",
     "text": [
      "/var/folders/y8/9glnt_6110xftbsjpdqd12280000gp/T/ipykernel_3241/2078315071.py:16: FutureWarning: suggest_discrete_uniform has been deprecated in v3.0.0. This feature will be removed in v6.0.0. See https://github.com/optuna/optuna/releases/tag/v3.0.0. Use suggest_float(..., step=...) instead.\n",
      "  \"subsample\": trial.suggest_discrete_uniform(\"subsample\", 0.6, 1.0, 0.05),  # Reduce the range\n",
      "/var/folders/y8/9glnt_6110xftbsjpdqd12280000gp/T/ipykernel_3241/2078315071.py:17: FutureWarning: suggest_discrete_uniform has been deprecated in v3.0.0. This feature will be removed in v6.0.0. See https://github.com/optuna/optuna/releases/tag/v3.0.0. Use suggest_float(..., step=...) instead.\n",
      "  \"colsample_bytree\": trial.suggest_discrete_uniform(\"colsample_bytree\", 0.6, 1.0, 0.05),  # Reduce the range\n"
     ]
    },
    {
     "name": "stdout",
     "output_type": "stream",
     "text": [
      "Fold 1 MAE: 940.8683592685203\n",
      "Training Fold 2...\n",
      "Fold 2 MAE: 890.710825361173\n",
      "Training Fold 3...\n",
      "Fold 3 MAE: 930.55746952027\n",
      "Training Fold 4...\n",
      "Fold 4 MAE: 917.163024261524\n",
      "Training Fold 5...\n",
      "Fold 5 MAE: 913.5936958988891\n",
      "Training Fold 6...\n",
      "Fold 6 MAE: 904.3415264351156\n",
      "Training Fold 7...\n",
      "Fold 7 MAE: 938.0194988145184\n",
      "Training Fold 8...\n",
      "Fold 8 MAE: 916.2574061376698\n",
      "Training Fold 9...\n",
      "Fold 9 MAE: 958.5817252811681\n",
      "Training Fold 10...\n"
     ]
    },
    {
     "name": "stderr",
     "output_type": "stream",
     "text": [
      "[I 2023-11-09 11:44:43,482] Trial 3 finished with value: 924.2847169353424 and parameters: {'objective': 'reg:squaredlogerror', 'tree_method': 'hist', 'max_depth': 10, 'learning_rate': 0.29409956148471994, 'n_estimators': 767, 'min_child_weight': 10, 'gamma': 0.21502102274756718, 'subsample': 1.0, 'colsample_bytree': 0.8, 'reg_alpha': 0.5613979587199048, 'reg_lambda': 0.16522079339117043, 'random_state': 818}. Best is trial 1 with value: 345.490611294795.\n"
     ]
    },
    {
     "name": "stdout",
     "output_type": "stream",
     "text": [
      "Fold 10 MAE: 932.7536383745748\n",
      "Mean MAE for all Folds: 924.2847169353424\n",
      "Training Fold 1...\n"
     ]
    },
    {
     "name": "stderr",
     "output_type": "stream",
     "text": [
      "/var/folders/y8/9glnt_6110xftbsjpdqd12280000gp/T/ipykernel_3241/2078315071.py:16: FutureWarning: suggest_discrete_uniform has been deprecated in v3.0.0. This feature will be removed in v6.0.0. See https://github.com/optuna/optuna/releases/tag/v3.0.0. Use suggest_float(..., step=...) instead.\n",
      "  \"subsample\": trial.suggest_discrete_uniform(\"subsample\", 0.6, 1.0, 0.05),  # Reduce the range\n",
      "/var/folders/y8/9glnt_6110xftbsjpdqd12280000gp/T/ipykernel_3241/2078315071.py:17: FutureWarning: suggest_discrete_uniform has been deprecated in v3.0.0. This feature will be removed in v6.0.0. See https://github.com/optuna/optuna/releases/tag/v3.0.0. Use suggest_float(..., step=...) instead.\n",
      "  \"colsample_bytree\": trial.suggest_discrete_uniform(\"colsample_bytree\", 0.6, 1.0, 0.05),  # Reduce the range\n"
     ]
    },
    {
     "name": "stdout",
     "output_type": "stream",
     "text": [
      "Fold 1 MAE: 940.546164625922\n",
      "Training Fold 2...\n",
      "Fold 2 MAE: 890.361388271838\n",
      "Training Fold 3...\n",
      "Fold 3 MAE: 930.242509694677\n",
      "Training Fold 4...\n",
      "Fold 4 MAE: 916.8386303592871\n",
      "Training Fold 5...\n",
      "Fold 5 MAE: 913.2838459359424\n",
      "Training Fold 6...\n",
      "Fold 6 MAE: 904.023937574872\n",
      "Training Fold 7...\n",
      "Fold 7 MAE: 937.676143479741\n",
      "Training Fold 8...\n",
      "Fold 8 MAE: 915.9401319522171\n",
      "Training Fold 9...\n",
      "Fold 9 MAE: 958.26938467125\n",
      "Training Fold 10...\n"
     ]
    },
    {
     "name": "stderr",
     "output_type": "stream",
     "text": [
      "[I 2023-11-09 11:47:19,952] Trial 4 finished with value: 923.961764229515 and parameters: {'objective': 'reg:squaredlogerror', 'tree_method': 'hist', 'max_depth': 9, 'learning_rate': 0.821053186507781, 'n_estimators': 965, 'min_child_weight': 1, 'gamma': 0.3494098566422535, 'subsample': 0.75, 'colsample_bytree': 0.75, 'reg_alpha': 0.8056638381953575, 'reg_lambda': 0.1006081897942594, 'random_state': 89}. Best is trial 1 with value: 345.490611294795.\n"
     ]
    },
    {
     "name": "stdout",
     "output_type": "stream",
     "text": [
      "Fold 10 MAE: 932.4355057294034\n",
      "Mean MAE for all Folds: 923.961764229515\n",
      "Training Fold 1...\n"
     ]
    },
    {
     "name": "stderr",
     "output_type": "stream",
     "text": [
      "/var/folders/y8/9glnt_6110xftbsjpdqd12280000gp/T/ipykernel_3241/2078315071.py:16: FutureWarning: suggest_discrete_uniform has been deprecated in v3.0.0. This feature will be removed in v6.0.0. See https://github.com/optuna/optuna/releases/tag/v3.0.0. Use suggest_float(..., step=...) instead.\n",
      "  \"subsample\": trial.suggest_discrete_uniform(\"subsample\", 0.6, 1.0, 0.05),  # Reduce the range\n",
      "/var/folders/y8/9glnt_6110xftbsjpdqd12280000gp/T/ipykernel_3241/2078315071.py:17: FutureWarning: suggest_discrete_uniform has been deprecated in v3.0.0. This feature will be removed in v6.0.0. See https://github.com/optuna/optuna/releases/tag/v3.0.0. Use suggest_float(..., step=...) instead.\n",
      "  \"colsample_bytree\": trial.suggest_discrete_uniform(\"colsample_bytree\", 0.6, 1.0, 0.05),  # Reduce the range\n"
     ]
    },
    {
     "name": "stdout",
     "output_type": "stream",
     "text": [
      "Fold 1 MAE: 833.4188142371382\n",
      "Training Fold 2...\n",
      "Fold 2 MAE: 797.9268026648008\n",
      "Training Fold 3...\n",
      "Fold 3 MAE: 814.4033012331677\n",
      "Training Fold 4...\n",
      "Fold 4 MAE: 827.2439489824917\n",
      "Training Fold 5...\n",
      "Fold 5 MAE: 829.5657768947751\n",
      "Training Fold 6...\n",
      "Fold 6 MAE: 813.6153597642798\n",
      "Training Fold 7...\n",
      "Fold 7 MAE: 815.4464936151394\n",
      "Training Fold 8...\n",
      "Fold 8 MAE: 808.9330985638688\n",
      "Training Fold 9...\n",
      "Fold 9 MAE: 846.2159845046899\n",
      "Training Fold 10...\n"
     ]
    },
    {
     "name": "stderr",
     "output_type": "stream",
     "text": [
      "[I 2023-11-09 11:48:40,493] Trial 5 finished with value: 821.936614341332 and parameters: {'objective': 'reg:squarederror', 'tree_method': 'hist', 'max_depth': 5, 'learning_rate': 0.23318021364185623, 'n_estimators': 722, 'min_child_weight': 2, 'gamma': 0.18447931053308603, 'subsample': 0.75, 'colsample_bytree': 0.9, 'reg_alpha': 0.23659413974877247, 'reg_lambda': 0.017589320016659908, 'random_state': 762}. Best is trial 1 with value: 345.490611294795.\n"
     ]
    },
    {
     "name": "stdout",
     "output_type": "stream",
     "text": [
      "Fold 10 MAE: 832.5965629529686\n",
      "Mean MAE for all Folds: 821.936614341332\n",
      "Training Fold 1...\n"
     ]
    },
    {
     "name": "stderr",
     "output_type": "stream",
     "text": [
      "/var/folders/y8/9glnt_6110xftbsjpdqd12280000gp/T/ipykernel_3241/2078315071.py:16: FutureWarning: suggest_discrete_uniform has been deprecated in v3.0.0. This feature will be removed in v6.0.0. See https://github.com/optuna/optuna/releases/tag/v3.0.0. Use suggest_float(..., step=...) instead.\n",
      "  \"subsample\": trial.suggest_discrete_uniform(\"subsample\", 0.6, 1.0, 0.05),  # Reduce the range\n",
      "/var/folders/y8/9glnt_6110xftbsjpdqd12280000gp/T/ipykernel_3241/2078315071.py:17: FutureWarning: suggest_discrete_uniform has been deprecated in v3.0.0. This feature will be removed in v6.0.0. See https://github.com/optuna/optuna/releases/tag/v3.0.0. Use suggest_float(..., step=...) instead.\n",
      "  \"colsample_bytree\": trial.suggest_discrete_uniform(\"colsample_bytree\", 0.6, 1.0, 0.05),  # Reduce the range\n"
     ]
    },
    {
     "name": "stdout",
     "output_type": "stream",
     "text": [
      "Fold 1 MAE: 940.5544562604027\n",
      "Training Fold 2...\n",
      "Fold 2 MAE: 890.3783325170249\n",
      "Training Fold 3...\n",
      "Fold 3 MAE: 930.2538279058022\n",
      "Training Fold 4...\n",
      "Fold 4 MAE: 916.8450028718241\n",
      "Training Fold 5...\n",
      "Fold 5 MAE: 913.298884354551\n",
      "Training Fold 6...\n",
      "Fold 6 MAE: 904.040019523345\n",
      "Training Fold 7...\n",
      "Fold 7 MAE: 937.6995914575373\n",
      "Training Fold 8...\n",
      "Fold 8 MAE: 915.947423239789\n",
      "Training Fold 9...\n",
      "Fold 9 MAE: 958.2822076994976\n",
      "Training Fold 10...\n"
     ]
    },
    {
     "name": "stderr",
     "output_type": "stream",
     "text": [
      "[I 2023-11-09 11:49:31,948] Trial 6 finished with value: 923.9758683826713 and parameters: {'objective': 'reg:squaredlogerror', 'tree_method': 'hist', 'max_depth': 3, 'learning_rate': 0.7487464693900397, 'n_estimators': 689, 'min_child_weight': 9, 'gamma': 0.9233617212897359, 'subsample': 0.95, 'colsample_bytree': 0.7, 'reg_alpha': 0.4863112551652809, 'reg_lambda': 0.23527595366537304, 'random_state': 413}. Best is trial 1 with value: 345.490611294795.\n"
     ]
    },
    {
     "name": "stdout",
     "output_type": "stream",
     "text": [
      "Fold 10 MAE: 932.458937996938\n",
      "Mean MAE for all Folds: 923.9758683826713\n",
      "Training Fold 1...\n"
     ]
    },
    {
     "name": "stderr",
     "output_type": "stream",
     "text": [
      "/var/folders/y8/9glnt_6110xftbsjpdqd12280000gp/T/ipykernel_3241/2078315071.py:16: FutureWarning: suggest_discrete_uniform has been deprecated in v3.0.0. This feature will be removed in v6.0.0. See https://github.com/optuna/optuna/releases/tag/v3.0.0. Use suggest_float(..., step=...) instead.\n",
      "  \"subsample\": trial.suggest_discrete_uniform(\"subsample\", 0.6, 1.0, 0.05),  # Reduce the range\n",
      "/var/folders/y8/9glnt_6110xftbsjpdqd12280000gp/T/ipykernel_3241/2078315071.py:17: FutureWarning: suggest_discrete_uniform has been deprecated in v3.0.0. This feature will be removed in v6.0.0. See https://github.com/optuna/optuna/releases/tag/v3.0.0. Use suggest_float(..., step=...) instead.\n",
      "  \"colsample_bytree\": trial.suggest_discrete_uniform(\"colsample_bytree\", 0.6, 1.0, 0.05),  # Reduce the range\n"
     ]
    },
    {
     "name": "stdout",
     "output_type": "stream",
     "text": [
      "Fold 1 MAE: 940.9035982651561\n",
      "Training Fold 2...\n",
      "Fold 2 MAE: 890.7449411190172\n",
      "Training Fold 3...\n",
      "Fold 3 MAE: 930.593927553802\n",
      "Training Fold 4...\n",
      "Fold 4 MAE: 917.1985653739113\n",
      "Training Fold 5...\n",
      "Fold 5 MAE: 913.6292401576897\n",
      "Training Fold 6...\n",
      "Fold 6 MAE: 904.3765019680563\n",
      "Training Fold 7...\n",
      "Fold 7 MAE: 938.0545188223757\n",
      "Training Fold 8...\n",
      "Fold 8 MAE: 916.2929056282221\n",
      "Training Fold 9...\n",
      "Fold 9 MAE: 958.6180831367808\n",
      "Training Fold 10...\n"
     ]
    },
    {
     "name": "stderr",
     "output_type": "stream",
     "text": [
      "[I 2023-11-09 11:52:16,598] Trial 7 finished with value: 924.320262743919 and parameters: {'objective': 'reg:squaredlogerror', 'tree_method': 'hist', 'max_depth': 7, 'learning_rate': 0.27507194268128266, 'n_estimators': 679, 'min_child_weight': 7, 'gamma': 0.2638211793032902, 'subsample': 0.9, 'colsample_bytree': 0.6, 'reg_alpha': 0.7989440711653123, 'reg_lambda': 0.7089149770408552, 'random_state': 329}. Best is trial 1 with value: 345.490611294795.\n"
     ]
    },
    {
     "name": "stdout",
     "output_type": "stream",
     "text": [
      "Fold 10 MAE: 932.7903454141806\n",
      "Mean MAE for all Folds: 924.320262743919\n",
      "Training Fold 1...\n"
     ]
    },
    {
     "name": "stderr",
     "output_type": "stream",
     "text": [
      "/var/folders/y8/9glnt_6110xftbsjpdqd12280000gp/T/ipykernel_3241/2078315071.py:16: FutureWarning: suggest_discrete_uniform has been deprecated in v3.0.0. This feature will be removed in v6.0.0. See https://github.com/optuna/optuna/releases/tag/v3.0.0. Use suggest_float(..., step=...) instead.\n",
      "  \"subsample\": trial.suggest_discrete_uniform(\"subsample\", 0.6, 1.0, 0.05),  # Reduce the range\n",
      "/var/folders/y8/9glnt_6110xftbsjpdqd12280000gp/T/ipykernel_3241/2078315071.py:17: FutureWarning: suggest_discrete_uniform has been deprecated in v3.0.0. This feature will be removed in v6.0.0. See https://github.com/optuna/optuna/releases/tag/v3.0.0. Use suggest_float(..., step=...) instead.\n",
      "  \"colsample_bytree\": trial.suggest_discrete_uniform(\"colsample_bytree\", 0.6, 1.0, 0.05),  # Reduce the range\n"
     ]
    },
    {
     "name": "stdout",
     "output_type": "stream",
     "text": [
      "Fold 1 MAE: 940.9120016500076\n",
      "Training Fold 2...\n",
      "Fold 2 MAE: 890.7529724009265\n",
      "Training Fold 3...\n",
      "Fold 3 MAE: 930.6034460057509\n",
      "Training Fold 4...\n",
      "Fold 4 MAE: 917.2079834962417\n",
      "Training Fold 5...\n",
      "Fold 5 MAE: 913.6419378079378\n",
      "Training Fold 6...\n",
      "Fold 6 MAE: 904.387034796713\n",
      "Training Fold 7...\n",
      "Fold 7 MAE: 938.0625646701261\n",
      "Training Fold 8...\n",
      "Fold 8 MAE: 916.3030361170929\n",
      "Training Fold 9...\n",
      "Fold 9 MAE: 958.6280006871415\n",
      "Training Fold 10...\n"
     ]
    },
    {
     "name": "stderr",
     "output_type": "stream",
     "text": [
      "[I 2023-11-09 11:52:57,678] Trial 8 finished with value: 924.3300424750421 and parameters: {'objective': 'reg:squaredlogerror', 'tree_method': 'approx', 'max_depth': 4, 'learning_rate': 0.27438015001414034, 'n_estimators': 112, 'min_child_weight': 1, 'gamma': 0.8214412050574795, 'subsample': 0.95, 'colsample_bytree': 0.85, 'reg_alpha': 0.4189976142288768, 'reg_lambda': 0.7483603514970906, 'random_state': 244}. Best is trial 1 with value: 345.490611294795.\n"
     ]
    },
    {
     "name": "stdout",
     "output_type": "stream",
     "text": [
      "Fold 10 MAE: 932.8014471184814\n",
      "Mean MAE for all Folds: 924.3300424750421\n",
      "Training Fold 1...\n"
     ]
    },
    {
     "name": "stderr",
     "output_type": "stream",
     "text": [
      "/var/folders/y8/9glnt_6110xftbsjpdqd12280000gp/T/ipykernel_3241/2078315071.py:16: FutureWarning: suggest_discrete_uniform has been deprecated in v3.0.0. This feature will be removed in v6.0.0. See https://github.com/optuna/optuna/releases/tag/v3.0.0. Use suggest_float(..., step=...) instead.\n",
      "  \"subsample\": trial.suggest_discrete_uniform(\"subsample\", 0.6, 1.0, 0.05),  # Reduce the range\n",
      "/var/folders/y8/9glnt_6110xftbsjpdqd12280000gp/T/ipykernel_3241/2078315071.py:17: FutureWarning: suggest_discrete_uniform has been deprecated in v3.0.0. This feature will be removed in v6.0.0. See https://github.com/optuna/optuna/releases/tag/v3.0.0. Use suggest_float(..., step=...) instead.\n",
      "  \"colsample_bytree\": trial.suggest_discrete_uniform(\"colsample_bytree\", 0.6, 1.0, 0.05),  # Reduce the range\n"
     ]
    },
    {
     "name": "stdout",
     "output_type": "stream",
     "text": [
      "Fold 1 MAE: 940.4467213984692\n",
      "Training Fold 2...\n",
      "Fold 2 MAE: 890.2596197260748\n",
      "Training Fold 3...\n",
      "Fold 3 MAE: 930.1478297468874\n",
      "Training Fold 4...\n",
      "Fold 4 MAE: 916.7478604842935\n",
      "Training Fold 5...\n",
      "Fold 5 MAE: 913.1967743182053\n",
      "Training Fold 6...\n",
      "Fold 6 MAE: 903.943501069025\n",
      "Training Fold 7...\n",
      "Fold 7 MAE: 937.5813414655088\n",
      "Training Fold 8...\n",
      "Fold 8 MAE: 915.853254331534\n",
      "Training Fold 9...\n",
      "Fold 9 MAE: 958.1850117314993\n",
      "Training Fold 10...\n"
     ]
    },
    {
     "name": "stderr",
     "output_type": "stream",
     "text": [
      "[I 2023-11-09 12:05:52,916] Trial 9 finished with value: 923.8713569277755 and parameters: {'objective': 'reg:squaredlogerror', 'tree_method': 'approx', 'max_depth': 9, 'learning_rate': 0.9725902447674004, 'n_estimators': 924, 'min_child_weight': 10, 'gamma': 0.2727731189101652, 'subsample': 0.65, 'colsample_bytree': 1.0, 'reg_alpha': 0.07340100819319376, 'reg_lambda': 0.9919777716687849, 'random_state': 282}. Best is trial 1 with value: 345.490611294795.\n"
     ]
    },
    {
     "name": "stdout",
     "output_type": "stream",
     "text": [
      "Fold 10 MAE: 932.3516550062577\n",
      "Mean MAE for all Folds: 923.8713569277755\n",
      "Training Fold 1...\n"
     ]
    },
    {
     "name": "stderr",
     "output_type": "stream",
     "text": [
      "/var/folders/y8/9glnt_6110xftbsjpdqd12280000gp/T/ipykernel_3241/2078315071.py:16: FutureWarning: suggest_discrete_uniform has been deprecated in v3.0.0. This feature will be removed in v6.0.0. See https://github.com/optuna/optuna/releases/tag/v3.0.0. Use suggest_float(..., step=...) instead.\n",
      "  \"subsample\": trial.suggest_discrete_uniform(\"subsample\", 0.6, 1.0, 0.05),  # Reduce the range\n",
      "/var/folders/y8/9glnt_6110xftbsjpdqd12280000gp/T/ipykernel_3241/2078315071.py:17: FutureWarning: suggest_discrete_uniform has been deprecated in v3.0.0. This feature will be removed in v6.0.0. See https://github.com/optuna/optuna/releases/tag/v3.0.0. Use suggest_float(..., step=...) instead.\n",
      "  \"colsample_bytree\": trial.suggest_discrete_uniform(\"colsample_bytree\", 0.6, 1.0, 0.05),  # Reduce the range\n"
     ]
    },
    {
     "name": "stdout",
     "output_type": "stream",
     "text": [
      "Fold 1 MAE: 993.6888724821159\n",
      "Training Fold 2...\n",
      "Fold 2 MAE: 951.1813665894973\n",
      "Training Fold 3...\n",
      "Fold 3 MAE: 974.6280206438082\n",
      "Training Fold 4...\n",
      "Fold 4 MAE: 987.8172321715338\n",
      "Training Fold 5...\n",
      "Fold 5 MAE: 986.9304591872125\n",
      "Training Fold 6...\n",
      "Fold 6 MAE: 973.6780150799663\n",
      "Training Fold 7...\n",
      "Fold 7 MAE: 970.7943367288814\n",
      "Training Fold 8...\n",
      "Fold 8 MAE: 967.4703880490696\n",
      "Training Fold 9...\n",
      "Fold 9 MAE: 1010.5928518010704\n",
      "Training Fold 10...\n"
     ]
    },
    {
     "name": "stderr",
     "output_type": "stream",
     "text": [
      "[I 2023-11-09 12:08:12,096] Trial 10 finished with value: 981.0387287526013 and parameters: {'objective': 'reg:squarederror', 'tree_method': 'approx', 'max_depth': 5, 'learning_rate': 0.04039486172105533, 'n_estimators': 378, 'min_child_weight': 5, 'gamma': 0.4752563378477648, 'subsample': 0.6, 'colsample_bytree': 0.9, 'reg_alpha': 0.8752324533752355, 'reg_lambda': 0.4181165480270994, 'random_state': 28}. Best is trial 1 with value: 345.490611294795.\n"
     ]
    },
    {
     "name": "stdout",
     "output_type": "stream",
     "text": [
      "Fold 10 MAE: 993.6057447928576\n",
      "Mean MAE for all Folds: 981.0387287526013\n",
      "Training Fold 1...\n"
     ]
    },
    {
     "name": "stderr",
     "output_type": "stream",
     "text": [
      "/var/folders/y8/9glnt_6110xftbsjpdqd12280000gp/T/ipykernel_3241/2078315071.py:16: FutureWarning: suggest_discrete_uniform has been deprecated in v3.0.0. This feature will be removed in v6.0.0. See https://github.com/optuna/optuna/releases/tag/v3.0.0. Use suggest_float(..., step=...) instead.\n",
      "  \"subsample\": trial.suggest_discrete_uniform(\"subsample\", 0.6, 1.0, 0.05),  # Reduce the range\n",
      "/var/folders/y8/9glnt_6110xftbsjpdqd12280000gp/T/ipykernel_3241/2078315071.py:17: FutureWarning: suggest_discrete_uniform has been deprecated in v3.0.0. This feature will be removed in v6.0.0. See https://github.com/optuna/optuna/releases/tag/v3.0.0. Use suggest_float(..., step=...) instead.\n",
      "  \"colsample_bytree\": trial.suggest_discrete_uniform(\"colsample_bytree\", 0.6, 1.0, 0.05),  # Reduce the range\n"
     ]
    },
    {
     "name": "stdout",
     "output_type": "stream",
     "text": [
      "Fold 1 MAE: 532.676949066845\n",
      "Training Fold 2...\n",
      "Fold 2 MAE: 516.750465459409\n",
      "Training Fold 3...\n",
      "Fold 3 MAE: 519.320279694983\n",
      "Training Fold 4...\n",
      "Fold 4 MAE: 528.4748443106932\n",
      "Training Fold 5...\n",
      "Fold 5 MAE: 537.616400526936\n",
      "Training Fold 6...\n",
      "Fold 6 MAE: 517.5318267824894\n",
      "Training Fold 7...\n",
      "Fold 7 MAE: 522.7206487551035\n",
      "Training Fold 8...\n",
      "Fold 8 MAE: 515.8004184699582\n",
      "Training Fold 9...\n",
      "Fold 9 MAE: 545.3078545057451\n",
      "Training Fold 10...\n"
     ]
    },
    {
     "name": "stderr",
     "output_type": "stream",
     "text": [
      "[I 2023-11-09 12:09:10,448] Trial 11 finished with value: 527.0847707287963 and parameters: {'objective': 'reg:squarederror', 'tree_method': 'approx', 'max_depth': 6, 'learning_rate': 0.6218099434256565, 'n_estimators': 477, 'min_child_weight': 4, 'gamma': 0.14050302241471765, 'subsample': 0.85, 'colsample_bytree': 0.95, 'reg_alpha': 0.9903848964250255, 'reg_lambda': 0.5701471217590497, 'random_state': 601}. Best is trial 1 with value: 345.490611294795.\n"
     ]
    },
    {
     "name": "stdout",
     "output_type": "stream",
     "text": [
      "Fold 10 MAE: 534.6480197158006\n",
      "Mean MAE for all Folds: 527.0847707287963\n",
      "Training Fold 1...\n"
     ]
    },
    {
     "name": "stderr",
     "output_type": "stream",
     "text": [
      "/var/folders/y8/9glnt_6110xftbsjpdqd12280000gp/T/ipykernel_3241/2078315071.py:16: FutureWarning: suggest_discrete_uniform has been deprecated in v3.0.0. This feature will be removed in v6.0.0. See https://github.com/optuna/optuna/releases/tag/v3.0.0. Use suggest_float(..., step=...) instead.\n",
      "  \"subsample\": trial.suggest_discrete_uniform(\"subsample\", 0.6, 1.0, 0.05),  # Reduce the range\n",
      "/var/folders/y8/9glnt_6110xftbsjpdqd12280000gp/T/ipykernel_3241/2078315071.py:17: FutureWarning: suggest_discrete_uniform has been deprecated in v3.0.0. This feature will be removed in v6.0.0. See https://github.com/optuna/optuna/releases/tag/v3.0.0. Use suggest_float(..., step=...) instead.\n",
      "  \"colsample_bytree\": trial.suggest_discrete_uniform(\"colsample_bytree\", 0.6, 1.0, 0.05),  # Reduce the range\n"
     ]
    },
    {
     "name": "stdout",
     "output_type": "stream",
     "text": [
      "Fold 1 MAE: 338.6763040140122\n",
      "Training Fold 2...\n",
      "Fold 2 MAE: 342.1750274334373\n",
      "Training Fold 3...\n",
      "Fold 3 MAE: 330.3519594785811\n",
      "Training Fold 4...\n",
      "Fold 4 MAE: 332.56345297246475\n",
      "Training Fold 5...\n",
      "Fold 5 MAE: 344.55112331723734\n",
      "Training Fold 6...\n",
      "Fold 6 MAE: 328.5784288185175\n",
      "Training Fold 7...\n",
      "Fold 7 MAE: 341.7239899151293\n",
      "Training Fold 8...\n",
      "Fold 8 MAE: 330.2143996978248\n",
      "Training Fold 9...\n",
      "Fold 9 MAE: 348.53165085857\n",
      "Training Fold 10...\n"
     ]
    },
    {
     "name": "stderr",
     "output_type": "stream",
     "text": [
      "[I 2023-11-09 12:09:47,889] Trial 12 finished with value: 336.817532522884 and parameters: {'objective': 'reg:squarederror', 'tree_method': 'approx', 'max_depth': 5, 'learning_rate': 0.9664524909032769, 'n_estimators': 461, 'min_child_weight': 5, 'gamma': 0.13594969889883474, 'subsample': 0.7, 'colsample_bytree': 0.9, 'reg_alpha': 0.9904787275880141, 'reg_lambda': 0.5244515677548288, 'random_state': 602}. Best is trial 12 with value: 336.817532522884.\n"
     ]
    },
    {
     "name": "stdout",
     "output_type": "stream",
     "text": [
      "Fold 10 MAE: 330.80898872306517\n",
      "Mean MAE for all Folds: 336.817532522884\n",
      "Training Fold 1...\n"
     ]
    },
    {
     "name": "stderr",
     "output_type": "stream",
     "text": [
      "/var/folders/y8/9glnt_6110xftbsjpdqd12280000gp/T/ipykernel_3241/2078315071.py:16: FutureWarning: suggest_discrete_uniform has been deprecated in v3.0.0. This feature will be removed in v6.0.0. See https://github.com/optuna/optuna/releases/tag/v3.0.0. Use suggest_float(..., step=...) instead.\n",
      "  \"subsample\": trial.suggest_discrete_uniform(\"subsample\", 0.6, 1.0, 0.05),  # Reduce the range\n",
      "/var/folders/y8/9glnt_6110xftbsjpdqd12280000gp/T/ipykernel_3241/2078315071.py:17: FutureWarning: suggest_discrete_uniform has been deprecated in v3.0.0. This feature will be removed in v6.0.0. See https://github.com/optuna/optuna/releases/tag/v3.0.0. Use suggest_float(..., step=...) instead.\n",
      "  \"colsample_bytree\": trial.suggest_discrete_uniform(\"colsample_bytree\", 0.6, 1.0, 0.05),  # Reduce the range\n"
     ]
    },
    {
     "name": "stdout",
     "output_type": "stream",
     "text": [
      "Fold 1 MAE: 365.0746647196259\n",
      "Training Fold 2...\n",
      "Fold 2 MAE: 371.61295640135035\n",
      "Training Fold 3...\n",
      "Fold 3 MAE: 359.83985134615756\n",
      "Training Fold 4...\n",
      "Fold 4 MAE: 364.3772082549747\n",
      "Training Fold 5...\n",
      "Fold 5 MAE: 379.7492849847052\n",
      "Training Fold 6...\n",
      "Fold 6 MAE: 369.018903674989\n",
      "Training Fold 7...\n",
      "Fold 7 MAE: 371.5352702864254\n",
      "Training Fold 8...\n",
      "Fold 8 MAE: 362.26903695220227\n",
      "Training Fold 9...\n",
      "Fold 9 MAE: 374.10415428802054\n",
      "Training Fold 10...\n"
     ]
    },
    {
     "name": "stderr",
     "output_type": "stream",
     "text": [
      "[I 2023-11-09 12:09:59,925] Trial 13 finished with value: 368.6165743416433 and parameters: {'objective': 'reg:squarederror', 'tree_method': 'approx', 'max_depth': 3, 'learning_rate': 0.9823618745174044, 'n_estimators': 255, 'min_child_weight': 7, 'gamma': 0.10386090433668058, 'subsample': 0.7, 'colsample_bytree': 0.85, 'reg_alpha': 0.9989571436780499, 'reg_lambda': 0.46380260367929793, 'random_state': 564}. Best is trial 12 with value: 336.817532522884.\n"
     ]
    },
    {
     "name": "stdout",
     "output_type": "stream",
     "text": [
      "Fold 10 MAE: 368.58441250798217\n",
      "Mean MAE for all Folds: 368.6165743416433\n",
      "Training Fold 1...\n"
     ]
    },
    {
     "name": "stderr",
     "output_type": "stream",
     "text": [
      "/var/folders/y8/9glnt_6110xftbsjpdqd12280000gp/T/ipykernel_3241/2078315071.py:16: FutureWarning: suggest_discrete_uniform has been deprecated in v3.0.0. This feature will be removed in v6.0.0. See https://github.com/optuna/optuna/releases/tag/v3.0.0. Use suggest_float(..., step=...) instead.\n",
      "  \"subsample\": trial.suggest_discrete_uniform(\"subsample\", 0.6, 1.0, 0.05),  # Reduce the range\n",
      "/var/folders/y8/9glnt_6110xftbsjpdqd12280000gp/T/ipykernel_3241/2078315071.py:17: FutureWarning: suggest_discrete_uniform has been deprecated in v3.0.0. This feature will be removed in v6.0.0. See https://github.com/optuna/optuna/releases/tag/v3.0.0. Use suggest_float(..., step=...) instead.\n",
      "  \"colsample_bytree\": trial.suggest_discrete_uniform(\"colsample_bytree\", 0.6, 1.0, 0.05),  # Reduce the range\n"
     ]
    },
    {
     "name": "stdout",
     "output_type": "stream",
     "text": [
      "Fold 1 MAE: 386.1895864293005\n",
      "Training Fold 2...\n",
      "Fold 2 MAE: 390.20441906643697\n",
      "Training Fold 3...\n",
      "Fold 3 MAE: 377.3177925670162\n",
      "Training Fold 4...\n",
      "Fold 4 MAE: 385.6683580707447\n",
      "Training Fold 5...\n",
      "Fold 5 MAE: 396.82889845442065\n",
      "Training Fold 6...\n",
      "Fold 6 MAE: 380.96551499667686\n",
      "Training Fold 7...\n",
      "Fold 7 MAE: 385.4546765980123\n",
      "Training Fold 8...\n",
      "Fold 8 MAE: 377.82691917731444\n",
      "Training Fold 9...\n",
      "Fold 9 MAE: 399.43560740096063\n",
      "Training Fold 10...\n"
     ]
    },
    {
     "name": "stderr",
     "output_type": "stream",
     "text": [
      "[I 2023-11-09 12:10:36,807] Trial 14 finished with value: 386.8296766628465 and parameters: {'objective': 'reg:squarederror', 'tree_method': 'hist', 'max_depth': 5, 'learning_rate': 0.8525440867934109, 'n_estimators': 503, 'min_child_weight': 7, 'gamma': 0.4129790456741395, 'subsample': 0.65, 'colsample_bytree': 0.85, 'reg_alpha': 0.6967518337260517, 'reg_lambda': 0.37455705269215056, 'random_state': 993}. Best is trial 12 with value: 336.817532522884.\n"
     ]
    },
    {
     "name": "stdout",
     "output_type": "stream",
     "text": [
      "Fold 10 MAE: 388.4049938675827\n",
      "Mean MAE for all Folds: 386.8296766628465\n",
      "Training Fold 1...\n"
     ]
    },
    {
     "name": "stderr",
     "output_type": "stream",
     "text": [
      "/var/folders/y8/9glnt_6110xftbsjpdqd12280000gp/T/ipykernel_3241/2078315071.py:16: FutureWarning: suggest_discrete_uniform has been deprecated in v3.0.0. This feature will be removed in v6.0.0. See https://github.com/optuna/optuna/releases/tag/v3.0.0. Use suggest_float(..., step=...) instead.\n",
      "  \"subsample\": trial.suggest_discrete_uniform(\"subsample\", 0.6, 1.0, 0.05),  # Reduce the range\n",
      "/var/folders/y8/9glnt_6110xftbsjpdqd12280000gp/T/ipykernel_3241/2078315071.py:17: FutureWarning: suggest_discrete_uniform has been deprecated in v3.0.0. This feature will be removed in v6.0.0. See https://github.com/optuna/optuna/releases/tag/v3.0.0. Use suggest_float(..., step=...) instead.\n",
      "  \"colsample_bytree\": trial.suggest_discrete_uniform(\"colsample_bytree\", 0.6, 1.0, 0.05),  # Reduce the range\n"
     ]
    },
    {
     "name": "stdout",
     "output_type": "stream",
     "text": [
      "Fold 1 MAE: 335.8076066411424\n",
      "Training Fold 2...\n",
      "Fold 2 MAE: 345.58606991797853\n",
      "Training Fold 3...\n",
      "Fold 3 MAE: 332.81140946827105\n",
      "Training Fold 4...\n",
      "Fold 4 MAE: 335.5155523221184\n",
      "Training Fold 5...\n",
      "Fold 5 MAE: 348.6308666284753\n",
      "Training Fold 6...\n",
      "Fold 6 MAE: 334.8041503320334\n",
      "Training Fold 7...\n",
      "Fold 7 MAE: 340.4250699370142\n",
      "Training Fold 8...\n",
      "Fold 8 MAE: 332.68090567008716\n",
      "Training Fold 9...\n",
      "Fold 9 MAE: 348.1956515386009\n",
      "Training Fold 10...\n"
     ]
    },
    {
     "name": "stderr",
     "output_type": "stream",
     "text": [
      "[I 2023-11-09 12:11:00,941] Trial 15 finished with value: 339.77468019315586 and parameters: {'objective': 'reg:squarederror', 'tree_method': 'approx', 'max_depth': 4, 'learning_rate': 0.9849381396843491, 'n_estimators': 327, 'min_child_weight': 5, 'gamma': 0.5957090365874063, 'subsample': 0.75, 'colsample_bytree': 0.75, 'reg_alpha': 0.8936129947770395, 'reg_lambda': 0.5436258509159558, 'random_state': 468}. Best is trial 12 with value: 336.817532522884.\n"
     ]
    },
    {
     "name": "stdout",
     "output_type": "stream",
     "text": [
      "Fold 10 MAE: 343.28951947583755\n",
      "Mean MAE for all Folds: 339.77468019315586\n",
      "Training Fold 1...\n"
     ]
    },
    {
     "name": "stderr",
     "output_type": "stream",
     "text": [
      "/var/folders/y8/9glnt_6110xftbsjpdqd12280000gp/T/ipykernel_3241/2078315071.py:16: FutureWarning: suggest_discrete_uniform has been deprecated in v3.0.0. This feature will be removed in v6.0.0. See https://github.com/optuna/optuna/releases/tag/v3.0.0. Use suggest_float(..., step=...) instead.\n",
      "  \"subsample\": trial.suggest_discrete_uniform(\"subsample\", 0.6, 1.0, 0.05),  # Reduce the range\n",
      "/var/folders/y8/9glnt_6110xftbsjpdqd12280000gp/T/ipykernel_3241/2078315071.py:17: FutureWarning: suggest_discrete_uniform has been deprecated in v3.0.0. This feature will be removed in v6.0.0. See https://github.com/optuna/optuna/releases/tag/v3.0.0. Use suggest_float(..., step=...) instead.\n",
      "  \"colsample_bytree\": trial.suggest_discrete_uniform(\"colsample_bytree\", 0.6, 1.0, 0.05),  # Reduce the range\n"
     ]
    },
    {
     "name": "stdout",
     "output_type": "stream",
     "text": [
      "Fold 1 MAE: 452.63179303719136\n",
      "Training Fold 2...\n",
      "Fold 2 MAE: 449.44833966403394\n",
      "Training Fold 3...\n",
      "Fold 3 MAE: 445.35208393466405\n",
      "Training Fold 4...\n",
      "Fold 4 MAE: 455.1459125775302\n",
      "Training Fold 5...\n",
      "Fold 5 MAE: 464.4354730818408\n",
      "Training Fold 6...\n",
      "Fold 6 MAE: 445.6519891233933\n",
      "Training Fold 7...\n",
      "Fold 7 MAE: 450.938480586669\n",
      "Training Fold 8...\n",
      "Fold 8 MAE: 438.84119916504534\n",
      "Training Fold 9...\n",
      "Fold 9 MAE: 469.0651628351232\n",
      "Training Fold 10...\n"
     ]
    },
    {
     "name": "stderr",
     "output_type": "stream",
     "text": [
      "[I 2023-11-09 12:11:34,467] Trial 16 finished with value: 452.521691510041 and parameters: {'objective': 'reg:squarederror', 'tree_method': 'approx', 'max_depth': 6, 'learning_rate': 0.732523769041172, 'n_estimators': 297, 'min_child_weight': 4, 'gamma': 0.6066433910159623, 'subsample': 0.8, 'colsample_bytree': 0.65, 'reg_alpha': 0.8611643170383376, 'reg_lambda': 0.587155630680328, 'random_state': 476}. Best is trial 12 with value: 336.817532522884.\n"
     ]
    },
    {
     "name": "stdout",
     "output_type": "stream",
     "text": [
      "Fold 10 MAE: 453.7064810949186\n",
      "Mean MAE for all Folds: 452.521691510041\n",
      "Training Fold 1...\n"
     ]
    },
    {
     "name": "stderr",
     "output_type": "stream",
     "text": [
      "/var/folders/y8/9glnt_6110xftbsjpdqd12280000gp/T/ipykernel_3241/2078315071.py:16: FutureWarning: suggest_discrete_uniform has been deprecated in v3.0.0. This feature will be removed in v6.0.0. See https://github.com/optuna/optuna/releases/tag/v3.0.0. Use suggest_float(..., step=...) instead.\n",
      "  \"subsample\": trial.suggest_discrete_uniform(\"subsample\", 0.6, 1.0, 0.05),  # Reduce the range\n",
      "/var/folders/y8/9glnt_6110xftbsjpdqd12280000gp/T/ipykernel_3241/2078315071.py:17: FutureWarning: suggest_discrete_uniform has been deprecated in v3.0.0. This feature will be removed in v6.0.0. See https://github.com/optuna/optuna/releases/tag/v3.0.0. Use suggest_float(..., step=...) instead.\n",
      "  \"colsample_bytree\": trial.suggest_discrete_uniform(\"colsample_bytree\", 0.6, 1.0, 0.05),  # Reduce the range\n"
     ]
    },
    {
     "name": "stdout",
     "output_type": "stream",
     "text": [
      "Fold 1 MAE: 399.7402185108494\n",
      "Training Fold 2...\n",
      "Fold 2 MAE: 405.8465423448672\n",
      "Training Fold 3...\n",
      "Fold 3 MAE: 391.3010872518447\n",
      "Training Fold 4...\n",
      "Fold 4 MAE: 397.20722490012616\n",
      "Training Fold 5...\n",
      "Fold 5 MAE: 407.31012853089567\n",
      "Training Fold 6...\n",
      "Fold 6 MAE: 395.20998728351043\n",
      "Training Fold 7...\n",
      "Fold 7 MAE: 401.38474076138453\n",
      "Training Fold 8...\n",
      "Fold 8 MAE: 393.19605742843305\n",
      "Training Fold 9...\n",
      "Fold 9 MAE: 410.9540927926703\n",
      "Training Fold 10...\n"
     ]
    },
    {
     "name": "stderr",
     "output_type": "stream",
     "text": [
      "[I 2023-11-09 12:11:40,548] Trial 17 finished with value: 400.04699231951497 and parameters: {'objective': 'reg:squarederror', 'tree_method': 'approx', 'max_depth': 4, 'learning_rate': 0.8722372443531548, 'n_estimators': 110, 'min_child_weight': 5, 'gamma': 0.5298496685977088, 'subsample': 0.75, 'colsample_bytree': 0.75, 'reg_alpha': 0.7017354528834615, 'reg_lambda': 0.3413746267937361, 'random_state': 631}. Best is trial 12 with value: 336.817532522884.\n"
     ]
    },
    {
     "name": "stdout",
     "output_type": "stream",
     "text": [
      "Fold 10 MAE: 398.3198433905678\n",
      "Mean MAE for all Folds: 400.04699231951497\n",
      "Training Fold 1...\n"
     ]
    },
    {
     "name": "stderr",
     "output_type": "stream",
     "text": [
      "/var/folders/y8/9glnt_6110xftbsjpdqd12280000gp/T/ipykernel_3241/2078315071.py:16: FutureWarning: suggest_discrete_uniform has been deprecated in v3.0.0. This feature will be removed in v6.0.0. See https://github.com/optuna/optuna/releases/tag/v3.0.0. Use suggest_float(..., step=...) instead.\n",
      "  \"subsample\": trial.suggest_discrete_uniform(\"subsample\", 0.6, 1.0, 0.05),  # Reduce the range\n",
      "/var/folders/y8/9glnt_6110xftbsjpdqd12280000gp/T/ipykernel_3241/2078315071.py:17: FutureWarning: suggest_discrete_uniform has been deprecated in v3.0.0. This feature will be removed in v6.0.0. See https://github.com/optuna/optuna/releases/tag/v3.0.0. Use suggest_float(..., step=...) instead.\n",
      "  \"colsample_bytree\": trial.suggest_discrete_uniform(\"colsample_bytree\", 0.6, 1.0, 0.05),  # Reduce the range\n"
     ]
    },
    {
     "name": "stdout",
     "output_type": "stream",
     "text": [
      "Fold 1 MAE: 409.2186008358823\n",
      "Training Fold 2...\n",
      "Fold 2 MAE: 415.71987484968486\n",
      "Training Fold 3...\n",
      "Fold 3 MAE: 405.7755429727437\n",
      "Training Fold 4...\n",
      "Fold 4 MAE: 399.5231132370041\n",
      "Training Fold 5...\n",
      "Fold 5 MAE: 413.5201789906535\n",
      "Training Fold 6...\n",
      "Fold 6 MAE: 405.89380609480304\n",
      "Training Fold 7...\n",
      "Fold 7 MAE: 408.43992599283683\n",
      "Training Fold 8...\n",
      "Fold 8 MAE: 404.1361952709341\n",
      "Training Fold 9...\n",
      "Fold 9 MAE: 420.49679193819384\n",
      "Training Fold 10...\n"
     ]
    },
    {
     "name": "stderr",
     "output_type": "stream",
     "text": [
      "[I 2023-11-09 12:11:55,015] Trial 18 finished with value: 408.7100881895577 and parameters: {'objective': 'reg:squarederror', 'tree_method': 'approx', 'max_depth': 3, 'learning_rate': 0.895370650198692, 'n_estimators': 386, 'min_child_weight': 4, 'gamma': 0.6242431239796095, 'subsample': 0.6, 'colsample_bytree': 0.75, 'reg_alpha': 0.9119168952961416, 'reg_lambda': 0.5293411279239112, 'random_state': 421}. Best is trial 12 with value: 336.817532522884.\n"
     ]
    },
    {
     "name": "stdout",
     "output_type": "stream",
     "text": [
      "Fold 10 MAE: 404.3768517128414\n",
      "Mean MAE for all Folds: 408.7100881895577\n",
      "Training Fold 1...\n"
     ]
    },
    {
     "name": "stderr",
     "output_type": "stream",
     "text": [
      "/var/folders/y8/9glnt_6110xftbsjpdqd12280000gp/T/ipykernel_3241/2078315071.py:16: FutureWarning: suggest_discrete_uniform has been deprecated in v3.0.0. This feature will be removed in v6.0.0. See https://github.com/optuna/optuna/releases/tag/v3.0.0. Use suggest_float(..., step=...) instead.\n",
      "  \"subsample\": trial.suggest_discrete_uniform(\"subsample\", 0.6, 1.0, 0.05),  # Reduce the range\n",
      "/var/folders/y8/9glnt_6110xftbsjpdqd12280000gp/T/ipykernel_3241/2078315071.py:17: FutureWarning: suggest_discrete_uniform has been deprecated in v3.0.0. This feature will be removed in v6.0.0. See https://github.com/optuna/optuna/releases/tag/v3.0.0. Use suggest_float(..., step=...) instead.\n",
      "  \"colsample_bytree\": trial.suggest_discrete_uniform(\"colsample_bytree\", 0.6, 1.0, 0.05),  # Reduce the range\n"
     ]
    },
    {
     "name": "stdout",
     "output_type": "stream",
     "text": [
      "Fold 1 MAE: 314.1271298723664\n",
      "Training Fold 2...\n",
      "Fold 2 MAE: 328.17406361877534\n",
      "Training Fold 3...\n",
      "Fold 3 MAE: 307.48262508390695\n",
      "Training Fold 4...\n",
      "Fold 4 MAE: 317.9730345247411\n",
      "Training Fold 5...\n",
      "Fold 5 MAE: 323.4398540518174\n",
      "Training Fold 6...\n",
      "Fold 6 MAE: 315.25896887852724\n",
      "Training Fold 7...\n",
      "Fold 7 MAE: 319.75925431719946\n",
      "Training Fold 8...\n",
      "Fold 8 MAE: 311.5950768559851\n",
      "Training Fold 9...\n",
      "Fold 9 MAE: 329.7449868163537\n",
      "Training Fold 10...\n"
     ]
    },
    {
     "name": "stderr",
     "output_type": "stream",
     "text": [
      "[I 2023-11-09 12:12:09,837] Trial 19 finished with value: 318.49527710736135 and parameters: {'objective': 'reg:squarederror', 'tree_method': 'approx', 'max_depth': 5, 'learning_rate': 0.9956782782556035, 'n_estimators': 219, 'min_child_weight': 6, 'gamma': 0.36576010112819124, 'subsample': 0.8, 'colsample_bytree': 0.8, 'reg_alpha': 0.7243515013763943, 'reg_lambda': 0.2720635802366276, 'random_state': 697}. Best is trial 19 with value: 318.49527710736135.\n"
     ]
    },
    {
     "name": "stdout",
     "output_type": "stream",
     "text": [
      "Fold 10 MAE: 317.3977770539414\n",
      "Mean MAE for all Folds: 318.49527710736135\n",
      "Training Fold 1...\n"
     ]
    },
    {
     "name": "stderr",
     "output_type": "stream",
     "text": [
      "/var/folders/y8/9glnt_6110xftbsjpdqd12280000gp/T/ipykernel_3241/2078315071.py:16: FutureWarning: suggest_discrete_uniform has been deprecated in v3.0.0. This feature will be removed in v6.0.0. See https://github.com/optuna/optuna/releases/tag/v3.0.0. Use suggest_float(..., step=...) instead.\n",
      "  \"subsample\": trial.suggest_discrete_uniform(\"subsample\", 0.6, 1.0, 0.05),  # Reduce the range\n",
      "/var/folders/y8/9glnt_6110xftbsjpdqd12280000gp/T/ipykernel_3241/2078315071.py:17: FutureWarning: suggest_discrete_uniform has been deprecated in v3.0.0. This feature will be removed in v6.0.0. See https://github.com/optuna/optuna/releases/tag/v3.0.0. Use suggest_float(..., step=...) instead.\n",
      "  \"colsample_bytree\": trial.suggest_discrete_uniform(\"colsample_bytree\", 0.6, 1.0, 0.05),  # Reduce the range\n"
     ]
    },
    {
     "name": "stdout",
     "output_type": "stream",
     "text": [
      "Fold 1 MAE: 417.4486743355783\n",
      "Training Fold 2...\n",
      "Fold 2 MAE: 419.69999242039523\n",
      "Training Fold 3...\n",
      "Fold 3 MAE: 412.65519508680393\n",
      "Training Fold 4...\n",
      "Fold 4 MAE: 420.8358749522334\n",
      "Training Fold 5...\n",
      "Fold 5 MAE: 433.8734097336019\n",
      "Training Fold 6...\n",
      "Fold 6 MAE: 415.0553167017831\n",
      "Training Fold 7...\n",
      "Fold 7 MAE: 417.86908327691367\n",
      "Training Fold 8...\n",
      "Fold 8 MAE: 408.90211648009125\n",
      "Training Fold 9...\n",
      "Fold 9 MAE: 434.59702019220583\n",
      "Training Fold 10...\n"
     ]
    },
    {
     "name": "stderr",
     "output_type": "stream",
     "text": [
      "[I 2023-11-09 12:12:48,672] Trial 20 finished with value: 420.0035104188816 and parameters: {'objective': 'reg:squarederror', 'tree_method': 'approx', 'max_depth': 8, 'learning_rate': 0.762790012064858, 'n_estimators': 211, 'min_child_weight': 6, 'gamma': 0.34243662206704006, 'subsample': 0.8, 'colsample_bytree': 0.8, 'reg_alpha': 0.78726244896963, 'reg_lambda': 0.2542720365591608, 'random_state': 672}. Best is trial 19 with value: 318.49527710736135.\n"
     ]
    },
    {
     "name": "stdout",
     "output_type": "stream",
     "text": [
      "Fold 10 MAE: 419.09842100920986\n",
      "Mean MAE for all Folds: 420.0035104188816\n",
      "Training Fold 1...\n"
     ]
    },
    {
     "name": "stderr",
     "output_type": "stream",
     "text": [
      "/var/folders/y8/9glnt_6110xftbsjpdqd12280000gp/T/ipykernel_3241/2078315071.py:16: FutureWarning: suggest_discrete_uniform has been deprecated in v3.0.0. This feature will be removed in v6.0.0. See https://github.com/optuna/optuna/releases/tag/v3.0.0. Use suggest_float(..., step=...) instead.\n",
      "  \"subsample\": trial.suggest_discrete_uniform(\"subsample\", 0.6, 1.0, 0.05),  # Reduce the range\n",
      "/var/folders/y8/9glnt_6110xftbsjpdqd12280000gp/T/ipykernel_3241/2078315071.py:17: FutureWarning: suggest_discrete_uniform has been deprecated in v3.0.0. This feature will be removed in v6.0.0. See https://github.com/optuna/optuna/releases/tag/v3.0.0. Use suggest_float(..., step=...) instead.\n",
      "  \"colsample_bytree\": trial.suggest_discrete_uniform(\"colsample_bytree\", 0.6, 1.0, 0.05),  # Reduce the range\n"
     ]
    },
    {
     "name": "stdout",
     "output_type": "stream",
     "text": [
      "Fold 1 MAE: 351.6296646490113\n",
      "Training Fold 2...\n",
      "Fold 2 MAE: 357.9072276259187\n",
      "Training Fold 3...\n",
      "Fold 3 MAE: 350.89242791923425\n",
      "Training Fold 4...\n",
      "Fold 4 MAE: 353.13112304336084\n",
      "Training Fold 5...\n",
      "Fold 5 MAE: 361.55767198619276\n",
      "Training Fold 6...\n",
      "Fold 6 MAE: 358.365295747633\n",
      "Training Fold 7...\n",
      "Fold 7 MAE: 349.14325872093656\n",
      "Training Fold 8...\n",
      "Fold 8 MAE: 350.7863163493268\n",
      "Training Fold 9...\n",
      "Fold 9 MAE: 365.5592545235511\n",
      "Training Fold 10...\n"
     ]
    },
    {
     "name": "stderr",
     "output_type": "stream",
     "text": [
      "[I 2023-11-09 12:13:36,471] Trial 21 finished with value: 355.00735421610887 and parameters: {'objective': 'reg:squarederror', 'tree_method': 'approx', 'max_depth': 5, 'learning_rate': 0.9926294191962678, 'n_estimators': 595, 'min_child_weight': 6, 'gamma': 0.44126922174642746, 'subsample': 0.8, 'colsample_bytree': 0.7, 'reg_alpha': 0.9077661058301942, 'reg_lambda': 0.4166973915797515, 'random_state': 498}. Best is trial 19 with value: 318.49527710736135.\n"
     ]
    },
    {
     "name": "stdout",
     "output_type": "stream",
     "text": [
      "Fold 10 MAE: 351.10130159592353\n",
      "Mean MAE for all Folds: 355.00735421610887\n",
      "Training Fold 1...\n"
     ]
    },
    {
     "name": "stderr",
     "output_type": "stream",
     "text": [
      "/var/folders/y8/9glnt_6110xftbsjpdqd12280000gp/T/ipykernel_3241/2078315071.py:16: FutureWarning: suggest_discrete_uniform has been deprecated in v3.0.0. This feature will be removed in v6.0.0. See https://github.com/optuna/optuna/releases/tag/v3.0.0. Use suggest_float(..., step=...) instead.\n",
      "  \"subsample\": trial.suggest_discrete_uniform(\"subsample\", 0.6, 1.0, 0.05),  # Reduce the range\n",
      "/var/folders/y8/9glnt_6110xftbsjpdqd12280000gp/T/ipykernel_3241/2078315071.py:17: FutureWarning: suggest_discrete_uniform has been deprecated in v3.0.0. This feature will be removed in v6.0.0. See https://github.com/optuna/optuna/releases/tag/v3.0.0. Use suggest_float(..., step=...) instead.\n",
      "  \"colsample_bytree\": trial.suggest_discrete_uniform(\"colsample_bytree\", 0.6, 1.0, 0.05),  # Reduce the range\n"
     ]
    },
    {
     "name": "stdout",
     "output_type": "stream",
     "text": [
      "Fold 1 MAE: 378.77181603515413\n",
      "Training Fold 2...\n",
      "Fold 2 MAE: 382.60884823625474\n",
      "Training Fold 3...\n",
      "Fold 3 MAE: 374.4223943074982\n",
      "Training Fold 4...\n",
      "Fold 4 MAE: 379.5658075673715\n",
      "Training Fold 5...\n",
      "Fold 5 MAE: 391.76506813551816\n",
      "Training Fold 6...\n",
      "Fold 6 MAE: 374.6692551390918\n",
      "Training Fold 7...\n",
      "Fold 7 MAE: 381.5234966071494\n",
      "Training Fold 8...\n",
      "Fold 8 MAE: 373.7503001033998\n",
      "Training Fold 9...\n",
      "Fold 9 MAE: 389.97048631948076\n",
      "Training Fold 10...\n"
     ]
    },
    {
     "name": "stderr",
     "output_type": "stream",
     "text": [
      "[I 2023-11-09 12:13:59,698] Trial 22 finished with value: 381.2822087084716 and parameters: {'objective': 'reg:squarederror', 'tree_method': 'approx', 'max_depth': 4, 'learning_rate': 0.8949410780934677, 'n_estimators': 390, 'min_child_weight': 3, 'gamma': 0.10016342221254754, 'subsample': 0.7, 'colsample_bytree': 0.8, 'reg_alpha': 0.7073693535377413, 'reg_lambda': 0.33884090397896016, 'random_state': 693}. Best is trial 19 with value: 318.49527710736135.\n"
     ]
    },
    {
     "name": "stdout",
     "output_type": "stream",
     "text": [
      "Fold 10 MAE: 385.77461463379746\n",
      "Mean MAE for all Folds: 381.2822087084716\n",
      "Training Fold 1...\n"
     ]
    },
    {
     "name": "stderr",
     "output_type": "stream",
     "text": [
      "/var/folders/y8/9glnt_6110xftbsjpdqd12280000gp/T/ipykernel_3241/2078315071.py:16: FutureWarning: suggest_discrete_uniform has been deprecated in v3.0.0. This feature will be removed in v6.0.0. See https://github.com/optuna/optuna/releases/tag/v3.0.0. Use suggest_float(..., step=...) instead.\n",
      "  \"subsample\": trial.suggest_discrete_uniform(\"subsample\", 0.6, 1.0, 0.05),  # Reduce the range\n",
      "/var/folders/y8/9glnt_6110xftbsjpdqd12280000gp/T/ipykernel_3241/2078315071.py:17: FutureWarning: suggest_discrete_uniform has been deprecated in v3.0.0. This feature will be removed in v6.0.0. See https://github.com/optuna/optuna/releases/tag/v3.0.0. Use suggest_float(..., step=...) instead.\n",
      "  \"colsample_bytree\": trial.suggest_discrete_uniform(\"colsample_bytree\", 0.6, 1.0, 0.05),  # Reduce the range\n"
     ]
    },
    {
     "name": "stdout",
     "output_type": "stream",
     "text": [
      "Fold 1 MAE: 311.749934600249\n",
      "Training Fold 2...\n",
      "Fold 2 MAE: 322.83745080291845\n",
      "Training Fold 3...\n",
      "Fold 3 MAE: 310.26471676826884\n",
      "Training Fold 4...\n",
      "Fold 4 MAE: 310.8790175628745\n",
      "Training Fold 5...\n",
      "Fold 5 MAE: 321.9277401528131\n",
      "Training Fold 6...\n",
      "Fold 6 MAE: 309.70578863497803\n",
      "Training Fold 7...\n",
      "Fold 7 MAE: 315.49034891050536\n",
      "Training Fold 8...\n",
      "Fold 8 MAE: 310.8341549112958\n",
      "Training Fold 9...\n",
      "Fold 9 MAE: 328.0317250809689\n",
      "Training Fold 10...\n"
     ]
    },
    {
     "name": "stderr",
     "output_type": "stream",
     "text": [
      "[I 2023-11-09 12:14:16,518] Trial 23 finished with value: 315.67197458967576 and parameters: {'objective': 'reg:squarederror', 'tree_method': 'approx', 'max_depth': 6, 'learning_rate': 0.9958310092096573, 'n_estimators': 169, 'min_child_weight': 5, 'gamma': 0.36519908932760325, 'subsample': 0.85, 'colsample_bytree': 0.7, 'reg_alpha': 0.9055917847397426, 'reg_lambda': 0.4877692665007485, 'random_state': 564}. Best is trial 23 with value: 315.67197458967576.\n"
     ]
    },
    {
     "name": "stdout",
     "output_type": "stream",
     "text": [
      "Fold 10 MAE: 314.99886847188543\n",
      "Mean MAE for all Folds: 315.67197458967576\n",
      "Training Fold 1...\n"
     ]
    },
    {
     "name": "stderr",
     "output_type": "stream",
     "text": [
      "/var/folders/y8/9glnt_6110xftbsjpdqd12280000gp/T/ipykernel_3241/2078315071.py:16: FutureWarning: suggest_discrete_uniform has been deprecated in v3.0.0. This feature will be removed in v6.0.0. See https://github.com/optuna/optuna/releases/tag/v3.0.0. Use suggest_float(..., step=...) instead.\n",
      "  \"subsample\": trial.suggest_discrete_uniform(\"subsample\", 0.6, 1.0, 0.05),  # Reduce the range\n",
      "/var/folders/y8/9glnt_6110xftbsjpdqd12280000gp/T/ipykernel_3241/2078315071.py:17: FutureWarning: suggest_discrete_uniform has been deprecated in v3.0.0. This feature will be removed in v6.0.0. See https://github.com/optuna/optuna/releases/tag/v3.0.0. Use suggest_float(..., step=...) instead.\n",
      "  \"colsample_bytree\": trial.suggest_discrete_uniform(\"colsample_bytree\", 0.6, 1.0, 0.05),  # Reduce the range\n"
     ]
    },
    {
     "name": "stdout",
     "output_type": "stream",
     "text": [
      "Fold 1 MAE: 402.5547166516407\n",
      "Training Fold 2...\n",
      "Fold 2 MAE: 404.4899889490372\n",
      "Training Fold 3...\n",
      "Fold 3 MAE: 397.23309295247043\n",
      "Training Fold 4...\n",
      "Fold 4 MAE: 407.5513563262375\n",
      "Training Fold 5...\n",
      "Fold 5 MAE: 418.3814390910129\n",
      "Training Fold 6...\n",
      "Fold 6 MAE: 400.4225912505801\n",
      "Training Fold 7...\n",
      "Fold 7 MAE: 401.92074081729623\n",
      "Training Fold 8...\n",
      "Fold 8 MAE: 393.42940272567296\n",
      "Training Fold 9...\n",
      "Fold 9 MAE: 416.41930749637834\n",
      "Training Fold 10...\n"
     ]
    },
    {
     "name": "stderr",
     "output_type": "stream",
     "text": [
      "[I 2023-11-09 12:14:35,627] Trial 24 finished with value: 405.0945445492331 and parameters: {'objective': 'reg:squarederror', 'tree_method': 'approx', 'max_depth': 6, 'learning_rate': 0.8208611358196164, 'n_estimators': 199, 'min_child_weight': 6, 'gamma': 0.33925972226259843, 'subsample': 0.85, 'colsample_bytree': 0.65, 'reg_alpha': 0.7681417636775996, 'reg_lambda': 0.4348755659576378, 'random_state': 851}. Best is trial 23 with value: 315.67197458967576.\n"
     ]
    },
    {
     "name": "stdout",
     "output_type": "stream",
     "text": [
      "Fold 10 MAE: 408.5428092320049\n",
      "Mean MAE for all Folds: 405.0945445492331\n",
      "Training Fold 1...\n"
     ]
    },
    {
     "name": "stderr",
     "output_type": "stream",
     "text": [
      "/var/folders/y8/9glnt_6110xftbsjpdqd12280000gp/T/ipykernel_3241/2078315071.py:16: FutureWarning: suggest_discrete_uniform has been deprecated in v3.0.0. This feature will be removed in v6.0.0. See https://github.com/optuna/optuna/releases/tag/v3.0.0. Use suggest_float(..., step=...) instead.\n",
      "  \"subsample\": trial.suggest_discrete_uniform(\"subsample\", 0.6, 1.0, 0.05),  # Reduce the range\n",
      "/var/folders/y8/9glnt_6110xftbsjpdqd12280000gp/T/ipykernel_3241/2078315071.py:17: FutureWarning: suggest_discrete_uniform has been deprecated in v3.0.0. This feature will be removed in v6.0.0. See https://github.com/optuna/optuna/releases/tag/v3.0.0. Use suggest_float(..., step=...) instead.\n",
      "  \"colsample_bytree\": trial.suggest_discrete_uniform(\"colsample_bytree\", 0.6, 1.0, 0.05),  # Reduce the range\n"
     ]
    },
    {
     "name": "stdout",
     "output_type": "stream",
     "text": [
      "Fold 1 MAE: 348.9376424124319\n",
      "Training Fold 2...\n",
      "Fold 2 MAE: 355.41612742679774\n",
      "Training Fold 3...\n",
      "Fold 3 MAE: 345.40753406276696\n",
      "Training Fold 4...\n",
      "Fold 4 MAE: 348.41267056370316\n",
      "Training Fold 5...\n",
      "Fold 5 MAE: 363.0307871448979\n",
      "Training Fold 6...\n",
      "Fold 6 MAE: 348.2523728787196\n",
      "Training Fold 7...\n",
      "Fold 7 MAE: 350.9052524055944\n",
      "Training Fold 8...\n",
      "Fold 8 MAE: 340.4933645326415\n",
      "Training Fold 9...\n",
      "Fold 9 MAE: 363.77110813819075\n",
      "Training Fold 10...\n"
     ]
    },
    {
     "name": "stderr",
     "output_type": "stream",
     "text": [
      "[I 2023-11-09 12:14:40,821] Trial 25 finished with value: 351.9312837287728 and parameters: {'objective': 'reg:squarederror', 'tree_method': 'approx', 'max_depth': 6, 'learning_rate': 0.902762614015542, 'n_estimators': 55, 'min_child_weight': 3, 'gamma': 0.2970924822587462, 'subsample': 0.9, 'colsample_bytree': 0.7, 'reg_alpha': 0.9462017216390355, 'reg_lambda': 0.25120233356859084, 'random_state': 565}. Best is trial 23 with value: 315.67197458967576.\n"
     ]
    },
    {
     "name": "stdout",
     "output_type": "stream",
     "text": [
      "Fold 10 MAE: 354.6859777219841\n",
      "Mean MAE for all Folds: 351.9312837287728\n",
      "Training Fold 1...\n"
     ]
    },
    {
     "name": "stderr",
     "output_type": "stream",
     "text": [
      "/var/folders/y8/9glnt_6110xftbsjpdqd12280000gp/T/ipykernel_3241/2078315071.py:16: FutureWarning: suggest_discrete_uniform has been deprecated in v3.0.0. This feature will be removed in v6.0.0. See https://github.com/optuna/optuna/releases/tag/v3.0.0. Use suggest_float(..., step=...) instead.\n",
      "  \"subsample\": trial.suggest_discrete_uniform(\"subsample\", 0.6, 1.0, 0.05),  # Reduce the range\n",
      "/var/folders/y8/9glnt_6110xftbsjpdqd12280000gp/T/ipykernel_3241/2078315071.py:17: FutureWarning: suggest_discrete_uniform has been deprecated in v3.0.0. This feature will be removed in v6.0.0. See https://github.com/optuna/optuna/releases/tag/v3.0.0. Use suggest_float(..., step=...) instead.\n",
      "  \"colsample_bytree\": trial.suggest_discrete_uniform(\"colsample_bytree\", 0.6, 1.0, 0.05),  # Reduce the range\n"
     ]
    },
    {
     "name": "stdout",
     "output_type": "stream",
     "text": [
      "Fold 1 MAE: 494.02040106768453\n",
      "Training Fold 2...\n",
      "Fold 2 MAE: 487.35157214739075\n",
      "Training Fold 3...\n",
      "Fold 3 MAE: 484.15208451900406\n",
      "Training Fold 4...\n",
      "Fold 4 MAE: 494.31431443988276\n",
      "Training Fold 5...\n",
      "Fold 5 MAE: 503.07093578901873\n",
      "Training Fold 6...\n",
      "Fold 6 MAE: 487.0949373148188\n",
      "Training Fold 7...\n",
      "Fold 7 MAE: 490.8450664734071\n",
      "Training Fold 8...\n",
      "Fold 8 MAE: 481.6867543427184\n",
      "Training Fold 9...\n",
      "Fold 9 MAE: 510.5804177122079\n",
      "Training Fold 10...\n"
     ]
    },
    {
     "name": "stderr",
     "output_type": "stream",
     "text": [
      "[I 2023-11-09 12:15:19,674] Trial 26 finished with value: 493.23687805566976 and parameters: {'objective': 'reg:squarederror', 'tree_method': 'approx', 'max_depth': 5, 'learning_rate': 0.6818794258777707, 'n_estimators': 580, 'min_child_weight': 5, 'gamma': 0.40889930664292456, 'subsample': 0.9, 'colsample_bytree': 0.6, 'reg_alpha': 0.8476587566590961, 'reg_lambda': 0.46909080645058515, 'random_state': 723}. Best is trial 23 with value: 315.67197458967576.\n"
     ]
    },
    {
     "name": "stdout",
     "output_type": "stream",
     "text": [
      "Fold 10 MAE: 499.25229675056505\n",
      "Mean MAE for all Folds: 493.23687805566976\n",
      "Training Fold 1...\n"
     ]
    },
    {
     "name": "stderr",
     "output_type": "stream",
     "text": [
      "/var/folders/y8/9glnt_6110xftbsjpdqd12280000gp/T/ipykernel_3241/2078315071.py:16: FutureWarning: suggest_discrete_uniform has been deprecated in v3.0.0. This feature will be removed in v6.0.0. See https://github.com/optuna/optuna/releases/tag/v3.0.0. Use suggest_float(..., step=...) instead.\n",
      "  \"subsample\": trial.suggest_discrete_uniform(\"subsample\", 0.6, 1.0, 0.05),  # Reduce the range\n",
      "/var/folders/y8/9glnt_6110xftbsjpdqd12280000gp/T/ipykernel_3241/2078315071.py:17: FutureWarning: suggest_discrete_uniform has been deprecated in v3.0.0. This feature will be removed in v6.0.0. See https://github.com/optuna/optuna/releases/tag/v3.0.0. Use suggest_float(..., step=...) instead.\n",
      "  \"colsample_bytree\": trial.suggest_discrete_uniform(\"colsample_bytree\", 0.6, 1.0, 0.05),  # Reduce the range\n"
     ]
    },
    {
     "name": "stdout",
     "output_type": "stream",
     "text": [
      "Fold 1 MAE: 386.7652793513969\n",
      "Training Fold 2...\n",
      "Fold 2 MAE: 393.365417560868\n",
      "Training Fold 3...\n",
      "Fold 3 MAE: 382.63912643163303\n",
      "Training Fold 4...\n",
      "Fold 4 MAE: 385.9903978393923\n",
      "Training Fold 5...\n",
      "Fold 5 MAE: 402.484465788941\n",
      "Training Fold 6...\n",
      "Fold 6 MAE: 386.38339365847094\n",
      "Training Fold 7...\n",
      "Fold 7 MAE: 382.99153466633976\n",
      "Training Fold 8...\n",
      "Fold 8 MAE: 376.4296302564854\n",
      "Training Fold 9...\n",
      "Fold 9 MAE: 401.21990195068673\n",
      "Training Fold 10...\n"
     ]
    },
    {
     "name": "stderr",
     "output_type": "stream",
     "text": [
      "[I 2023-11-09 12:15:45,691] Trial 27 finished with value: 388.67342922329414 and parameters: {'objective': 'reg:squarederror', 'tree_method': 'approx', 'max_depth': 8, 'learning_rate': 0.816526937877617, 'n_estimators': 167, 'min_child_weight': 8, 'gamma': 0.24736153780764886, 'subsample': 0.85, 'colsample_bytree': 0.85, 'reg_alpha': 0.9308771884851019, 'reg_lambda': 0.2990426518086633, 'random_state': 548}. Best is trial 23 with value: 315.67197458967576.\n"
     ]
    },
    {
     "name": "stdout",
     "output_type": "stream",
     "text": [
      "Fold 10 MAE: 388.4651447287275\n",
      "Mean MAE for all Folds: 388.67342922329414\n",
      "Training Fold 1...\n"
     ]
    },
    {
     "name": "stderr",
     "output_type": "stream",
     "text": [
      "/var/folders/y8/9glnt_6110xftbsjpdqd12280000gp/T/ipykernel_3241/2078315071.py:16: FutureWarning: suggest_discrete_uniform has been deprecated in v3.0.0. This feature will be removed in v6.0.0. See https://github.com/optuna/optuna/releases/tag/v3.0.0. Use suggest_float(..., step=...) instead.\n",
      "  \"subsample\": trial.suggest_discrete_uniform(\"subsample\", 0.6, 1.0, 0.05),  # Reduce the range\n",
      "/var/folders/y8/9glnt_6110xftbsjpdqd12280000gp/T/ipykernel_3241/2078315071.py:17: FutureWarning: suggest_discrete_uniform has been deprecated in v3.0.0. This feature will be removed in v6.0.0. See https://github.com/optuna/optuna/releases/tag/v3.0.0. Use suggest_float(..., step=...) instead.\n",
      "  \"colsample_bytree\": trial.suggest_discrete_uniform(\"colsample_bytree\", 0.6, 1.0, 0.05),  # Reduce the range\n"
     ]
    },
    {
     "name": "stdout",
     "output_type": "stream",
     "text": [
      "Fold 1 MAE: 339.95204654476936\n",
      "Training Fold 2...\n",
      "Fold 2 MAE: 347.38977076438084\n",
      "Training Fold 3...\n",
      "Fold 3 MAE: 331.6086276566977\n",
      "Training Fold 4...\n",
      "Fold 4 MAE: 336.82653515609235\n",
      "Training Fold 5...\n",
      "Fold 5 MAE: 347.13232768984534\n",
      "Training Fold 6...\n",
      "Fold 6 MAE: 333.7503927794911\n",
      "Training Fold 7...\n",
      "Fold 7 MAE: 336.84519592797506\n",
      "Training Fold 8...\n",
      "Fold 8 MAE: 331.3460344879636\n",
      "Training Fold 9...\n",
      "Fold 9 MAE: 349.04833674942785\n",
      "Training Fold 10...\n"
     ]
    },
    {
     "name": "stderr",
     "output_type": "stream",
     "text": [
      "[I 2023-11-09 12:16:15,908] Trial 28 finished with value: 339.5908767450837 and parameters: {'objective': 'reg:squarederror', 'tree_method': 'approx', 'max_depth': 6, 'learning_rate': 0.9276142970820431, 'n_estimators': 311, 'min_child_weight': 4, 'gamma': 0.3870642338472045, 'subsample': 0.65, 'colsample_bytree': 0.95, 'reg_alpha': 0.7361420836279103, 'reg_lambda': 0.17194918713120524, 'random_state': 640}. Best is trial 23 with value: 315.67197458967576.\n"
     ]
    },
    {
     "name": "stdout",
     "output_type": "stream",
     "text": [
      "Fold 10 MAE: 342.0094996941936\n",
      "Mean MAE for all Folds: 339.5908767450837\n",
      "Training Fold 1...\n"
     ]
    },
    {
     "name": "stderr",
     "output_type": "stream",
     "text": [
      "/var/folders/y8/9glnt_6110xftbsjpdqd12280000gp/T/ipykernel_3241/2078315071.py:16: FutureWarning: suggest_discrete_uniform has been deprecated in v3.0.0. This feature will be removed in v6.0.0. See https://github.com/optuna/optuna/releases/tag/v3.0.0. Use suggest_float(..., step=...) instead.\n",
      "  \"subsample\": trial.suggest_discrete_uniform(\"subsample\", 0.6, 1.0, 0.05),  # Reduce the range\n",
      "/var/folders/y8/9glnt_6110xftbsjpdqd12280000gp/T/ipykernel_3241/2078315071.py:17: FutureWarning: suggest_discrete_uniform has been deprecated in v3.0.0. This feature will be removed in v6.0.0. See https://github.com/optuna/optuna/releases/tag/v3.0.0. Use suggest_float(..., step=...) instead.\n",
      "  \"colsample_bytree\": trial.suggest_discrete_uniform(\"colsample_bytree\", 0.6, 1.0, 0.05),  # Reduce the range\n"
     ]
    },
    {
     "name": "stdout",
     "output_type": "stream",
     "text": [
      "Fold 1 MAE: 588.1662800521982\n",
      "Training Fold 2...\n",
      "Fold 2 MAE: 570.9639473156512\n",
      "Training Fold 3...\n",
      "Fold 3 MAE: 573.9813994586236\n",
      "Training Fold 4...\n",
      "Fold 4 MAE: 584.3724340862351\n",
      "Training Fold 5...\n",
      "Fold 5 MAE: 591.1846611059076\n",
      "Training Fold 6...\n",
      "Fold 6 MAE: 575.2485479497232\n",
      "Training Fold 7...\n",
      "Fold 7 MAE: 575.4310691856487\n",
      "Training Fold 8...\n",
      "Fold 8 MAE: 569.5394543052407\n",
      "Training Fold 9...\n",
      "Fold 9 MAE: 601.4668142486059\n",
      "Training Fold 10...\n"
     ]
    },
    {
     "name": "stderr",
     "output_type": "stream",
     "text": [
      "[I 2023-11-09 12:17:01,763] Trial 29 finished with value: 581.8617490862531 and parameters: {'objective': 'reg:squarederror', 'tree_method': 'approx', 'max_depth': 7, 'learning_rate': 0.5380261024162454, 'n_estimators': 443, 'min_child_weight': 3, 'gamma': 0.30504968909009, 'subsample': 0.8, 'colsample_bytree': 0.65, 'reg_alpha': 0.8696002360726376, 'reg_lambda': 0.6271742548767807, 'random_state': 744}. Best is trial 23 with value: 315.67197458967576.\n"
     ]
    },
    {
     "name": "stdout",
     "output_type": "stream",
     "text": [
      "Fold 10 MAE: 588.2628831546962\n",
      "Mean MAE for all Folds: 581.8617490862531\n",
      "Optimization complete!\n"
     ]
    }
   ],
   "source": [
    "study1 = optuna.create_study(direction=\"minimize\")\n",
    "\n",
    "# Optimize the objective function\n",
    "print(\"Optimizing hyperparameters...\")\n",
    "study1.optimize(get_objective(X=X_1,y=y_1 ), n_trials=30)\n",
    "print(\"Optimization complete!\")\n",
    "\n",
    "predictor1 = XGBRFRegressor(**study1.best_params).fit(X_1, y_1)\n"
   ]
  },
  {
   "cell_type": "code",
   "execution_count": 11,
   "metadata": {},
   "outputs": [],
   "source": [
    "X_2, y_2 = df2_0[[c for c in df2_0.columns if \"pv_measurement\" != c]], df2_0[\"pv_measurement\"]"
   ]
  },
  {
   "cell_type": "code",
   "execution_count": 12,
   "metadata": {},
   "outputs": [
    {
     "name": "stderr",
     "output_type": "stream",
     "text": [
      "[I 2023-11-09 12:17:03,491] A new study created in memory with name: no-name-49345c3f-239c-41fc-9d05-d5b82f4e451b\n",
      "/var/folders/y8/9glnt_6110xftbsjpdqd12280000gp/T/ipykernel_3241/2078315071.py:16: FutureWarning: suggest_discrete_uniform has been deprecated in v3.0.0. This feature will be removed in v6.0.0. See https://github.com/optuna/optuna/releases/tag/v3.0.0. Use suggest_float(..., step=...) instead.\n",
      "  \"subsample\": trial.suggest_discrete_uniform(\"subsample\", 0.6, 1.0, 0.05),  # Reduce the range\n",
      "/var/folders/y8/9glnt_6110xftbsjpdqd12280000gp/T/ipykernel_3241/2078315071.py:17: FutureWarning: suggest_discrete_uniform has been deprecated in v3.0.0. This feature will be removed in v6.0.0. See https://github.com/optuna/optuna/releases/tag/v3.0.0. Use suggest_float(..., step=...) instead.\n",
      "  \"colsample_bytree\": trial.suggest_discrete_uniform(\"colsample_bytree\", 0.6, 1.0, 0.05),  # Reduce the range\n"
     ]
    },
    {
     "name": "stdout",
     "output_type": "stream",
     "text": [
      "Optimizing hyperparameters...\n",
      "Training Fold 1...\n",
      "Fold 1 MAE: 138.5997129992479\n",
      "Training Fold 2...\n",
      "Fold 2 MAE: 136.33886458576683\n",
      "Training Fold 3...\n",
      "Fold 3 MAE: 137.92164584027316\n",
      "Training Fold 4...\n",
      "Fold 4 MAE: 140.68485469559945\n",
      "Training Fold 5...\n",
      "Fold 5 MAE: 137.44298647432404\n",
      "Training Fold 6...\n",
      "Fold 6 MAE: 137.31709833417722\n",
      "Training Fold 7...\n",
      "Fold 7 MAE: 141.5450231965709\n",
      "Training Fold 8...\n",
      "Fold 8 MAE: 138.56134614016761\n",
      "Training Fold 9...\n",
      "Fold 9 MAE: 139.28085297127257\n",
      "Training Fold 10...\n"
     ]
    },
    {
     "name": "stderr",
     "output_type": "stream",
     "text": [
      "[I 2023-11-09 12:17:41,689] Trial 0 finished with value: 138.73666762287942 and parameters: {'objective': 'reg:squarederror', 'tree_method': 'approx', 'max_depth': 5, 'learning_rate': 0.32297627389351774, 'n_estimators': 532, 'min_child_weight': 8, 'gamma': 0.16887848528002686, 'subsample': 0.85, 'colsample_bytree': 0.85, 'reg_alpha': 0.6082274993749409, 'reg_lambda': 0.10923136237940471, 'random_state': 855}. Best is trial 0 with value: 138.73666762287942.\n"
     ]
    },
    {
     "name": "stdout",
     "output_type": "stream",
     "text": [
      "Fold 10 MAE: 139.67429099139443\n",
      "Mean MAE for all Folds: 138.73666762287942\n",
      "Training Fold 1...\n"
     ]
    },
    {
     "name": "stderr",
     "output_type": "stream",
     "text": [
      "/var/folders/y8/9glnt_6110xftbsjpdqd12280000gp/T/ipykernel_3241/2078315071.py:16: FutureWarning: suggest_discrete_uniform has been deprecated in v3.0.0. This feature will be removed in v6.0.0. See https://github.com/optuna/optuna/releases/tag/v3.0.0. Use suggest_float(..., step=...) instead.\n",
      "  \"subsample\": trial.suggest_discrete_uniform(\"subsample\", 0.6, 1.0, 0.05),  # Reduce the range\n",
      "/var/folders/y8/9glnt_6110xftbsjpdqd12280000gp/T/ipykernel_3241/2078315071.py:17: FutureWarning: suggest_discrete_uniform has been deprecated in v3.0.0. This feature will be removed in v6.0.0. See https://github.com/optuna/optuna/releases/tag/v3.0.0. Use suggest_float(..., step=...) instead.\n",
      "  \"colsample_bytree\": trial.suggest_discrete_uniform(\"colsample_bytree\", 0.6, 1.0, 0.05),  # Reduce the range\n"
     ]
    },
    {
     "name": "stdout",
     "output_type": "stream",
     "text": [
      "Fold 1 MAE: 178.42673174234267\n",
      "Training Fold 2...\n",
      "Fold 2 MAE: 166.59592423827732\n",
      "Training Fold 3...\n",
      "Fold 3 MAE: 169.0249524034634\n",
      "Training Fold 4...\n",
      "Fold 4 MAE: 174.82960230653333\n",
      "Training Fold 5...\n",
      "Fold 5 MAE: 174.64138347170882\n",
      "Training Fold 6...\n",
      "Fold 6 MAE: 173.0684202867103\n",
      "Training Fold 7...\n",
      "Fold 7 MAE: 177.1064696754221\n",
      "Training Fold 8...\n",
      "Fold 8 MAE: 175.68575131221627\n",
      "Training Fold 9...\n",
      "Fold 9 MAE: 172.68294199484546\n",
      "Training Fold 10...\n"
     ]
    },
    {
     "name": "stderr",
     "output_type": "stream",
     "text": [
      "[I 2023-11-09 12:19:28,785] Trial 1 finished with value: 174.0212173558087 and parameters: {'objective': 'reg:squaredlogerror', 'tree_method': 'approx', 'max_depth': 4, 'learning_rate': 0.9916819151390839, 'n_estimators': 993, 'min_child_weight': 5, 'gamma': 0.9270949851024325, 'subsample': 0.85, 'colsample_bytree': 0.8, 'reg_alpha': 0.7769788981500074, 'reg_lambda': 0.8177938424430149, 'random_state': 560}. Best is trial 0 with value: 138.73666762287942.\n"
     ]
    },
    {
     "name": "stdout",
     "output_type": "stream",
     "text": [
      "Fold 10 MAE: 178.1499961265671\n",
      "Mean MAE for all Folds: 174.0212173558087\n",
      "Training Fold 1...\n"
     ]
    },
    {
     "name": "stderr",
     "output_type": "stream",
     "text": [
      "/var/folders/y8/9glnt_6110xftbsjpdqd12280000gp/T/ipykernel_3241/2078315071.py:16: FutureWarning: suggest_discrete_uniform has been deprecated in v3.0.0. This feature will be removed in v6.0.0. See https://github.com/optuna/optuna/releases/tag/v3.0.0. Use suggest_float(..., step=...) instead.\n",
      "  \"subsample\": trial.suggest_discrete_uniform(\"subsample\", 0.6, 1.0, 0.05),  # Reduce the range\n",
      "/var/folders/y8/9glnt_6110xftbsjpdqd12280000gp/T/ipykernel_3241/2078315071.py:17: FutureWarning: suggest_discrete_uniform has been deprecated in v3.0.0. This feature will be removed in v6.0.0. See https://github.com/optuna/optuna/releases/tag/v3.0.0. Use suggest_float(..., step=...) instead.\n",
      "  \"colsample_bytree\": trial.suggest_discrete_uniform(\"colsample_bytree\", 0.6, 1.0, 0.05),  # Reduce the range\n"
     ]
    },
    {
     "name": "stdout",
     "output_type": "stream",
     "text": [
      "Fold 1 MAE: 172.95435740622003\n",
      "Training Fold 2...\n",
      "Fold 2 MAE: 170.68906388601317\n",
      "Training Fold 3...\n",
      "Fold 3 MAE: 171.378490553109\n",
      "Training Fold 4...\n",
      "Fold 4 MAE: 175.44622055940587\n",
      "Training Fold 5...\n",
      "Fold 5 MAE: 171.0420859796844\n",
      "Training Fold 6...\n",
      "Fold 6 MAE: 171.09900093327246\n",
      "Training Fold 7...\n",
      "Fold 7 MAE: 176.63954637683946\n",
      "Training Fold 8...\n",
      "Fold 8 MAE: 172.6190706986997\n",
      "Training Fold 9...\n",
      "Fold 9 MAE: 173.40062910700453\n",
      "Training Fold 10...\n"
     ]
    },
    {
     "name": "stderr",
     "output_type": "stream",
     "text": [
      "[I 2023-11-09 12:19:35,719] Trial 2 finished with value: 172.90044192062533 and parameters: {'objective': 'reg:squarederror', 'tree_method': 'hist', 'max_depth': 6, 'learning_rate': 0.1110472853406098, 'n_estimators': 101, 'min_child_weight': 10, 'gamma': 0.24181323797483972, 'subsample': 0.95, 'colsample_bytree': 0.65, 'reg_alpha': 0.1142063963870015, 'reg_lambda': 0.28659380349096897, 'random_state': 100}. Best is trial 0 with value: 138.73666762287942.\n"
     ]
    },
    {
     "name": "stdout",
     "output_type": "stream",
     "text": [
      "Fold 10 MAE: 173.73595370600435\n",
      "Mean MAE for all Folds: 172.90044192062533\n",
      "Training Fold 1...\n"
     ]
    },
    {
     "name": "stderr",
     "output_type": "stream",
     "text": [
      "/var/folders/y8/9glnt_6110xftbsjpdqd12280000gp/T/ipykernel_3241/2078315071.py:16: FutureWarning: suggest_discrete_uniform has been deprecated in v3.0.0. This feature will be removed in v6.0.0. See https://github.com/optuna/optuna/releases/tag/v3.0.0. Use suggest_float(..., step=...) instead.\n",
      "  \"subsample\": trial.suggest_discrete_uniform(\"subsample\", 0.6, 1.0, 0.05),  # Reduce the range\n",
      "/var/folders/y8/9glnt_6110xftbsjpdqd12280000gp/T/ipykernel_3241/2078315071.py:17: FutureWarning: suggest_discrete_uniform has been deprecated in v3.0.0. This feature will be removed in v6.0.0. See https://github.com/optuna/optuna/releases/tag/v3.0.0. Use suggest_float(..., step=...) instead.\n",
      "  \"colsample_bytree\": trial.suggest_discrete_uniform(\"colsample_bytree\", 0.6, 1.0, 0.05),  # Reduce the range\n"
     ]
    },
    {
     "name": "stdout",
     "output_type": "stream",
     "text": [
      "Fold 1 MAE: 178.81088241494953\n",
      "Training Fold 2...\n",
      "Fold 2 MAE: 166.9369806463087\n",
      "Training Fold 3...\n",
      "Fold 3 MAE: 169.36797339547488\n",
      "Training Fold 4...\n",
      "Fold 4 MAE: 175.15662752392856\n",
      "Training Fold 5...\n",
      "Fold 5 MAE: 174.98163475260938\n",
      "Training Fold 6...\n",
      "Fold 6 MAE: 173.45151037754965\n",
      "Training Fold 7...\n",
      "Fold 7 MAE: 177.4182875387482\n",
      "Training Fold 8...\n",
      "Fold 8 MAE: 176.04891073412892\n",
      "Training Fold 9...\n",
      "Fold 9 MAE: 173.05465259266074\n",
      "Training Fold 10...\n"
     ]
    },
    {
     "name": "stderr",
     "output_type": "stream",
     "text": [
      "[I 2023-11-09 12:20:50,185] Trial 3 finished with value: 174.371483616778 and parameters: {'objective': 'reg:squaredlogerror', 'tree_method': 'approx', 'max_depth': 4, 'learning_rate': 0.367889116100019, 'n_estimators': 713, 'min_child_weight': 3, 'gamma': 0.9516396976522222, 'subsample': 0.85, 'colsample_bytree': 0.85, 'reg_alpha': 0.05742009206448254, 'reg_lambda': 0.9080333606800318, 'random_state': 480}. Best is trial 0 with value: 138.73666762287942.\n"
     ]
    },
    {
     "name": "stdout",
     "output_type": "stream",
     "text": [
      "Fold 10 MAE: 178.48737619142136\n",
      "Mean MAE for all Folds: 174.371483616778\n",
      "Training Fold 1...\n"
     ]
    },
    {
     "name": "stderr",
     "output_type": "stream",
     "text": [
      "/var/folders/y8/9glnt_6110xftbsjpdqd12280000gp/T/ipykernel_3241/2078315071.py:16: FutureWarning: suggest_discrete_uniform has been deprecated in v3.0.0. This feature will be removed in v6.0.0. See https://github.com/optuna/optuna/releases/tag/v3.0.0. Use suggest_float(..., step=...) instead.\n",
      "  \"subsample\": trial.suggest_discrete_uniform(\"subsample\", 0.6, 1.0, 0.05),  # Reduce the range\n",
      "/var/folders/y8/9glnt_6110xftbsjpdqd12280000gp/T/ipykernel_3241/2078315071.py:17: FutureWarning: suggest_discrete_uniform has been deprecated in v3.0.0. This feature will be removed in v6.0.0. See https://github.com/optuna/optuna/releases/tag/v3.0.0. Use suggest_float(..., step=...) instead.\n",
      "  \"colsample_bytree\": trial.suggest_discrete_uniform(\"colsample_bytree\", 0.6, 1.0, 0.05),  # Reduce the range\n"
     ]
    },
    {
     "name": "stdout",
     "output_type": "stream",
     "text": [
      "Fold 1 MAE: 71.98635361527984\n",
      "Training Fold 2...\n",
      "Fold 2 MAE: 66.90838051443971\n",
      "Training Fold 3...\n",
      "Fold 3 MAE: 69.886702559781\n",
      "Training Fold 4...\n",
      "Fold 4 MAE: 71.1078311540891\n",
      "Training Fold 5...\n",
      "Fold 5 MAE: 68.84161599546024\n",
      "Training Fold 6...\n",
      "Fold 6 MAE: 70.95743237944562\n",
      "Training Fold 7...\n",
      "Fold 7 MAE: 70.83422768436556\n",
      "Training Fold 8...\n",
      "Fold 8 MAE: 70.01288142825473\n",
      "Training Fold 9...\n",
      "Fold 9 MAE: 70.90528977499808\n",
      "Training Fold 10...\n"
     ]
    },
    {
     "name": "stderr",
     "output_type": "stream",
     "text": [
      "[I 2023-11-09 12:22:28,162] Trial 4 finished with value: 70.27417813161381 and parameters: {'objective': 'reg:squarederror', 'tree_method': 'hist', 'max_depth': 7, 'learning_rate': 0.7800615038521643, 'n_estimators': 810, 'min_child_weight': 5, 'gamma': 0.7772064042830004, 'subsample': 0.7, 'colsample_bytree': 0.85, 'reg_alpha': 0.9606363530585216, 'reg_lambda': 0.3724751575827731, 'random_state': 883}. Best is trial 4 with value: 70.27417813161381.\n"
     ]
    },
    {
     "name": "stdout",
     "output_type": "stream",
     "text": [
      "Fold 10 MAE: 71.3010662100243\n",
      "Mean MAE for all Folds: 70.27417813161381\n",
      "Training Fold 1...\n"
     ]
    },
    {
     "name": "stderr",
     "output_type": "stream",
     "text": [
      "/var/folders/y8/9glnt_6110xftbsjpdqd12280000gp/T/ipykernel_3241/2078315071.py:16: FutureWarning: suggest_discrete_uniform has been deprecated in v3.0.0. This feature will be removed in v6.0.0. See https://github.com/optuna/optuna/releases/tag/v3.0.0. Use suggest_float(..., step=...) instead.\n",
      "  \"subsample\": trial.suggest_discrete_uniform(\"subsample\", 0.6, 1.0, 0.05),  # Reduce the range\n",
      "/var/folders/y8/9glnt_6110xftbsjpdqd12280000gp/T/ipykernel_3241/2078315071.py:17: FutureWarning: suggest_discrete_uniform has been deprecated in v3.0.0. This feature will be removed in v6.0.0. See https://github.com/optuna/optuna/releases/tag/v3.0.0. Use suggest_float(..., step=...) instead.\n",
      "  \"colsample_bytree\": trial.suggest_discrete_uniform(\"colsample_bytree\", 0.6, 1.0, 0.05),  # Reduce the range\n"
     ]
    },
    {
     "name": "stdout",
     "output_type": "stream",
     "text": [
      "Fold 1 MAE: 178.69345703029813\n",
      "Training Fold 2...\n",
      "Fold 2 MAE: 166.82537569011419\n",
      "Training Fold 3...\n",
      "Fold 3 MAE: 169.25808269872115\n",
      "Training Fold 4...\n",
      "Fold 4 MAE: 175.05021320988357\n",
      "Training Fold 5...\n",
      "Fold 5 MAE: 174.87574275488427\n",
      "Training Fold 6...\n",
      "Fold 6 MAE: 173.33660659809289\n",
      "Training Fold 7...\n",
      "Fold 7 MAE: 177.31272999012495\n",
      "Training Fold 8...\n",
      "Fold 8 MAE: 175.93664462605437\n",
      "Training Fold 9...\n",
      "Fold 9 MAE: 172.9394475892278\n",
      "Training Fold 10...\n"
     ]
    },
    {
     "name": "stderr",
     "output_type": "stream",
     "text": [
      "[I 2023-11-09 12:23:55,273] Trial 5 finished with value: 174.26089335644218 and parameters: {'objective': 'reg:squaredlogerror', 'tree_method': 'approx', 'max_depth': 7, 'learning_rate': 0.5529993991320556, 'n_estimators': 348, 'min_child_weight': 7, 'gamma': 0.9252940826423304, 'subsample': 0.85, 'colsample_bytree': 0.8, 'reg_alpha': 0.9743088309718289, 'reg_lambda': 0.4164716866095261, 'random_state': 389}. Best is trial 4 with value: 70.27417813161381.\n"
     ]
    },
    {
     "name": "stdout",
     "output_type": "stream",
     "text": [
      "Fold 10 MAE: 178.38063337702008\n",
      "Mean MAE for all Folds: 174.26089335644218\n",
      "Training Fold 1...\n"
     ]
    },
    {
     "name": "stderr",
     "output_type": "stream",
     "text": [
      "/var/folders/y8/9glnt_6110xftbsjpdqd12280000gp/T/ipykernel_3241/2078315071.py:16: FutureWarning: suggest_discrete_uniform has been deprecated in v3.0.0. This feature will be removed in v6.0.0. See https://github.com/optuna/optuna/releases/tag/v3.0.0. Use suggest_float(..., step=...) instead.\n",
      "  \"subsample\": trial.suggest_discrete_uniform(\"subsample\", 0.6, 1.0, 0.05),  # Reduce the range\n",
      "/var/folders/y8/9glnt_6110xftbsjpdqd12280000gp/T/ipykernel_3241/2078315071.py:17: FutureWarning: suggest_discrete_uniform has been deprecated in v3.0.0. This feature will be removed in v6.0.0. See https://github.com/optuna/optuna/releases/tag/v3.0.0. Use suggest_float(..., step=...) instead.\n",
      "  \"colsample_bytree\": trial.suggest_discrete_uniform(\"colsample_bytree\", 0.6, 1.0, 0.05),  # Reduce the range\n"
     ]
    },
    {
     "name": "stdout",
     "output_type": "stream",
     "text": [
      "Fold 1 MAE: 109.41536546424942\n",
      "Training Fold 2...\n",
      "Fold 2 MAE: 107.12728592102025\n",
      "Training Fold 3...\n",
      "Fold 3 MAE: 108.83309134300875\n",
      "Training Fold 4...\n",
      "Fold 4 MAE: 110.77823371900854\n",
      "Training Fold 5...\n",
      "Fold 5 MAE: 107.46226445894358\n",
      "Training Fold 6...\n",
      "Fold 6 MAE: 108.92179778473155\n",
      "Training Fold 7...\n",
      "Fold 7 MAE: 110.57048377186634\n",
      "Training Fold 8...\n",
      "Fold 8 MAE: 108.9915507339189\n",
      "Training Fold 9...\n",
      "Fold 9 MAE: 108.82119447748622\n",
      "Training Fold 10...\n"
     ]
    },
    {
     "name": "stderr",
     "output_type": "stream",
     "text": [
      "[I 2023-11-09 12:26:10,542] Trial 6 finished with value: 109.16296494030587 and parameters: {'objective': 'reg:squarederror', 'tree_method': 'approx', 'max_depth': 10, 'learning_rate': 0.49821845705346957, 'n_estimators': 420, 'min_child_weight': 3, 'gamma': 0.4147735753799707, 'subsample': 0.95, 'colsample_bytree': 0.8, 'reg_alpha': 0.2940311993168488, 'reg_lambda': 0.4786619703542649, 'random_state': 48}. Best is trial 4 with value: 70.27417813161381.\n"
     ]
    },
    {
     "name": "stdout",
     "output_type": "stream",
     "text": [
      "Fold 10 MAE: 110.7083817288254\n",
      "Mean MAE for all Folds: 109.16296494030587\n",
      "Training Fold 1...\n"
     ]
    },
    {
     "name": "stderr",
     "output_type": "stream",
     "text": [
      "/var/folders/y8/9glnt_6110xftbsjpdqd12280000gp/T/ipykernel_3241/2078315071.py:16: FutureWarning: suggest_discrete_uniform has been deprecated in v3.0.0. This feature will be removed in v6.0.0. See https://github.com/optuna/optuna/releases/tag/v3.0.0. Use suggest_float(..., step=...) instead.\n",
      "  \"subsample\": trial.suggest_discrete_uniform(\"subsample\", 0.6, 1.0, 0.05),  # Reduce the range\n",
      "/var/folders/y8/9glnt_6110xftbsjpdqd12280000gp/T/ipykernel_3241/2078315071.py:17: FutureWarning: suggest_discrete_uniform has been deprecated in v3.0.0. This feature will be removed in v6.0.0. See https://github.com/optuna/optuna/releases/tag/v3.0.0. Use suggest_float(..., step=...) instead.\n",
      "  \"colsample_bytree\": trial.suggest_discrete_uniform(\"colsample_bytree\", 0.6, 1.0, 0.05),  # Reduce the range\n"
     ]
    },
    {
     "name": "stdout",
     "output_type": "stream",
     "text": [
      "Fold 1 MAE: 147.06973283586638\n",
      "Training Fold 2...\n",
      "Fold 2 MAE: 145.05115856321527\n",
      "Training Fold 3...\n",
      "Fold 3 MAE: 146.17338781022863\n",
      "Training Fold 4...\n",
      "Fold 4 MAE: 149.5273081200076\n",
      "Training Fold 5...\n",
      "Fold 5 MAE: 145.75266240154838\n",
      "Training Fold 6...\n",
      "Fold 6 MAE: 146.13427485728948\n",
      "Training Fold 7...\n",
      "Fold 7 MAE: 150.20461610629414\n",
      "Training Fold 8...\n",
      "Fold 8 MAE: 147.16778927756832\n",
      "Training Fold 9...\n",
      "Fold 9 MAE: 147.57460685103413\n",
      "Training Fold 10...\n"
     ]
    },
    {
     "name": "stderr",
     "output_type": "stream",
     "text": [
      "[I 2023-11-09 12:27:03,435] Trial 7 finished with value: 147.2688591772067 and parameters: {'objective': 'reg:squarederror', 'tree_method': 'hist', 'max_depth': 7, 'learning_rate': 0.2637364906247613, 'n_estimators': 324, 'min_child_weight': 7, 'gamma': 0.1995326992440969, 'subsample': 0.6, 'colsample_bytree': 0.95, 'reg_alpha': 0.6925275832790422, 'reg_lambda': 0.24629215095441548, 'random_state': 459}. Best is trial 4 with value: 70.27417813161381.\n"
     ]
    },
    {
     "name": "stdout",
     "output_type": "stream",
     "text": [
      "Fold 10 MAE: 148.03305494901483\n",
      "Mean MAE for all Folds: 147.2688591772067\n",
      "Training Fold 1...\n"
     ]
    },
    {
     "name": "stderr",
     "output_type": "stream",
     "text": [
      "/var/folders/y8/9glnt_6110xftbsjpdqd12280000gp/T/ipykernel_3241/2078315071.py:16: FutureWarning: suggest_discrete_uniform has been deprecated in v3.0.0. This feature will be removed in v6.0.0. See https://github.com/optuna/optuna/releases/tag/v3.0.0. Use suggest_float(..., step=...) instead.\n",
      "  \"subsample\": trial.suggest_discrete_uniform(\"subsample\", 0.6, 1.0, 0.05),  # Reduce the range\n",
      "/var/folders/y8/9glnt_6110xftbsjpdqd12280000gp/T/ipykernel_3241/2078315071.py:17: FutureWarning: suggest_discrete_uniform has been deprecated in v3.0.0. This feature will be removed in v6.0.0. See https://github.com/optuna/optuna/releases/tag/v3.0.0. Use suggest_float(..., step=...) instead.\n",
      "  \"colsample_bytree\": trial.suggest_discrete_uniform(\"colsample_bytree\", 0.6, 1.0, 0.05),  # Reduce the range\n"
     ]
    },
    {
     "name": "stdout",
     "output_type": "stream",
     "text": [
      "Fold 1 MAE: 140.50682768226432\n",
      "Training Fold 2...\n",
      "Fold 2 MAE: 138.62321581827538\n",
      "Training Fold 3...\n",
      "Fold 3 MAE: 139.77870766758514\n",
      "Training Fold 4...\n",
      "Fold 4 MAE: 143.00232084727938\n",
      "Training Fold 5...\n",
      "Fold 5 MAE: 139.24630138807808\n",
      "Training Fold 6...\n",
      "Fold 6 MAE: 139.6150684246713\n",
      "Training Fold 7...\n",
      "Fold 7 MAE: 143.70243982728397\n",
      "Training Fold 8...\n",
      "Fold 8 MAE: 140.85376434363508\n",
      "Training Fold 9...\n",
      "Fold 9 MAE: 141.13257342862673\n",
      "Training Fold 10...\n"
     ]
    },
    {
     "name": "stderr",
     "output_type": "stream",
     "text": [
      "[I 2023-11-09 12:28:03,575] Trial 8 finished with value: 140.81848169009726 and parameters: {'objective': 'reg:squarederror', 'tree_method': 'approx', 'max_depth': 10, 'learning_rate': 0.300439612753919, 'n_estimators': 223, 'min_child_weight': 1, 'gamma': 0.7710769383201643, 'subsample': 0.95, 'colsample_bytree': 1.0, 'reg_alpha': 0.8595633298170968, 'reg_lambda': 0.5821317477938641, 'random_state': 215}. Best is trial 4 with value: 70.27417813161381.\n"
     ]
    },
    {
     "name": "stdout",
     "output_type": "stream",
     "text": [
      "Fold 10 MAE: 141.72359747327317\n",
      "Mean MAE for all Folds: 140.81848169009726\n",
      "Training Fold 1...\n"
     ]
    },
    {
     "name": "stderr",
     "output_type": "stream",
     "text": [
      "/var/folders/y8/9glnt_6110xftbsjpdqd12280000gp/T/ipykernel_3241/2078315071.py:16: FutureWarning: suggest_discrete_uniform has been deprecated in v3.0.0. This feature will be removed in v6.0.0. See https://github.com/optuna/optuna/releases/tag/v3.0.0. Use suggest_float(..., step=...) instead.\n",
      "  \"subsample\": trial.suggest_discrete_uniform(\"subsample\", 0.6, 1.0, 0.05),  # Reduce the range\n",
      "/var/folders/y8/9glnt_6110xftbsjpdqd12280000gp/T/ipykernel_3241/2078315071.py:17: FutureWarning: suggest_discrete_uniform has been deprecated in v3.0.0. This feature will be removed in v6.0.0. See https://github.com/optuna/optuna/releases/tag/v3.0.0. Use suggest_float(..., step=...) instead.\n",
      "  \"colsample_bytree\": trial.suggest_discrete_uniform(\"colsample_bytree\", 0.6, 1.0, 0.05),  # Reduce the range\n"
     ]
    },
    {
     "name": "stdout",
     "output_type": "stream",
     "text": [
      "Fold 1 MAE: 179.19865936048515\n",
      "Training Fold 2...\n",
      "Fold 2 MAE: 167.33465091623583\n",
      "Training Fold 3...\n",
      "Fold 3 MAE: 169.77106147402105\n",
      "Training Fold 4...\n",
      "Fold 4 MAE: 175.555248541981\n",
      "Training Fold 5...\n",
      "Fold 5 MAE: 175.3840368501266\n",
      "Training Fold 6...\n",
      "Fold 6 MAE: 173.84698294158244\n",
      "Training Fold 7...\n",
      "Fold 7 MAE: 177.81264097164225\n",
      "Training Fold 8...\n",
      "Fold 8 MAE: 176.44140049154558\n",
      "Training Fold 9...\n",
      "Fold 9 MAE: 173.44790260543\n",
      "Training Fold 10...\n"
     ]
    },
    {
     "name": "stderr",
     "output_type": "stream",
     "text": [
      "[I 2023-11-09 12:28:31,536] Trial 9 finished with value: 174.7682684831479 and parameters: {'objective': 'reg:squaredlogerror', 'tree_method': 'approx', 'max_depth': 9, 'learning_rate': 0.07560502669719178, 'n_estimators': 166, 'min_child_weight': 10, 'gamma': 0.5576432153545581, 'subsample': 0.6, 'colsample_bytree': 0.75, 'reg_alpha': 0.5385857468099503, 'reg_lambda': 0.2082151068038333, 'random_state': 637}. Best is trial 4 with value: 70.27417813161381.\n"
     ]
    },
    {
     "name": "stdout",
     "output_type": "stream",
     "text": [
      "Fold 10 MAE: 178.89010067842915\n",
      "Mean MAE for all Folds: 174.7682684831479\n",
      "Training Fold 1...\n"
     ]
    },
    {
     "name": "stderr",
     "output_type": "stream",
     "text": [
      "/var/folders/y8/9glnt_6110xftbsjpdqd12280000gp/T/ipykernel_3241/2078315071.py:16: FutureWarning: suggest_discrete_uniform has been deprecated in v3.0.0. This feature will be removed in v6.0.0. See https://github.com/optuna/optuna/releases/tag/v3.0.0. Use suggest_float(..., step=...) instead.\n",
      "  \"subsample\": trial.suggest_discrete_uniform(\"subsample\", 0.6, 1.0, 0.05),  # Reduce the range\n",
      "/var/folders/y8/9glnt_6110xftbsjpdqd12280000gp/T/ipykernel_3241/2078315071.py:17: FutureWarning: suggest_discrete_uniform has been deprecated in v3.0.0. This feature will be removed in v6.0.0. See https://github.com/optuna/optuna/releases/tag/v3.0.0. Use suggest_float(..., step=...) instead.\n",
      "  \"colsample_bytree\": trial.suggest_discrete_uniform(\"colsample_bytree\", 0.6, 1.0, 0.05),  # Reduce the range\n"
     ]
    },
    {
     "name": "stdout",
     "output_type": "stream",
     "text": [
      "Fold 1 MAE: 65.13529688022392\n",
      "Training Fold 2...\n",
      "Fold 2 MAE: 59.86164952203862\n",
      "Training Fold 3...\n",
      "Fold 3 MAE: 62.18688884487701\n",
      "Training Fold 4...\n",
      "Fold 4 MAE: 63.40623308315076\n",
      "Training Fold 5...\n",
      "Fold 5 MAE: 61.71759582503618\n",
      "Training Fold 6...\n",
      "Fold 6 MAE: 63.78881879093092\n",
      "Training Fold 7...\n",
      "Fold 7 MAE: 63.08697190687346\n",
      "Training Fold 8...\n",
      "Fold 8 MAE: 62.43384350836095\n",
      "Training Fold 9...\n",
      "Fold 9 MAE: 63.7958238825735\n",
      "Training Fold 10...\n"
     ]
    },
    {
     "name": "stderr",
     "output_type": "stream",
     "text": [
      "[I 2023-11-09 12:31:10,717] Trial 10 finished with value: 62.96485066754771 and parameters: {'objective': 'reg:squarederror', 'tree_method': 'hist', 'max_depth': 8, 'learning_rate': 0.8326436209133561, 'n_estimators': 886, 'min_child_weight': 5, 'gamma': 0.6910689122916149, 'subsample': 0.7, 'colsample_bytree': 0.6, 'reg_alpha': 0.9932098729362312, 'reg_lambda': 0.0526782268803494, 'random_state': 953}. Best is trial 10 with value: 62.96485066754771.\n"
     ]
    },
    {
     "name": "stdout",
     "output_type": "stream",
     "text": [
      "Fold 10 MAE: 64.2353844314117\n",
      "Mean MAE for all Folds: 62.96485066754771\n",
      "Training Fold 1...\n"
     ]
    },
    {
     "name": "stderr",
     "output_type": "stream",
     "text": [
      "/var/folders/y8/9glnt_6110xftbsjpdqd12280000gp/T/ipykernel_3241/2078315071.py:16: FutureWarning: suggest_discrete_uniform has been deprecated in v3.0.0. This feature will be removed in v6.0.0. See https://github.com/optuna/optuna/releases/tag/v3.0.0. Use suggest_float(..., step=...) instead.\n",
      "  \"subsample\": trial.suggest_discrete_uniform(\"subsample\", 0.6, 1.0, 0.05),  # Reduce the range\n",
      "/var/folders/y8/9glnt_6110xftbsjpdqd12280000gp/T/ipykernel_3241/2078315071.py:17: FutureWarning: suggest_discrete_uniform has been deprecated in v3.0.0. This feature will be removed in v6.0.0. See https://github.com/optuna/optuna/releases/tag/v3.0.0. Use suggest_float(..., step=...) instead.\n",
      "  \"colsample_bytree\": trial.suggest_discrete_uniform(\"colsample_bytree\", 0.6, 1.0, 0.05),  # Reduce the range\n"
     ]
    },
    {
     "name": "stdout",
     "output_type": "stream",
     "text": [
      "Fold 1 MAE: 65.63047388068394\n",
      "Training Fold 2...\n",
      "Fold 2 MAE: 60.450217184759346\n",
      "Training Fold 3...\n",
      "Fold 3 MAE: 62.765556095291466\n",
      "Training Fold 4...\n",
      "Fold 4 MAE: 63.99944435012116\n",
      "Training Fold 5...\n",
      "Fold 5 MAE: 62.13785913807918\n",
      "Training Fold 6...\n",
      "Fold 6 MAE: 64.48123562525426\n",
      "Training Fold 7...\n",
      "Fold 7 MAE: 63.70101070011941\n",
      "Training Fold 8...\n",
      "Fold 8 MAE: 63.0630523175107\n",
      "Training Fold 9...\n",
      "Fold 9 MAE: 64.37358733394494\n",
      "Training Fold 10...\n"
     ]
    },
    {
     "name": "stderr",
     "output_type": "stream",
     "text": [
      "[I 2023-11-09 12:33:43,024] Trial 11 finished with value: 63.55191141461263 and parameters: {'objective': 'reg:squarederror', 'tree_method': 'hist', 'max_depth': 8, 'learning_rate': 0.8273485226381074, 'n_estimators': 928, 'min_child_weight': 5, 'gamma': 0.7067371243864908, 'subsample': 0.7, 'colsample_bytree': 0.6, 'reg_alpha': 0.991227831257074, 'reg_lambda': 0.031472631128461104, 'random_state': 984}. Best is trial 10 with value: 62.96485066754771.\n"
     ]
    },
    {
     "name": "stdout",
     "output_type": "stream",
     "text": [
      "Fold 10 MAE: 64.91667752036184\n",
      "Mean MAE for all Folds: 63.55191141461263\n",
      "Training Fold 1...\n"
     ]
    },
    {
     "name": "stderr",
     "output_type": "stream",
     "text": [
      "/var/folders/y8/9glnt_6110xftbsjpdqd12280000gp/T/ipykernel_3241/2078315071.py:16: FutureWarning: suggest_discrete_uniform has been deprecated in v3.0.0. This feature will be removed in v6.0.0. See https://github.com/optuna/optuna/releases/tag/v3.0.0. Use suggest_float(..., step=...) instead.\n",
      "  \"subsample\": trial.suggest_discrete_uniform(\"subsample\", 0.6, 1.0, 0.05),  # Reduce the range\n",
      "/var/folders/y8/9glnt_6110xftbsjpdqd12280000gp/T/ipykernel_3241/2078315071.py:17: FutureWarning: suggest_discrete_uniform has been deprecated in v3.0.0. This feature will be removed in v6.0.0. See https://github.com/optuna/optuna/releases/tag/v3.0.0. Use suggest_float(..., step=...) instead.\n",
      "  \"colsample_bytree\": trial.suggest_discrete_uniform(\"colsample_bytree\", 0.6, 1.0, 0.05),  # Reduce the range\n"
     ]
    },
    {
     "name": "stdout",
     "output_type": "stream",
     "text": [
      "Fold 1 MAE: 68.61540092689644\n",
      "Training Fold 2...\n",
      "Fold 2 MAE: 63.67728642236927\n",
      "Training Fold 3...\n",
      "Fold 3 MAE: 65.93929964944601\n",
      "Training Fold 4...\n",
      "Fold 4 MAE: 67.16418306854895\n",
      "Training Fold 5...\n",
      "Fold 5 MAE: 65.29847074333189\n",
      "Training Fold 6...\n",
      "Fold 6 MAE: 67.48106359192772\n",
      "Training Fold 7...\n",
      "Fold 7 MAE: 66.9088469870688\n",
      "Training Fold 8...\n",
      "Fold 8 MAE: 66.17156178244893\n",
      "Training Fold 9...\n",
      "Fold 9 MAE: 67.37167270160644\n",
      "Training Fold 10...\n"
     ]
    },
    {
     "name": "stderr",
     "output_type": "stream",
     "text": [
      "[I 2023-11-09 12:36:18,285] Trial 12 finished with value: 66.65325035191853 and parameters: {'objective': 'reg:squarederror', 'tree_method': 'hist', 'max_depth': 8, 'learning_rate': 0.8022145719248389, 'n_estimators': 979, 'min_child_weight': 4, 'gamma': 0.6238917887039466, 'subsample': 0.7, 'colsample_bytree': 0.6, 'reg_alpha': 0.992332754081803, 'reg_lambda': 0.014783139826179056, 'random_state': 984}. Best is trial 10 with value: 62.96485066754771.\n"
     ]
    },
    {
     "name": "stdout",
     "output_type": "stream",
     "text": [
      "Fold 10 MAE: 67.90471764554079\n",
      "Mean MAE for all Folds: 66.65325035191853\n",
      "Training Fold 1...\n"
     ]
    },
    {
     "name": "stderr",
     "output_type": "stream",
     "text": [
      "/var/folders/y8/9glnt_6110xftbsjpdqd12280000gp/T/ipykernel_3241/2078315071.py:16: FutureWarning: suggest_discrete_uniform has been deprecated in v3.0.0. This feature will be removed in v6.0.0. See https://github.com/optuna/optuna/releases/tag/v3.0.0. Use suggest_float(..., step=...) instead.\n",
      "  \"subsample\": trial.suggest_discrete_uniform(\"subsample\", 0.6, 1.0, 0.05),  # Reduce the range\n",
      "/var/folders/y8/9glnt_6110xftbsjpdqd12280000gp/T/ipykernel_3241/2078315071.py:17: FutureWarning: suggest_discrete_uniform has been deprecated in v3.0.0. This feature will be removed in v6.0.0. See https://github.com/optuna/optuna/releases/tag/v3.0.0. Use suggest_float(..., step=...) instead.\n",
      "  \"colsample_bytree\": trial.suggest_discrete_uniform(\"colsample_bytree\", 0.6, 1.0, 0.05),  # Reduce the range\n"
     ]
    },
    {
     "name": "stdout",
     "output_type": "stream",
     "text": [
      "Fold 1 MAE: 72.6673459329612\n",
      "Training Fold 2...\n",
      "Fold 2 MAE: 68.20065931767748\n",
      "Training Fold 3...\n",
      "Fold 3 MAE: 70.42939590243382\n",
      "Training Fold 4...\n",
      "Fold 4 MAE: 71.7189537679482\n",
      "Training Fold 5...\n",
      "Fold 5 MAE: 69.69821033314884\n",
      "Training Fold 6...\n",
      "Fold 6 MAE: 71.80620234259818\n",
      "Training Fold 7...\n",
      "Fold 7 MAE: 71.27745121857392\n",
      "Training Fold 8...\n",
      "Fold 8 MAE: 70.54290882786056\n",
      "Training Fold 9...\n",
      "Fold 9 MAE: 71.69646121541014\n",
      "Training Fold 10...\n"
     ]
    },
    {
     "name": "stderr",
     "output_type": "stream",
     "text": [
      "[I 2023-11-09 12:37:33,569] Trial 13 finished with value: 71.01307957006347 and parameters: {'objective': 'reg:squarederror', 'tree_method': 'hist', 'max_depth': 8, 'learning_rate': 0.7676785221157141, 'n_estimators': 765, 'min_child_weight': 6, 'gamma': 0.7244399259507761, 'subsample': 0.7, 'colsample_bytree': 0.65, 'reg_alpha': 0.7778352419042662, 'reg_lambda': 0.018631663261692202, 'random_state': 754}. Best is trial 10 with value: 62.96485066754771.\n"
     ]
    },
    {
     "name": "stdout",
     "output_type": "stream",
     "text": [
      "Fold 10 MAE: 72.09320684202234\n",
      "Mean MAE for all Folds: 71.01307957006347\n",
      "Training Fold 1...\n"
     ]
    },
    {
     "name": "stderr",
     "output_type": "stream",
     "text": [
      "/var/folders/y8/9glnt_6110xftbsjpdqd12280000gp/T/ipykernel_3241/2078315071.py:16: FutureWarning: suggest_discrete_uniform has been deprecated in v3.0.0. This feature will be removed in v6.0.0. See https://github.com/optuna/optuna/releases/tag/v3.0.0. Use suggest_float(..., step=...) instead.\n",
      "  \"subsample\": trial.suggest_discrete_uniform(\"subsample\", 0.6, 1.0, 0.05),  # Reduce the range\n",
      "/var/folders/y8/9glnt_6110xftbsjpdqd12280000gp/T/ipykernel_3241/2078315071.py:17: FutureWarning: suggest_discrete_uniform has been deprecated in v3.0.0. This feature will be removed in v6.0.0. See https://github.com/optuna/optuna/releases/tag/v3.0.0. Use suggest_float(..., step=...) instead.\n",
      "  \"colsample_bytree\": trial.suggest_discrete_uniform(\"colsample_bytree\", 0.6, 1.0, 0.05),  # Reduce the range\n"
     ]
    },
    {
     "name": "stdout",
     "output_type": "stream",
     "text": [
      "Fold 1 MAE: 53.23381004427851\n",
      "Training Fold 2...\n",
      "Fold 2 MAE: 47.02957206312366\n",
      "Training Fold 3...\n",
      "Fold 3 MAE: 49.038565049917196\n",
      "Training Fold 4...\n",
      "Fold 4 MAE: 50.274814451511524\n",
      "Training Fold 5...\n",
      "Fold 5 MAE: 49.63415289402425\n",
      "Training Fold 6...\n",
      "Fold 6 MAE: 51.5041750461396\n",
      "Training Fold 7...\n",
      "Fold 7 MAE: 50.62096461918021\n",
      "Training Fold 8...\n",
      "Fold 8 MAE: 49.39251822090028\n",
      "Training Fold 9...\n",
      "Fold 9 MAE: 51.70336759781646\n",
      "Training Fold 10...\n"
     ]
    },
    {
     "name": "stderr",
     "output_type": "stream",
     "text": [
      "[I 2023-11-09 12:38:32,436] Trial 14 finished with value: 50.415040300025936 and parameters: {'objective': 'reg:squarederror', 'tree_method': 'hist', 'max_depth': 9, 'learning_rate': 0.9398956716056784, 'n_estimators': 651, 'min_child_weight': 1, 'gamma': 0.46476309863284015, 'subsample': 0.75, 'colsample_bytree': 0.6, 'reg_alpha': 0.8471357299416306, 'reg_lambda': 0.12514042710231188, 'random_state': 762}. Best is trial 14 with value: 50.415040300025936.\n"
     ]
    },
    {
     "name": "stdout",
     "output_type": "stream",
     "text": [
      "Fold 10 MAE: 51.71846301336767\n",
      "Mean MAE for all Folds: 50.415040300025936\n",
      "Training Fold 1...\n"
     ]
    },
    {
     "name": "stderr",
     "output_type": "stream",
     "text": [
      "/var/folders/y8/9glnt_6110xftbsjpdqd12280000gp/T/ipykernel_3241/2078315071.py:16: FutureWarning: suggest_discrete_uniform has been deprecated in v3.0.0. This feature will be removed in v6.0.0. See https://github.com/optuna/optuna/releases/tag/v3.0.0. Use suggest_float(..., step=...) instead.\n",
      "  \"subsample\": trial.suggest_discrete_uniform(\"subsample\", 0.6, 1.0, 0.05),  # Reduce the range\n",
      "/var/folders/y8/9glnt_6110xftbsjpdqd12280000gp/T/ipykernel_3241/2078315071.py:17: FutureWarning: suggest_discrete_uniform has been deprecated in v3.0.0. This feature will be removed in v6.0.0. See https://github.com/optuna/optuna/releases/tag/v3.0.0. Use suggest_float(..., step=...) instead.\n",
      "  \"colsample_bytree\": trial.suggest_discrete_uniform(\"colsample_bytree\", 0.6, 1.0, 0.05),  # Reduce the range\n"
     ]
    },
    {
     "name": "stdout",
     "output_type": "stream",
     "text": [
      "Fold 1 MAE: 49.40871321945225\n",
      "Training Fold 2...\n",
      "Fold 2 MAE: 42.86162000579905\n",
      "Training Fold 3...\n",
      "Fold 3 MAE: 44.59311509579829\n",
      "Training Fold 4...\n",
      "Fold 4 MAE: 45.68516814012525\n",
      "Training Fold 5...\n",
      "Fold 5 MAE: 45.63289441784313\n",
      "Training Fold 6...\n",
      "Fold 6 MAE: 47.06660215101764\n",
      "Training Fold 7...\n",
      "Fold 7 MAE: 46.28318219913045\n",
      "Training Fold 8...\n",
      "Fold 8 MAE: 45.252625526938296\n",
      "Training Fold 9...\n",
      "Fold 9 MAE: 48.19830749150454\n",
      "Training Fold 10...\n"
     ]
    },
    {
     "name": "stderr",
     "output_type": "stream",
     "text": [
      "[I 2023-11-09 12:39:34,269] Trial 15 finished with value: 46.228697928491044 and parameters: {'objective': 'reg:squarederror', 'tree_method': 'hist', 'max_depth': 9, 'learning_rate': 0.9881764836616812, 'n_estimators': 603, 'min_child_weight': 1, 'gamma': 0.44036398908150276, 'subsample': 0.75, 'colsample_bytree': 0.7, 'reg_alpha': 0.8385234248937805, 'reg_lambda': 0.15751424896689012, 'random_state': 704}. Best is trial 15 with value: 46.228697928491044.\n"
     ]
    },
    {
     "name": "stdout",
     "output_type": "stream",
     "text": [
      "Fold 10 MAE: 47.3047510373015\n",
      "Mean MAE for all Folds: 46.228697928491044\n",
      "Training Fold 1...\n"
     ]
    },
    {
     "name": "stderr",
     "output_type": "stream",
     "text": [
      "/var/folders/y8/9glnt_6110xftbsjpdqd12280000gp/T/ipykernel_3241/2078315071.py:16: FutureWarning: suggest_discrete_uniform has been deprecated in v3.0.0. This feature will be removed in v6.0.0. See https://github.com/optuna/optuna/releases/tag/v3.0.0. Use suggest_float(..., step=...) instead.\n",
      "  \"subsample\": trial.suggest_discrete_uniform(\"subsample\", 0.6, 1.0, 0.05),  # Reduce the range\n",
      "/var/folders/y8/9glnt_6110xftbsjpdqd12280000gp/T/ipykernel_3241/2078315071.py:17: FutureWarning: suggest_discrete_uniform has been deprecated in v3.0.0. This feature will be removed in v6.0.0. See https://github.com/optuna/optuna/releases/tag/v3.0.0. Use suggest_float(..., step=...) instead.\n",
      "  \"colsample_bytree\": trial.suggest_discrete_uniform(\"colsample_bytree\", 0.6, 1.0, 0.05),  # Reduce the range\n"
     ]
    },
    {
     "name": "stdout",
     "output_type": "stream",
     "text": [
      "Fold 1 MAE: 49.75028309474751\n",
      "Training Fold 2...\n",
      "Fold 2 MAE: 43.14732313344864\n",
      "Training Fold 3...\n",
      "Fold 3 MAE: 45.00408147060599\n",
      "Training Fold 4...\n",
      "Fold 4 MAE: 46.152936423557165\n",
      "Training Fold 5...\n",
      "Fold 5 MAE: 46.03079317962354\n",
      "Training Fold 6...\n",
      "Fold 6 MAE: 47.59992501668149\n",
      "Training Fold 7...\n",
      "Fold 7 MAE: 46.8693474822213\n",
      "Training Fold 8...\n",
      "Fold 8 MAE: 45.593672433857385\n",
      "Training Fold 9...\n",
      "Fold 9 MAE: 48.59618177689185\n",
      "Training Fold 10...\n"
     ]
    },
    {
     "name": "stderr",
     "output_type": "stream",
     "text": [
      "[I 2023-11-09 12:40:36,698] Trial 16 finished with value: 46.660327395702474 and parameters: {'objective': 'reg:squarederror', 'tree_method': 'hist', 'max_depth': 9, 'learning_rate': 0.9825493959689454, 'n_estimators': 608, 'min_child_weight': 1, 'gamma': 0.4458963687622878, 'subsample': 0.75, 'colsample_bytree': 0.7, 'reg_alpha': 0.45126072688584046, 'reg_lambda': 0.15757044454712413, 'random_state': 691}. Best is trial 15 with value: 46.228697928491044.\n"
     ]
    },
    {
     "name": "stdout",
     "output_type": "stream",
     "text": [
      "Fold 10 MAE: 47.858729945389854\n",
      "Mean MAE for all Folds: 46.660327395702474\n",
      "Training Fold 1...\n"
     ]
    },
    {
     "name": "stderr",
     "output_type": "stream",
     "text": [
      "/var/folders/y8/9glnt_6110xftbsjpdqd12280000gp/T/ipykernel_3241/2078315071.py:16: FutureWarning: suggest_discrete_uniform has been deprecated in v3.0.0. This feature will be removed in v6.0.0. See https://github.com/optuna/optuna/releases/tag/v3.0.0. Use suggest_float(..., step=...) instead.\n",
      "  \"subsample\": trial.suggest_discrete_uniform(\"subsample\", 0.6, 1.0, 0.05),  # Reduce the range\n",
      "/var/folders/y8/9glnt_6110xftbsjpdqd12280000gp/T/ipykernel_3241/2078315071.py:17: FutureWarning: suggest_discrete_uniform has been deprecated in v3.0.0. This feature will be removed in v6.0.0. See https://github.com/optuna/optuna/releases/tag/v3.0.0. Use suggest_float(..., step=...) instead.\n",
      "  \"colsample_bytree\": trial.suggest_discrete_uniform(\"colsample_bytree\", 0.6, 1.0, 0.05),  # Reduce the range\n"
     ]
    },
    {
     "name": "stdout",
     "output_type": "stream",
     "text": [
      "Fold 1 MAE: 51.55081260225987\n",
      "Training Fold 2...\n",
      "Fold 2 MAE: 45.07229858984161\n",
      "Training Fold 3...\n",
      "Fold 3 MAE: 47.20327366846995\n",
      "Training Fold 4...\n",
      "Fold 4 MAE: 48.3671189118799\n",
      "Training Fold 5...\n",
      "Fold 5 MAE: 47.78742347411148\n",
      "Training Fold 6...\n",
      "Fold 6 MAE: 49.5990922394656\n",
      "Training Fold 7...\n",
      "Fold 7 MAE: 49.02024818538736\n",
      "Training Fold 8...\n",
      "Fold 8 MAE: 47.63182622263801\n",
      "Training Fold 9...\n",
      "Fold 9 MAE: 50.18443646541296\n",
      "Training Fold 10...\n"
     ]
    },
    {
     "name": "stderr",
     "output_type": "stream",
     "text": [
      "[I 2023-11-09 12:41:36,351] Trial 17 finished with value: 48.62462713448518 and parameters: {'objective': 'reg:squarederror', 'tree_method': 'hist', 'max_depth': 9, 'learning_rate': 0.9570793403287219, 'n_estimators': 591, 'min_child_weight': 2, 'gamma': 0.3455070792333187, 'subsample': 0.8, 'colsample_bytree': 0.7, 'reg_alpha': 0.4403303978128842, 'reg_lambda': 0.18187916362561732, 'random_state': 670}. Best is trial 15 with value: 46.228697928491044.\n"
     ]
    },
    {
     "name": "stdout",
     "output_type": "stream",
     "text": [
      "Fold 10 MAE: 49.829740985385115\n",
      "Mean MAE for all Folds: 48.62462713448518\n",
      "Training Fold 1...\n"
     ]
    },
    {
     "name": "stderr",
     "output_type": "stream",
     "text": [
      "/var/folders/y8/9glnt_6110xftbsjpdqd12280000gp/T/ipykernel_3241/2078315071.py:16: FutureWarning: suggest_discrete_uniform has been deprecated in v3.0.0. This feature will be removed in v6.0.0. See https://github.com/optuna/optuna/releases/tag/v3.0.0. Use suggest_float(..., step=...) instead.\n",
      "  \"subsample\": trial.suggest_discrete_uniform(\"subsample\", 0.6, 1.0, 0.05),  # Reduce the range\n",
      "/var/folders/y8/9glnt_6110xftbsjpdqd12280000gp/T/ipykernel_3241/2078315071.py:17: FutureWarning: suggest_discrete_uniform has been deprecated in v3.0.0. This feature will be removed in v6.0.0. See https://github.com/optuna/optuna/releases/tag/v3.0.0. Use suggest_float(..., step=...) instead.\n",
      "  \"colsample_bytree\": trial.suggest_discrete_uniform(\"colsample_bytree\", 0.6, 1.0, 0.05),  # Reduce the range\n"
     ]
    },
    {
     "name": "stdout",
     "output_type": "stream",
     "text": [
      "Fold 1 MAE: 178.62320260706497\n",
      "Training Fold 2...\n",
      "Fold 2 MAE: 166.76652473705187\n",
      "Training Fold 3...\n",
      "Fold 3 MAE: 169.2015043576822\n",
      "Training Fold 4...\n",
      "Fold 4 MAE: 174.99605530973108\n",
      "Training Fold 5...\n",
      "Fold 5 MAE: 174.81736125532643\n",
      "Training Fold 6...\n",
      "Fold 6 MAE: 173.26345102053253\n",
      "Training Fold 7...\n",
      "Fold 7 MAE: 177.26257010297823\n",
      "Training Fold 8...\n",
      "Fold 8 MAE: 175.86747853780577\n",
      "Training Fold 9...\n",
      "Fold 9 MAE: 172.86832908033304\n",
      "Training Fold 10...\n"
     ]
    },
    {
     "name": "stderr",
     "output_type": "stream",
     "text": [
      "[I 2023-11-09 12:42:07,900] Trial 18 finished with value: 174.19883199625207 and parameters: {'objective': 'reg:squaredlogerror', 'tree_method': 'hist', 'max_depth': 10, 'learning_rate': 0.6770542246887414, 'n_estimators': 449, 'min_child_weight': 2, 'gamma': 0.32639172078107903, 'subsample': 0.8, 'colsample_bytree': 0.7, 'reg_alpha': 0.3938355205951007, 'reg_lambda': 0.2824410035607484, 'random_state': 323}. Best is trial 15 with value: 46.228697928491044.\n"
     ]
    },
    {
     "name": "stdout",
     "output_type": "stream",
     "text": [
      "Fold 10 MAE: 178.32184295401441\n",
      "Mean MAE for all Folds: 174.19883199625207\n",
      "Training Fold 1...\n"
     ]
    },
    {
     "name": "stderr",
     "output_type": "stream",
     "text": [
      "/var/folders/y8/9glnt_6110xftbsjpdqd12280000gp/T/ipykernel_3241/2078315071.py:16: FutureWarning: suggest_discrete_uniform has been deprecated in v3.0.0. This feature will be removed in v6.0.0. See https://github.com/optuna/optuna/releases/tag/v3.0.0. Use suggest_float(..., step=...) instead.\n",
      "  \"subsample\": trial.suggest_discrete_uniform(\"subsample\", 0.6, 1.0, 0.05),  # Reduce the range\n",
      "/var/folders/y8/9glnt_6110xftbsjpdqd12280000gp/T/ipykernel_3241/2078315071.py:17: FutureWarning: suggest_discrete_uniform has been deprecated in v3.0.0. This feature will be removed in v6.0.0. See https://github.com/optuna/optuna/releases/tag/v3.0.0. Use suggest_float(..., step=...) instead.\n",
      "  \"colsample_bytree\": trial.suggest_discrete_uniform(\"colsample_bytree\", 0.6, 1.0, 0.05),  # Reduce the range\n"
     ]
    },
    {
     "name": "stdout",
     "output_type": "stream",
     "text": [
      "Fold 1 MAE: 62.645330756855905\n",
      "Training Fold 2...\n",
      "Fold 2 MAE: 56.253346313354534\n",
      "Training Fold 3...\n",
      "Fold 3 MAE: 58.93548370359926\n",
      "Training Fold 4...\n",
      "Fold 4 MAE: 60.17408851203341\n",
      "Training Fold 5...\n",
      "Fold 5 MAE: 59.59905403077817\n",
      "Training Fold 6...\n",
      "Fold 6 MAE: 61.281201112157355\n",
      "Training Fold 7...\n",
      "Fold 7 MAE: 60.746216148328266\n",
      "Training Fold 8...\n",
      "Fold 8 MAE: 60.25285176890555\n",
      "Training Fold 9...\n",
      "Fold 9 MAE: 60.13720574107858\n",
      "Training Fold 10...\n"
     ]
    },
    {
     "name": "stderr",
     "output_type": "stream",
     "text": [
      "[I 2023-11-09 12:42:20,730] Trial 19 finished with value: 60.162203905681146 and parameters: {'objective': 'reg:squarederror', 'tree_method': 'hist', 'max_depth': 3, 'learning_rate': 0.9884421866522949, 'n_estimators': 634, 'min_child_weight': 1, 'gamma': 0.49181501362208063, 'subsample': 0.65, 'colsample_bytree': 0.7, 'reg_alpha': 0.605056442709042, 'reg_lambda': 0.14644738220040654, 'random_state': 593}. Best is trial 15 with value: 46.228697928491044.\n"
     ]
    },
    {
     "name": "stdout",
     "output_type": "stream",
     "text": [
      "Fold 10 MAE: 61.597260969720374\n",
      "Mean MAE for all Folds: 60.162203905681146\n",
      "Training Fold 1...\n"
     ]
    },
    {
     "name": "stderr",
     "output_type": "stream",
     "text": [
      "/var/folders/y8/9glnt_6110xftbsjpdqd12280000gp/T/ipykernel_3241/2078315071.py:16: FutureWarning: suggest_discrete_uniform has been deprecated in v3.0.0. This feature will be removed in v6.0.0. See https://github.com/optuna/optuna/releases/tag/v3.0.0. Use suggest_float(..., step=...) instead.\n",
      "  \"subsample\": trial.suggest_discrete_uniform(\"subsample\", 0.6, 1.0, 0.05),  # Reduce the range\n",
      "/var/folders/y8/9glnt_6110xftbsjpdqd12280000gp/T/ipykernel_3241/2078315071.py:17: FutureWarning: suggest_discrete_uniform has been deprecated in v3.0.0. This feature will be removed in v6.0.0. See https://github.com/optuna/optuna/releases/tag/v3.0.0. Use suggest_float(..., step=...) instead.\n",
      "  \"colsample_bytree\": trial.suggest_discrete_uniform(\"colsample_bytree\", 0.6, 1.0, 0.05),  # Reduce the range\n"
     ]
    },
    {
     "name": "stdout",
     "output_type": "stream",
     "text": [
      "Fold 1 MAE: 61.843104933059756\n",
      "Training Fold 2...\n",
      "Fold 2 MAE: 55.13202234543197\n",
      "Training Fold 3...\n",
      "Fold 3 MAE: 58.53180995714489\n",
      "Training Fold 4...\n",
      "Fold 4 MAE: 59.38903964431552\n",
      "Training Fold 5...\n",
      "Fold 5 MAE: 58.23265235471171\n",
      "Training Fold 6...\n",
      "Fold 6 MAE: 60.19009935356444\n",
      "Training Fold 7...\n",
      "Fold 7 MAE: 59.55856455895185\n",
      "Training Fold 8...\n",
      "Fold 8 MAE: 58.645258186289375\n",
      "Training Fold 9...\n",
      "Fold 9 MAE: 59.78407175133357\n",
      "Training Fold 10...\n"
     ]
    },
    {
     "name": "stderr",
     "output_type": "stream",
     "text": [
      "[I 2023-11-09 12:42:43,369] Trial 20 finished with value: 59.20676960536787 and parameters: {'objective': 'reg:squarederror', 'tree_method': 'hist', 'max_depth': 6, 'learning_rate': 0.8854142819169022, 'n_estimators': 508, 'min_child_weight': 3, 'gamma': 0.5516143204470617, 'subsample': 0.75, 'colsample_bytree': 0.7, 'reg_alpha': 0.3438052356004472, 'reg_lambda': 0.3536170571482363, 'random_state': 719}. Best is trial 15 with value: 46.228697928491044.\n"
     ]
    },
    {
     "name": "stdout",
     "output_type": "stream",
     "text": [
      "Fold 10 MAE: 60.761072968875595\n",
      "Mean MAE for all Folds: 59.20676960536787\n",
      "Training Fold 1...\n"
     ]
    },
    {
     "name": "stderr",
     "output_type": "stream",
     "text": [
      "/var/folders/y8/9glnt_6110xftbsjpdqd12280000gp/T/ipykernel_3241/2078315071.py:16: FutureWarning: suggest_discrete_uniform has been deprecated in v3.0.0. This feature will be removed in v6.0.0. See https://github.com/optuna/optuna/releases/tag/v3.0.0. Use suggest_float(..., step=...) instead.\n",
      "  \"subsample\": trial.suggest_discrete_uniform(\"subsample\", 0.6, 1.0, 0.05),  # Reduce the range\n",
      "/var/folders/y8/9glnt_6110xftbsjpdqd12280000gp/T/ipykernel_3241/2078315071.py:17: FutureWarning: suggest_discrete_uniform has been deprecated in v3.0.0. This feature will be removed in v6.0.0. See https://github.com/optuna/optuna/releases/tag/v3.0.0. Use suggest_float(..., step=...) instead.\n",
      "  \"colsample_bytree\": trial.suggest_discrete_uniform(\"colsample_bytree\", 0.6, 1.0, 0.05),  # Reduce the range\n"
     ]
    },
    {
     "name": "stdout",
     "output_type": "stream",
     "text": [
      "Fold 1 MAE: 56.73783947969555\n",
      "Training Fold 2...\n",
      "Fold 2 MAE: 50.63704107912544\n",
      "Training Fold 3...\n",
      "Fold 3 MAE: 53.13151535653068\n",
      "Training Fold 4...\n",
      "Fold 4 MAE: 54.399736787295225\n",
      "Training Fold 5...\n",
      "Fold 5 MAE: 52.857976045884875\n",
      "Training Fold 6...\n",
      "Fold 6 MAE: 55.058694729136356\n",
      "Training Fold 7...\n",
      "Fold 7 MAE: 54.50334877597065\n",
      "Training Fold 8...\n",
      "Fold 8 MAE: 53.30307649080676\n",
      "Training Fold 9...\n",
      "Fold 9 MAE: 55.38700525276681\n",
      "Training Fold 10...\n"
     ]
    },
    {
     "name": "stderr",
     "output_type": "stream",
     "text": [
      "[I 2023-11-09 12:43:50,996] Trial 21 finished with value: 54.13995868754878 and parameters: {'objective': 'reg:squarederror', 'tree_method': 'hist', 'max_depth': 9, 'learning_rate': 0.9010522827740162, 'n_estimators': 594, 'min_child_weight': 2, 'gamma': 0.35786256423800744, 'subsample': 0.8, 'colsample_bytree': 0.75, 'reg_alpha': 0.46468428825855623, 'reg_lambda': 0.1957131038627425, 'random_state': 672}. Best is trial 15 with value: 46.228697928491044.\n"
     ]
    },
    {
     "name": "stdout",
     "output_type": "stream",
     "text": [
      "Fold 10 MAE: 55.38335287827542\n",
      "Mean MAE for all Folds: 54.13995868754878\n",
      "Training Fold 1...\n"
     ]
    },
    {
     "name": "stderr",
     "output_type": "stream",
     "text": [
      "/var/folders/y8/9glnt_6110xftbsjpdqd12280000gp/T/ipykernel_3241/2078315071.py:16: FutureWarning: suggest_discrete_uniform has been deprecated in v3.0.0. This feature will be removed in v6.0.0. See https://github.com/optuna/optuna/releases/tag/v3.0.0. Use suggest_float(..., step=...) instead.\n",
      "  \"subsample\": trial.suggest_discrete_uniform(\"subsample\", 0.6, 1.0, 0.05),  # Reduce the range\n",
      "/var/folders/y8/9glnt_6110xftbsjpdqd12280000gp/T/ipykernel_3241/2078315071.py:17: FutureWarning: suggest_discrete_uniform has been deprecated in v3.0.0. This feature will be removed in v6.0.0. See https://github.com/optuna/optuna/releases/tag/v3.0.0. Use suggest_float(..., step=...) instead.\n",
      "  \"colsample_bytree\": trial.suggest_discrete_uniform(\"colsample_bytree\", 0.6, 1.0, 0.05),  # Reduce the range\n"
     ]
    },
    {
     "name": "stdout",
     "output_type": "stream",
     "text": [
      "Fold 1 MAE: 48.892037700803726\n",
      "Training Fold 2...\n",
      "Fold 2 MAE: 42.05799856624623\n",
      "Training Fold 3...\n",
      "Fold 3 MAE: 43.96070195499967\n",
      "Training Fold 4...\n",
      "Fold 4 MAE: 45.0038873118701\n",
      "Training Fold 5...\n",
      "Fold 5 MAE: 44.84310613919213\n",
      "Training Fold 6...\n",
      "Fold 6 MAE: 46.24381554176905\n",
      "Training Fold 7...\n",
      "Fold 7 MAE: 45.79804198531016\n",
      "Training Fold 8...\n",
      "Fold 8 MAE: 44.70431310455327\n",
      "Training Fold 9...\n",
      "Fold 9 MAE: 47.51586005975238\n",
      "Training Fold 10...\n"
     ]
    },
    {
     "name": "stderr",
     "output_type": "stream",
     "text": [
      "[I 2023-11-09 12:44:48,085] Trial 22 finished with value: 45.58008448673791 and parameters: {'objective': 'reg:squarederror', 'tree_method': 'hist', 'max_depth': 9, 'learning_rate': 0.9960329887159733, 'n_estimators': 556, 'min_child_weight': 2, 'gamma': 0.29270743312204095, 'subsample': 0.8, 'colsample_bytree': 0.75, 'reg_alpha': 0.4974123342209251, 'reg_lambda': 0.16474092659389664, 'random_state': 836}. Best is trial 22 with value: 45.58008448673791.\n"
     ]
    },
    {
     "name": "stdout",
     "output_type": "stream",
     "text": [
      "Fold 10 MAE: 46.78108250288245\n",
      "Mean MAE for all Folds: 45.58008448673791\n",
      "Training Fold 1...\n"
     ]
    },
    {
     "name": "stderr",
     "output_type": "stream",
     "text": [
      "/var/folders/y8/9glnt_6110xftbsjpdqd12280000gp/T/ipykernel_3241/2078315071.py:16: FutureWarning: suggest_discrete_uniform has been deprecated in v3.0.0. This feature will be removed in v6.0.0. See https://github.com/optuna/optuna/releases/tag/v3.0.0. Use suggest_float(..., step=...) instead.\n",
      "  \"subsample\": trial.suggest_discrete_uniform(\"subsample\", 0.6, 1.0, 0.05),  # Reduce the range\n",
      "/var/folders/y8/9glnt_6110xftbsjpdqd12280000gp/T/ipykernel_3241/2078315071.py:17: FutureWarning: suggest_discrete_uniform has been deprecated in v3.0.0. This feature will be removed in v6.0.0. See https://github.com/optuna/optuna/releases/tag/v3.0.0. Use suggest_float(..., step=...) instead.\n",
      "  \"colsample_bytree\": trial.suggest_discrete_uniform(\"colsample_bytree\", 0.6, 1.0, 0.05),  # Reduce the range\n"
     ]
    },
    {
     "name": "stdout",
     "output_type": "stream",
     "text": [
      "Fold 1 MAE: 48.219207368755704\n",
      "Training Fold 2...\n",
      "Fold 2 MAE: 41.50057751812319\n",
      "Training Fold 3...\n",
      "Fold 3 MAE: 43.35378474842809\n",
      "Training Fold 4...\n",
      "Fold 4 MAE: 44.29877629204306\n",
      "Training Fold 5...\n",
      "Fold 5 MAE: 44.12593393300634\n",
      "Training Fold 6...\n",
      "Fold 6 MAE: 45.81715467713113\n",
      "Training Fold 7...\n",
      "Fold 7 MAE: 45.12354846863855\n",
      "Training Fold 8...\n",
      "Fold 8 MAE: 43.903717528416166\n",
      "Training Fold 9...\n",
      "Fold 9 MAE: 47.13592196146302\n",
      "Training Fold 10...\n"
     ]
    },
    {
     "name": "stderr",
     "output_type": "stream",
     "text": [
      "[I 2023-11-09 12:46:26,420] Trial 23 finished with value: 44.97897632718659 and parameters: {'objective': 'reg:squarederror', 'tree_method': 'hist', 'max_depth': 10, 'learning_rate': 0.9958061612027553, 'n_estimators': 700, 'min_child_weight': 1, 'gamma': 0.27378247155906416, 'subsample': 0.75, 'colsample_bytree': 0.75, 'reg_alpha': 0.5232625172558576, 'reg_lambda': 0.12725775140879894, 'random_state': 836}. Best is trial 23 with value: 44.97897632718659.\n"
     ]
    },
    {
     "name": "stdout",
     "output_type": "stream",
     "text": [
      "Fold 10 MAE: 46.31114077586061\n",
      "Mean MAE for all Folds: 44.97897632718659\n",
      "Training Fold 1...\n"
     ]
    },
    {
     "name": "stderr",
     "output_type": "stream",
     "text": [
      "/var/folders/y8/9glnt_6110xftbsjpdqd12280000gp/T/ipykernel_3241/2078315071.py:16: FutureWarning: suggest_discrete_uniform has been deprecated in v3.0.0. This feature will be removed in v6.0.0. See https://github.com/optuna/optuna/releases/tag/v3.0.0. Use suggest_float(..., step=...) instead.\n",
      "  \"subsample\": trial.suggest_discrete_uniform(\"subsample\", 0.6, 1.0, 0.05),  # Reduce the range\n",
      "/var/folders/y8/9glnt_6110xftbsjpdqd12280000gp/T/ipykernel_3241/2078315071.py:17: FutureWarning: suggest_discrete_uniform has been deprecated in v3.0.0. This feature will be removed in v6.0.0. See https://github.com/optuna/optuna/releases/tag/v3.0.0. Use suggest_float(..., step=...) instead.\n",
      "  \"colsample_bytree\": trial.suggest_discrete_uniform(\"colsample_bytree\", 0.6, 1.0, 0.05),  # Reduce the range\n"
     ]
    },
    {
     "name": "stdout",
     "output_type": "stream",
     "text": [
      "Fold 1 MAE: 55.39488685521306\n",
      "Training Fold 2...\n",
      "Fold 2 MAE: 49.52066066663506\n",
      "Training Fold 3...\n",
      "Fold 3 MAE: 51.86180967192919\n",
      "Training Fold 4...\n",
      "Fold 4 MAE: 53.05980793847953\n",
      "Training Fold 5...\n",
      "Fold 5 MAE: 51.40961185857179\n",
      "Training Fold 6...\n",
      "Fold 6 MAE: 53.772810304323784\n",
      "Training Fold 7...\n",
      "Fold 7 MAE: 53.15206359246772\n",
      "Training Fold 8...\n",
      "Fold 8 MAE: 51.8324386416321\n",
      "Training Fold 9...\n",
      "Fold 9 MAE: 54.33391517471044\n",
      "Training Fold 10...\n"
     ]
    },
    {
     "name": "stderr",
     "output_type": "stream",
     "text": [
      "[I 2023-11-09 12:56:44,541] Trial 24 finished with value: 52.86529590453896 and parameters: {'objective': 'reg:squarederror', 'tree_method': 'hist', 'max_depth': 10, 'learning_rate': 0.9053422892826759, 'n_estimators': 718, 'min_child_weight': 2, 'gamma': 0.12363979830478719, 'subsample': 0.9, 'colsample_bytree': 0.75, 'reg_alpha': 0.561367242258697, 'reg_lambda': 0.10263459115245255, 'random_state': 836}. Best is trial 23 with value: 44.97897632718659.\n"
     ]
    },
    {
     "name": "stdout",
     "output_type": "stream",
     "text": [
      "Fold 10 MAE: 54.31495434142695\n",
      "Mean MAE for all Folds: 52.86529590453896\n",
      "Training Fold 1...\n"
     ]
    },
    {
     "name": "stderr",
     "output_type": "stream",
     "text": [
      "/var/folders/y8/9glnt_6110xftbsjpdqd12280000gp/T/ipykernel_3241/2078315071.py:16: FutureWarning: suggest_discrete_uniform has been deprecated in v3.0.0. This feature will be removed in v6.0.0. See https://github.com/optuna/optuna/releases/tag/v3.0.0. Use suggest_float(..., step=...) instead.\n",
      "  \"subsample\": trial.suggest_discrete_uniform(\"subsample\", 0.6, 1.0, 0.05),  # Reduce the range\n",
      "/var/folders/y8/9glnt_6110xftbsjpdqd12280000gp/T/ipykernel_3241/2078315071.py:17: FutureWarning: suggest_discrete_uniform has been deprecated in v3.0.0. This feature will be removed in v6.0.0. See https://github.com/optuna/optuna/releases/tag/v3.0.0. Use suggest_float(..., step=...) instead.\n",
      "  \"colsample_bytree\": trial.suggest_discrete_uniform(\"colsample_bytree\", 0.6, 1.0, 0.05),  # Reduce the range\n"
     ]
    },
    {
     "name": "stdout",
     "output_type": "stream",
     "text": [
      "Fold 1 MAE: 81.37396077997248\n",
      "Training Fold 2...\n",
      "Fold 2 MAE: 77.82713394892411\n",
      "Training Fold 3...\n",
      "Fold 3 MAE: 80.10225288539718\n",
      "Training Fold 4...\n",
      "Fold 4 MAE: 81.36540120855032\n",
      "Training Fold 5...\n",
      "Fold 5 MAE: 78.70822508974369\n",
      "Training Fold 6...\n",
      "Fold 6 MAE: 80.47487145881567\n",
      "Training Fold 7...\n",
      "Fold 7 MAE: 81.20914119265328\n",
      "Training Fold 8...\n",
      "Fold 8 MAE: 79.7097828217297\n",
      "Training Fold 9...\n",
      "Fold 9 MAE: 80.89900074348817\n",
      "Training Fold 10...\n"
     ]
    },
    {
     "name": "stderr",
     "output_type": "stream",
     "text": [
      "[I 2023-11-09 13:00:27,734] Trial 25 finished with value: 80.30397226282903 and parameters: {'objective': 'reg:squarederror', 'tree_method': 'hist', 'max_depth': 10, 'learning_rate': 0.6927446750049695, 'n_estimators': 827, 'min_child_weight': 3, 'gamma': 0.26612447952517915, 'subsample': 0.75, 'colsample_bytree': 0.9, 'reg_alpha': 0.6708066042058024, 'reg_lambda': 0.29725203122951327, 'random_state': 839}. Best is trial 23 with value: 44.97897632718659.\n"
     ]
    },
    {
     "name": "stdout",
     "output_type": "stream",
     "text": [
      "Fold 10 MAE: 81.36995249901571\n",
      "Mean MAE for all Folds: 80.30397226282903\n",
      "Training Fold 1...\n"
     ]
    },
    {
     "name": "stderr",
     "output_type": "stream",
     "text": [
      "/var/folders/y8/9glnt_6110xftbsjpdqd12280000gp/T/ipykernel_3241/2078315071.py:16: FutureWarning: suggest_discrete_uniform has been deprecated in v3.0.0. This feature will be removed in v6.0.0. See https://github.com/optuna/optuna/releases/tag/v3.0.0. Use suggest_float(..., step=...) instead.\n",
      "  \"subsample\": trial.suggest_discrete_uniform(\"subsample\", 0.6, 1.0, 0.05),  # Reduce the range\n",
      "/var/folders/y8/9glnt_6110xftbsjpdqd12280000gp/T/ipykernel_3241/2078315071.py:17: FutureWarning: suggest_discrete_uniform has been deprecated in v3.0.0. This feature will be removed in v6.0.0. See https://github.com/optuna/optuna/releases/tag/v3.0.0. Use suggest_float(..., step=...) instead.\n",
      "  \"colsample_bytree\": trial.suggest_discrete_uniform(\"colsample_bytree\", 0.6, 1.0, 0.05),  # Reduce the range\n"
     ]
    },
    {
     "name": "stdout",
     "output_type": "stream",
     "text": [
      "Fold 1 MAE: 178.51147828459202\n",
      "Training Fold 2...\n",
      "Fold 2 MAE: 166.66701304190073\n",
      "Training Fold 3...\n",
      "Fold 3 MAE: 169.1009166154752\n",
      "Training Fold 4...\n",
      "Fold 4 MAE: 174.89763446817526\n",
      "Training Fold 5...\n",
      "Fold 5 MAE: 174.7159581908662\n",
      "Training Fold 6...\n",
      "Fold 6 MAE: 173.15132960487435\n",
      "Training Fold 7...\n",
      "Fold 7 MAE: 177.17025076503634\n",
      "Training Fold 8...\n",
      "Fold 8 MAE: 175.7630127828407\n",
      "Training Fold 9...\n",
      "Fold 9 MAE: 172.76033150843335\n",
      "Training Fold 10...\n"
     ]
    },
    {
     "name": "stderr",
     "output_type": "stream",
     "text": [
      "[I 2023-11-09 13:00:59,528] Trial 26 finished with value: 174.09604881165012 and parameters: {'objective': 'reg:squaredlogerror', 'tree_method': 'hist', 'max_depth': 9, 'learning_rate': 0.861218086878488, 'n_estimators': 530, 'min_child_weight': 4, 'gamma': 0.26422613614288426, 'subsample': 0.65, 'colsample_bytree': 0.75, 'reg_alpha': 0.5205660544667139, 'reg_lambda': 0.20450769141585373, 'random_state': 801}. Best is trial 23 with value: 44.97897632718659.\n"
     ]
    },
    {
     "name": "stdout",
     "output_type": "stream",
     "text": [
      "Fold 10 MAE: 178.22256285430703\n",
      "Mean MAE for all Folds: 174.09604881165012\n",
      "Training Fold 1...\n"
     ]
    },
    {
     "name": "stderr",
     "output_type": "stream",
     "text": [
      "/var/folders/y8/9glnt_6110xftbsjpdqd12280000gp/T/ipykernel_3241/2078315071.py:16: FutureWarning: suggest_discrete_uniform has been deprecated in v3.0.0. This feature will be removed in v6.0.0. See https://github.com/optuna/optuna/releases/tag/v3.0.0. Use suggest_float(..., step=...) instead.\n",
      "  \"subsample\": trial.suggest_discrete_uniform(\"subsample\", 0.6, 1.0, 0.05),  # Reduce the range\n",
      "/var/folders/y8/9glnt_6110xftbsjpdqd12280000gp/T/ipykernel_3241/2078315071.py:17: FutureWarning: suggest_discrete_uniform has been deprecated in v3.0.0. This feature will be removed in v6.0.0. See https://github.com/optuna/optuna/releases/tag/v3.0.0. Use suggest_float(..., step=...) instead.\n",
      "  \"colsample_bytree\": trial.suggest_discrete_uniform(\"colsample_bytree\", 0.6, 1.0, 0.05),  # Reduce the range\n"
     ]
    },
    {
     "name": "stdout",
     "output_type": "stream",
     "text": [
      "Fold 1 MAE: 56.47978253979568\n",
      "Training Fold 2...\n",
      "Fold 2 MAE: 50.14753703103849\n",
      "Training Fold 3...\n",
      "Fold 3 MAE: 52.527388020968765\n",
      "Training Fold 4...\n",
      "Fold 4 MAE: 53.78642035274999\n",
      "Training Fold 5...\n",
      "Fold 5 MAE: 52.73500573648288\n",
      "Training Fold 6...\n",
      "Fold 6 MAE: 54.87811565768203\n",
      "Training Fold 7...\n",
      "Fold 7 MAE: 54.03725229996178\n",
      "Training Fold 8...\n",
      "Fold 8 MAE: 52.994109517757096\n",
      "Training Fold 9...\n",
      "Fold 9 MAE: 54.89218817571717\n",
      "Training Fold 10...\n"
     ]
    },
    {
     "name": "stderr",
     "output_type": "stream",
     "text": [
      "[I 2023-11-09 13:02:07,502] Trial 27 finished with value: 53.74309181177559 and parameters: {'objective': 'reg:squarederror', 'tree_method': 'hist', 'max_depth': 8, 'learning_rate': 0.9127467248074468, 'n_estimators': 717, 'min_child_weight': 1, 'gamma': 0.1007569442339929, 'subsample': 0.8, 'colsample_bytree': 0.65, 'reg_alpha': 0.2621870182382391, 'reg_lambda': 0.09272214258296169, 'random_state': 925}. Best is trial 23 with value: 44.97897632718659.\n"
     ]
    },
    {
     "name": "stdout",
     "output_type": "stream",
     "text": [
      "Fold 10 MAE: 54.953118785602\n",
      "Mean MAE for all Folds: 53.74309181177559\n",
      "Training Fold 1...\n"
     ]
    },
    {
     "name": "stderr",
     "output_type": "stream",
     "text": [
      "/var/folders/y8/9glnt_6110xftbsjpdqd12280000gp/T/ipykernel_3241/2078315071.py:16: FutureWarning: suggest_discrete_uniform has been deprecated in v3.0.0. This feature will be removed in v6.0.0. See https://github.com/optuna/optuna/releases/tag/v3.0.0. Use suggest_float(..., step=...) instead.\n",
      "  \"subsample\": trial.suggest_discrete_uniform(\"subsample\", 0.6, 1.0, 0.05),  # Reduce the range\n",
      "/var/folders/y8/9glnt_6110xftbsjpdqd12280000gp/T/ipykernel_3241/2078315071.py:17: FutureWarning: suggest_discrete_uniform has been deprecated in v3.0.0. This feature will be removed in v6.0.0. See https://github.com/optuna/optuna/releases/tag/v3.0.0. Use suggest_float(..., step=...) instead.\n",
      "  \"colsample_bytree\": trial.suggest_discrete_uniform(\"colsample_bytree\", 0.6, 1.0, 0.05),  # Reduce the range\n"
     ]
    },
    {
     "name": "stdout",
     "output_type": "stream",
     "text": [
      "Fold 1 MAE: 76.92478416915506\n",
      "Training Fold 2...\n",
      "Fold 2 MAE: 73.27889001725818\n",
      "Training Fold 3...\n",
      "Fold 3 MAE: 75.58322963578593\n",
      "Training Fold 4...\n",
      "Fold 4 MAE: 76.86266388353182\n",
      "Training Fold 5...\n",
      "Fold 5 MAE: 74.21877769001375\n",
      "Training Fold 6...\n",
      "Fold 6 MAE: 76.44689203818587\n",
      "Training Fold 7...\n",
      "Fold 7 MAE: 76.88147402492991\n",
      "Training Fold 8...\n",
      "Fold 8 MAE: 74.91717595896851\n",
      "Training Fold 9...\n",
      "Fold 9 MAE: 76.57800590572063\n",
      "Training Fold 10...\n"
     ]
    },
    {
     "name": "stderr",
     "output_type": "stream",
     "text": [
      "[I 2023-11-09 13:08:05,438] Trial 28 finished with value: 75.85967210999846 and parameters: {'objective': 'reg:squarederror', 'tree_method': 'hist', 'max_depth': 10, 'learning_rate': 0.7244826719178705, 'n_estimators': 424, 'min_child_weight': 2, 'gamma': 0.3937814924023243, 'subsample': 1.0, 'colsample_bytree': 0.65, 'reg_alpha': 0.6699079119571297, 'reg_lambda': 0.267767711240569, 'random_state': 570}. Best is trial 23 with value: 44.97897632718659.\n"
     ]
    },
    {
     "name": "stdout",
     "output_type": "stream",
     "text": [
      "Fold 10 MAE: 76.90482777643491\n",
      "Mean MAE for all Folds: 75.85967210999846\n",
      "Training Fold 1...\n"
     ]
    },
    {
     "name": "stderr",
     "output_type": "stream",
     "text": [
      "/var/folders/y8/9glnt_6110xftbsjpdqd12280000gp/T/ipykernel_3241/2078315071.py:16: FutureWarning: suggest_discrete_uniform has been deprecated in v3.0.0. This feature will be removed in v6.0.0. See https://github.com/optuna/optuna/releases/tag/v3.0.0. Use suggest_float(..., step=...) instead.\n",
      "  \"subsample\": trial.suggest_discrete_uniform(\"subsample\", 0.6, 1.0, 0.05),  # Reduce the range\n",
      "/var/folders/y8/9glnt_6110xftbsjpdqd12280000gp/T/ipykernel_3241/2078315071.py:17: FutureWarning: suggest_discrete_uniform has been deprecated in v3.0.0. This feature will be removed in v6.0.0. See https://github.com/optuna/optuna/releases/tag/v3.0.0. Use suggest_float(..., step=...) instead.\n",
      "  \"colsample_bytree\": trial.suggest_discrete_uniform(\"colsample_bytree\", 0.6, 1.0, 0.05),  # Reduce the range\n"
     ]
    },
    {
     "name": "stdout",
     "output_type": "stream",
     "text": [
      "Fold 1 MAE: 55.9430683715824\n",
      "Training Fold 2...\n",
      "Fold 2 MAE: 47.70321686416778\n",
      "Training Fold 3...\n",
      "Fold 3 MAE: 51.665555394585716\n",
      "Training Fold 4...\n",
      "Fold 4 MAE: 51.681214192953306\n",
      "Training Fold 5...\n",
      "Fold 5 MAE: 52.69442383645447\n",
      "Training Fold 6...\n",
      "Fold 6 MAE: 53.42255923359569\n",
      "Training Fold 7...\n",
      "Fold 7 MAE: 52.39341993834069\n",
      "Training Fold 8...\n",
      "Fold 8 MAE: 51.4395870201676\n",
      "Training Fold 9...\n",
      "Fold 9 MAE: 53.691445863659794\n",
      "Training Fold 10...\n"
     ]
    },
    {
     "name": "stderr",
     "output_type": "stream",
     "text": [
      "[I 2023-11-09 13:08:36,755] Trial 29 finished with value: 52.45033959885611 and parameters: {'objective': 'reg:squarederror', 'tree_method': 'hist', 'max_depth': 5, 'learning_rate': 0.9870719964196271, 'n_estimators': 502, 'min_child_weight': 4, 'gamma': 0.16605217583990312, 'subsample': 0.9, 'colsample_bytree': 0.9, 'reg_alpha': 0.6025622754276665, 'reg_lambda': 0.09878146457174712, 'random_state': 904}. Best is trial 23 with value: 44.97897632718659.\n"
     ]
    },
    {
     "name": "stdout",
     "output_type": "stream",
     "text": [
      "Fold 10 MAE: 53.86890527305375\n",
      "Mean MAE for all Folds: 52.45033959885611\n",
      "Optimization complete!\n"
     ]
    }
   ],
   "source": [
    "study2 = optuna.create_study(direction=\"minimize\")\n",
    "\n",
    "# Optimize the objective function\n",
    "print(\"Optimizing hyperparameters...\")\n",
    "study2.optimize(get_objective(X=X_2,y=y_2 ), n_trials=30)\n",
    "print(\"Optimization complete!\")\n",
    "predictor2 = XGBRFRegressor(**study2.best_params).fit(X_2, y_2)\n"
   ]
  },
  {
   "cell_type": "code",
   "execution_count": 13,
   "metadata": {},
   "outputs": [],
   "source": [
    "X_3, y_3 = df3_0[[c for c in df3_0.columns if \"pv_measurement\" != c]], df3_0[\"pv_measurement\"]"
   ]
  },
  {
   "cell_type": "code",
   "execution_count": 14,
   "metadata": {},
   "outputs": [
    {
     "name": "stderr",
     "output_type": "stream",
     "text": [
      "[I 2023-11-09 13:08:53,978] A new study created in memory with name: no-name-c424a940-72c9-42db-af06-e718342f7d0c\n"
     ]
    },
    {
     "name": "stderr",
     "output_type": "stream",
     "text": [
      "/var/folders/y8/9glnt_6110xftbsjpdqd12280000gp/T/ipykernel_3241/2078315071.py:16: FutureWarning: suggest_discrete_uniform has been deprecated in v3.0.0. This feature will be removed in v6.0.0. See https://github.com/optuna/optuna/releases/tag/v3.0.0. Use suggest_float(..., step=...) instead.\n",
      "  \"subsample\": trial.suggest_discrete_uniform(\"subsample\", 0.6, 1.0, 0.05),  # Reduce the range\n",
      "/var/folders/y8/9glnt_6110xftbsjpdqd12280000gp/T/ipykernel_3241/2078315071.py:17: FutureWarning: suggest_discrete_uniform has been deprecated in v3.0.0. This feature will be removed in v6.0.0. See https://github.com/optuna/optuna/releases/tag/v3.0.0. Use suggest_float(..., step=...) instead.\n",
      "  \"colsample_bytree\": trial.suggest_discrete_uniform(\"colsample_bytree\", 0.6, 1.0, 0.05),  # Reduce the range\n"
     ]
    },
    {
     "name": "stdout",
     "output_type": "stream",
     "text": [
      "Optimizing hyperparameters...\n",
      "Training Fold 1...\n",
      "Fold 1 MAE: 150.17439839263966\n",
      "Training Fold 2...\n",
      "Fold 2 MAE: 142.93217396838247\n",
      "Training Fold 3...\n",
      "Fold 3 MAE: 149.12220407417234\n",
      "Training Fold 4...\n",
      "Fold 4 MAE: 144.94794801845472\n",
      "Training Fold 5...\n",
      "Fold 5 MAE: 154.21661750231175\n",
      "Training Fold 6...\n",
      "Fold 6 MAE: 157.15710067168465\n",
      "Training Fold 7...\n",
      "Fold 7 MAE: 153.83941892053065\n",
      "Training Fold 8...\n",
      "Fold 8 MAE: 155.44798499410516\n",
      "Training Fold 9...\n",
      "Fold 9 MAE: 156.62194892663717\n",
      "Training Fold 10...\n"
     ]
    },
    {
     "name": "stderr",
     "output_type": "stream",
     "text": [
      "[I 2023-11-09 13:11:04,604] Trial 0 finished with value: 152.3466470602913 and parameters: {'objective': 'reg:squaredlogerror', 'tree_method': 'hist', 'max_depth': 10, 'learning_rate': 0.1552576111713436, 'n_estimators': 746, 'min_child_weight': 8, 'gamma': 0.19868933664994717, 'subsample': 0.75, 'colsample_bytree': 0.65, 'reg_alpha': 0.4407663019894997, 'reg_lambda': 0.40621188881437087, 'random_state': 705}. Best is trial 0 with value: 152.3466470602913.\n"
     ]
    },
    {
     "name": "stdout",
     "output_type": "stream",
     "text": [
      "Fold 10 MAE: 159.00667513399466\n",
      "Mean MAE for all Folds: 152.3466470602913\n",
      "Training Fold 1...\n"
     ]
    },
    {
     "name": "stderr",
     "output_type": "stream",
     "text": [
      "/var/folders/y8/9glnt_6110xftbsjpdqd12280000gp/T/ipykernel_3241/2078315071.py:16: FutureWarning: suggest_discrete_uniform has been deprecated in v3.0.0. This feature will be removed in v6.0.0. See https://github.com/optuna/optuna/releases/tag/v3.0.0. Use suggest_float(..., step=...) instead.\n",
      "  \"subsample\": trial.suggest_discrete_uniform(\"subsample\", 0.6, 1.0, 0.05),  # Reduce the range\n",
      "/var/folders/y8/9glnt_6110xftbsjpdqd12280000gp/T/ipykernel_3241/2078315071.py:17: FutureWarning: suggest_discrete_uniform has been deprecated in v3.0.0. This feature will be removed in v6.0.0. See https://github.com/optuna/optuna/releases/tag/v3.0.0. Use suggest_float(..., step=...) instead.\n",
      "  \"colsample_bytree\": trial.suggest_discrete_uniform(\"colsample_bytree\", 0.6, 1.0, 0.05),  # Reduce the range\n"
     ]
    },
    {
     "name": "stdout",
     "output_type": "stream",
     "text": [
      "Fold 1 MAE: 149.84189865591583\n",
      "Training Fold 2...\n",
      "Fold 2 MAE: 142.60541874434756\n",
      "Training Fold 3...\n",
      "Fold 3 MAE: 148.794577949974\n",
      "Training Fold 4...\n",
      "Fold 4 MAE: 144.62074818025803\n",
      "Training Fold 5...\n",
      "Fold 5 MAE: 153.88424176598002\n",
      "Training Fold 6...\n",
      "Fold 6 MAE: 156.8282994832605\n",
      "Training Fold 7...\n",
      "Fold 7 MAE: 153.50810239372504\n",
      "Training Fold 8...\n",
      "Fold 8 MAE: 155.11724035720218\n",
      "Training Fold 9...\n",
      "Fold 9 MAE: 156.28585282930757\n",
      "Training Fold 10...\n"
     ]
    },
    {
     "name": "stderr",
     "output_type": "stream",
     "text": [
      "[I 2023-11-09 13:18:52,180] Trial 1 finished with value: 152.01545625304863 and parameters: {'objective': 'reg:squaredlogerror', 'tree_method': 'approx', 'max_depth': 8, 'learning_rate': 0.4324567621321844, 'n_estimators': 499, 'min_child_weight': 7, 'gamma': 0.9665268543850262, 'subsample': 1.0, 'colsample_bytree': 0.65, 'reg_alpha': 0.8192907415154282, 'reg_lambda': 0.6301498247099937, 'random_state': 271}. Best is trial 1 with value: 152.01545625304863.\n"
     ]
    },
    {
     "name": "stdout",
     "output_type": "stream",
     "text": [
      "Fold 10 MAE: 158.66818217051542\n",
      "Mean MAE for all Folds: 152.01545625304863\n",
      "Training Fold 1...\n"
     ]
    },
    {
     "name": "stderr",
     "output_type": "stream",
     "text": [
      "/var/folders/y8/9glnt_6110xftbsjpdqd12280000gp/T/ipykernel_3241/2078315071.py:16: FutureWarning: suggest_discrete_uniform has been deprecated in v3.0.0. This feature will be removed in v6.0.0. See https://github.com/optuna/optuna/releases/tag/v3.0.0. Use suggest_float(..., step=...) instead.\n",
      "  \"subsample\": trial.suggest_discrete_uniform(\"subsample\", 0.6, 1.0, 0.05),  # Reduce the range\n",
      "/var/folders/y8/9glnt_6110xftbsjpdqd12280000gp/T/ipykernel_3241/2078315071.py:17: FutureWarning: suggest_discrete_uniform has been deprecated in v3.0.0. This feature will be removed in v6.0.0. See https://github.com/optuna/optuna/releases/tag/v3.0.0. Use suggest_float(..., step=...) instead.\n",
      "  \"colsample_bytree\": trial.suggest_discrete_uniform(\"colsample_bytree\", 0.6, 1.0, 0.05),  # Reduce the range\n"
     ]
    },
    {
     "name": "stdout",
     "output_type": "stream",
     "text": [
      "Fold 1 MAE: 149.7939757134372\n",
      "Training Fold 2...\n",
      "Fold 2 MAE: 142.5688189035594\n",
      "Training Fold 3...\n",
      "Fold 3 MAE: 148.75360681605645\n",
      "Training Fold 4...\n",
      "Fold 4 MAE: 144.5828732503128\n",
      "Training Fold 5...\n",
      "Fold 5 MAE: 153.84145104405678\n",
      "Training Fold 6...\n",
      "Fold 6 MAE: 156.79114039004324\n",
      "Training Fold 7...\n",
      "Fold 7 MAE: 153.4595672417369\n",
      "Training Fold 8...\n",
      "Fold 8 MAE: 155.07418418068406\n",
      "Training Fold 9...\n",
      "Fold 9 MAE: 156.24854162096045\n",
      "Training Fold 10...\n"
     ]
    },
    {
     "name": "stderr",
     "output_type": "stream",
     "text": [
      "[I 2023-11-09 13:22:45,304] Trial 2 finished with value: 151.97361331067037 and parameters: {'objective': 'reg:squaredlogerror', 'tree_method': 'hist', 'max_depth': 8, 'learning_rate': 0.5100921123933632, 'n_estimators': 739, 'min_child_weight': 1, 'gamma': 0.1542708910432719, 'subsample': 0.7, 'colsample_bytree': 0.6, 'reg_alpha': 0.6331428570848473, 'reg_lambda': 0.01114818102567104, 'random_state': 756}. Best is trial 2 with value: 151.97361331067037.\n"
     ]
    },
    {
     "name": "stdout",
     "output_type": "stream",
     "text": [
      "Fold 10 MAE: 158.62197394585624\n",
      "Mean MAE for all Folds: 151.97361331067037\n",
      "Training Fold 1...\n"
     ]
    },
    {
     "name": "stderr",
     "output_type": "stream",
     "text": [
      "/var/folders/y8/9glnt_6110xftbsjpdqd12280000gp/T/ipykernel_3241/2078315071.py:16: FutureWarning: suggest_discrete_uniform has been deprecated in v3.0.0. This feature will be removed in v6.0.0. See https://github.com/optuna/optuna/releases/tag/v3.0.0. Use suggest_float(..., step=...) instead.\n",
      "  \"subsample\": trial.suggest_discrete_uniform(\"subsample\", 0.6, 1.0, 0.05),  # Reduce the range\n",
      "/var/folders/y8/9glnt_6110xftbsjpdqd12280000gp/T/ipykernel_3241/2078315071.py:17: FutureWarning: suggest_discrete_uniform has been deprecated in v3.0.0. This feature will be removed in v6.0.0. See https://github.com/optuna/optuna/releases/tag/v3.0.0. Use suggest_float(..., step=...) instead.\n",
      "  \"colsample_bytree\": trial.suggest_discrete_uniform(\"colsample_bytree\", 0.6, 1.0, 0.05),  # Reduce the range\n"
     ]
    },
    {
     "name": "stdout",
     "output_type": "stream",
     "text": [
      "Fold 1 MAE: 149.53211662698098\n",
      "Training Fold 2...\n",
      "Fold 2 MAE: 142.35986749361624\n",
      "Training Fold 3...\n",
      "Fold 3 MAE: 148.53953445339596\n",
      "Training Fold 4...\n",
      "Fold 4 MAE: 144.37950083011413\n",
      "Training Fold 5...\n",
      "Fold 5 MAE: 153.60534229803292\n",
      "Training Fold 6...\n",
      "Fold 6 MAE: 156.5780465561899\n",
      "Training Fold 7...\n",
      "Fold 7 MAE: 153.2110536039291\n",
      "Training Fold 8...\n",
      "Fold 8 MAE: 154.83249788415924\n",
      "Training Fold 9...\n",
      "Fold 9 MAE: 156.01969892783637\n",
      "Training Fold 10...\n"
     ]
    },
    {
     "name": "stderr",
     "output_type": "stream",
     "text": [
      "[I 2023-11-09 13:31:49,086] Trial 3 finished with value: 151.7419851657382 and parameters: {'objective': 'reg:squaredlogerror', 'tree_method': 'approx', 'max_depth': 10, 'learning_rate': 0.9405481299183437, 'n_estimators': 882, 'min_child_weight': 5, 'gamma': 0.3934644690538742, 'subsample': 0.85, 'colsample_bytree': 0.95, 'reg_alpha': 0.39431485971214714, 'reg_lambda': 0.5570219693635929, 'random_state': 798}. Best is trial 3 with value: 151.7419851657382.\n"
     ]
    },
    {
     "name": "stdout",
     "output_type": "stream",
     "text": [
      "Fold 10 MAE: 158.36219298312747\n",
      "Mean MAE for all Folds: 151.7419851657382\n",
      "Training Fold 1...\n"
     ]
    },
    {
     "name": "stderr",
     "output_type": "stream",
     "text": [
      "/var/folders/y8/9glnt_6110xftbsjpdqd12280000gp/T/ipykernel_3241/2078315071.py:16: FutureWarning: suggest_discrete_uniform has been deprecated in v3.0.0. This feature will be removed in v6.0.0. See https://github.com/optuna/optuna/releases/tag/v3.0.0. Use suggest_float(..., step=...) instead.\n",
      "  \"subsample\": trial.suggest_discrete_uniform(\"subsample\", 0.6, 1.0, 0.05),  # Reduce the range\n",
      "/var/folders/y8/9glnt_6110xftbsjpdqd12280000gp/T/ipykernel_3241/2078315071.py:17: FutureWarning: suggest_discrete_uniform has been deprecated in v3.0.0. This feature will be removed in v6.0.0. See https://github.com/optuna/optuna/releases/tag/v3.0.0. Use suggest_float(..., step=...) instead.\n",
      "  \"colsample_bytree\": trial.suggest_discrete_uniform(\"colsample_bytree\", 0.6, 1.0, 0.05),  # Reduce the range\n"
     ]
    },
    {
     "name": "stdout",
     "output_type": "stream",
     "text": [
      "Fold 1 MAE: 150.03128778880546\n",
      "Training Fold 2...\n",
      "Fold 2 MAE: 142.78566145429033\n",
      "Training Fold 3...\n",
      "Fold 3 MAE: 148.9775367022899\n",
      "Training Fold 4...\n",
      "Fold 4 MAE: 144.80362161793647\n",
      "Training Fold 5...\n",
      "Fold 5 MAE: 154.0700059240557\n",
      "Training Fold 6...\n",
      "Fold 6 MAE: 157.00908266445035\n",
      "Training Fold 7...\n",
      "Fold 7 MAE: 153.69371305146788\n",
      "Training Fold 8...\n",
      "Fold 8 MAE: 155.30734649756613\n",
      "Training Fold 9...\n",
      "Fold 9 MAE: 156.47599269077037\n",
      "Training Fold 10...\n"
     ]
    },
    {
     "name": "stderr",
     "output_type": "stream",
     "text": [
      "[I 2023-11-09 13:32:16,365] Trial 4 finished with value: 152.2013711068572 and parameters: {'objective': 'reg:squaredlogerror', 'tree_method': 'hist', 'max_depth': 3, 'learning_rate': 0.25379423400361395, 'n_estimators': 985, 'min_child_weight': 5, 'gamma': 0.6216206680233849, 'subsample': 0.6, 'colsample_bytree': 0.7, 'reg_alpha': 0.5478116240319154, 'reg_lambda': 0.8672493469902863, 'random_state': 965}. Best is trial 3 with value: 151.7419851657382.\n"
     ]
    },
    {
     "name": "stdout",
     "output_type": "stream",
     "text": [
      "Fold 10 MAE: 158.85946267693927\n",
      "Mean MAE for all Folds: 152.2013711068572\n",
      "Training Fold 1...\n"
     ]
    },
    {
     "name": "stderr",
     "output_type": "stream",
     "text": [
      "/var/folders/y8/9glnt_6110xftbsjpdqd12280000gp/T/ipykernel_3241/2078315071.py:16: FutureWarning: suggest_discrete_uniform has been deprecated in v3.0.0. This feature will be removed in v6.0.0. See https://github.com/optuna/optuna/releases/tag/v3.0.0. Use suggest_float(..., step=...) instead.\n",
      "  \"subsample\": trial.suggest_discrete_uniform(\"subsample\", 0.6, 1.0, 0.05),  # Reduce the range\n",
      "/var/folders/y8/9glnt_6110xftbsjpdqd12280000gp/T/ipykernel_3241/2078315071.py:17: FutureWarning: suggest_discrete_uniform has been deprecated in v3.0.0. This feature will be removed in v6.0.0. See https://github.com/optuna/optuna/releases/tag/v3.0.0. Use suggest_float(..., step=...) instead.\n",
      "  \"colsample_bytree\": trial.suggest_discrete_uniform(\"colsample_bytree\", 0.6, 1.0, 0.05),  # Reduce the range\n"
     ]
    },
    {
     "name": "stdout",
     "output_type": "stream",
     "text": [
      "Fold 1 MAE: 150.02655587593054\n",
      "Training Fold 2...\n",
      "Fold 2 MAE: 142.78120622675675\n",
      "Training Fold 3...\n",
      "Fold 3 MAE: 148.97046452153276\n",
      "Training Fold 4...\n",
      "Fold 4 MAE: 144.79519521350497\n",
      "Training Fold 5...\n",
      "Fold 5 MAE: 154.06563275454315\n",
      "Training Fold 6...\n",
      "Fold 6 MAE: 157.00356484322165\n",
      "Training Fold 7...\n",
      "Fold 7 MAE: 153.68869201287043\n",
      "Training Fold 8...\n",
      "Fold 8 MAE: 155.29916296315065\n",
      "Training Fold 9...\n",
      "Fold 9 MAE: 156.4697489405877\n",
      "Training Fold 10...\n"
     ]
    },
    {
     "name": "stderr",
     "output_type": "stream",
     "text": [
      "[I 2023-11-09 13:33:36,116] Trial 5 finished with value: 152.1955686914044 and parameters: {'objective': 'reg:squaredlogerror', 'tree_method': 'approx', 'max_depth': 7, 'learning_rate': 0.25210458618950443, 'n_estimators': 733, 'min_child_weight': 5, 'gamma': 0.6937421856713445, 'subsample': 0.8, 'colsample_bytree': 1.0, 'reg_alpha': 0.7866842806715951, 'reg_lambda': 0.3381907597896166, 'random_state': 227}. Best is trial 3 with value: 151.7419851657382.\n"
     ]
    },
    {
     "name": "stdout",
     "output_type": "stream",
     "text": [
      "Fold 10 MAE: 158.85546356194533\n",
      "Mean MAE for all Folds: 152.1955686914044\n",
      "Training Fold 1...\n"
     ]
    },
    {
     "name": "stderr",
     "output_type": "stream",
     "text": [
      "/var/folders/y8/9glnt_6110xftbsjpdqd12280000gp/T/ipykernel_3241/2078315071.py:16: FutureWarning: suggest_discrete_uniform has been deprecated in v3.0.0. This feature will be removed in v6.0.0. See https://github.com/optuna/optuna/releases/tag/v3.0.0. Use suggest_float(..., step=...) instead.\n",
      "  \"subsample\": trial.suggest_discrete_uniform(\"subsample\", 0.6, 1.0, 0.05),  # Reduce the range\n",
      "/var/folders/y8/9glnt_6110xftbsjpdqd12280000gp/T/ipykernel_3241/2078315071.py:17: FutureWarning: suggest_discrete_uniform has been deprecated in v3.0.0. This feature will be removed in v6.0.0. See https://github.com/optuna/optuna/releases/tag/v3.0.0. Use suggest_float(..., step=...) instead.\n",
      "  \"colsample_bytree\": trial.suggest_discrete_uniform(\"colsample_bytree\", 0.6, 1.0, 0.05),  # Reduce the range\n"
     ]
    },
    {
     "name": "stdout",
     "output_type": "stream",
     "text": [
      "Fold 1 MAE: 150.18051784458387\n",
      "Training Fold 2...\n",
      "Fold 2 MAE: 142.9379650704036\n",
      "Training Fold 3...\n",
      "Fold 3 MAE: 149.12844571770918\n",
      "Training Fold 4...\n",
      "Fold 4 MAE: 144.95395210807868\n",
      "Training Fold 5...\n",
      "Fold 5 MAE: 154.22284425738266\n",
      "Training Fold 6...\n",
      "Fold 6 MAE: 157.16270957412408\n",
      "Training Fold 7...\n",
      "Fold 7 MAE: 153.84543421198504\n",
      "Training Fold 8...\n",
      "Fold 8 MAE: 155.45412216872967\n",
      "Training Fold 9...\n",
      "Fold 9 MAE: 156.6280816965417\n",
      "Training Fold 10...\n"
     ]
    },
    {
     "name": "stderr",
     "output_type": "stream",
     "text": [
      "[I 2023-11-09 13:34:18,151] Trial 6 finished with value: 152.35265859161004 and parameters: {'objective': 'reg:squaredlogerror', 'tree_method': 'hist', 'max_depth': 5, 'learning_rate': 0.15114307911087257, 'n_estimators': 828, 'min_child_weight': 4, 'gamma': 0.4555163386568891, 'subsample': 0.85, 'colsample_bytree': 0.6, 'reg_alpha': 0.6023169123523526, 'reg_lambda': 0.05485597292766612, 'random_state': 19}. Best is trial 3 with value: 151.7419851657382.\n"
     ]
    },
    {
     "name": "stdout",
     "output_type": "stream",
     "text": [
      "Fold 10 MAE: 159.01251326656154\n",
      "Mean MAE for all Folds: 152.35265859161004\n",
      "Training Fold 1...\n"
     ]
    },
    {
     "name": "stderr",
     "output_type": "stream",
     "text": [
      "/var/folders/y8/9glnt_6110xftbsjpdqd12280000gp/T/ipykernel_3241/2078315071.py:16: FutureWarning: suggest_discrete_uniform has been deprecated in v3.0.0. This feature will be removed in v6.0.0. See https://github.com/optuna/optuna/releases/tag/v3.0.0. Use suggest_float(..., step=...) instead.\n",
      "  \"subsample\": trial.suggest_discrete_uniform(\"subsample\", 0.6, 1.0, 0.05),  # Reduce the range\n",
      "/var/folders/y8/9glnt_6110xftbsjpdqd12280000gp/T/ipykernel_3241/2078315071.py:17: FutureWarning: suggest_discrete_uniform has been deprecated in v3.0.0. This feature will be removed in v6.0.0. See https://github.com/optuna/optuna/releases/tag/v3.0.0. Use suggest_float(..., step=...) instead.\n",
      "  \"colsample_bytree\": trial.suggest_discrete_uniform(\"colsample_bytree\", 0.6, 1.0, 0.05),  # Reduce the range\n"
     ]
    },
    {
     "name": "stdout",
     "output_type": "stream",
     "text": [
      "Fold 1 MAE: 102.8825747337226\n",
      "Training Fold 2...\n",
      "Fold 2 MAE: 102.57411447369442\n",
      "Training Fold 3...\n",
      "Fold 3 MAE: 103.6524391865034\n",
      "Training Fold 4...\n",
      "Fold 4 MAE: 100.84740002335377\n",
      "Training Fold 5...\n",
      "Fold 5 MAE: 106.41540666954755\n",
      "Training Fold 6...\n",
      "Fold 6 MAE: 105.69741457521376\n",
      "Training Fold 7...\n",
      "Fold 7 MAE: 106.14270419233156\n",
      "Training Fold 8...\n",
      "Fold 8 MAE: 106.14856686295337\n",
      "Training Fold 9...\n",
      "Fold 9 MAE: 108.92288005364637\n",
      "Training Fold 10...\n"
     ]
    },
    {
     "name": "stderr",
     "output_type": "stream",
     "text": [
      "[I 2023-11-09 13:34:48,219] Trial 7 finished with value: 104.90209669803419 and parameters: {'objective': 'reg:squarederror', 'tree_method': 'hist', 'max_depth': 7, 'learning_rate': 0.3951630724199197, 'n_estimators': 352, 'min_child_weight': 8, 'gamma': 0.5583631708335304, 'subsample': 0.8, 'colsample_bytree': 0.95, 'reg_alpha': 0.8051014637687703, 'reg_lambda': 0.3566313484613751, 'random_state': 152}. Best is trial 7 with value: 104.90209669803419.\n"
     ]
    },
    {
     "name": "stdout",
     "output_type": "stream",
     "text": [
      "Fold 10 MAE: 105.73746620937511\n",
      "Mean MAE for all Folds: 104.90209669803419\n",
      "Training Fold 1...\n"
     ]
    },
    {
     "name": "stderr",
     "output_type": "stream",
     "text": [
      "/var/folders/y8/9glnt_6110xftbsjpdqd12280000gp/T/ipykernel_3241/2078315071.py:16: FutureWarning: suggest_discrete_uniform has been deprecated in v3.0.0. This feature will be removed in v6.0.0. See https://github.com/optuna/optuna/releases/tag/v3.0.0. Use suggest_float(..., step=...) instead.\n",
      "  \"subsample\": trial.suggest_discrete_uniform(\"subsample\", 0.6, 1.0, 0.05),  # Reduce the range\n",
      "/var/folders/y8/9glnt_6110xftbsjpdqd12280000gp/T/ipykernel_3241/2078315071.py:17: FutureWarning: suggest_discrete_uniform has been deprecated in v3.0.0. This feature will be removed in v6.0.0. See https://github.com/optuna/optuna/releases/tag/v3.0.0. Use suggest_float(..., step=...) instead.\n",
      "  \"colsample_bytree\": trial.suggest_discrete_uniform(\"colsample_bytree\", 0.6, 1.0, 0.05),  # Reduce the range\n"
     ]
    },
    {
     "name": "stdout",
     "output_type": "stream",
     "text": [
      "Fold 1 MAE: 48.94432537191225\n",
      "Training Fold 2...\n",
      "Fold 2 MAE: 46.448536177862806\n",
      "Training Fold 3...\n",
      "Fold 3 MAE: 49.20140586738741\n",
      "Training Fold 4...\n",
      "Fold 4 MAE: 44.659934957164296\n",
      "Training Fold 5...\n",
      "Fold 5 MAE: 48.50377429322534\n",
      "Training Fold 6...\n",
      "Fold 6 MAE: 49.63670384741263\n",
      "Training Fold 7...\n",
      "Fold 7 MAE: 49.41682681625344\n",
      "Training Fold 8...\n",
      "Fold 8 MAE: 48.135069511621026\n",
      "Training Fold 9...\n",
      "Fold 9 MAE: 51.01141550844038\n",
      "Training Fold 10...\n"
     ]
    },
    {
     "name": "stderr",
     "output_type": "stream",
     "text": [
      "[I 2023-11-09 13:35:56,599] Trial 8 finished with value: 48.44096078298607 and parameters: {'objective': 'reg:squarederror', 'tree_method': 'hist', 'max_depth': 7, 'learning_rate': 0.8997718017097504, 'n_estimators': 873, 'min_child_weight': 10, 'gamma': 0.5000514014577201, 'subsample': 1.0, 'colsample_bytree': 0.75, 'reg_alpha': 0.780835284383716, 'reg_lambda': 0.440724055063502, 'random_state': 637}. Best is trial 8 with value: 48.44096078298607.\n"
     ]
    },
    {
     "name": "stdout",
     "output_type": "stream",
     "text": [
      "Fold 10 MAE: 48.45161547858099\n",
      "Mean MAE for all Folds: 48.44096078298607\n",
      "Training Fold 1...\n"
     ]
    },
    {
     "name": "stderr",
     "output_type": "stream",
     "text": [
      "/var/folders/y8/9glnt_6110xftbsjpdqd12280000gp/T/ipykernel_3241/2078315071.py:16: FutureWarning: suggest_discrete_uniform has been deprecated in v3.0.0. This feature will be removed in v6.0.0. See https://github.com/optuna/optuna/releases/tag/v3.0.0. Use suggest_float(..., step=...) instead.\n",
      "  \"subsample\": trial.suggest_discrete_uniform(\"subsample\", 0.6, 1.0, 0.05),  # Reduce the range\n",
      "/var/folders/y8/9glnt_6110xftbsjpdqd12280000gp/T/ipykernel_3241/2078315071.py:17: FutureWarning: suggest_discrete_uniform has been deprecated in v3.0.0. This feature will be removed in v6.0.0. See https://github.com/optuna/optuna/releases/tag/v3.0.0. Use suggest_float(..., step=...) instead.\n",
      "  \"colsample_bytree\": trial.suggest_discrete_uniform(\"colsample_bytree\", 0.6, 1.0, 0.05),  # Reduce the range\n"
     ]
    },
    {
     "name": "stdout",
     "output_type": "stream",
     "text": [
      "Fold 1 MAE: 131.62526434215536\n",
      "Training Fold 2...\n",
      "Fold 2 MAE: 131.50444338472948\n",
      "Training Fold 3...\n",
      "Fold 3 MAE: 131.76105693982328\n",
      "Training Fold 4...\n",
      "Fold 4 MAE: 130.82884953455624\n",
      "Training Fold 5...\n",
      "Fold 5 MAE: 135.99141497355572\n",
      "Training Fold 6...\n",
      "Fold 6 MAE: 135.90034034314115\n",
      "Training Fold 7...\n",
      "Fold 7 MAE: 134.9773608663507\n",
      "Training Fold 8...\n",
      "Fold 8 MAE: 135.9546261633559\n",
      "Training Fold 9...\n",
      "Fold 9 MAE: 138.0593013310739\n",
      "Training Fold 10...\n"
     ]
    },
    {
     "name": "stderr",
     "output_type": "stream",
     "text": [
      "[I 2023-11-09 13:36:32,928] Trial 9 finished with value: 134.19991639368308 and parameters: {'objective': 'reg:squarederror', 'tree_method': 'hist', 'max_depth': 4, 'learning_rate': 0.1811032539053971, 'n_estimators': 874, 'min_child_weight': 9, 'gamma': 0.5943117689883146, 'subsample': 0.75, 'colsample_bytree': 0.8, 'reg_alpha': 0.7409102013225974, 'reg_lambda': 0.26719972279200044, 'random_state': 513}. Best is trial 8 with value: 48.44096078298607.\n"
     ]
    },
    {
     "name": "stdout",
     "output_type": "stream",
     "text": [
      "Fold 10 MAE: 135.39650605808913\n",
      "Mean MAE for all Folds: 134.19991639368308\n",
      "Training Fold 1...\n"
     ]
    },
    {
     "name": "stderr",
     "output_type": "stream",
     "text": [
      "/var/folders/y8/9glnt_6110xftbsjpdqd12280000gp/T/ipykernel_3241/2078315071.py:16: FutureWarning: suggest_discrete_uniform has been deprecated in v3.0.0. This feature will be removed in v6.0.0. See https://github.com/optuna/optuna/releases/tag/v3.0.0. Use suggest_float(..., step=...) instead.\n",
      "  \"subsample\": trial.suggest_discrete_uniform(\"subsample\", 0.6, 1.0, 0.05),  # Reduce the range\n",
      "/var/folders/y8/9glnt_6110xftbsjpdqd12280000gp/T/ipykernel_3241/2078315071.py:17: FutureWarning: suggest_discrete_uniform has been deprecated in v3.0.0. This feature will be removed in v6.0.0. See https://github.com/optuna/optuna/releases/tag/v3.0.0. Use suggest_float(..., step=...) instead.\n",
      "  \"colsample_bytree\": trial.suggest_discrete_uniform(\"colsample_bytree\", 0.6, 1.0, 0.05),  # Reduce the range\n"
     ]
    },
    {
     "name": "stdout",
     "output_type": "stream",
     "text": [
      "Fold 1 MAE: 49.96251481036045\n",
      "Training Fold 2...\n",
      "Fold 2 MAE: 46.101944427475836\n",
      "Training Fold 3...\n",
      "Fold 3 MAE: 48.949642672476344\n",
      "Training Fold 4...\n",
      "Fold 4 MAE: 43.44656651217412\n",
      "Training Fold 5...\n",
      "Fold 5 MAE: 47.66318021566846\n",
      "Training Fold 6...\n",
      "Fold 6 MAE: 49.10960296869999\n",
      "Training Fold 7...\n",
      "Fold 7 MAE: 47.93070663676882\n",
      "Training Fold 8...\n",
      "Fold 8 MAE: 47.02295593183927\n",
      "Training Fold 9...\n",
      "Fold 9 MAE: 49.87085821613073\n",
      "Training Fold 10...\n"
     ]
    },
    {
     "name": "stderr",
     "output_type": "stream",
     "text": [
      "[I 2023-11-09 13:36:39,043] Trial 10 finished with value: 47.85599521128527 and parameters: {'objective': 'reg:squarederror', 'tree_method': 'approx', 'max_depth': 5, 'learning_rate': 0.952557874017854, 'n_estimators': 110, 'min_child_weight': 10, 'gamma': 0.33132399379907673, 'subsample': 1.0, 'colsample_bytree': 0.8, 'reg_alpha': 0.17438013941071479, 'reg_lambda': 0.7204496263073541, 'random_state': 457}. Best is trial 10 with value: 47.85599521128527.\n"
     ]
    },
    {
     "name": "stdout",
     "output_type": "stream",
     "text": [
      "Fold 10 MAE: 48.50197972125868\n",
      "Mean MAE for all Folds: 47.85599521128527\n",
      "Training Fold 1...\n"
     ]
    },
    {
     "name": "stderr",
     "output_type": "stream",
     "text": [
      "/var/folders/y8/9glnt_6110xftbsjpdqd12280000gp/T/ipykernel_3241/2078315071.py:16: FutureWarning: suggest_discrete_uniform has been deprecated in v3.0.0. This feature will be removed in v6.0.0. See https://github.com/optuna/optuna/releases/tag/v3.0.0. Use suggest_float(..., step=...) instead.\n",
      "  \"subsample\": trial.suggest_discrete_uniform(\"subsample\", 0.6, 1.0, 0.05),  # Reduce the range\n",
      "/var/folders/y8/9glnt_6110xftbsjpdqd12280000gp/T/ipykernel_3241/2078315071.py:17: FutureWarning: suggest_discrete_uniform has been deprecated in v3.0.0. This feature will be removed in v6.0.0. See https://github.com/optuna/optuna/releases/tag/v3.0.0. Use suggest_float(..., step=...) instead.\n",
      "  \"colsample_bytree\": trial.suggest_discrete_uniform(\"colsample_bytree\", 0.6, 1.0, 0.05),  # Reduce the range\n"
     ]
    },
    {
     "name": "stdout",
     "output_type": "stream",
     "text": [
      "Fold 1 MAE: 45.87591172028885\n",
      "Training Fold 2...\n",
      "Fold 2 MAE: 41.76867064046716\n",
      "Training Fold 3...\n",
      "Fold 3 MAE: 45.59236534856478\n",
      "Training Fold 4...\n",
      "Fold 4 MAE: 39.16486150430409\n",
      "Training Fold 5...\n",
      "Fold 5 MAE: 44.34429456396766\n",
      "Training Fold 6...\n",
      "Fold 6 MAE: 45.45885416520687\n",
      "Training Fold 7...\n",
      "Fold 7 MAE: 44.963732724794816\n",
      "Training Fold 8...\n",
      "Fold 8 MAE: 44.323802298087735\n",
      "Training Fold 9...\n",
      "Fold 9 MAE: 46.2207565345894\n",
      "Training Fold 10...\n"
     ]
    },
    {
     "name": "stderr",
     "output_type": "stream",
     "text": [
      "[I 2023-11-09 13:36:46,131] Trial 11 finished with value: 44.24390214036191 and parameters: {'objective': 'reg:squarederror', 'tree_method': 'approx', 'max_depth': 6, 'learning_rate': 0.9894362657418949, 'n_estimators': 88, 'min_child_weight': 10, 'gamma': 0.3260673204097282, 'subsample': 1.0, 'colsample_bytree': 0.8, 'reg_alpha': 0.12517041621069258, 'reg_lambda': 0.7155005388574376, 'random_state': 504}. Best is trial 11 with value: 44.24390214036191.\n"
     ]
    },
    {
     "name": "stdout",
     "output_type": "stream",
     "text": [
      "Fold 10 MAE: 44.725771903347756\n",
      "Mean MAE for all Folds: 44.24390214036191\n",
      "Training Fold 1...\n"
     ]
    },
    {
     "name": "stderr",
     "output_type": "stream",
     "text": [
      "/var/folders/y8/9glnt_6110xftbsjpdqd12280000gp/T/ipykernel_3241/2078315071.py:16: FutureWarning: suggest_discrete_uniform has been deprecated in v3.0.0. This feature will be removed in v6.0.0. See https://github.com/optuna/optuna/releases/tag/v3.0.0. Use suggest_float(..., step=...) instead.\n",
      "  \"subsample\": trial.suggest_discrete_uniform(\"subsample\", 0.6, 1.0, 0.05),  # Reduce the range\n",
      "/var/folders/y8/9glnt_6110xftbsjpdqd12280000gp/T/ipykernel_3241/2078315071.py:17: FutureWarning: suggest_discrete_uniform has been deprecated in v3.0.0. This feature will be removed in v6.0.0. See https://github.com/optuna/optuna/releases/tag/v3.0.0. Use suggest_float(..., step=...) instead.\n",
      "  \"colsample_bytree\": trial.suggest_discrete_uniform(\"colsample_bytree\", 0.6, 1.0, 0.05),  # Reduce the range\n"
     ]
    },
    {
     "name": "stdout",
     "output_type": "stream",
     "text": [
      "Fold 1 MAE: 47.65518130022954\n",
      "Training Fold 2...\n",
      "Fold 2 MAE: 44.41583344844173\n",
      "Training Fold 3...\n",
      "Fold 3 MAE: 47.47667122697783\n",
      "Training Fold 4...\n",
      "Fold 4 MAE: 43.62925394772763\n",
      "Training Fold 5...\n",
      "Fold 5 MAE: 47.92955834126545\n",
      "Training Fold 6...\n",
      "Fold 6 MAE: 47.97959882132597\n",
      "Training Fold 7...\n",
      "Fold 7 MAE: 48.367384235347515\n",
      "Training Fold 8...\n",
      "Fold 8 MAE: 48.165572692591624\n",
      "Training Fold 9...\n",
      "Fold 9 MAE: 48.146036156721394\n",
      "Training Fold 10...\n"
     ]
    },
    {
     "name": "stderr",
     "output_type": "stream",
     "text": [
      "[I 2023-11-09 13:36:52,636] Trial 12 finished with value: 47.25480608079283 and parameters: {'objective': 'reg:squarederror', 'tree_method': 'approx', 'max_depth': 5, 'learning_rate': 0.976321953503796, 'n_estimators': 117, 'min_child_weight': 10, 'gamma': 0.33377615135443905, 'subsample': 0.95, 'colsample_bytree': 0.85, 'reg_alpha': 0.1049432558443359, 'reg_lambda': 0.810958949384637, 'random_state': 441}. Best is trial 11 with value: 44.24390214036191.\n"
     ]
    },
    {
     "name": "stdout",
     "output_type": "stream",
     "text": [
      "Fold 10 MAE: 48.782970637299606\n",
      "Mean MAE for all Folds: 47.25480608079283\n",
      "Training Fold 1...\n"
     ]
    },
    {
     "name": "stderr",
     "output_type": "stream",
     "text": [
      "/var/folders/y8/9glnt_6110xftbsjpdqd12280000gp/T/ipykernel_3241/2078315071.py:16: FutureWarning: suggest_discrete_uniform has been deprecated in v3.0.0. This feature will be removed in v6.0.0. See https://github.com/optuna/optuna/releases/tag/v3.0.0. Use suggest_float(..., step=...) instead.\n",
      "  \"subsample\": trial.suggest_discrete_uniform(\"subsample\", 0.6, 1.0, 0.05),  # Reduce the range\n",
      "/var/folders/y8/9glnt_6110xftbsjpdqd12280000gp/T/ipykernel_3241/2078315071.py:17: FutureWarning: suggest_discrete_uniform has been deprecated in v3.0.0. This feature will be removed in v6.0.0. See https://github.com/optuna/optuna/releases/tag/v3.0.0. Use suggest_float(..., step=...) instead.\n",
      "  \"colsample_bytree\": trial.suggest_discrete_uniform(\"colsample_bytree\", 0.6, 1.0, 0.05),  # Reduce the range\n"
     ]
    },
    {
     "name": "stdout",
     "output_type": "stream",
     "text": [
      "Fold 1 MAE: 62.319720538735766\n",
      "Training Fold 2...\n",
      "Fold 2 MAE: 57.83781327331175\n",
      "Training Fold 3...\n",
      "Fold 3 MAE: 60.637576195216496\n",
      "Training Fold 4...\n",
      "Fold 4 MAE: 56.29461686736508\n",
      "Training Fold 5...\n",
      "Fold 5 MAE: 61.30695085853969\n",
      "Training Fold 6...\n",
      "Fold 6 MAE: 61.93972906418078\n",
      "Training Fold 7...\n",
      "Fold 7 MAE: 61.47312796595594\n",
      "Training Fold 8...\n",
      "Fold 8 MAE: 61.102834504810346\n",
      "Training Fold 9...\n",
      "Fold 9 MAE: 63.98594561656857\n",
      "Training Fold 10...\n"
     ]
    },
    {
     "name": "stderr",
     "output_type": "stream",
     "text": [
      "[I 2023-11-09 13:36:56,700] Trial 13 finished with value: 60.80895976186122 and parameters: {'objective': 'reg:squarederror', 'tree_method': 'approx', 'max_depth': 5, 'learning_rate': 0.8002007013681168, 'n_estimators': 69, 'min_child_weight': 7, 'gamma': 0.26897170548889204, 'subsample': 0.9, 'colsample_bytree': 0.9, 'reg_alpha': 0.030719634649889457, 'reg_lambda': 0.9953820297717033, 'random_state': 414}. Best is trial 11 with value: 44.24390214036191.\n"
     ]
    },
    {
     "name": "stdout",
     "output_type": "stream",
     "text": [
      "Fold 10 MAE: 61.19128273392782\n",
      "Mean MAE for all Folds: 60.80895976186122\n",
      "Training Fold 1...\n"
     ]
    },
    {
     "name": "stderr",
     "output_type": "stream",
     "text": [
      "/var/folders/y8/9glnt_6110xftbsjpdqd12280000gp/T/ipykernel_3241/2078315071.py:16: FutureWarning: suggest_discrete_uniform has been deprecated in v3.0.0. This feature will be removed in v6.0.0. See https://github.com/optuna/optuna/releases/tag/v3.0.0. Use suggest_float(..., step=...) instead.\n",
      "  \"subsample\": trial.suggest_discrete_uniform(\"subsample\", 0.6, 1.0, 0.05),  # Reduce the range\n",
      "/var/folders/y8/9glnt_6110xftbsjpdqd12280000gp/T/ipykernel_3241/2078315071.py:17: FutureWarning: suggest_discrete_uniform has been deprecated in v3.0.0. This feature will be removed in v6.0.0. See https://github.com/optuna/optuna/releases/tag/v3.0.0. Use suggest_float(..., step=...) instead.\n",
      "  \"colsample_bytree\": trial.suggest_discrete_uniform(\"colsample_bytree\", 0.6, 1.0, 0.05),  # Reduce the range\n"
     ]
    },
    {
     "name": "stdout",
     "output_type": "stream",
     "text": [
      "Fold 1 MAE: 63.47663674253712\n",
      "Training Fold 2...\n",
      "Fold 2 MAE: 61.03425319210642\n",
      "Training Fold 3...\n",
      "Fold 3 MAE: 63.48757307338811\n",
      "Training Fold 4...\n",
      "Fold 4 MAE: 59.47727558942721\n",
      "Training Fold 5...\n",
      "Fold 5 MAE: 63.986768848269364\n",
      "Training Fold 6...\n",
      "Fold 6 MAE: 64.8664879232447\n",
      "Training Fold 7...\n",
      "Fold 7 MAE: 64.35689248214676\n",
      "Training Fold 8...\n",
      "Fold 8 MAE: 63.66361828887572\n",
      "Training Fold 9...\n",
      "Fold 9 MAE: 66.51389677651797\n",
      "Training Fold 10...\n"
     ]
    },
    {
     "name": "stderr",
     "output_type": "stream",
     "text": [
      "[I 2023-11-09 13:37:13,807] Trial 14 finished with value: 63.41788991369087 and parameters: {'objective': 'reg:squarederror', 'tree_method': 'approx', 'max_depth': 6, 'learning_rate': 0.756408929260798, 'n_estimators': 246, 'min_child_weight': 10, 'gamma': 0.28151831601047983, 'subsample': 0.95, 'colsample_bytree': 0.85, 'reg_alpha': 0.27806966434336605, 'reg_lambda': 0.7738829278804686, 'random_state': 550}. Best is trial 11 with value: 44.24390214036191.\n"
     ]
    },
    {
     "name": "stdout",
     "output_type": "stream",
     "text": [
      "Fold 10 MAE: 63.31549622039527\n",
      "Mean MAE for all Folds: 63.41788991369087\n",
      "Training Fold 1...\n"
     ]
    },
    {
     "name": "stderr",
     "output_type": "stream",
     "text": [
      "/var/folders/y8/9glnt_6110xftbsjpdqd12280000gp/T/ipykernel_3241/2078315071.py:16: FutureWarning: suggest_discrete_uniform has been deprecated in v3.0.0. This feature will be removed in v6.0.0. See https://github.com/optuna/optuna/releases/tag/v3.0.0. Use suggest_float(..., step=...) instead.\n",
      "  \"subsample\": trial.suggest_discrete_uniform(\"subsample\", 0.6, 1.0, 0.05),  # Reduce the range\n",
      "/var/folders/y8/9glnt_6110xftbsjpdqd12280000gp/T/ipykernel_3241/2078315071.py:17: FutureWarning: suggest_discrete_uniform has been deprecated in v3.0.0. This feature will be removed in v6.0.0. See https://github.com/optuna/optuna/releases/tag/v3.0.0. Use suggest_float(..., step=...) instead.\n",
      "  \"colsample_bytree\": trial.suggest_discrete_uniform(\"colsample_bytree\", 0.6, 1.0, 0.05),  # Reduce the range\n"
     ]
    },
    {
     "name": "stdout",
     "output_type": "stream",
     "text": [
      "Fold 1 MAE: 57.13465068220732\n",
      "Training Fold 2...\n",
      "Fold 2 MAE: 49.15677485817508\n",
      "Training Fold 3...\n",
      "Fold 3 MAE: 54.25112841860646\n",
      "Training Fold 4...\n",
      "Fold 4 MAE: 48.021604386787764\n",
      "Training Fold 5...\n",
      "Fold 5 MAE: 54.692604048259305\n",
      "Training Fold 6...\n",
      "Fold 6 MAE: 55.72144902088131\n",
      "Training Fold 7...\n",
      "Fold 7 MAE: 54.32926999953579\n",
      "Training Fold 8...\n",
      "Fold 8 MAE: 52.23889197093123\n",
      "Training Fold 9...\n",
      "Fold 9 MAE: 55.13455487479789\n",
      "Training Fold 10...\n"
     ]
    },
    {
     "name": "stderr",
     "output_type": "stream",
     "text": [
      "[I 2023-11-09 13:37:21,095] Trial 15 finished with value: 53.582355563775835 and parameters: {'objective': 'reg:squarederror', 'tree_method': 'approx', 'max_depth': 3, 'learning_rate': 0.9857220234144507, 'n_estimators': 233, 'min_child_weight': 1, 'gamma': 0.10121333614280015, 'subsample': 0.9, 'colsample_bytree': 0.85, 'reg_alpha': 0.030301834255935023, 'reg_lambda': 0.6558909475661511, 'random_state': 331}. Best is trial 11 with value: 44.24390214036191.\n"
     ]
    },
    {
     "name": "stdout",
     "output_type": "stream",
     "text": [
      "Fold 10 MAE: 55.14262737757616\n",
      "Mean MAE for all Folds: 53.582355563775835\n",
      "Training Fold 1...\n"
     ]
    },
    {
     "name": "stderr",
     "output_type": "stream",
     "text": [
      "/var/folders/y8/9glnt_6110xftbsjpdqd12280000gp/T/ipykernel_3241/2078315071.py:16: FutureWarning: suggest_discrete_uniform has been deprecated in v3.0.0. This feature will be removed in v6.0.0. See https://github.com/optuna/optuna/releases/tag/v3.0.0. Use suggest_float(..., step=...) instead.\n",
      "  \"subsample\": trial.suggest_discrete_uniform(\"subsample\", 0.6, 1.0, 0.05),  # Reduce the range\n",
      "/var/folders/y8/9glnt_6110xftbsjpdqd12280000gp/T/ipykernel_3241/2078315071.py:17: FutureWarning: suggest_discrete_uniform has been deprecated in v3.0.0. This feature will be removed in v6.0.0. See https://github.com/optuna/optuna/releases/tag/v3.0.0. Use suggest_float(..., step=...) instead.\n",
      "  \"colsample_bytree\": trial.suggest_discrete_uniform(\"colsample_bytree\", 0.6, 1.0, 0.05),  # Reduce the range\n"
     ]
    },
    {
     "name": "stdout",
     "output_type": "stream",
     "text": [
      "Fold 1 MAE: 70.12835224578028\n",
      "Training Fold 2...\n",
      "Fold 2 MAE: 67.0978709389724\n",
      "Training Fold 3...\n",
      "Fold 3 MAE: 70.30397047605639\n",
      "Training Fold 4...\n",
      "Fold 4 MAE: 65.81515819030948\n",
      "Training Fold 5...\n",
      "Fold 5 MAE: 70.4829117558874\n",
      "Training Fold 6...\n",
      "Fold 6 MAE: 69.88955984190511\n",
      "Training Fold 7...\n",
      "Fold 7 MAE: 70.65863266475252\n",
      "Training Fold 8...\n",
      "Fold 8 MAE: 70.03140881668045\n",
      "Training Fold 9...\n",
      "Fold 9 MAE: 73.309848591984\n",
      "Training Fold 10...\n"
     ]
    },
    {
     "name": "stderr",
     "output_type": "stream",
     "text": [
      "[I 2023-11-09 13:37:53,045] Trial 16 finished with value: 69.72837184668292 and parameters: {'objective': 'reg:squarederror', 'tree_method': 'approx', 'max_depth': 6, 'learning_rate': 0.6978392357662546, 'n_estimators': 468, 'min_child_weight': 3, 'gamma': 0.40625217075365583, 'subsample': 0.95, 'colsample_bytree': 0.75, 'reg_alpha': 0.17984537545180757, 'reg_lambda': 0.8018054962110638, 'random_state': 610}. Best is trial 11 with value: 44.24390214036191.\n"
     ]
    },
    {
     "name": "stdout",
     "output_type": "stream",
     "text": [
      "Fold 10 MAE: 69.56600494450123\n",
      "Mean MAE for all Folds: 69.72837184668292\n",
      "Training Fold 1...\n"
     ]
    },
    {
     "name": "stderr",
     "output_type": "stream",
     "text": [
      "/var/folders/y8/9glnt_6110xftbsjpdqd12280000gp/T/ipykernel_3241/2078315071.py:16: FutureWarning: suggest_discrete_uniform has been deprecated in v3.0.0. This feature will be removed in v6.0.0. See https://github.com/optuna/optuna/releases/tag/v3.0.0. Use suggest_float(..., step=...) instead.\n",
      "  \"subsample\": trial.suggest_discrete_uniform(\"subsample\", 0.6, 1.0, 0.05),  # Reduce the range\n",
      "/var/folders/y8/9glnt_6110xftbsjpdqd12280000gp/T/ipykernel_3241/2078315071.py:17: FutureWarning: suggest_discrete_uniform has been deprecated in v3.0.0. This feature will be removed in v6.0.0. See https://github.com/optuna/optuna/releases/tag/v3.0.0. Use suggest_float(..., step=...) instead.\n",
      "  \"colsample_bytree\": trial.suggest_discrete_uniform(\"colsample_bytree\", 0.6, 1.0, 0.05),  # Reduce the range\n"
     ]
    },
    {
     "name": "stdout",
     "output_type": "stream",
     "text": [
      "Fold 1 MAE: 60.847545819239315\n",
      "Training Fold 2...\n",
      "Fold 2 MAE: 57.66067393219364\n",
      "Training Fold 3...\n",
      "Fold 3 MAE: 59.87176126881548\n",
      "Training Fold 4...\n",
      "Fold 4 MAE: 55.41463002766728\n",
      "Training Fold 5...\n",
      "Fold 5 MAE: 59.85733234013677\n",
      "Training Fold 6...\n",
      "Fold 6 MAE: 60.72633955094029\n",
      "Training Fold 7...\n",
      "Fold 7 MAE: 60.51045765718305\n",
      "Training Fold 8...\n",
      "Fold 8 MAE: 59.27426884510007\n",
      "Training Fold 9...\n",
      "Fold 9 MAE: 61.472303941111086\n",
      "Training Fold 10...\n"
     ]
    },
    {
     "name": "stderr",
     "output_type": "stream",
     "text": [
      "[I 2023-11-09 13:38:00,934] Trial 17 finished with value: 59.50830310717724 and parameters: {'objective': 'reg:squarederror', 'tree_method': 'approx', 'max_depth': 4, 'learning_rate': 0.837974478291523, 'n_estimators': 200, 'min_child_weight': 8, 'gamma': 0.21364558771404252, 'subsample': 0.95, 'colsample_bytree': 0.85, 'reg_alpha': 0.9634356693514627, 'reg_lambda': 0.8689459950413727, 'random_state': 353}. Best is trial 11 with value: 44.24390214036191.\n"
     ]
    },
    {
     "name": "stdout",
     "output_type": "stream",
     "text": [
      "Fold 10 MAE: 59.44771768938538\n",
      "Mean MAE for all Folds: 59.50830310717724\n",
      "Training Fold 1...\n"
     ]
    },
    {
     "name": "stderr",
     "output_type": "stream",
     "text": [
      "/var/folders/y8/9glnt_6110xftbsjpdqd12280000gp/T/ipykernel_3241/2078315071.py:16: FutureWarning: suggest_discrete_uniform has been deprecated in v3.0.0. This feature will be removed in v6.0.0. See https://github.com/optuna/optuna/releases/tag/v3.0.0. Use suggest_float(..., step=...) instead.\n",
      "  \"subsample\": trial.suggest_discrete_uniform(\"subsample\", 0.6, 1.0, 0.05),  # Reduce the range\n",
      "/var/folders/y8/9glnt_6110xftbsjpdqd12280000gp/T/ipykernel_3241/2078315071.py:17: FutureWarning: suggest_discrete_uniform has been deprecated in v3.0.0. This feature will be removed in v6.0.0. See https://github.com/optuna/optuna/releases/tag/v3.0.0. Use suggest_float(..., step=...) instead.\n",
      "  \"colsample_bytree\": trial.suggest_discrete_uniform(\"colsample_bytree\", 0.6, 1.0, 0.05),  # Reduce the range\n"
     ]
    },
    {
     "name": "stdout",
     "output_type": "stream",
     "text": [
      "Fold 1 MAE: 70.28780664726327\n",
      "Training Fold 2...\n",
      "Fold 2 MAE: 68.5523358645252\n",
      "Training Fold 3...\n",
      "Fold 3 MAE: 71.58561305081616\n",
      "Training Fold 4...\n",
      "Fold 4 MAE: 66.83415113812126\n",
      "Training Fold 5...\n",
      "Fold 5 MAE: 71.95532277490437\n",
      "Training Fold 6...\n",
      "Fold 6 MAE: 71.71632152626522\n",
      "Training Fold 7...\n",
      "Fold 7 MAE: 71.90220261864792\n",
      "Training Fold 8...\n",
      "Fold 8 MAE: 71.2900070691757\n",
      "Training Fold 9...\n",
      "Fold 9 MAE: 74.36172892321805\n",
      "Training Fold 10...\n"
     ]
    },
    {
     "name": "stderr",
     "output_type": "stream",
     "text": [
      "[I 2023-11-09 13:38:33,571] Trial 18 finished with value: 70.99034575865804 and parameters: {'objective': 'reg:squarederror', 'tree_method': 'approx', 'max_depth': 8, 'learning_rate': 0.6755361795065347, 'n_estimators': 342, 'min_child_weight': 9, 'gamma': 0.3395588679517268, 'subsample': 0.9, 'colsample_bytree': 0.75, 'reg_alpha': 0.31422603321522236, 'reg_lambda': 0.5656307710738855, 'random_state': 850}. Best is trial 11 with value: 44.24390214036191.\n"
     ]
    },
    {
     "name": "stdout",
     "output_type": "stream",
     "text": [
      "Fold 10 MAE: 71.41796797364327\n",
      "Mean MAE for all Folds: 70.99034575865804\n",
      "Training Fold 1...\n"
     ]
    },
    {
     "name": "stderr",
     "output_type": "stream",
     "text": [
      "/var/folders/y8/9glnt_6110xftbsjpdqd12280000gp/T/ipykernel_3241/2078315071.py:16: FutureWarning: suggest_discrete_uniform has been deprecated in v3.0.0. This feature will be removed in v6.0.0. See https://github.com/optuna/optuna/releases/tag/v3.0.0. Use suggest_float(..., step=...) instead.\n",
      "  \"subsample\": trial.suggest_discrete_uniform(\"subsample\", 0.6, 1.0, 0.05),  # Reduce the range\n",
      "/var/folders/y8/9glnt_6110xftbsjpdqd12280000gp/T/ipykernel_3241/2078315071.py:17: FutureWarning: suggest_discrete_uniform has been deprecated in v3.0.0. This feature will be removed in v6.0.0. See https://github.com/optuna/optuna/releases/tag/v3.0.0. Use suggest_float(..., step=...) instead.\n",
      "  \"colsample_bytree\": trial.suggest_discrete_uniform(\"colsample_bytree\", 0.6, 1.0, 0.05),  # Reduce the range\n"
     ]
    },
    {
     "name": "stdout",
     "output_type": "stream",
     "text": [
      "Fold 1 MAE: 58.395792493849\n",
      "Training Fold 2...\n",
      "Fold 2 MAE: 54.75991466360871\n",
      "Training Fold 3...\n",
      "Fold 3 MAE: 57.93256273336882\n",
      "Training Fold 4...\n",
      "Fold 4 MAE: 51.572438928656\n",
      "Training Fold 5...\n",
      "Fold 5 MAE: 57.140551998046234\n",
      "Training Fold 6...\n",
      "Fold 6 MAE: 57.36825228999389\n",
      "Training Fold 7...\n",
      "Fold 7 MAE: 57.1074410557819\n",
      "Training Fold 8...\n",
      "Fold 8 MAE: 55.8297270011902\n",
      "Training Fold 9...\n",
      "Fold 9 MAE: 58.95663610433865\n",
      "Training Fold 10...\n"
     ]
    },
    {
     "name": "stderr",
     "output_type": "stream",
     "text": [
      "[I 2023-11-09 13:39:00,245] Trial 19 finished with value: 56.57535038175446 and parameters: {'objective': 'reg:squarederror', 'tree_method': 'approx', 'max_depth': 4, 'learning_rate': 0.8646709460948028, 'n_estimators': 621, 'min_child_weight': 7, 'gamma': 0.266671773200405, 'subsample': 0.6, 'colsample_bytree': 0.9, 'reg_alpha': 0.08954089726757905, 'reg_lambda': 0.6832801060601814, 'random_state': 155}. Best is trial 11 with value: 44.24390214036191.\n"
     ]
    },
    {
     "name": "stdout",
     "output_type": "stream",
     "text": [
      "Fold 10 MAE: 56.690186548711196\n",
      "Mean MAE for all Folds: 56.57535038175446\n",
      "Training Fold 1...\n"
     ]
    },
    {
     "name": "stderr",
     "output_type": "stream",
     "text": [
      "/var/folders/y8/9glnt_6110xftbsjpdqd12280000gp/T/ipykernel_3241/2078315071.py:16: FutureWarning: suggest_discrete_uniform has been deprecated in v3.0.0. This feature will be removed in v6.0.0. See https://github.com/optuna/optuna/releases/tag/v3.0.0. Use suggest_float(..., step=...) instead.\n",
      "  \"subsample\": trial.suggest_discrete_uniform(\"subsample\", 0.6, 1.0, 0.05),  # Reduce the range\n",
      "/var/folders/y8/9glnt_6110xftbsjpdqd12280000gp/T/ipykernel_3241/2078315071.py:17: FutureWarning: suggest_discrete_uniform has been deprecated in v3.0.0. This feature will be removed in v6.0.0. See https://github.com/optuna/optuna/releases/tag/v3.0.0. Use suggest_float(..., step=...) instead.\n",
      "  \"colsample_bytree\": trial.suggest_discrete_uniform(\"colsample_bytree\", 0.6, 1.0, 0.05),  # Reduce the range\n"
     ]
    },
    {
     "name": "stdout",
     "output_type": "stream",
     "text": [
      "Fold 1 MAE: 151.66393783338842\n",
      "Training Fold 2...\n",
      "Fold 2 MAE: 151.72307142044482\n",
      "Training Fold 3...\n",
      "Fold 3 MAE: 151.78568078232198\n",
      "Training Fold 4...\n",
      "Fold 4 MAE: 151.57620299693681\n",
      "Training Fold 5...\n",
      "Fold 5 MAE: 156.8710195821434\n",
      "Training Fold 6...\n",
      "Fold 6 MAE: 157.0524676859415\n",
      "Training Fold 7...\n",
      "Fold 7 MAE: 155.30465231811894\n",
      "Training Fold 8...\n",
      "Fold 8 MAE: 156.86626670952649\n",
      "Training Fold 9...\n",
      "Fold 9 MAE: 158.50980236650324\n",
      "Training Fold 10...\n"
     ]
    },
    {
     "name": "stderr",
     "output_type": "stream",
     "text": [
      "[I 2023-11-09 13:39:10,193] Trial 20 finished with value: 154.82028846815905 and parameters: {'objective': 'reg:squarederror', 'tree_method': 'approx', 'max_depth': 6, 'learning_rate': 0.023720317951929137, 'n_estimators': 149, 'min_child_weight': 9, 'gamma': 0.4609576675052128, 'subsample': 1.0, 'colsample_bytree': 0.9, 'reg_alpha': 0.22702413786603687, 'reg_lambda': 0.9240370945075014, 'random_state': 415}. Best is trial 11 with value: 44.24390214036191.\n"
     ]
    },
    {
     "name": "stdout",
     "output_type": "stream",
     "text": [
      "Fold 10 MAE: 156.84978298626493\n",
      "Mean MAE for all Folds: 154.82028846815905\n",
      "Training Fold 1...\n"
     ]
    },
    {
     "name": "stderr",
     "output_type": "stream",
     "text": [
      "/var/folders/y8/9glnt_6110xftbsjpdqd12280000gp/T/ipykernel_3241/2078315071.py:16: FutureWarning: suggest_discrete_uniform has been deprecated in v3.0.0. This feature will be removed in v6.0.0. See https://github.com/optuna/optuna/releases/tag/v3.0.0. Use suggest_float(..., step=...) instead.\n",
      "  \"subsample\": trial.suggest_discrete_uniform(\"subsample\", 0.6, 1.0, 0.05),  # Reduce the range\n",
      "/var/folders/y8/9glnt_6110xftbsjpdqd12280000gp/T/ipykernel_3241/2078315071.py:17: FutureWarning: suggest_discrete_uniform has been deprecated in v3.0.0. This feature will be removed in v6.0.0. See https://github.com/optuna/optuna/releases/tag/v3.0.0. Use suggest_float(..., step=...) instead.\n",
      "  \"colsample_bytree\": trial.suggest_discrete_uniform(\"colsample_bytree\", 0.6, 1.0, 0.05),  # Reduce the range\n"
     ]
    },
    {
     "name": "stdout",
     "output_type": "stream",
     "text": [
      "Fold 1 MAE: 46.553469583822526\n",
      "Training Fold 2...\n",
      "Fold 2 MAE: 43.14936744820316\n",
      "Training Fold 3...\n",
      "Fold 3 MAE: 46.03268704098397\n",
      "Training Fold 4...\n",
      "Fold 4 MAE: 41.04172445133014\n",
      "Training Fold 5...\n",
      "Fold 5 MAE: 45.1995924535907\n",
      "Training Fold 6...\n",
      "Fold 6 MAE: 46.66322778994944\n",
      "Training Fold 7...\n",
      "Fold 7 MAE: 45.544008855798104\n",
      "Training Fold 8...\n",
      "Fold 8 MAE: 43.91703702550641\n",
      "Training Fold 9...\n",
      "Fold 9 MAE: 47.36780949251632\n",
      "Training Fold 10...\n"
     ]
    },
    {
     "name": "stderr",
     "output_type": "stream",
     "text": [
      "[I 2023-11-09 13:39:13,062] Trial 21 finished with value: 45.12961581593653 and parameters: {'objective': 'reg:squarederror', 'tree_method': 'approx', 'max_depth': 5, 'learning_rate': 0.993909457447547, 'n_estimators': 52, 'min_child_weight': 10, 'gamma': 0.341641248837698, 'subsample': 1.0, 'colsample_bytree': 0.8, 'reg_alpha': 0.13606425036468056, 'reg_lambda': 0.7603257928914835, 'random_state': 427}. Best is trial 11 with value: 44.24390214036191.\n"
     ]
    },
    {
     "name": "stdout",
     "output_type": "stream",
     "text": [
      "Fold 10 MAE: 45.82723401766456\n",
      "Mean MAE for all Folds: 45.12961581593653\n",
      "Training Fold 1...\n"
     ]
    },
    {
     "name": "stderr",
     "output_type": "stream",
     "text": [
      "/var/folders/y8/9glnt_6110xftbsjpdqd12280000gp/T/ipykernel_3241/2078315071.py:16: FutureWarning: suggest_discrete_uniform has been deprecated in v3.0.0. This feature will be removed in v6.0.0. See https://github.com/optuna/optuna/releases/tag/v3.0.0. Use suggest_float(..., step=...) instead.\n",
      "  \"subsample\": trial.suggest_discrete_uniform(\"subsample\", 0.6, 1.0, 0.05),  # Reduce the range\n",
      "/var/folders/y8/9glnt_6110xftbsjpdqd12280000gp/T/ipykernel_3241/2078315071.py:17: FutureWarning: suggest_discrete_uniform has been deprecated in v3.0.0. This feature will be removed in v6.0.0. See https://github.com/optuna/optuna/releases/tag/v3.0.0. Use suggest_float(..., step=...) instead.\n",
      "  \"colsample_bytree\": trial.suggest_discrete_uniform(\"colsample_bytree\", 0.6, 1.0, 0.05),  # Reduce the range\n"
     ]
    },
    {
     "name": "stdout",
     "output_type": "stream",
     "text": [
      "Fold 1 MAE: 47.680039785592584\n",
      "Training Fold 2...\n",
      "Fold 2 MAE: 42.59212838740508\n",
      "Training Fold 3...\n",
      "Fold 3 MAE: 46.21170852522356\n",
      "Training Fold 4...\n",
      "Fold 4 MAE: 41.40143132967531\n",
      "Training Fold 5...\n",
      "Fold 5 MAE: 44.799411465019624\n",
      "Training Fold 6...\n",
      "Fold 6 MAE: 47.46374401170321\n",
      "Training Fold 7...\n",
      "Fold 7 MAE: 45.63013237790399\n",
      "Training Fold 8...\n",
      "Fold 8 MAE: 45.22201088541584\n",
      "Training Fold 9...\n",
      "Fold 9 MAE: 48.05957567583317\n",
      "Training Fold 10...\n"
     ]
    },
    {
     "name": "stderr",
     "output_type": "stream",
     "text": [
      "[I 2023-11-09 13:39:18,784] Trial 22 finished with value: 45.554285751951 and parameters: {'objective': 'reg:squarederror', 'tree_method': 'approx', 'max_depth': 5, 'learning_rate': 0.9843927730631381, 'n_estimators': 107, 'min_child_weight': 10, 'gamma': 0.3453369286506483, 'subsample': 0.95, 'colsample_bytree': 0.8, 'reg_alpha': 0.12995644231127776, 'reg_lambda': 0.7629999454122982, 'random_state': 600}. Best is trial 11 with value: 44.24390214036191.\n"
     ]
    },
    {
     "name": "stdout",
     "output_type": "stream",
     "text": [
      "Fold 10 MAE: 46.482675075737646\n",
      "Mean MAE for all Folds: 45.554285751951\n",
      "Training Fold 1...\n"
     ]
    },
    {
     "name": "stderr",
     "output_type": "stream",
     "text": [
      "/var/folders/y8/9glnt_6110xftbsjpdqd12280000gp/T/ipykernel_3241/2078315071.py:16: FutureWarning: suggest_discrete_uniform has been deprecated in v3.0.0. This feature will be removed in v6.0.0. See https://github.com/optuna/optuna/releases/tag/v3.0.0. Use suggest_float(..., step=...) instead.\n",
      "  \"subsample\": trial.suggest_discrete_uniform(\"subsample\", 0.6, 1.0, 0.05),  # Reduce the range\n",
      "/var/folders/y8/9glnt_6110xftbsjpdqd12280000gp/T/ipykernel_3241/2078315071.py:17: FutureWarning: suggest_discrete_uniform has been deprecated in v3.0.0. This feature will be removed in v6.0.0. See https://github.com/optuna/optuna/releases/tag/v3.0.0. Use suggest_float(..., step=...) instead.\n",
      "  \"colsample_bytree\": trial.suggest_discrete_uniform(\"colsample_bytree\", 0.6, 1.0, 0.05),  # Reduce the range\n"
     ]
    },
    {
     "name": "stdout",
     "output_type": "stream",
     "text": [
      "Fold 1 MAE: 44.7367381479877\n",
      "Training Fold 2...\n",
      "Fold 2 MAE: 41.533499147539054\n",
      "Training Fold 3...\n",
      "Fold 3 MAE: 44.203980833849045\n",
      "Training Fold 4...\n",
      "Fold 4 MAE: 39.09397045243543\n",
      "Training Fold 5...\n",
      "Fold 5 MAE: 43.4078676214391\n",
      "Training Fold 6...\n",
      "Fold 6 MAE: 44.731594673672475\n",
      "Training Fold 7...\n",
      "Fold 7 MAE: 44.03722247620723\n",
      "Training Fold 8...\n",
      "Fold 8 MAE: 42.34960258293729\n",
      "Training Fold 9...\n",
      "Fold 9 MAE: 45.2864596629305\n",
      "Training Fold 10...\n"
     ]
    },
    {
     "name": "stderr",
     "output_type": "stream",
     "text": [
      "[I 2023-11-09 13:39:41,036] Trial 23 finished with value: 43.3327189769504 and parameters: {'objective': 'reg:squarederror', 'tree_method': 'approx', 'max_depth': 6, 'learning_rate': 0.9968551686915409, 'n_estimators': 323, 'min_child_weight': 9, 'gamma': 0.37755503258256806, 'subsample': 1.0, 'colsample_bytree': 0.8, 'reg_alpha': 0.3261091382557447, 'reg_lambda': 0.7341663346367412, 'random_state': 590}. Best is trial 23 with value: 43.3327189769504.\n"
     ]
    },
    {
     "name": "stdout",
     "output_type": "stream",
     "text": [
      "Fold 10 MAE: 43.94625417050621\n",
      "Mean MAE for all Folds: 43.3327189769504\n",
      "Training Fold 1...\n"
     ]
    },
    {
     "name": "stderr",
     "output_type": "stream",
     "text": [
      "/var/folders/y8/9glnt_6110xftbsjpdqd12280000gp/T/ipykernel_3241/2078315071.py:16: FutureWarning: suggest_discrete_uniform has been deprecated in v3.0.0. This feature will be removed in v6.0.0. See https://github.com/optuna/optuna/releases/tag/v3.0.0. Use suggest_float(..., step=...) instead.\n",
      "  \"subsample\": trial.suggest_discrete_uniform(\"subsample\", 0.6, 1.0, 0.05),  # Reduce the range\n",
      "/var/folders/y8/9glnt_6110xftbsjpdqd12280000gp/T/ipykernel_3241/2078315071.py:17: FutureWarning: suggest_discrete_uniform has been deprecated in v3.0.0. This feature will be removed in v6.0.0. See https://github.com/optuna/optuna/releases/tag/v3.0.0. Use suggest_float(..., step=...) instead.\n",
      "  \"colsample_bytree\": trial.suggest_discrete_uniform(\"colsample_bytree\", 0.6, 1.0, 0.05),  # Reduce the range\n"
     ]
    },
    {
     "name": "stdout",
     "output_type": "stream",
     "text": [
      "Fold 1 MAE: 54.60166854357071\n",
      "Training Fold 2...\n",
      "Fold 2 MAE: 51.8552852978087\n",
      "Training Fold 3...\n",
      "Fold 3 MAE: 54.7752134479665\n",
      "Training Fold 4...\n",
      "Fold 4 MAE: 49.64116438643811\n",
      "Training Fold 5...\n",
      "Fold 5 MAE: 54.016884790806614\n",
      "Training Fold 6...\n",
      "Fold 6 MAE: 55.22130816243567\n",
      "Training Fold 7...\n",
      "Fold 7 MAE: 54.64980072056059\n",
      "Training Fold 8...\n",
      "Fold 8 MAE: 53.60824023560816\n",
      "Training Fold 9...\n",
      "Fold 9 MAE: 57.56733241207386\n",
      "Training Fold 10...\n"
     ]
    },
    {
     "name": "stderr",
     "output_type": "stream",
     "text": [
      "[I 2023-11-09 13:40:03,776] Trial 24 finished with value: 53.97938506731168 and parameters: {'objective': 'reg:squarederror', 'tree_method': 'approx', 'max_depth': 6, 'learning_rate': 0.8529872553739466, 'n_estimators': 337, 'min_child_weight': 9, 'gamma': 0.39934297455149986, 'subsample': 1.0, 'colsample_bytree': 0.7, 'reg_alpha': 0.2895495710393844, 'reg_lambda': 0.7000433380459693, 'random_state': 691}. Best is trial 23 with value: 43.3327189769504.\n"
     ]
    },
    {
     "name": "stdout",
     "output_type": "stream",
     "text": [
      "Fold 10 MAE: 53.85695267584799\n",
      "Mean MAE for all Folds: 53.97938506731168\n",
      "Training Fold 1...\n"
     ]
    },
    {
     "name": "stderr",
     "output_type": "stream",
     "text": [
      "/var/folders/y8/9glnt_6110xftbsjpdqd12280000gp/T/ipykernel_3241/2078315071.py:16: FutureWarning: suggest_discrete_uniform has been deprecated in v3.0.0. This feature will be removed in v6.0.0. See https://github.com/optuna/optuna/releases/tag/v3.0.0. Use suggest_float(..., step=...) instead.\n",
      "  \"subsample\": trial.suggest_discrete_uniform(\"subsample\", 0.6, 1.0, 0.05),  # Reduce the range\n",
      "/var/folders/y8/9glnt_6110xftbsjpdqd12280000gp/T/ipykernel_3241/2078315071.py:17: FutureWarning: suggest_discrete_uniform has been deprecated in v3.0.0. This feature will be removed in v6.0.0. See https://github.com/optuna/optuna/releases/tag/v3.0.0. Use suggest_float(..., step=...) instead.\n",
      "  \"colsample_bytree\": trial.suggest_discrete_uniform(\"colsample_bytree\", 0.6, 1.0, 0.05),  # Reduce the range\n"
     ]
    },
    {
     "name": "stdout",
     "output_type": "stream",
     "text": [
      "Fold 1 MAE: 50.60368605898947\n",
      "Training Fold 2...\n",
      "Fold 2 MAE: 46.56059940914373\n",
      "Training Fold 3...\n",
      "Fold 3 MAE: 49.34067817167454\n",
      "Training Fold 4...\n",
      "Fold 4 MAE: 45.47968041915548\n",
      "Training Fold 5...\n",
      "Fold 5 MAE: 49.46426514104054\n",
      "Training Fold 6...\n",
      "Fold 6 MAE: 50.41411416281387\n",
      "Training Fold 7...\n",
      "Fold 7 MAE: 49.99650087448766\n",
      "Training Fold 8...\n",
      "Fold 8 MAE: 48.27849907641686\n",
      "Training Fold 9...\n",
      "Fold 9 MAE: 51.378560053392164\n",
      "Training Fold 10...\n"
     ]
    },
    {
     "name": "stderr",
     "output_type": "stream",
     "text": [
      "[I 2023-11-09 13:40:28,101] Trial 25 finished with value: 49.06207875910085 and parameters: {'objective': 'reg:squarederror', 'tree_method': 'approx', 'max_depth': 7, 'learning_rate': 0.8998410313388785, 'n_estimators': 282, 'min_child_weight': 8, 'gamma': 0.21196438025466624, 'subsample': 0.9, 'colsample_bytree': 0.8, 'reg_alpha': 0.2032824657071358, 'reg_lambda': 0.6120349611838414, 'random_state': 521}. Best is trial 23 with value: 43.3327189769504.\n"
     ]
    },
    {
     "name": "stdout",
     "output_type": "stream",
     "text": [
      "Fold 10 MAE: 49.10420422389424\n",
      "Mean MAE for all Folds: 49.06207875910085\n",
      "Training Fold 1...\n"
     ]
    },
    {
     "name": "stderr",
     "output_type": "stream",
     "text": [
      "/var/folders/y8/9glnt_6110xftbsjpdqd12280000gp/T/ipykernel_3241/2078315071.py:16: FutureWarning: suggest_discrete_uniform has been deprecated in v3.0.0. This feature will be removed in v6.0.0. See https://github.com/optuna/optuna/releases/tag/v3.0.0. Use suggest_float(..., step=...) instead.\n",
      "  \"subsample\": trial.suggest_discrete_uniform(\"subsample\", 0.6, 1.0, 0.05),  # Reduce the range\n",
      "/var/folders/y8/9glnt_6110xftbsjpdqd12280000gp/T/ipykernel_3241/2078315071.py:17: FutureWarning: suggest_discrete_uniform has been deprecated in v3.0.0. This feature will be removed in v6.0.0. See https://github.com/optuna/optuna/releases/tag/v3.0.0. Use suggest_float(..., step=...) instead.\n",
      "  \"colsample_bytree\": trial.suggest_discrete_uniform(\"colsample_bytree\", 0.6, 1.0, 0.05),  # Reduce the range\n"
     ]
    },
    {
     "name": "stdout",
     "output_type": "stream",
     "text": [
      "Fold 1 MAE: 41.450208114291975\n",
      "Training Fold 2...\n",
      "Fold 2 MAE: 39.36662708891843\n",
      "Training Fold 3...\n",
      "Fold 3 MAE: 42.05679763620594\n",
      "Training Fold 4...\n",
      "Fold 4 MAE: 37.65961814836433\n",
      "Training Fold 5...\n",
      "Fold 5 MAE: 41.01950081093434\n",
      "Training Fold 6...\n",
      "Fold 6 MAE: 42.35809715893334\n",
      "Training Fold 7...\n",
      "Fold 7 MAE: 41.52504710881732\n",
      "Training Fold 8...\n",
      "Fold 8 MAE: 39.79538308841944\n",
      "Training Fold 9...\n",
      "Fold 9 MAE: 42.142540354047505\n",
      "Training Fold 10...\n"
     ]
    },
    {
     "name": "stderr",
     "output_type": "stream",
     "text": [
      "[I 2023-11-09 13:41:21,828] Trial 26 finished with value: 40.82597815818267 and parameters: {'objective': 'reg:squarederror', 'tree_method': 'approx', 'max_depth': 9, 'learning_rate': 0.9945256809114571, 'n_estimators': 422, 'min_child_weight': 6, 'gamma': 0.48300905683373146, 'subsample': 1.0, 'colsample_bytree': 0.75, 'reg_alpha': 0.36016002911030914, 'reg_lambda': 0.7149142064202881, 'random_state': 335}. Best is trial 26 with value: 40.82597815818267.\n"
     ]
    },
    {
     "name": "stdout",
     "output_type": "stream",
     "text": [
      "Fold 10 MAE: 40.88596207289409\n",
      "Mean MAE for all Folds: 40.82597815818267\n",
      "Training Fold 1...\n"
     ]
    },
    {
     "name": "stderr",
     "output_type": "stream",
     "text": [
      "/var/folders/y8/9glnt_6110xftbsjpdqd12280000gp/T/ipykernel_3241/2078315071.py:16: FutureWarning: suggest_discrete_uniform has been deprecated in v3.0.0. This feature will be removed in v6.0.0. See https://github.com/optuna/optuna/releases/tag/v3.0.0. Use suggest_float(..., step=...) instead.\n",
      "  \"subsample\": trial.suggest_discrete_uniform(\"subsample\", 0.6, 1.0, 0.05),  # Reduce the range\n",
      "/var/folders/y8/9glnt_6110xftbsjpdqd12280000gp/T/ipykernel_3241/2078315071.py:17: FutureWarning: suggest_discrete_uniform has been deprecated in v3.0.0. This feature will be removed in v6.0.0. See https://github.com/optuna/optuna/releases/tag/v3.0.0. Use suggest_float(..., step=...) instead.\n",
      "  \"colsample_bytree\": trial.suggest_discrete_uniform(\"colsample_bytree\", 0.6, 1.0, 0.05),  # Reduce the range\n"
     ]
    },
    {
     "name": "stdout",
     "output_type": "stream",
     "text": [
      "Fold 1 MAE: 56.98488771167767\n",
      "Training Fold 2...\n",
      "Fold 2 MAE: 55.506755506164\n",
      "Training Fold 3...\n",
      "Fold 3 MAE: 58.35863135511663\n",
      "Training Fold 4...\n",
      "Fold 4 MAE: 54.14052880912389\n",
      "Training Fold 5...\n",
      "Fold 5 MAE: 58.48359813655611\n",
      "Training Fold 6...\n",
      "Fold 6 MAE: 58.50992061753287\n",
      "Training Fold 7...\n",
      "Fold 7 MAE: 58.36329559856311\n",
      "Training Fold 8...\n",
      "Fold 8 MAE: 57.55347911039509\n",
      "Training Fold 9...\n",
      "Fold 9 MAE: 60.43626084873377\n",
      "Training Fold 10...\n"
     ]
    },
    {
     "name": "stderr",
     "output_type": "stream",
     "text": [
      "[I 2023-11-09 13:42:13,408] Trial 27 finished with value: 57.59456261070657 and parameters: {'objective': 'reg:squarederror', 'tree_method': 'approx', 'max_depth': 9, 'learning_rate': 0.7922374904469826, 'n_estimators': 429, 'min_child_weight': 6, 'gamma': 0.4983111068492269, 'subsample': 0.85, 'colsample_bytree': 0.7, 'reg_alpha': 0.361263389974267, 'reg_lambda': 0.5452517871692947, 'random_state': 312}. Best is trial 26 with value: 40.82597815818267.\n"
     ]
    },
    {
     "name": "stdout",
     "output_type": "stream",
     "text": [
      "Fold 10 MAE: 57.60826841320251\n",
      "Mean MAE for all Folds: 57.59456261070657\n",
      "Training Fold 1...\n"
     ]
    },
    {
     "name": "stderr",
     "output_type": "stream",
     "text": [
      "/var/folders/y8/9glnt_6110xftbsjpdqd12280000gp/T/ipykernel_3241/2078315071.py:16: FutureWarning: suggest_discrete_uniform has been deprecated in v3.0.0. This feature will be removed in v6.0.0. See https://github.com/optuna/optuna/releases/tag/v3.0.0. Use suggest_float(..., step=...) instead.\n",
      "  \"subsample\": trial.suggest_discrete_uniform(\"subsample\", 0.6, 1.0, 0.05),  # Reduce the range\n",
      "/var/folders/y8/9glnt_6110xftbsjpdqd12280000gp/T/ipykernel_3241/2078315071.py:17: FutureWarning: suggest_discrete_uniform has been deprecated in v3.0.0. This feature will be removed in v6.0.0. See https://github.com/optuna/optuna/releases/tag/v3.0.0. Use suggest_float(..., step=...) instead.\n",
      "  \"colsample_bytree\": trial.suggest_discrete_uniform(\"colsample_bytree\", 0.6, 1.0, 0.05),  # Reduce the range\n"
     ]
    },
    {
     "name": "stdout",
     "output_type": "stream",
     "text": [
      "Fold 1 MAE: 49.82357381446125\n",
      "Training Fold 2...\n",
      "Fold 2 MAE: 47.65402407994804\n",
      "Training Fold 3...\n",
      "Fold 3 MAE: 50.12673675731109\n",
      "Training Fold 4...\n",
      "Fold 4 MAE: 46.81183145788142\n",
      "Training Fold 5...\n",
      "Fold 5 MAE: 50.94334571976677\n",
      "Training Fold 6...\n",
      "Fold 6 MAE: 49.0411806695483\n",
      "Training Fold 7...\n",
      "Fold 7 MAE: 50.310192895872\n",
      "Training Fold 8...\n",
      "Fold 8 MAE: 50.13852620502254\n",
      "Training Fold 9...\n",
      "Fold 9 MAE: 52.23484160062138\n",
      "Training Fold 10...\n"
     ]
    },
    {
     "name": "stderr",
     "output_type": "stream",
     "text": [
      "[I 2023-11-09 13:43:22,903] Trial 28 finished with value: 49.589294284248375 and parameters: {'objective': 'reg:squarederror', 'tree_method': 'approx', 'max_depth': 9, 'learning_rate': 0.8902313131332632, 'n_estimators': 581, 'min_child_weight': 2, 'gamma': 0.5261267305936618, 'subsample': 0.65, 'colsample_bytree': 0.75, 'reg_alpha': 0.4574641386441748, 'reg_lambda': 0.6339631465707881, 'random_state': 183}. Best is trial 26 with value: 40.82597815818267.\n"
     ]
    },
    {
     "name": "stdout",
     "output_type": "stream",
     "text": [
      "Fold 10 MAE: 48.80868964205103\n",
      "Mean MAE for all Folds: 49.589294284248375\n",
      "Training Fold 1...\n"
     ]
    },
    {
     "name": "stderr",
     "output_type": "stream",
     "text": [
      "/var/folders/y8/9glnt_6110xftbsjpdqd12280000gp/T/ipykernel_3241/2078315071.py:16: FutureWarning: suggest_discrete_uniform has been deprecated in v3.0.0. This feature will be removed in v6.0.0. See https://github.com/optuna/optuna/releases/tag/v3.0.0. Use suggest_float(..., step=...) instead.\n",
      "  \"subsample\": trial.suggest_discrete_uniform(\"subsample\", 0.6, 1.0, 0.05),  # Reduce the range\n",
      "/var/folders/y8/9glnt_6110xftbsjpdqd12280000gp/T/ipykernel_3241/2078315071.py:17: FutureWarning: suggest_discrete_uniform has been deprecated in v3.0.0. This feature will be removed in v6.0.0. See https://github.com/optuna/optuna/releases/tag/v3.0.0. Use suggest_float(..., step=...) instead.\n",
      "  \"colsample_bytree\": trial.suggest_discrete_uniform(\"colsample_bytree\", 0.6, 1.0, 0.05),  # Reduce the range\n"
     ]
    },
    {
     "name": "stdout",
     "output_type": "stream",
     "text": [
      "Fold 1 MAE: 62.45961556691058\n",
      "Training Fold 2...\n",
      "Fold 2 MAE: 60.155564347581205\n",
      "Training Fold 3...\n",
      "Fold 3 MAE: 63.17095594542506\n",
      "Training Fold 4...\n",
      "Fold 4 MAE: 58.155478754763884\n",
      "Training Fold 5...\n",
      "Fold 5 MAE: 64.1348829558681\n",
      "Training Fold 6...\n",
      "Fold 6 MAE: 63.90207006229736\n",
      "Training Fold 7...\n",
      "Fold 7 MAE: 64.10826362344794\n",
      "Training Fold 8...\n",
      "Fold 8 MAE: 62.31728073177741\n",
      "Training Fold 9...\n",
      "Fold 9 MAE: 65.20710467556978\n",
      "Training Fold 10...\n"
     ]
    },
    {
     "name": "stderr",
     "output_type": "stream",
     "text": [
      "[I 2023-11-09 13:44:19,106] Trial 29 finished with value: 62.639220692164464 and parameters: {'objective': 'reg:squarederror', 'tree_method': 'approx', 'max_depth': 10, 'learning_rate': 0.7424605372821743, 'n_estimators': 404, 'min_child_weight': 6, 'gamma': 0.4304392016406004, 'subsample': 0.95, 'colsample_bytree': 0.65, 'reg_alpha': 0.4273170386378053, 'reg_lambda': 0.5021074066585709, 'random_state': 4}. Best is trial 26 with value: 40.82597815818267.\n"
     ]
    },
    {
     "name": "stdout",
     "output_type": "stream",
     "text": [
      "Fold 10 MAE: 62.78099025800325\n",
      "Mean MAE for all Folds: 62.639220692164464\n",
      "Optimization complete!\n"
     ]
    }
   ],
   "source": [
    "study3 = optuna.create_study(direction=\"minimize\")\n",
    "\n",
    "# Optimize the objective function\n",
    "print(\"Optimizing hyperparameters...\")\n",
    "study3.optimize(get_objective(X=X_3,y=y_3 ), n_trials=30)\n",
    "print(\"Optimization complete!\")\n",
    "predictor3 = XGBRFRegressor(**study3.best_params).fit(X_3, y_3)\n"
   ]
  },
  {
   "cell_type": "code",
   "execution_count": 15,
   "metadata": {},
   "outputs": [],
   "source": [
    "test1 = pipin.get_test_data(\"A\")\n",
    "test2 = pipin.get_test_data(\"B\")\n",
    "test3 = pipin.get_test_data(\"C\")\n",
    "\n",
    "test1 = pipin.drop_columns(test1)\n",
    "test2 = pipin.drop_columns(test2)\n",
    "test3 = pipin.drop_columns(test3)"
   ]
  },
  {
   "cell_type": "code",
   "execution_count": 16,
   "metadata": {},
   "outputs": [
    {
     "data": {
      "text/plain": [
       "(0, 1)"
      ]
     },
     "execution_count": 16,
     "metadata": {},
     "output_type": "execute_result"
    }
   ],
   "source": [
    "pred1 = pd.DataFrame(predictor1.predict(test1), columns=[\"pv_measurement\"])\n",
    "pred2 = pd.DataFrame(predictor2.predict(test2), columns=[\"pv_measurement\"])\n",
    "pred3 = pd.DataFrame(predictor3.predict(test3), columns=[\"pv_measurement\"])\n",
    "negatives_pred1 = pred1[pred1[\"pv_measurement\"] < 0]\n",
    "negatives_pred2 = pred2[pred2[\"pv_measurement\"] < 0]\n",
    "negatives_pred3 = pred3[pred3[\"pv_measurement\"] < 0]\n",
    "neg = pd.concat([negatives_pred1, negatives_pred2, negatives_pred3])\n",
    "neg.shape"
   ]
  },
  {
   "cell_type": "code",
   "execution_count": 17,
   "metadata": {},
   "outputs": [],
   "source": [
    "pred = pd.concat([pred1, pred2, pred3])\n",
    "final_prediction = pipin.post_processing(pred, prediction_column=\"pv_measurement\")\n",
    "final_prediction.to_csv('submissions/XGB_RF_143_pipeline.csv')"
   ]
  },
  {
   "cell_type": "code",
   "execution_count": 18,
   "metadata": {},
   "outputs": [
    {
     "data": {
      "text/plain": [
       "94.58406527433658"
      ]
     },
     "execution_count": 18,
     "metadata": {},
     "output_type": "execute_result"
    }
   ],
   "source": [
    "diff = pipin.compare_mae(final_prediction)\n",
    "diff"
   ]
  },
  {
   "cell_type": "code",
   "execution_count": 19,
   "metadata": {},
   "outputs": [],
   "source": [
    "# predictor.evaluate(df1, silent=True)"
   ]
  }
 ],
 "metadata": {
  "kernelspec": {
   "display_name": "gluon",
   "language": "python",
   "name": "python3"
  },
  "language_info": {
   "codemirror_mode": {
    "name": "ipython",
    "version": 3
   },
   "file_extension": ".py",
   "mimetype": "text/x-python",
   "name": "python",
   "nbconvert_exporter": "python",
   "pygments_lexer": "ipython3",
   "version": "3.11.4"
  }
 },
 "nbformat": 4,
 "nbformat_minor": 2
}
