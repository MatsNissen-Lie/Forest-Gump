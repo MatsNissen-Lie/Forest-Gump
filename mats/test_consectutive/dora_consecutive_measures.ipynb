{
 "cells": [
  {
   "cell_type": "markdown",
   "metadata": {},
   "source": [
    "<h1> Dora the explorer"
   ]
  },
  {
   "cell_type": "code",
   "execution_count": 255,
   "metadata": {},
   "outputs": [
    {
     "name": "stdout",
     "output_type": "stream",
     "text": [
      "The autoreload extension is already loaded. To reload it, use:\n",
      "  %reload_ext autoreload\n"
     ]
    }
   ],
   "source": [
    "%load_ext autoreload"
   ]
  },
  {
   "cell_type": "code",
   "execution_count": 256,
   "metadata": {},
   "outputs": [],
   "source": [
    "import numpy as np\n",
    "import pandas as pd\n",
    "import matplotlib.pyplot as plt\n",
    "import seaborn as sns\n",
    "import plotly.express as px\n",
    "pd.set_option('display.max_rows', 200)\n",
    "pd.set_option('display.max_columns', None)"
   ]
  },
  {
   "cell_type": "code",
   "execution_count": 257,
   "metadata": {},
   "outputs": [
    {
     "name": "stdout",
     "output_type": "stream",
     "text": [
      "Current working directory: /Users/matsalexander/Desktop/Forest Gump/mats/test_consectutive../\n",
      "The autoreload extension is already loaded. To reload it, use:\n",
      "  %reload_ext autoreload\n"
     ]
    }
   ],
   "source": [
    "%autoreload\n",
    "import sys\n",
    "from pipeline_old_remove_consec import Pipeline as Pipin\n",
    "pipe = Pipin()\n",
    "%load_ext autoreload"
   ]
  },
  {
   "cell_type": "code",
   "execution_count": 258,
   "metadata": {},
   "outputs": [],
   "source": [
    "# all_data = pipe.get_combined_datasets(offset_years=True)\n",
    "all_data = pipe.get_combined_data()"
   ]
  },
  {
   "cell_type": "code",
   "execution_count": 259,
   "metadata": {},
   "outputs": [],
   "source": [
    "df1_0 = pipe.get_data(\"A\",)\n",
    "df2_0 = pipe.get_data(\"B\")\n",
    "df3_0 = pipe.get_data(\"C\")"
   ]
  },
  {
   "cell_type": "code",
   "execution_count": 260,
   "metadata": {},
   "outputs": [
    {
     "name": "stdout",
     "output_type": "stream",
     "text": [
      "(20301, 50) (13968, 50) (11391, 50)\n"
     ]
    }
   ],
   "source": [
    "df1_0 = pipe.remove_consecutive_measurments(df1_0, 4, 24)\n",
    "df2_0 = pipe.remove_consecutive_measurments(df2_0, 4, 24)\n",
    "df3_0 = pipe.remove_consecutive_measurments(df3_0, 4, 24)\n",
    "print(df1_0.shape, df2_0.shape, df3_0.shape)"
   ]
  },
  {
   "cell_type": "code",
   "execution_count": 261,
   "metadata": {},
   "outputs": [],
   "source": [
    "# df0, df1 = pipe.remove_consecutive_measurments(all_data.copy(), 4,34, fuck = True)\n",
    "relevant_columns = [ \"pv_measurement\", \"consecutive_group\"]\n",
    "# print(df0.shape, df1.shape)\n"
   ]
  },
  {
   "cell_type": "code",
   "execution_count": 262,
   "metadata": {},
   "outputs": [
    {
     "name": "stdout",
     "output_type": "stream",
     "text": [
      "(45636, 54)\n"
     ]
    }
   ],
   "source": [
    "# make a list of \n",
    "\n",
    "numbers = [0 if c % 2 == 0 else c for c in range(100)]\n",
    "numbers = [0,0,0,0,0] + numbers +[0,0,0,0]\n",
    "\n",
    "od = pd.DataFrame(numbers, columns=[\"pv_measurement\"])\n",
    "conscs = pipe.remove_consecutive_measurments(all_data.copy().loc[0:90000], 4, 4, return_removed=True)\n",
    "# # conscs, coc = pipe.remove_consecutive_measurments(od, 3, 12, fuck= True)\n",
    "print(conscs.shape)\n",
    "# conscs[relevant_columns]"
   ]
  },
  {
   "cell_type": "code",
   "execution_count": 263,
   "metadata": {},
   "outputs": [],
   "source": [
    "%autoreload\n",
    "import sys\n",
    "sys.path.append(\"../\")\n",
    "from pipeline import Pipeline as Pipin\n",
    "pipe2 = Pipin()"
   ]
  },
  {
   "cell_type": "code",
   "execution_count": 264,
   "metadata": {},
   "outputs": [
    {
     "name": "stdout",
     "output_type": "stream",
     "text": [
      "(45636, 55)\n"
     ]
    }
   ],
   "source": [
    "numbers = [0 if c % 2 == 0 else c for c in range(100)]\n",
    "numbers = [0,0,0,0,0] + numbers +[0,0,0,0]\n",
    "\n",
    "od = pd.DataFrame(numbers, columns=[\"pv_measurement\"])\n",
    "# od\n",
    "# dette skal være samme som henning sin.\n",
    "conscs = pipe2.remove_consecutive_measurments_new(all_data.copy().loc[0:90000], 6, 6, return_removed=True)\n",
    "# conscs, coc = pipe.remove_consecutive_measurments(od, 3, 12, fuck= True)\n",
    "print(conscs.shape)\n",
    "# conscs[relevant_columns]"
   ]
  },
  {
   "cell_type": "code",
   "execution_count": null,
   "metadata": {},
   "outputs": [],
   "source": []
  }
 ],
 "metadata": {
  "kernelspec": {
   "display_name": "pycaret",
   "language": "python",
   "name": "python3"
  },
  "language_info": {
   "codemirror_mode": {
    "name": "ipython",
    "version": 3
   },
   "file_extension": ".py",
   "mimetype": "text/x-python",
   "name": "python",
   "nbconvert_exporter": "python",
   "pygments_lexer": "ipython3",
   "version": "3.8.18"
  },
  "orig_nbformat": 4
 },
 "nbformat": 4,
 "nbformat_minor": 2
}
