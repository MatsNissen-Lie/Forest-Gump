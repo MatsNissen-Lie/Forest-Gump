{
 "cells": [
  {
   "cell_type": "code",
   "execution_count": 2,
   "metadata": {},
   "outputs": [],
   "source": [
    "import pandas as pd"
   ]
  },
  {
   "cell_type": "code",
   "execution_count": 3,
   "metadata": {},
   "outputs": [
    {
     "name": "stdout",
     "output_type": "stream",
     "text": [
      "None\n"
     ]
    },
    {
     "name": "stderr",
     "output_type": "stream",
     "text": [
      "/Users/matsalexander/Desktop/Forest Gump/mikael/Master.py:63: FutureWarning: The default value of numeric_only in DataFrameGroupBy.mean is deprecated. In a future version, numeric_only will default to False. Either specify numeric_only or select only columns which should be valid for the function.\n",
      "  X_train_group = X_train_total.groupby(pd.Grouper(key=\"date_forecast\", freq=\"1H\")).mean().reset_index()\n",
      "/Users/matsalexander/Desktop/Forest Gump/mikael/Master.py:132: SettingWithCopyWarning: \n",
      "A value is trying to be set on a copy of a slice from a DataFrame\n",
      "\n",
      "See the caveats in the documentation: https://pandas.pydata.org/pandas-docs/stable/user_guide/indexing.html#returning-a-view-versus-a-copy\n",
      "  inner_to_split[categorical_columns].fillna(0, inplace=True)\n",
      "/Users/matsalexander/Desktop/Forest Gump/mikael/Master.py:133: SettingWithCopyWarning: \n",
      "A value is trying to be set on a copy of a slice from a DataFrame\n",
      "\n",
      "See the caveats in the documentation: https://pandas.pydata.org/pandas-docs/stable/user_guide/indexing.html#returning-a-view-versus-a-copy\n",
      "  inner_to_split[non_id_columns].fillna(method=\"ffill\", inplace=True)\n"
     ]
    }
   ],
   "source": [
    "import sys\n",
    "print(sys.path.append(sys.path[0][0:-4] + 'mikael'))\n",
    "# print(sys.path)\n",
    "# from ..mikael import Master\n",
    "from Master import MasterDataframes\n",
    "mdf = MasterDataframes()\n",
    "df_a = mdf.df_a\n",
    "# X_A, Y_A = mdf.prep_dataset_x_y(\"A\")\n",
    "X, Y = mdf.prep_dataset_x_y(\"A\")"
   ]
  },
  {
   "cell_type": "markdown",
   "metadata": {},
   "source": [
    "<h1> Data exploration and visualization maybe"
   ]
  },
  {
   "cell_type": "code",
   "execution_count": 4,
   "metadata": {},
   "outputs": [],
   "source": [
    "# Estimate\n",
    "X_train_estimated_a: pd.DataFrame = pd.read_parquet(\"../A/X_train_estimated.parquet\")\n",
    "X_train_estimated_b: pd.DataFrame = pd.read_parquet(\"../B/X_train_estimated.parquet\")\n",
    "X_train_estimated_c: pd.DataFrame = pd.read_parquet(\"../C/X_train_estimated.parquet\")\n",
    "\n",
    "# Test estimates\n",
    "X_test_estimated_a: pd.DataFrame = pd.read_parquet(\"../A/X_test_estimated.parquet\")\n",
    "X_test_estimated_b: pd.DataFrame = pd.read_parquet(\"../B/X_test_estimated.parquet\")\n",
    "X_test_estimated_c: pd.DataFrame = pd.read_parquet(\"../C/X_test_estimated.parquet\")\n",
    "\n",
    "# Observations\n",
    "X_train_observed_a: pd.DataFrame = pd.read_parquet(\"../A/X_train_observed.parquet\")\n",
    "X_train_observed_b: pd.DataFrame = pd.read_parquet(\"../B/X_train_observed.parquet\")\n",
    "X_train_observed_c: pd.DataFrame = pd.read_parquet(\"../C/X_train_observed.parquet\")\n",
    "\n",
    "# Targets\n",
    "Y_train_observed_a: pd.DataFrame = pd.read_parquet(\"../A/train_targets.parquet\")\n",
    "Y_train_observed_b: pd.DataFrame = pd.read_parquet(\"../B/train_targets.parquet\")\n",
    "Y_train_observed_c: pd.DataFrame = pd.read_parquet(\"../C/train_targets.parquet\")"
   ]
  },
  {
   "cell_type": "markdown",
   "metadata": {},
   "source": [
    "\n",
    "While PyCaret may not directly support these time series-specific feature selection techniques out of the box, you can still use PyCaret for other aspects of your time series analysis, such as model selection and hyperparameter tuning. You may need to implement time series-specific feature engineering and feature selection steps separately or use specialized time series libraries like statsmodels, Prophet, or feature-engine for these tasks.\n",
    "\n",
    "<hr>\n",
    "\n",
    "Lag Features: In time series analysis, it's common to create lag features, which involve shifting the values of the target variable or other relevant features over time. These lag features can capture temporal dependencies and are often valuable for modeling time series data.\n",
    "\n",
    "Rolling Statistics: You may want to compute rolling statistics (e.g., rolling mean, rolling standard deviation) for certain features to capture trends and seasonality.\n",
    "\n",
    "Feature Engineering: Feature engineering in time series analysis can involve creating time-based features such as day of the week, month, quarter, or year. These features can help capture patterns related to seasonality and trends.\n",
    "\n",
    "Domain Knowledge: Expert domain knowledge can be crucial for selecting relevant features in time series analysis. Understanding the underlying processes and potential drivers of the time series can guide feature selection.\n",
    "\n",
    "Recursive Feature Elimination (RFE): You can adapt RFE techniques to time series data by iteratively removing less relevant features and evaluating their impact on model performance. However, you should be cautious about the potential introduction of data leakage when using RFE with time series data.\n",
    "\n",
    "Cross-Validation: When performing feature selection for time series data, it's important to use time-aware cross-validation techniques (e.g., time series cross-validation, walk-forward validation) to ensure that your feature selection process does not introduce information from the future into the training data."
   ]
  },
  {
   "cell_type": "markdown",
   "metadata": {},
   "source": []
  }
 ],
 "metadata": {
  "kernelspec": {
   "display_name": "pycaret",
   "language": "python",
   "name": "python3"
  },
  "language_info": {
   "codemirror_mode": {
    "name": "ipython",
    "version": 3
   },
   "file_extension": ".py",
   "mimetype": "text/x-python",
   "name": "python",
   "nbconvert_exporter": "python",
   "pygments_lexer": "ipython3",
   "version": "3.8.18"
  },
  "orig_nbformat": 4
 },
 "nbformat": 4,
 "nbformat_minor": 2
}
