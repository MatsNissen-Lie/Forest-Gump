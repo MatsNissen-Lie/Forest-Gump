{
 "cells": [
  {
   "cell_type": "code",
   "execution_count": 1,
   "metadata": {},
   "outputs": [],
   "source": [
    "%load_ext autoreload"
   ]
  },
  {
   "cell_type": "code",
   "execution_count": 2,
   "metadata": {},
   "outputs": [
    {
     "name": "stderr",
     "output_type": "stream",
     "text": [
      "/Users/matsalexander/.pyenv/versions/3.10.13/envs/gluon/lib/python3.10/site-packages/tqdm/auto.py:21: TqdmWarning: IProgress not found. Please update jupyter and ipywidgets. See https://ipywidgets.readthedocs.io/en/stable/user_install.html\n",
      "  from .autonotebook import tqdm as notebook_tqdm\n"
     ]
    }
   ],
   "source": [
    "from autogluon.tabular import TabularDataset, TabularPredictor\n",
    "import pandas as pd\n",
    "import numpy as np"
   ]
  },
  {
   "cell_type": "code",
   "execution_count": 3,
   "metadata": {},
   "outputs": [
    {
     "name": "stdout",
     "output_type": "stream",
     "text": [
      "Current working directory: /Users/matsalexander/Desktop/Forest Gump/mats/gluon\n"
     ]
    }
   ],
   "source": [
    "%autoreload\n",
    "import sys\n",
    "sys.path.append('../')\n",
    "from pipeline import Pipin\n",
    "pipin = Pipin()"
   ]
  },
  {
   "cell_type": "code",
   "execution_count": 21,
   "metadata": {},
   "outputs": [],
   "source": [
    "df0 = pipin.get_combined_datasets()"
   ]
  },
  {
   "cell_type": "code",
   "execution_count": 35,
   "metadata": {},
   "outputs": [
    {
     "name": "stdout",
     "output_type": "stream",
     "text": [
      "rader med snow_density 760\n"
     ]
    }
   ],
   "source": [
    "sne = df0[\"snow_density:kgm3\"]\n",
    "# df0.drop(columns=[\"snow_density:kgm3\"], inplace=True)\n",
    "# find all nan values in sne\n",
    "sne_nan_mask = np.isnan(sne)\n",
    "print(\"rader med snow_density\", len(sne[~sne_nan_mask]))\n",
    "# sne.head(15)"
   ]
  },
  {
   "cell_type": "code",
   "execution_count": 36,
   "metadata": {},
   "outputs": [
    {
     "name": "stdout",
     "output_type": "stream",
     "text": [
      "snow_melt_10min:mm 7.7375\n",
      "snow_density:kgm3 190000.0\n",
      "fresh_snow_6h:cm 727.2\n",
      "fresh_snow_1h:cm 88.15\n",
      "snow_water:kgm2 3471.5\n",
      "fresh_snow_12h:cm 2321.375\n",
      "fresh_snow_3h:cm 290.175\n",
      "fresh_snow_24h:cm 5061.1997\n",
      "snow_depth:cm 2754.225\n",
      "snow_drift:idx 0.0\n",
      "snow_melt_10min:mm\n",
      "snow_density:kgm3\n",
      "fresh_snow_6h:cm\n",
      "fresh_snow_1h:cm\n",
      "snow_water:kgm2\n",
      "fresh_snow_12h:cm\n",
      "fresh_snow_3h:cm\n",
      "fresh_snow_24h:cm\n",
      "snow_depth:cm\n",
      "snow_drift:idx\n"
     ]
    },
    {
     "name": "stderr",
     "output_type": "stream",
     "text": [
      "/var/folders/b0/slnc__2x31jczblnsfgfmjw00000gn/T/ipykernel_30830/230111060.py:4: SettingWithCopyWarning: \n",
      "A value is trying to be set on a copy of a slice from a DataFrame\n",
      "\n",
      "See the caveats in the documentation: https://pandas.pydata.org/pandas-docs/stable/user_guide/indexing.html#returning-a-view-versus-a-copy\n",
      "  df_snow[col].fillna(0, inplace=True)\n"
     ]
    },
    {
     "data": {
      "text/plain": [
       "3098     250.0\n",
       "3099     250.0\n",
       "3100     250.0\n",
       "3101     250.0\n",
       "3102     250.0\n",
       "         ...  \n",
       "47381    250.0\n",
       "47382    250.0\n",
       "47383    250.0\n",
       "47384    250.0\n",
       "47385    250.0\n",
       "Name: snow_density:kgm3, Length: 760, dtype: float32"
      ]
     },
     "execution_count": 36,
     "metadata": {},
     "output_type": "execute_result"
    }
   ],
   "source": [
    "snow_columns = df0.columns[df0.columns.str.contains(\"snow\")]\n",
    "df_snow = df0[snow_columns]\n",
    "for col in df_snow.columns:\n",
    "    df_snow[col].fillna(0, inplace=True)\n",
    "# df_snow.head(15)\n",
    "\n",
    "df_rows_with_snow_and_sum_greater_than_zero = df_snow[(df_snow.sum(axis=1) > 0).values]\n",
    "\n",
    "# for nan values set to 0\n",
    "\n",
    "for col in df_snow.columns:\n",
    "    print(col, df_snow[col].sum())\n",
    "for col in df_snow.columns:\n",
    "    print(col)\n",
    "df_rows_with_snow_and_sum_greater_than_zero\n",
    "# df0.drop(columns=[\"snow_melt_10min:mm\"], inplace=True)\n",
    "# df0.drop(columns=[\"snow_drift:idx\"], inplace=True)\n",
    "sum_snow_density = df0[df0[\"snow_density:kgm3\"] > 0][\"snow_density:kgm3\"]\n",
    "sum_snow_density\n",
    "\n"
   ]
  },
  {
   "cell_type": "code",
   "execution_count": 5,
   "metadata": {},
   "outputs": [],
   "source": [
    "df, df_tune = pipin.split_train_tune(df0)\n"
   ]
  },
  {
   "cell_type": "code",
   "execution_count": 9,
   "metadata": {},
   "outputs": [],
   "source": [
    "train, tune = TabularDataset(df), TabularDataset(df_tune)"
   ]
  },
  {
   "cell_type": "code",
   "execution_count": 10,
   "metadata": {},
   "outputs": [],
   "source": [
    "label=\"pv_measurement\"\n",
    "eval_metric=\"mean_absolute_error\""
   ]
  },
  {
   "cell_type": "code",
   "execution_count": 11,
   "metadata": {},
   "outputs": [
    {
     "name": "stderr",
     "output_type": "stream",
     "text": [
      "No path specified. Models will be saved in: \"AutogluonModels/ag-20231105_175339/\"\n",
      "Presets specified: ['best_quality']\n",
      "Stack configuration (auto_stack=True): num_stack_levels=1, num_bag_folds=8, num_bag_sets=1\n",
      "Beginning AutoGluon training ...\n",
      "AutoGluon will save models to \"AutogluonModels/ag-20231105_175339/\"\n",
      "AutoGluon Version:  0.8.2\n",
      "Python Version:     3.10.13\n",
      "Operating System:   Darwin\n",
      "Platform Machine:   arm64\n",
      "Platform Version:   Darwin Kernel Version 22.5.0: Thu Jun  8 22:22:20 PDT 2023; root:xnu-8796.121.3~7/RELEASE_ARM64_T6000\n",
      "Disk Space Avail:   741.06 GB / 994.66 GB (74.5%)\n",
      "Train Data Rows:    45672\n",
      "Train Data Columns: 49\n",
      "Tuning Data Rows:    45697\n",
      "Tuning Data Columns: 49\n",
      "Label Column: pv_measurement\n",
      "Preprocessing data ...\n",
      "AutoGluon infers your prediction problem is: 'regression' (because dtype of label-column == float and many unique label-values observed).\n",
      "\tLabel info (max, min, mean, stddev): (5733.42, 0.0, 593.02762, 1038.32712)\n",
      "\tIf 'regression' is not the correct problem_type, please manually specify the problem_type parameter during predictor init (You may specify problem_type as one of: ['binary', 'multiclass', 'regression'])\n",
      "Using Feature Generators to preprocess the data ...\n",
      "Fitting AutoMLPipelineFeatureGenerator...\n",
      "\tAvailable Memory:                    17377.83 MB\n",
      "\tTrain Data (Original)  Memory Usage: 25.77 MB (0.1% of available memory)\n",
      "\tInferring data type of each feature based on column values. Set feature_metadata_in to manually specify special dtypes of the features.\n",
      "\tStage 1 Generators:\n",
      "\t\tFitting AsTypeFeatureGenerator...\n",
      "\t\t\tNote: Converting 2 features to boolean dtype as they only contain 2 unique values.\n",
      "\tStage 2 Generators:\n",
      "\t\tFitting FillNaFeatureGenerator...\n",
      "\tStage 3 Generators:\n",
      "\t\tFitting IdentityFeatureGenerator...\n",
      "\t\tFitting CategoryFeatureGenerator...\n",
      "\t\t\tFitting CategoryMemoryMinimizeFeatureGenerator...\n",
      "\t\tFitting DatetimeFeatureGenerator...\n",
      "\tStage 4 Generators:\n",
      "\t\tFitting DropUniqueFeatureGenerator...\n",
      "\tStage 5 Generators:\n",
      "\t\tFitting DropDuplicatesFeatureGenerator...\n",
      "\tTypes of features in original data (raw dtype, special dtypes):\n",
      "\t\t('datetime', []) :  2 | ['time', 'date_calc']\n",
      "\t\t('float', [])    : 46 | ['fresh_snow_12h:cm', 'fresh_snow_24h:cm', 'fresh_snow_1h:cm', 'super_cooled_liquid_water:kgm2', 'fresh_snow_3h:cm', ...]\n",
      "\t\t('object', [])   :  1 | ['location:idx']\n",
      "\tTypes of features in processed data (raw dtype, special dtypes):\n",
      "\t\t('category', [])             :  1 | ['location:idx']\n",
      "\t\t('float', [])                : 44 | ['fresh_snow_12h:cm', 'fresh_snow_24h:cm', 'fresh_snow_1h:cm', 'super_cooled_liquid_water:kgm2', 'fresh_snow_3h:cm', ...]\n",
      "\t\t('int', ['bool'])            :  2 | ['snow_density:kgm3', 'snow_drift:idx']\n",
      "\t\t('int', ['datetime_as_int']) : 10 | ['time', 'time.year', 'time.month', 'time.day', 'time.dayofweek', ...]\n",
      "\t0.4s = Fit runtime\n",
      "\t49 features in original data used to generate 57 features in processed data.\n",
      "\tTrain Data (Processed) Memory Usage: 25.49 MB (0.1% of available memory)\n",
      "Data preprocessing and feature engineering runtime = 0.44s ...\n",
      "AutoGluon will gauge predictive performance using evaluation metric: 'mean_absolute_error'\n",
      "\tThis metric's sign has been flipped to adhere to being higher_is_better. The metric score can be multiplied by -1 to get the metric value.\n",
      "\tTo change this, specify the eval_metric parameter of Predictor()\n",
      "use_bag_holdout=True, will use tuning_data as holdout (will not be used for early stopping).\n",
      "User-specified model hyperparameters to be fit:\n",
      "{\n",
      "\t'NN_TORCH': {},\n",
      "\t'GBM': [{'extra_trees': True, 'ag_args': {'name_suffix': 'XT'}}, {}, 'GBMLarge'],\n",
      "\t'CAT': {},\n",
      "\t'XGB': {},\n",
      "\t'FASTAI': {},\n",
      "\t'RF': [{'criterion': 'gini', 'ag_args': {'name_suffix': 'Gini', 'problem_types': ['binary', 'multiclass']}}, {'criterion': 'entropy', 'ag_args': {'name_suffix': 'Entr', 'problem_types': ['binary', 'multiclass']}}, {'criterion': 'squared_error', 'ag_args': {'name_suffix': 'MSE', 'problem_types': ['regression', 'quantile']}}],\n",
      "\t'XT': [{'criterion': 'gini', 'ag_args': {'name_suffix': 'Gini', 'problem_types': ['binary', 'multiclass']}}, {'criterion': 'entropy', 'ag_args': {'name_suffix': 'Entr', 'problem_types': ['binary', 'multiclass']}}, {'criterion': 'squared_error', 'ag_args': {'name_suffix': 'MSE', 'problem_types': ['regression', 'quantile']}}],\n",
      "\t'KNN': [{'weights': 'uniform', 'ag_args': {'name_suffix': 'Unif'}}, {'weights': 'distance', 'ag_args': {'name_suffix': 'Dist'}}],\n",
      "}\n",
      "AutoGluon will fit 2 stack levels (L1 to L2) ...\n",
      "Fitting 11 L1 models ...\n",
      "Fitting model: KNeighborsUnif_BAG_L1 ...\n",
      "\t-452.2653\t = Validation score   (-mean_absolute_error)\n",
      "\t0.05s\t = Training   runtime\n",
      "\t2.2s\t = Validation runtime\n",
      "Fitting model: KNeighborsDist_BAG_L1 ...\n",
      "\t-392.9606\t = Validation score   (-mean_absolute_error)\n",
      "\t0.06s\t = Training   runtime\n",
      "\t4.16s\t = Validation runtime\n",
      "Fitting model: LightGBMXT_BAG_L1 ...\n",
      "\tFitting 8 child models (S1F1 - S1F8) | Fitting with ParallelLocalFoldFittingStrategy\n",
      "\t-54.4185\t = Validation score   (-mean_absolute_error)\n",
      "\t76.03s\t = Training   runtime\n",
      "\t89.15s\t = Validation runtime\n",
      "Fitting model: LightGBM_BAG_L1 ...\n",
      "\tFitting 8 child models (S1F1 - S1F8) | Fitting with ParallelLocalFoldFittingStrategy\n",
      "\t-40.4181\t = Validation score   (-mean_absolute_error)\n",
      "\t27.39s\t = Training   runtime\n",
      "\t84.76s\t = Validation runtime\n",
      "Fitting model: RandomForestMSE_BAG_L1 ...\n",
      "\t-64.3545\t = Validation score   (-mean_absolute_error)\n",
      "\t29.33s\t = Training   runtime\n",
      "\t1.39s\t = Validation runtime\n",
      "Fitting model: CatBoost_BAG_L1 ...\n",
      "\tFitting 8 child models (S1F1 - S1F8) | Fitting with ParallelLocalFoldFittingStrategy\n",
      "\t-77.3628\t = Validation score   (-mean_absolute_error)\n",
      "\t313.79s\t = Training   runtime\n",
      "\t0.19s\t = Validation runtime\n",
      "Fitting model: ExtraTreesMSE_BAG_L1 ...\n",
      "\t-62.7951\t = Validation score   (-mean_absolute_error)\n",
      "\t6.11s\t = Training   runtime\n",
      "\t1.38s\t = Validation runtime\n",
      "Fitting model: NeuralNetFastAI_BAG_L1 ...\n",
      "\tFitting 8 child models (S1F1 - S1F8) | Fitting with ParallelLocalFoldFittingStrategy\n",
      "\t-128.6526\t = Validation score   (-mean_absolute_error)\n",
      "\t24.29s\t = Training   runtime\n",
      "\t0.33s\t = Validation runtime\n",
      "Fitting model: XGBoost_BAG_L1 ...\n",
      "\tFitting 8 child models (S1F1 - S1F8) | Fitting with ParallelLocalFoldFittingStrategy\n",
      "\t-41.2475\t = Validation score   (-mean_absolute_error)\n",
      "\t131.03s\t = Training   runtime\n",
      "\t94.06s\t = Validation runtime\n",
      "Fitting model: NeuralNetTorch_BAG_L1 ...\n",
      "\tFitting 8 child models (S1F1 - S1F8) | Fitting with ParallelLocalFoldFittingStrategy\n",
      "\t-119.0102\t = Validation score   (-mean_absolute_error)\n",
      "\t50.35s\t = Training   runtime\n",
      "\t0.21s\t = Validation runtime\n",
      "Fitting model: LightGBMLarge_BAG_L1 ...\n",
      "\tFitting 8 child models (S1F1 - S1F8) | Fitting with ParallelLocalFoldFittingStrategy\n",
      "\t-32.145\t = Validation score   (-mean_absolute_error)\n",
      "\t64.91s\t = Training   runtime\n",
      "\t220.75s\t = Validation runtime\n",
      "Fitting model: WeightedEnsemble_L2 ...\n",
      "\t-32.145\t = Validation score   (-mean_absolute_error)\n",
      "\t0.34s\t = Training   runtime\n",
      "\t0.0s\t = Validation runtime\n",
      "Fitting 9 L2 models ...\n",
      "Fitting model: LightGBMXT_BAG_L2 ...\n",
      "\tFitting 8 child models (S1F1 - S1F8) | Fitting with ParallelLocalFoldFittingStrategy\n",
      "\t-99.1028\t = Validation score   (-mean_absolute_error)\n",
      "\t31.1s\t = Training   runtime\n",
      "\t83.46s\t = Validation runtime\n",
      "Fitting model: LightGBM_BAG_L2 ...\n",
      "\tFitting 8 child models (S1F1 - S1F8) | Fitting with ParallelLocalFoldFittingStrategy\n",
      "\t-70.7672\t = Validation score   (-mean_absolute_error)\n",
      "\t34.79s\t = Training   runtime\n",
      "\t91.91s\t = Validation runtime\n",
      "Fitting model: RandomForestMSE_BAG_L2 ...\n",
      "\t-42.8577\t = Validation score   (-mean_absolute_error)\n",
      "\t51.43s\t = Training   runtime\n",
      "\t1.59s\t = Validation runtime\n",
      "Fitting model: CatBoost_BAG_L2 ...\n",
      "\tFitting 8 child models (S1F1 - S1F8) | Fitting with ParallelLocalFoldFittingStrategy\n",
      "\t-82.7159\t = Validation score   (-mean_absolute_error)\n",
      "\t349.47s\t = Training   runtime\n",
      "\t0.18s\t = Validation runtime\n",
      "Fitting model: ExtraTreesMSE_BAG_L2 ...\n",
      "\t-40.1138\t = Validation score   (-mean_absolute_error)\n",
      "\t8.86s\t = Training   runtime\n",
      "\t1.59s\t = Validation runtime\n",
      "Fitting model: NeuralNetFastAI_BAG_L2 ...\n",
      "\tFitting 8 child models (S1F1 - S1F8) | Fitting with ParallelLocalFoldFittingStrategy\n",
      "\t-82.1964\t = Validation score   (-mean_absolute_error)\n",
      "\t24.78s\t = Training   runtime\n",
      "\t0.35s\t = Validation runtime\n",
      "Fitting model: XGBoost_BAG_L2 ...\n",
      "\tFitting 8 child models (S1F1 - S1F8) | Fitting with ParallelLocalFoldFittingStrategy\n",
      "\t-60.6895\t = Validation score   (-mean_absolute_error)\n",
      "\t155.65s\t = Training   runtime\n",
      "\t32.19s\t = Validation runtime\n",
      "Fitting model: NeuralNetTorch_BAG_L2 ...\n",
      "\tFitting 8 child models (S1F1 - S1F8) | Fitting with ParallelLocalFoldFittingStrategy\n",
      "\t-59.6659\t = Validation score   (-mean_absolute_error)\n",
      "\t14.79s\t = Training   runtime\n",
      "\t0.32s\t = Validation runtime\n",
      "Fitting model: LightGBMLarge_BAG_L2 ...\n",
      "\tFitting 8 child models (S1F1 - S1F8) | Fitting with ParallelLocalFoldFittingStrategy\n",
      "\t-52.539\t = Validation score   (-mean_absolute_error)\n",
      "\t83.16s\t = Training   runtime\n",
      "\t235.26s\t = Validation runtime\n",
      "Fitting model: WeightedEnsemble_L3 ...\n",
      "\t-39.0862\t = Validation score   (-mean_absolute_error)\n",
      "\t0.38s\t = Training   runtime\n",
      "\t0.0s\t = Validation runtime\n",
      "AutoGluon training complete, total runtime = 2097.59s ... Best model: \"WeightedEnsemble_L2\"\n",
      "TabularPredictor saved. To load, use: predictor = TabularPredictor.load(\"AutogluonModels/ag-20231105_175339/\")\n"
     ]
    }
   ],
   "source": [
    "predictor1 = TabularPredictor(label=label, eval_metric=eval_metric).fit(\n",
    "    train,\n",
    "    presets='best_quality', \n",
    "    tuning_data = tune,\n",
    "    use_bag_holdout=True,\n",
    "\n",
    "    )"
   ]
  },
  {
   "cell_type": "code",
   "execution_count": 12,
   "metadata": {},
   "outputs": [],
   "source": [
    "test_data = pipin.get_combined_test_data()\n",
    "test_data = TabularDataset(test_data)\n"
   ]
  },
  {
   "cell_type": "code",
   "execution_count": 13,
   "metadata": {},
   "outputs": [
    {
     "data": {
      "text/plain": [
       "(265, 1)"
      ]
     },
     "execution_count": 13,
     "metadata": {},
     "output_type": "execute_result"
    }
   ],
   "source": [
    "\n",
    "pred = pd.DataFrame(predictor1.predict(test_data))\n",
    "\n",
    "negatives_pred = pred[pred[\"pv_measurement\"] < 0]\n",
    "negatives_pred.shape"
   ]
  },
  {
   "cell_type": "code",
   "execution_count": 14,
   "metadata": {},
   "outputs": [],
   "source": [
    "from utils import get_unique_filename\n",
    "final_prediction = pipin.post_processing(pred, prediction_column=\"pv_measurement\")\n",
    "final_prediction.to_csv(get_unique_filename('gluon_tuned'))"
   ]
  },
  {
   "cell_type": "code",
   "execution_count": 15,
   "metadata": {},
   "outputs": [
    {
     "data": {
      "text/plain": [
       "94.53856679993704"
      ]
     },
     "execution_count": 15,
     "metadata": {},
     "output_type": "execute_result"
    }
   ],
   "source": [
    "diff = pipin.compare_mae(final_prediction)\n",
    "diff"
   ]
  },
  {
   "cell_type": "code",
   "execution_count": 16,
   "metadata": {},
   "outputs": [
    {
     "data": {
      "text/plain": [
       "{'mean_absolute_error': -13.538724429124958,\n",
       " 'root_mean_squared_error': -33.11081092401292,\n",
       " 'mean_squared_error': -1096.3258000457333,\n",
       " 'r2': 0.9989830941481787,\n",
       " 'pearsonr': 0.9995249843111538,\n",
       " 'median_absolute_error': -2.5812615966796786}"
      ]
     },
     "execution_count": 16,
     "metadata": {},
     "output_type": "execute_result"
    }
   ],
   "source": [
    "predictor1.evaluate(df, silent=True)"
   ]
  }
 ],
 "metadata": {
  "kernelspec": {
   "display_name": "gluon",
   "language": "python",
   "name": "python3"
  },
  "language_info": {
   "codemirror_mode": {
    "name": "ipython",
    "version": 3
   },
   "file_extension": ".py",
   "mimetype": "text/x-python",
   "name": "python",
   "nbconvert_exporter": "python",
   "pygments_lexer": "ipython3",
   "version": "3.10.13"
  }
 },
 "nbformat": 4,
 "nbformat_minor": 2
}
